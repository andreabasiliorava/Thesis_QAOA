{
 "cells": [
  {
   "cell_type": "markdown",
   "id": "assumed-shape",
   "metadata": {},
   "source": [
    "# QAOA for random bond Ising model (RBIM)"
   ]
  },
  {
   "cell_type": "code",
   "execution_count": 1,
   "id": "virtual-stress",
   "metadata": {},
   "outputs": [],
   "source": [
    "import qaoa\n",
    "import qucompsys as qucs\n",
    "import graphs as gr\n",
    "import qutip as qu\n",
    "import numpy as np\n",
    "import matplotlib.pyplot as plt\n",
    "from   matplotlib import cm\n",
    "from   matplotlib.ticker import LinearLocator, FormatStrFormatter\n",
    "import networkx as nx\n",
    "from   networkx.generators.random_graphs import erdos_renyi_graph\n",
    "import configparser\n",
    "import scipy\n",
    "import itertools\n",
    "from collections import Counter\n",
    "\n",
    "import importlib\n",
    "importlib.reload(qaoa)\n",
    "importlib.reload(qucs)\n",
    "\n",
    "%matplotlib inline\n",
    "%config InlineBackened.figure_format = 'svg'"
   ]
  },
  {
   "cell_type": "markdown",
   "id": "alpine-france",
   "metadata": {},
   "source": [
    "##  0 Define the graph"
   ]
  },
  {
   "cell_type": "code",
   "execution_count": 183,
   "id": "frozen-buffalo",
   "metadata": {},
   "outputs": [],
   "source": [
    "# grid graph\n",
    "n_nodes = 4\n",
    "nodes = np.arange(0, n_nodes, 1)\n",
    "edges = [(0, 1), (1, 2), (2, 3), (3, 0)]"
   ]
  },
  {
   "cell_type": "code",
   "execution_count": 168,
   "id": "compliant-morocco",
   "metadata": {},
   "outputs": [],
   "source": [
    "# grid graph\n",
    "n_nodes = 9\n",
    "nodes = np.arange(0, n_nodes, 1)\n",
    "edges = [(0, 1), (0,3), (1, 2), (1, 4), (2, 5), (3,4), (3,6), (4, 5), (4, 7), (5,8), (6, 7), (7, 8)]"
   ]
  },
  {
   "cell_type": "code",
   "execution_count": 184,
   "id": "saved-blame",
   "metadata": {},
   "outputs": [],
   "source": [
    "n_qubits = n_nodes\n",
    "graph = nx.Graph()\n",
    "graph.add_nodes_from(nodes)\n",
    "graph.add_edges_from(edges)\n",
    "edges = list(graph.edges)"
   ]
  },
  {
   "cell_type": "markdown",
   "id": "robust-detection",
   "metadata": {},
   "source": [
    "### 0.1 plot the graph"
   ]
  },
  {
   "cell_type": "code",
   "execution_count": 185,
   "id": "funny-cambridge",
   "metadata": {},
   "outputs": [
    {
     "data": {
      "image/png": "[encoded data removed]",
      "text/plain": [
       "<Figure size 504x504 with 1 Axes>"
      ]
     },
     "metadata": {},
     "output_type": "display_data"
    }
   ],
   "source": [
    "fig = plt.figure(figsize = (7,7))\n",
    "colors = ['r' for node in graph.nodes()]\n",
    "pos = nx.planar_layout(graph)\n",
    "graph_drawing = nx.draw_networkx(graph, node_color=colors, node_size=200, pos = None, alpha=1, with_labels=True)\n",
    "plt.show()"
   ]
  },
  {
   "cell_type": "markdown",
   "id": "minus-moore",
   "metadata": {},
   "source": [
    "## 1 choose probability"
   ]
  },
  {
   "cell_type": "code",
   "execution_count": 186,
   "id": "protecting-creature",
   "metadata": {},
   "outputs": [
    {
     "data": {
      "text/plain": [
       "array([1, 1, 1, 1])"
      ]
     },
     "execution_count": 186,
     "metadata": {},
     "output_type": "execute_result"
    }
   ],
   "source": [
    "prob = 1 #prbability 0.5 < prob < 1 that the site is ferromagnetic (all 1 or -1), expect phase-transistion at p = 0.88\n",
    "\n",
    "bin_prob_dist = np.random.binomial(1, prob, size=(len(edges),)) # 1 for ferromagnetic link\n",
    "\n",
    "bin_prob_dist"
   ]
  },
  {
   "cell_type": "code",
   "execution_count": 187,
   "id": "funded-island",
   "metadata": {},
   "outputs": [
    {
     "data": {
      "text/plain": [
       "array([1, 1, 1, 1])"
      ]
     },
     "execution_count": 187,
     "metadata": {},
     "output_type": "execute_result"
    }
   ],
   "source": [
    "for i, link in enumerate (bin_prob_dist):\n",
    "    if link == 0:\n",
    "        bin_prob_dist[i] = -1\n",
    "bin_prob_dist"
   ]
  },
  {
   "cell_type": "markdown",
   "id": "continued-planning",
   "metadata": {},
   "source": [
    "## 2 Define needed functions"
   ]
  },
  {
   "cell_type": "code",
   "execution_count": 173,
   "id": "confident-brake",
   "metadata": {},
   "outputs": [],
   "source": [
    "def evaluate_energy_ising(list_z, edges, bin_prob_dist, coupling_const=1):\n",
    "    \"\"\"This method evaluates the object function of the RBIM\n",
    "    Parameters\n",
    "        z_str : input bit string\n",
    "        edges : edges of the graph\n",
    "    Returns\n",
    "        the integer value the object function\"\"\"\n",
    "    energy = 0\n",
    "    for i, edge in enumerate(edges):\n",
    "        energy += -bin_prob_dist[i]*list_z[edge[0]]*list_z[edge[1]]\n",
    "    return coupling_const*energy"
   ]
  },
  {
   "cell_type": "code",
   "execution_count": 235,
   "id": "julian-concern",
   "metadata": {},
   "outputs": [
    {
     "name": "stdout",
     "output_type": "stream",
     "text": [
      "(1, 1, 1, 1) -4\n",
      "(1, 1, 1, -1) 0\n",
      "(1, 1, -1, 1) 0\n",
      "(1, 1, -1, -1) 0\n",
      "(1, -1, 1, 1) 0\n",
      "(1, -1, 1, -1) 4\n",
      "(1, -1, -1, 1) 0\n",
      "(1, -1, -1, -1) 0\n",
      "(-1, 1, 1, 1) 0\n",
      "(-1, 1, 1, -1) 0\n",
      "(-1, 1, -1, 1) 4\n",
      "(-1, 1, -1, -1) 0\n",
      "(-1, -1, 1, 1) 0\n",
      "(-1, -1, 1, -1) 0\n",
      "(-1, -1, -1, 1) 0\n",
      "(-1, -1, -1, -1) -4\n"
     ]
    }
   ],
   "source": [
    "all_outcomes = itertools.product([1,-1], repeat=n_qubits)\n",
    "for outcome in all_outcomes:\n",
    "    print(outcome, evaluate_energy_ising(outcome, edges, bin_prob_dist))"
   ]
  },
  {
   "cell_type": "code",
   "execution_count": 101,
   "id": "liked-bench",
   "metadata": {},
   "outputs": [],
   "source": [
    "def evaluate_magnetization_ising(list_z):\n",
    "    \"\"\"This method evaluates the object function of the RBIM\n",
    "    Parameters\n",
    "        z_str : input bit string\n",
    "        edges : edges of the graph\n",
    "    Returns\n",
    "        the integer value the object function\"\"\"\n",
    "\n",
    "    return sum(list_z)"
   ]
  },
  {
   "cell_type": "raw",
   "id": "fluid-removal",
   "metadata": {},
   "source": [
    "all_outcomes = itertools.product([1,-1], repeat=n_qubits)\n",
    "for outcome in all_outcomes:\n",
    "    print(outcome, evaluate_magnetization_ising(outcome))"
   ]
  },
  {
   "cell_type": "raw",
   "id": "blank-thinking",
   "metadata": {},
   "source": [
    "evaluate_energy([1,1,1,1,1,1,1,1,1], edges, bin_prob_dist)"
   ]
  },
  {
   "cell_type": "markdown",
   "id": "tight-answer",
   "metadata": {},
   "source": [
    "for prob=1 (all links are ferromagnetics), we have that $H = -J\\sum_{<u,v>}Z_uZ_v$, and we know that it's analitical expression is:\n",
    "\n",
    "$$E_1(\\gamma,\\beta) = \\langle H_{Ising} \\rangle = \\sum_{<u,v>} C_{<u,v>} = \\sum_{<u,v>} \n",
    "+ \\frac{1}{2} (sin4\\beta sin2\\gamma)(cos^{d_u}\\gamma + cos^{d_v}\\gamma) - \\frac{1}{2}(sin^2\\beta cos^{d_u + d_v - 2\\lambda_{uv}}\\gamma)(1-cos^{\\lambda_{uv}}2\\gamma)$$"
   ]
  },
  {
   "cell_type": "code",
   "execution_count": 163,
   "id": "sustained-seminar",
   "metadata": {},
   "outputs": [],
   "source": [
    "def analitic_E_1(parameters, graph, edges):\n",
    "    f_1 = 0\n",
    "    gamma = parameters[0]\n",
    "    beta = parameters[1]\n",
    "    for edge in edges:\n",
    "        degree_u = gr.node_degree(graph, edge[0])\n",
    "        degree_v = gr.node_degree(graph, edge[1])\n",
    "        lambda_uv = gr.common_neighbours(graph, edge[0], edge[1])\n",
    "        c_uv = +0.5*np.sin(4*beta)*np.sin(gamma)*(np.cos(gamma)**(degree_u-1) + np.cos(gamma)**(degree_v-1))\n",
    "        -0.5*np.sin(beta)**2*np.cos(gamma)**(degree_u+degree_v-2-2*lambda_uv)*(1-np.cos(2*gamma)**lambda_uv)\n",
    "        f_1 += c_uv\n",
    "    return f_1"
   ]
  },
  {
   "cell_type": "code",
   "execution_count": 188,
   "id": "beginning-luther",
   "metadata": {},
   "outputs": [
    {
     "data": {
      "text/plain": [
       " final_simplex: (array([[ 0.78536687, -0.39267054],\n",
       "       [ 0.78529206, -0.39268441],\n",
       "       [ 0.78543974, -0.39276145]]), array([-1.99999998, -1.99999995, -1.99999993]))\n",
       "           fun: -1.9999999830459168\n",
       "       message: 'Optimization terminated successfully.'\n",
       "          nfev: 122\n",
       "           nit: 65\n",
       "        status: 0\n",
       "       success: True\n",
       "             x: array([ 0.78536687, -0.39267054])"
      ]
     },
     "execution_count": 188,
     "metadata": {},
     "output_type": "execute_result"
    }
   ],
   "source": [
    "scipy.optimize.minimize(analitic_E_1, [0.0, 0.0], args = (graph, edges), method='Nelder-Mead')"
   ]
  },
  {
   "cell_type": "code",
   "execution_count": 219,
   "id": "minimal-serve",
   "metadata": {},
   "outputs": [],
   "source": [
    "optimal_params_scipy = scipy.optimize.minimize(analitic_E_1, [0.0, 0.0], args = (graph, edges), method='Nelder-Mead')['x']\n",
    "optimal_gamma_scipy = optimal_params_scipy[0]\n",
    "optimal_beta_scipy = optimal_params_scipy[1]"
   ]
  },
  {
   "cell_type": "code",
   "execution_count": 246,
   "id": "norwegian-adams",
   "metadata": {},
   "outputs": [],
   "source": [
    "def prob_hamilt_ising(n_qubits, edges, bin_prob_dist, coupling_const=1):\n",
    "    \"\"\"This method generates a tensor that apply the problem hamiltonian of the\n",
    "        RBIM problem on a state of n-qubits\\n\n",
    "    Parameters:\\n\n",
    "        n_qubits: number of vertices of the graph\n",
    "        edges: list of tuples corresponding to the edges of the graph\\n\n",
    "    Returns:\\n\n",
    "        a tensor that apply the problem hamiltonian to a n-qubits state\\n\n",
    "    Raise:\\n\n",
    "        ValueError if number of qubits is less than 2\"\"\"\n",
    "    if n_qubits < 2:\n",
    "        raise ValueError('number of qubits must be > 1, but is {}'.format(n_qubits))\n",
    "    list_double_sigmaz = []\n",
    "    for i, edge in enumerate(edges):\n",
    "        list_double_sigmaz.append(\n",
    "            bin_prob_dist[i]*qucs.n_sigmaz(n_qubits,edge[0])*qucs.n_sigmaz(n_qubits,edge[1])\n",
    "            ) \n",
    "    return sum(list_double_sigmaz)#*coupling_const"
   ]
  },
  {
   "cell_type": "raw",
   "id": "honey-penalty",
   "metadata": {},
   "source": [
    "prob_hamilt_ising(n_qubits, edges, bin_prob_dist)"
   ]
  },
  {
   "cell_type": "code",
   "execution_count": 236,
   "id": "fatal-shore",
   "metadata": {},
   "outputs": [],
   "source": [
    "def evolution_operator_ising(n_qubits, edges, gammas, betas, bin_prob_dist):\n",
    "    \"\"\"\n",
    "    This method generates a tensor that apply the evolution operator U of the\n",
    "        MaxCut problem on a state of n-qubits\\n\n",
    "    Parameters:\\n\n",
    "        n_qubits: number of qubits is the n-qubits state among this operators acts on\\n\n",
    "        edges: edges of the graph of the MaxCut that define the problem hamiltonian\n",
    "        gammas: gamma parameters of the MaxCut\\n\n",
    "        betas: betas parameters of the MaxCut\\n\n",
    "    Returns:\\n\n",
    "        a tensor that apply the evolution operator to a n-qubits state\\n\n",
    "    Raise:\\n\n",
    "        ValueError if number of gammas is less than 1\\n\n",
    "        ValueError if number of betas is less than 1\\n\n",
    "        ValueError if number of betas is different than number of gammas\\n\n",
    "        ValueError if number of qubits is less than 2      \n",
    "    \"\"\"\n",
    "    if len(gammas) < 1:\n",
    "        raise ValueError('number of gammas must be > 0, but is {}'.format(len(gammas)))\n",
    "    if len(betas) < 1:\n",
    "        raise ValueError('number of gammas must be > 0, but is {}'.format(len(betas)))\n",
    "    if len(betas) != len(gammas):\n",
    "        raise ValueError('number of gammas must be = number of betas')\n",
    "    if n_qubits < 2:\n",
    "        raise ValueError('number of qubits must be > 1, but is {}'.format(n_qubits))\n",
    "    evol_oper = qucs.n_qeye(n_qubits)\n",
    "    for i in range(len(gammas)):\n",
    "        u_mix_hamilt_i = (-complex(0,betas[i])*qaoa.mix_hamilt(n_qubits)).expm()\n",
    "        u_prob_hamilt_i = (-complex(0,gammas[i])*prob_hamilt_ising(n_qubits, edges, bin_prob_dist)).expm()\n",
    "        evol_oper = u_mix_hamilt_i*u_prob_hamilt_i*evol_oper\n",
    "    return evol_oper"
   ]
  },
  {
   "cell_type": "code",
   "execution_count": 157,
   "id": "explicit-philadelphia",
   "metadata": {},
   "outputs": [],
   "source": [
    "def single_qubit_measurement_ising(qstate, qubit_pos):\n",
    "    n_qubits = len(qstate.dims[0])\n",
    "    if qstate.dims[1][0] == 1:\n",
    "        qstate = qu.ket2dm(qstate)\n",
    "    M_i = (qucs.n_proj0(n_qubits, qubit_pos)*qstate)\n",
    "    p0_i = M_i.tr()\n",
    "    #p1_i = (n_proj1(n_qubits, i)*dm_dummy).tr()\n",
    "    if np.random.random_sample() <= p0_i:\n",
    "        outcome = [1]\n",
    "        qstate = M_i/p0_i\n",
    "    else:\n",
    "        outcome = [-1]\n",
    "        qstate = (qucs.n_proj1(n_qubits, qubit_pos)*qstate)/(1-p0_i)\n",
    "    return outcome, qstate"
   ]
  },
  {
   "cell_type": "code",
   "execution_count": 158,
   "id": "moderate-participant",
   "metadata": {},
   "outputs": [],
   "source": [
    "def quantum_measurements_ising(n_samples, qstate):\n",
    "    \"\"\"\n",
    "    This method simulates n_samples quantum computational basis measurements \n",
    "        on a composite system by obtaining, for each sampling, a bit string \n",
    "        correspondign to the camputational basis state of the Hilbert space the \n",
    "        state belongs to.\n",
    "    \n",
    "    Parameters\n",
    "    ----------\n",
    "    n_samples : int\n",
    "        number of samplings want to be executed on the quantum state.\n",
    "    qstate : Qobj\n",
    "        pure state or density matrix of a n-qubits state.\n",
    "\n",
    "    Returns\n",
    "    -------\n",
    "    outcomes : list \n",
    "        list of outcomes, stored as bit-strings.\n",
    "    \"\"\"\n",
    "    n_qubits = len(qstate.dims[0])\n",
    "    if qstate.dims[1][0] == 1:\n",
    "        qstate = qu.ket2dm(qstate)\n",
    "    outcomes = []\n",
    "    for j in range(n_samples):\n",
    "        outcome = []\n",
    "        qstate_dummy = qstate.copy()\n",
    "        for i in range(n_qubits):\n",
    "            outcome_i, qstate_dummy = single_qubit_measurement_ising(qstate_dummy, i)\n",
    "            outcome += outcome_i\n",
    "        outcomes.append(outcome)\n",
    "    return outcomes"
   ]
  },
  {
   "cell_type": "code",
   "execution_count": 218,
   "id": "physical-provision",
   "metadata": {},
   "outputs": [],
   "source": [
    "def evaluate_energy_p(params, n_qubits, edges, bin_prob_dist, n_samples):\n",
    "    \"\"\"\n",
    "    This method perform n quantum measurements on final state and evaluate F_p\n",
    "    through classical mean of the outcomes\n",
    "\n",
    "    Parameters\n",
    "    ----------\n",
    "    params : 1-D array-like\n",
    "        array of parameters [gamma_1, gamma_2, ..., gamma_p, beta_1, beta_2, ..., beta_p].\n",
    "    n_qubits : int\n",
    "        number of qubits of the state.\n",
    "    edges : list of tuples\n",
    "        edges of the graph.\n",
    "    n_samples : int\n",
    "        number of quantum measurements performed.\n",
    "\n",
    "    Returns\n",
    "    -------\n",
    "    F_p: float\n",
    "        expectation value of the cost function\n",
    "\n",
    "    \"\"\"\n",
    "    gammas = params[:int(len(list(params))/2)]\n",
    "    betas = params[int(len(list(params))/2):]\n",
    "    \n",
    "    # initial state (as density matrix):\n",
    "    #dm_init_state = qu.ket2dm(initial_state(n_qubits))\n",
    "    init_state = qaoa.initial_state(n_qubits)\n",
    "    #obtain final state\n",
    "    #dm_fin_state = evolution_operator(n_qubits, edges, gammas, betas)*dm_init_state*evolution_operator(n_qubits, edges, gammas, betas).dag()\n",
    "    fin_state = (evolution_operator_ising(n_qubits, edges, gammas, betas, bin_prob_dist)*init_state)\n",
    "    \n",
    "    #Perform N measurements on each single qubit of final state\n",
    "    outcomes = quantum_measurements_ising(100, init_state)\n",
    "    dict_outcomes = {}\n",
    "    for outcome in outcomes:\n",
    "        dict_outcomes[tuple(outcome)] = outcomes.count(outcome)\n",
    "    \n",
    "    #Evaluate Fp\n",
    "    Ep = 0\n",
    "    for outcome_w in dict_outcomes:\n",
    "        Ep += dict_outcomes[outcome_w]*evaluate_energy_ising(outcome_w, edges, bin_prob_dist)\n",
    "    return Ep/n_samples"
   ]
  },
  {
   "cell_type": "code",
   "execution_count": 160,
   "id": "efficient-recall",
   "metadata": {},
   "outputs": [],
   "source": [
    "def evaluate_magnetization_p(params, n_qubits, edges, bin_prob_dist, n_samples):\n",
    "    \"\"\"\n",
    "    This method perform n quantum measurements on final state and evaluate F_p\n",
    "    through classical mean of the outcomes\n",
    "\n",
    "    Parameters\n",
    "    ----------\n",
    "    params : 1-D array-like\n",
    "        array of parameters [gamma_1, gamma_2, ..., gamma_p, beta_1, beta_2, ..., beta_p].\n",
    "    n_qubits : int\n",
    "        number of qubits of the state.\n",
    "    edges : list of tuples\n",
    "        edges of the graph.\n",
    "    bin_prob_dist: list\n",
    "        binary prob dist of type of links\n",
    "    n_samples : int\n",
    "        number of quantum measurements performed.\n",
    "\n",
    "    Returns\n",
    "    -------\n",
    "    M_p: float\n",
    "        expectation value of the cost function\n",
    "\n",
    "    \"\"\"\n",
    "    gammas = params[:int(len(list(params))/2)]\n",
    "    betas = params[int(len(list(params))/2):]\n",
    "    \n",
    "    # initial state (as density matrix):\n",
    "    #dm_init_state = qu.ket2dm(initial_state(n_qubits))\n",
    "    init_state = qaoa.initial_state(n_qubits)\n",
    "    #obtain final state\n",
    "    #dm_fin_state = evolution_operator(n_qubits, edges, gammas, betas)*dm_init_state*evolution_operator(n_qubits, edges, gammas, betas).dag()\n",
    "    fin_state = (evolution_operator_ising(n_qubits, edges, gammas, betas, bin_prob_dist)*init_state)\n",
    "    \n",
    "    #Perform N measurements on each single qubit of final state\n",
    "    outcomes = quantum_measurements_ising(n_samples, fin_state)\n",
    "    occurrencies = []\n",
    "    for outcome in outcomes:\n",
    "        occurrencies.append((outcomes.count(outcome), outcome))\n",
    "    \n",
    "    #Evaluate Fp\n",
    "    Mp = 0\n",
    "    for occurrency in occurrencies:\n",
    "        Mp += occurrency[0]*evaluate_magnetization_ising(occurrency[1])\n",
    "    return Mp/n_samples"
   ]
  },
  {
   "cell_type": "markdown",
   "id": "surrounded-experience",
   "metadata": {},
   "source": [
    "## 1 Parameters optimization"
   ]
  },
  {
   "cell_type": "markdown",
   "id": "respective-spelling",
   "metadata": {},
   "source": [
    "## 1.1 Choose QAOA level and pick initial parameters"
   ]
  },
  {
   "cell_type": "code",
   "execution_count": 177,
   "id": "enabling-juice",
   "metadata": {},
   "outputs": [],
   "source": [
    "n_levels = 1"
   ]
  },
  {
   "cell_type": "raw",
   "id": "american-college",
   "metadata": {},
   "source": [
    "init_params = 0.01*np.random.rand(2, n_levels)\n",
    "gammas = init_params[0]\n",
    "betas = init_params[1]"
   ]
  },
  {
   "cell_type": "code",
   "execution_count": 109,
   "id": "first-carnival",
   "metadata": {},
   "outputs": [],
   "source": [
    "list_init_params = 0.5*np.random.rand(2*n_levels)\n",
    "list_init_gammas = list_init_params[:n_levels]\n",
    "list_init_betas = list_init_params[n_levels:]"
   ]
  },
  {
   "cell_type": "markdown",
   "id": "automotive-designer",
   "metadata": {},
   "source": [
    "## 1.2 Generate initial state"
   ]
  },
  {
   "cell_type": "markdown",
   "id": "religious-worship",
   "metadata": {},
   "source": [
    "${\\large |s\\rangle = \\sum_{z \\, \\in \\, \\{0,1\\}^n}^{}{|z\\rangle} = |+\\rangle^{\\otimes n}}$"
   ]
  },
  {
   "cell_type": "code",
   "execution_count": 191,
   "id": "pending-blowing",
   "metadata": {},
   "outputs": [],
   "source": [
    "# initial state:\n",
    "init_state = qaoa.initial_state(n_qubits)\n",
    "#dm_init_state = qu.ket2dm(qaoa.initial_state(n_qubits))"
   ]
  },
  {
   "cell_type": "markdown",
   "id": "american-broad",
   "metadata": {},
   "source": [
    "## 1.3 Obtain final state"
   ]
  },
  {
   "cell_type": "markdown",
   "id": "inappropriate-container",
   "metadata": {},
   "source": [
    "${\\large |\\vec{\\gamma},\\vec{\\beta}\\rangle = U(B,\\beta_p)U(C,\\gamma_p)...U(B,\\beta_1)U(C,\\gamma_1)|s\\rangle}$"
   ]
  },
  {
   "cell_type": "code",
   "execution_count": 237,
   "id": "modified-brief",
   "metadata": {},
   "outputs": [],
   "source": [
    "# obtain final state:\n",
    "optimal_params = optimal_params_scipy\n",
    "#optimal_params = optimal_parameters_Adam_fin_diff\n",
    "optimal_gammas = optimal_params[:n_levels]\n",
    "optimal_betas = optimal_params[n_levels:]\n",
    "fin_state = evolution_operator_ising(n_qubits, edges, optimal_gammas, optimal_betas, bin_prob_dist)*init_state\n",
    "#dm_fin_state = qaoa.evolution_operator(n_qubits, edges, optimal_gammas, optimal_betas)*dm_init_state*qaoa.evolution_operator(n_qubits, edges, optimal_gammas, optimal_betas).dag()"
   ]
  },
  {
   "cell_type": "markdown",
   "id": "minus-milwaukee",
   "metadata": {},
   "source": [
    "##  1.4 Perform N-computational_basis measurements on $|\\vec{\\gamma},\\vec{\\beta}\\rangle$ and evaluate $F_p$"
   ]
  },
  {
   "cell_type": "markdown",
   "id": "corrected-distributor",
   "metadata": {},
   "source": [
    "the idea is that, for each ($\\gamma,\\beta$), after each measurement I will obtain as outcome one of the elements of the computational basis: $\\{z : z \\in \\{ 0,1 \\}^n\\}$\n",
    "\n",
    "so, after N measurements, I will have each that each possible outcome $z_i$ has been obtained with occurency $w_i$, so $F_p$ will be evaluated as:\n",
    "\n",
    "$$F_p = \\frac{\\sum_{i}^{N}{w_iC(z_i)}}{\\sum_{i}^{N}{w_i}}$$"
   ]
  },
  {
   "cell_type": "code",
   "execution_count": 247,
   "id": "serious-brazilian",
   "metadata": {},
   "outputs": [
    {
     "data": {
      "text/plain": [
       "1.9998748409243814"
      ]
     },
     "execution_count": 247,
     "metadata": {},
     "output_type": "execute_result"
    }
   ],
   "source": [
    "qu.expect(qaoa.prob_hamilt(n_qubits, edges), fin_state)"
   ]
  },
  {
   "cell_type": "code",
   "execution_count": 238,
   "id": "abroad-cosmetic",
   "metadata": {},
   "outputs": [],
   "source": [
    "outcomes = quantum_measurements_ising(100, fin_state)\n",
    "dict_outcomes = {}\n",
    "for outcome in outcomes:\n",
    "    dict_outcomes[tuple(outcome)] = outcomes.count(outcome)"
   ]
  },
  {
   "cell_type": "code",
   "execution_count": 239,
   "id": "revolutionary-delicious",
   "metadata": {},
   "outputs": [
    {
     "data": {
      "text/plain": [
       "{(-1, 1, 1, -1): 17,\n",
       " (1, -1, -1, 1): 13,\n",
       " (1, 1, 1, 1): 15,\n",
       " (-1, -1, 1, 1): 11,\n",
       " (-1, -1, -1, -1): 6,\n",
       " (-1, 1, -1, 1): 13,\n",
       " (1, 1, -1, -1): 12,\n",
       " (1, -1, 1, -1): 13}"
      ]
     },
     "execution_count": 239,
     "metadata": {},
     "output_type": "execute_result"
    }
   ],
   "source": [
    "dict_outcomes"
   ]
  },
  {
   "cell_type": "code",
   "execution_count": 234,
   "id": "negative-signature",
   "metadata": {},
   "outputs": [
    {
     "data": {
      "text/plain": [
       "-0.52"
      ]
     },
     "execution_count": 234,
     "metadata": {},
     "output_type": "execute_result"
    }
   ],
   "source": [
    "n_samples = 100\n",
    "optimal_params = optimal_params_scipy\n",
    "#optimal_params = optimal_parameters_Adam_fin_diff\n",
    "E_p = evaluate_energy_p(optimal_params, n_qubits, edges, bin_prob_dist, n_samples)\n",
    "E_p"
   ]
  },
  {
   "cell_type": "raw",
   "id": "painted-testing",
   "metadata": {},
   "source": [
    "for outcome_w in dict_outcomes:\n",
    "    print(outcome_w, dict_outcomes[outcome_w])"
   ]
  },
  {
   "cell_type": "raw",
   "id": "external-dividend",
   "metadata": {},
   "source": [
    "sum(dict_outcomes.values())"
   ]
  },
  {
   "cell_type": "raw",
   "id": "attractive-planning",
   "metadata": {},
   "source": [
    "for outcome in outcomes:\n",
    "    print(outcome, outcomes.count(outcome))\n",
    "    "
   ]
  },
  {
   "cell_type": "raw",
   "id": "numerical-tourism",
   "metadata": {},
   "source": [
    "outcomes = quantum_measurements_ising(100, fin_state)\n",
    "occurrencies = []\n",
    "for outcome in outcomes:\n",
    "    occurrencies.append((outcomes.count(outcome), outcome))\n",
    "dict_occurrencies = {}\n",
    "for occurrency in occurrencies:\n",
    "    dict_occurrencies[tuple(occurrency[1])] = occurrency[0]"
   ]
  },
  {
   "cell_type": "raw",
   "id": "occupational-fireplace",
   "metadata": {},
   "source": [
    "dict_occurrencies"
   ]
  },
  {
   "cell_type": "raw",
   "id": "surrounded-suggestion",
   "metadata": {},
   "source": [
    "sum(dict_occurrencies.keys())"
   ]
  },
  {
   "cell_type": "raw",
   "id": "noted-behavior",
   "metadata": {},
   "source": [
    "occurrencies"
   ]
  },
  {
   "cell_type": "raw",
   "id": "british-procedure",
   "metadata": {},
   "source": [
    "occurrencies[1]"
   ]
  },
  {
   "cell_type": "code",
   "execution_count": 119,
   "id": "peripheral-somalia",
   "metadata": {},
   "outputs": [],
   "source": [
    "all_outcomes = itertools.product([1,-1], repeat=n_qubits)"
   ]
  },
  {
   "cell_type": "raw",
   "id": "voluntary-identification",
   "metadata": {},
   "source": [
    "for i in all_outcomes:\n",
    "    print(i)"
   ]
  },
  {
   "cell_type": "raw",
   "id": "global-spouse",
   "metadata": {},
   "source": [
    "for w_i in dict_outcomes:\n",
    "    print(w_i, dict_outcomes[w_i])"
   ]
  },
  {
   "cell_type": "code",
   "execution_count": 217,
   "id": "ambient-pilot",
   "metadata": {},
   "outputs": [
    {
     "data": {
      "text/plain": [
       "0.08"
      ]
     },
     "execution_count": 217,
     "metadata": {},
     "output_type": "execute_result"
    }
   ],
   "source": [
    "n_samples = 100\n",
    "optimal_params = optimal_params_scipy\n",
    "#optimal_params = optimal_parameters_Adam_fin_diff\n",
    "E_p = evaluate_energy_p(optimal_params, n_qubits, edges, bin_prob_dist, n_samples)\n",
    "E_p"
   ]
  },
  {
   "cell_type": "code",
   "execution_count": 134,
   "id": "union-polish",
   "metadata": {},
   "outputs": [
    {
     "data": {
      "text/plain": [
       "-0.06"
      ]
     },
     "execution_count": 134,
     "metadata": {},
     "output_type": "execute_result"
    }
   ],
   "source": [
    "M_p = evaluate_magnetization_p(list_init_params, n_qubits, edges, bin_prob_dist, n_samples)\n",
    "M_p"
   ]
  },
  {
   "cell_type": "code",
   "execution_count": 229,
   "id": "chief-search",
   "metadata": {},
   "outputs": [
    {
     "data": {
      "text/plain": [
       "<BarContainer object of 8 artists>"
      ]
     },
     "execution_count": 229,
     "metadata": {},
     "output_type": "execute_result"
    },
    {
     "data": {
      "image/png": "[encoded data removed]",
      "text/plain": [
       "<Figure size 1152x432 with 1 Axes>"
      ]
     },
     "metadata": {
      "needs_background": "light"
     },
     "output_type": "display_data"
    }
   ],
   "source": [
    "# plot probabilities of each state of the graph corresponding to every possible configuration after a cut\n",
    "plt.figure(figsize = (2**n_qubits,6))\n",
    "plt.xticks(rotation=45)\n",
    "x_axis = []\n",
    "for key in dict_outcomes:\n",
    "    x_axis.append(str(key))\n",
    "plt.bar(x_axis, dict_outcomes.values(), width = 0.5)"
   ]
  },
  {
   "cell_type": "markdown",
   "id": "powered-bible",
   "metadata": {},
   "source": [
    "### 1.5 Parameters update"
   ]
  },
  {
   "cell_type": "code",
   "execution_count": 139,
   "id": "brown-violation",
   "metadata": {},
   "outputs": [
    {
     "name": "stdout",
     "output_type": "stream",
     "text": [
      "in [0.08897426 0.00602018] with grad  [-88.   0.] objective after step     1:  0.0005630\n",
      "in [ 0.08897426 -0.01097982] with grad  [ 0. 17.] objective after step     2:  0.0496777\n",
      "in [ 0.07297426 -0.03097982] with grad  [16. 20.] objective after step     3: -0.0905836\n",
      "in [0.05297426 0.02602018] with grad  [ 20. -57.] objective after step     4: -0.2115272\n",
      "in [ 0.05297426 -0.01497982] with grad  [ 0. 41.] objective after step     5:  0.1304894\n",
      "optimal parameters are  [ 0.05297426 -0.01497982]\n"
     ]
    }
   ],
   "source": [
    "# perform M-steps for expectation value of the cost-function\n",
    "n_steps = 5\n",
    "n_levels = 1\n",
    "#parameters = np.array(0.5*np.random.random_sample(2*n_levels))\n",
    "parameters = 0.01*np.random.rand(2*n_levels)\n",
    "eta = 0.001 #con 0.01 si muove troppo lentamente, però con 0.1 oscilla troppo attorno al massimo\n",
    "H_P = prob_hamilt_ising(n_qubits, edges, bin_prob_dist)\n",
    "for i in range(n_steps):\n",
    "    g_t = qaoa.fin_diff_grad(evaluate_energy_p, parameters, args=(n_qubits, edges, bin_prob_dist, 100), increment=0.01)\n",
    "    gammas = parameters[:n_levels]\n",
    "    betas = parameters[n_levels:]\n",
    "    fin_state = evolution_operator_ising(n_qubits, edges, gammas, betas, bin_prob_dist)*init_state\n",
    "    E_p = qu.expect(H_P, fin_state)\n",
    "    parameters = parameters - eta*g_t\n",
    "    if (i + 1) % 1 == 0:\n",
    "            print('in', parameters, 'with grad ', g_t,  \"objective after step {:5d}: {: .7f}\".format(i + 1, E_p))\n",
    "optimal_parameters = parameters\n",
    "print('optimal parameters are ', optimal_parameters)"
   ]
  },
  {
   "cell_type": "code",
   "execution_count": 140,
   "id": "defined-respondent",
   "metadata": {},
   "outputs": [
    {
     "name": "stdout",
     "output_type": "stream",
     "text": [
      "in [0.0085683  0.00395097] with grad  [-6.9 -3.8] objective after step     1:  0.0032487\n",
      "in [-0.0414317  -0.04604903] with grad  [5.4 8.3] objective after step     2:  0.1807729\n",
      "in [-0.0448724  -0.02615698] with grad  [0.  5.5] objective after step     3:  0.1114945\n",
      "in [-0.04753207  0.00350255] with grad  [1.5 8.5] objective after step     4: -0.0158261\n",
      "in [-0.04477011  0.04061762] with grad  [-4.7  5.9] objective after step     5: -0.1723005\n",
      "in [-0.05547324  0.08024584] with grad  [-9.7  5.3] objective after step     6: -0.4144729\n",
      "in [-0.0802487   0.12119273] with grad  [-17.    3.2] objective after step     7: -0.8727548\n",
      "in [-0.11354649  0.16127838] with grad  [-14.2  15.8] objective after step     8: -1.5491330\n",
      "in [-0.15165364  0.20385255] with grad  [-21.9  16.4] objective after step     9: -2.3963162\n",
      "in [-0.19327964  0.24879022] with grad  [-24.   28.8] objective after step    10: -3.3020094\n",
      "in [-0.23760037  0.29407989] with grad  [-51.   35.2] objective after step    11: -4.1000365\n",
      "in [-0.2814004   0.34047947] with grad  [-2.4  0.1] objective after step    12: -4.6375788\n",
      "in [-0.32163342  0.38224408] with grad  [-9.7 33. ] objective after step    13: -4.8341285\n",
      "in [-0.36102885  0.42694252] with grad  [ 8.3 56.7] objective after step    14: -4.7312004\n",
      "in [-0.39335169  0.47310536] with grad  [44.1 -3.8] objective after step    15: -4.3804710\n",
      "in [-0.40442478  0.51374692] with grad  [  0.8 -20.8] objective after step    16: -4.0203913\n",
      "in [-0.41421525  0.54366315] with grad  [ 24.3 -22.7] objective after step    17: -3.6782710\n",
      "in [-0.41556464  0.56370146] with grad  [ 15.6 -48.6] objective after step    18: -3.4549568\n",
      "in [-0.41221531  0.56787988] with grad  [ 65.  -24.9] objective after step    19: -3.4276412\n",
      "in [-0.39456884  0.56562453] with grad  [-51.1 -78.6] objective after step    20: -3.5500634\n",
      "in [-0.39100285  0.54880191] with grad  [ 22.8 -74.5] objective after step    21: -3.7578060\n",
      "in [-0.38298144  0.52284672] with grad  [ 19.5 -45.6] objective after step    22: -4.0583191\n",
      "in [-0.37164484  0.49274018] with grad  [ 41.  -93.7] objective after step    23: -4.3599631\n",
      "in [-0.35353313  0.45580034] with grad  [-63.7 -84.4] objective after step    24: -4.6472517\n",
      "in [-0.35048123  0.41416824] with grad  [-28.2   1. ] objective after step    25: -4.7896140\n",
      "in [-0.35291207  0.37637916] with grad  [-8.1 -9.4] objective after step    26: -4.7907955\n",
      "in [-0.35662079  0.34072759] with grad  [  7.1 117.7] objective after step    27: -4.6871838\n",
      "in [-0.35866847  0.32650206] with grad  [-6.8 75.5] objective after step    28: -4.6171354\n",
      "in [-0.36181769  0.32271059] with grad  [21.2 61.7] objective after step    29: -4.5873397\n",
      "in [-0.36064183  0.32621198] with grad  [14.8 95.9] objective after step    30: -4.6093173\n",
      "optimal parameters are  [-0.35675187  0.33927283]\n"
     ]
    }
   ],
   "source": [
    "#Adam\n",
    "#perform it for exp_F_1 (check if this method works properly for p=1 case)\n",
    "n_steps = 30\n",
    "#parameters = np.array(0.5*np.random.random_sample(2*n_levels)) #check how choose initial params, for pi*rand is too dispersive\n",
    "parameters = 0.01*np.random.rand(2*n_levels)\n",
    "\"\"\"\n",
    "parameters = np.zeros(2*n_levels) # method used in the paper\n",
    "for j in range(2*n_levels):\n",
    "    if j%2 == 0: #for H-p parameters\n",
    "        parameters[j] = j/(2*n_levels) #see SGD paper for reference\n",
    "    else:\n",
    "        parameters[j] = 1 - j/(2*n_levels) #see SDG paper\n",
    "\"\"\"\n",
    "beta_1 = 0.9\n",
    "beta_2 = 0.999\n",
    "epsilon = 1e-8\n",
    "m_t = np.zeros(2*n_levels)\n",
    "v_t = np.zeros(2*n_levels)\n",
    "t = 0\n",
    "H_P = prob_hamilt_ising(n_qubits, edges, bin_prob_dist)\n",
    "eta = 0.05 #works also for eta = 0.01, but increases very slowly, and 0.1 oscillates too much around max\n",
    "previous_g_t = np.zeros(2*n_levels)\n",
    "for i in range(n_steps):\n",
    "    g_t = qaoa.fin_diff_grad(evaluate_energy_p, parameters, args=(n_qubits, edges, bin_prob_dist, 100), increment=0.1)\n",
    "    gammas = parameters[:n_levels]\n",
    "    betas = parameters[n_levels:]\n",
    "    fin_state = evolution_operator_ising(n_qubits, edges, gammas, betas, bin_prob_dist)*init_state\n",
    "    E_p = qu.expect(H_P, fin_state)\n",
    "    #if (np.sign(g_t) == -np.sign(previous_g_t)).all() and (np.sign(g_t) == -np.sign(np.ones(2*n_levels))).all():\n",
    "        #break\n",
    "    #if (i + 1) % 1 == 0:\n",
    "    print('in', parameters, 'with grad ', g_t,  \"objective after step {:5d}: {: .7f}\".format(i + 1, E_p))\n",
    "    t = t+1\n",
    "    m_t = beta_1*m_t + (1-beta_1)*g_t\n",
    "    v_t = beta_2*v_t + (1-beta_2)*g_t**2\n",
    "    m_t_hat = m_t/(1-beta_1**t)\n",
    "    v_t_hat = v_t/(1-beta_2**t)\n",
    "    parameters = parameters - eta*m_t_hat/(np.sqrt(v_t_hat) + epsilon)\n",
    "    #previous_g_t = g_t\n",
    "optimal_parameters_Adam_fin_diff = parameters\n",
    "print('optimal parameters are ', optimal_parameters_Adam_fin_diff)#, 'and F_1 is', qaoa.analitic_F_1(optimal_parameters_Adam_fin_diff, graph, edges))"
   ]
  },
  {
   "cell_type": "raw",
   "id": "union-walnut",
   "metadata": {},
   "source": [
    "optimal parameters are  [-0.35664311  0.41426241] #after 30 steps of Adam, E_p = 2, M_p = -0.27, prob = 0.5"
   ]
  },
  {
   "cell_type": "code",
   "execution_count": 162,
   "id": "directed-doctor",
   "metadata": {},
   "outputs": [
    {
     "data": {
      "text/plain": [
       "-46.36"
      ]
     },
     "execution_count": 162,
     "metadata": {},
     "output_type": "execute_result"
    }
   ],
   "source": [
    "n_samples = 100\n",
    "#optimal_params = optimal_params_scipy\n",
    "optimal_params = optimal_parameters_Adam_fin_diff\n",
    "E_p = evaluate_energy_p(optimal_params, n_qubits, edges, bin_prob_dist, n_samples)\n",
    "E_p"
   ]
  },
  {
   "cell_type": "code",
   "execution_count": 105,
   "id": "higher-talent",
   "metadata": {},
   "outputs": [
    {
     "data": {
      "text/plain": [
       "0.1"
      ]
     },
     "execution_count": 105,
     "metadata": {},
     "output_type": "execute_result"
    }
   ],
   "source": [
    "M_p = evaluate_magnetization_p(optimal_params, n_qubits, edges, bin_prob_dist, n_samples)\n",
    "M_p"
   ]
  },
  {
   "cell_type": "code",
   "execution_count": null,
   "id": "dirty-oregon",
   "metadata": {},
   "outputs": [],
   "source": []
  }
 ],
 "metadata": {
  "kernelspec": {
   "display_name": "Python 3",
   "language": "python",
   "name": "python3"
  },
  "language_info": {
   "codemirror_mode": {
    "name": "ipython",
    "version": 3
   },
   "file_extension": ".py",
   "mimetype": "text/x-python",
   "name": "python",
   "nbconvert_exporter": "python",
   "pygments_lexer": "ipython3",
   "version": "3.8.5"
  }
 },
 "nbformat": 4,
 "nbformat_minor": 5
}

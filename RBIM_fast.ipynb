{
 "cells": [
  {
   "cell_type": "markdown",
   "id": "potential-stockholm",
   "metadata": {},
   "source": [
    "# QAOA for random bond Ising model (RBIM)"
   ]
  },
  {
   "cell_type": "code",
   "execution_count": 63,
   "id": "concrete-paraguay",
   "metadata": {},
   "outputs": [],
   "source": [
    "import qaoa\n",
    "import qucompsys as qucs\n",
    "import graphs as gr\n",
    "import qutip as qu\n",
    "import numpy as np\n",
    "import matplotlib.pyplot as plt\n",
    "from   matplotlib import cm\n",
    "from   matplotlib.ticker import LinearLocator, FormatStrFormatter\n",
    "import networkx as nx\n",
    "from   networkx.generators.random_graphs import erdos_renyi_graph\n",
    "import configparser\n",
    "import scipy\n",
    "import itertools\n",
    "from collections import Counter\n",
    "\n",
    "import importlib\n",
    "importlib.reload(qaoa)\n",
    "importlib.reload(qucs)\n",
    "\n",
    "%matplotlib inline\n",
    "%config InlineBackened.figure_format = 'svg'"
   ]
  },
  {
   "cell_type": "markdown",
   "id": "therapeutic-malaysia",
   "metadata": {},
   "source": [
    "##  0 Define the graph"
   ]
  },
  {
   "cell_type": "code",
   "execution_count": 189,
   "id": "occasional-darwin",
   "metadata": {},
   "outputs": [],
   "source": [
    "# grid graph\n",
    "n_nodes = 4\n",
    "nodes = np.arange(0, n_nodes, 1)\n",
    "edges = [(0, 1), (1, 2), (2, 3), (3, 0)]"
   ]
  },
  {
   "cell_type": "code",
   "execution_count": 200,
   "id": "bridal-underwear",
   "metadata": {},
   "outputs": [],
   "source": [
    "# grid graph\n",
    "n_nodes = 6\n",
    "nodes = np.arange(0, n_nodes, 1)\n",
    "edges = [(0, 1), (1, 2), (1,4), (2, 3), (3, 4), (4, 5), (5, 0)]"
   ]
  },
  {
   "cell_type": "code",
   "execution_count": 64,
   "id": "determined-edinburgh",
   "metadata": {},
   "outputs": [],
   "source": [
    "# grid graph\n",
    "n_nodes = 9\n",
    "nodes = np.arange(0, n_nodes, 1)\n",
    "edges = [(0, 1), (0,3), (1, 2), (1, 4), (2, 5), (3,4), (3,6), (4, 5), (4, 7), (5,8), (6, 7), (7, 8)]"
   ]
  },
  {
   "cell_type": "code",
   "execution_count": 201,
   "id": "structural-montgomery",
   "metadata": {},
   "outputs": [],
   "source": [
    "n_qubits = n_nodes\n",
    "graph = nx.Graph()\n",
    "graph.add_nodes_from(nodes)\n",
    "graph.add_edges_from(edges)\n",
    "edges = list(graph.edges)"
   ]
  },
  {
   "cell_type": "markdown",
   "id": "pointed-orbit",
   "metadata": {},
   "source": [
    "### 0.1 plot the graph"
   ]
  },
  {
   "cell_type": "code",
   "execution_count": 202,
   "id": "systematic-helen",
   "metadata": {},
   "outputs": [
    {
     "data": {
      "image/png": "[encoded data removed]",
      "text/plain": [
       "<Figure size 504x504 with 1 Axes>"
      ]
     },
     "metadata": {},
     "output_type": "display_data"
    }
   ],
   "source": [
    "fig = plt.figure(figsize = (7,7))\n",
    "colors = ['r' for node in graph.nodes()]\n",
    "pos = nx.planar_layout(graph)\n",
    "graph_drawing = nx.draw_networkx(graph, node_color=colors, node_size=200, pos = None, alpha=1, with_labels=True)\n",
    "plt.show()"
   ]
  },
  {
   "cell_type": "markdown",
   "id": "infrared-philippines",
   "metadata": {},
   "source": [
    "## 1 choose probability"
   ]
  },
  {
   "cell_type": "markdown",
   "id": "improved-witch",
   "metadata": {},
   "source": [
    "$$H_{RBIM} = -\\sum_{<i,j>}K_{ij}Z_iZ_j,$$\n",
    "\n",
    "$P(K_{ij}) = p\\delta(K_{ij}-K) + (1-p)\\delta(K_{ij}+K) \\; , K>0$"
   ]
  },
  {
   "cell_type": "code",
   "execution_count": 68,
   "id": "political-crown",
   "metadata": {},
   "outputs": [
    {
     "data": {
      "text/plain": [
       "array([1, 1, 0, 1, 0, 1, 1, 1, 0, 1, 0, 0])"
      ]
     },
     "execution_count": 68,
     "metadata": {},
     "output_type": "execute_result"
    }
   ],
   "source": [
    "prob = 0.7 #prbability 0.5 < prob < 1 that the site is ferromagnetic (all 1 or -1), expect phase-transistion at p = 0.88\n",
    "\n",
    "bin_prob_dist = np.random.binomial(1, prob, size=(len(edges),)) # 1 for ferromagnetic link\n",
    "\n",
    "bin_prob_dist"
   ]
  },
  {
   "cell_type": "code",
   "execution_count": 69,
   "id": "passive-honey",
   "metadata": {},
   "outputs": [
    {
     "data": {
      "text/plain": [
       "array([ 1,  1, -1,  1, -1,  1,  1,  1, -1,  1, -1, -1])"
      ]
     },
     "execution_count": 69,
     "metadata": {},
     "output_type": "execute_result"
    }
   ],
   "source": [
    "for i, link in enumerate (bin_prob_dist):\n",
    "    if link == 0:\n",
    "        bin_prob_dist[i] = -1\n",
    "bin_prob_dist"
   ]
  },
  {
   "cell_type": "code",
   "execution_count": 70,
   "id": "regional-dealer",
   "metadata": {},
   "outputs": [],
   "source": [
    "def binomial_dist(prob, edges):\n",
    "    bin_prob_dist = np.random.binomial(1, prob, size=(len(edges),)) # 1 for ferromagnetic link\n",
    "    for i, link in enumerate (bin_prob_dist):\n",
    "        if link == 0:\n",
    "            bin_prob_dist[i] = -1\n",
    "    return bin_prob_dist"
   ]
  },
  {
   "cell_type": "code",
   "execution_count": 205,
   "id": "contemporary-count",
   "metadata": {},
   "outputs": [
    {
     "data": {
      "text/plain": [
       "array([-1,  1,  1,  1, -1, -1, -1])"
      ]
     },
     "execution_count": 205,
     "metadata": {},
     "output_type": "execute_result"
    }
   ],
   "source": [
    "bin_prob_dist = binomial_dist(0.5, edges)\n",
    "bin_prob_dist"
   ]
  },
  {
   "cell_type": "markdown",
   "id": "bound-germany",
   "metadata": {},
   "source": [
    "## 2 Define needed functions"
   ]
  },
  {
   "cell_type": "code",
   "execution_count": 207,
   "id": "absolute-second",
   "metadata": {},
   "outputs": [],
   "source": [
    "I = qu.tensor([qu.qeye(2)]*n_qubits)\n",
    "X = []\n",
    "for i in range(n_qubits):\n",
    "    X.append(qu.tensor([qu.qeye(2)]*i+[qu.sigmax()]+[qu.qeye(2)]*(n_qubits-i-1)))\n",
    "Y = []\n",
    "for i in range(n_qubits):\n",
    "    Y.append(qu.tensor([qu.qeye(2)]*i+[qu.sigmay()]+[qu.qeye(2)]*(n_qubits-i-1)))\n",
    "Z = []\n",
    "for i in range(n_qubits):\n",
    "    Z.append(qu.tensor([qu.qeye(2)]*i+[qu.sigmaz()]+[qu.qeye(2)]*(n_qubits-i-1)))\n",
    "P_0 = []\n",
    "for i in range(n_qubits):\n",
    "    P_0.append(qu.tensor([qu.qeye(2)]*i+[qu.ket('0').proj()]+[qu.qeye(2)]*(n_qubits-i-1)))\n",
    "P_1 = []\n",
    "for i in range(n_qubits):\n",
    "    P_1.append(qu.tensor([qu.qeye(2)]*i+[qu.ket('1').proj()]+[qu.qeye(2)]*(n_qubits-i-1)))\n",
    "H_B = sum(X)"
   ]
  },
  {
   "cell_type": "code",
   "execution_count": 15,
   "id": "sweet-radius",
   "metadata": {},
   "outputs": [],
   "source": [
    "def evaluate_energy_ising(list_z, edges, bin_prob_dist, coupling_const=1):\n",
    "    energy = 0\n",
    "    for i, edge in enumerate(edges):\n",
    "        energy += -bin_prob_dist[i]*list_z[edge[0]]*list_z[edge[1]]\n",
    "    return coupling_const*energy"
   ]
  },
  {
   "cell_type": "raw",
   "id": "adult-hunter",
   "metadata": {},
   "source": [
    "all_outcomes = itertools.product([1,-1], repeat=n_qubits)\n",
    "for outcome in all_outcomes:\n",
    "    print(outcome, evaluate_energy_ising(outcome, edges, bin_prob_dist))"
   ]
  },
  {
   "cell_type": "code",
   "execution_count": 17,
   "id": "critical-development",
   "metadata": {},
   "outputs": [],
   "source": [
    "def evaluate_magnetization_ising(list_z):\n",
    "    return abs(sum(list_z))"
   ]
  },
  {
   "cell_type": "raw",
   "id": "forty-apollo",
   "metadata": {},
   "source": [
    "all_outcomes = itertools.product([1,-1], repeat=n_qubits)\n",
    "for outcome in all_outcomes:\n",
    "    print(outcome, evaluate_magnetization_ising(outcome))"
   ]
  },
  {
   "cell_type": "code",
   "execution_count": 213,
   "id": "interesting-problem",
   "metadata": {},
   "outputs": [],
   "source": [
    "def single_qubit_measurement_ising(qstate, qubit_pos):\n",
    "    M_i = P_0[qubit_pos]*qstate\n",
    "    if qstate.dims[1][0] == 1:\n",
    "        p0_i = float(abs((qstate.dag()*M_i).full()))\n",
    "        if np.random.random_sample() <= p0_i:\n",
    "            outcome = [1]\n",
    "            qstate = M_i/np.sqrt(p0_i)\n",
    "        else:\n",
    "            outcome = [-1]\n",
    "            qstate = (P_1[qubit_pos]*qstate)/np.sqrt((1-p0_i))\n",
    "    else:\n",
    "        p0_i = M_i.tr()\n",
    "        if np.random.random_sample() <= p0_i:\n",
    "            outcome = [1]\n",
    "            qstate = M_i/p0_i\n",
    "        else:\n",
    "            outcome = [-1]\n",
    "            qstate = (P_1[qubit_pos]*qstate)/(1-p0_i)\n",
    "    return outcome, qstate\n",
    "\n",
    "def quantum_measurements_ising(n_samples, qstate):\n",
    "    n_qubits = len(qstate.dims[0])\n",
    "    outcomes = []\n",
    "    for j in range(n_samples):\n",
    "        outcome = []\n",
    "        qstate_dummy = qstate.copy()\n",
    "        for i in range(n_qubits):\n",
    "            outcome_i, qstate_dummy = single_qubit_measurement_ising(qstate_dummy, i)\n",
    "            outcome += outcome_i\n",
    "        outcomes.append(outcome)\n",
    "    return outcomes"
   ]
  },
  {
   "cell_type": "code",
   "execution_count": 48,
   "id": "received-federal",
   "metadata": {},
   "outputs": [],
   "source": [
    "def prob_hamilt_ising(n_qubits, edges, bin_prob_dist, coupling_const=1):\n",
    "    list_double_sigmaz = []\n",
    "    for i, edge in enumerate(edges):\n",
    "        list_double_sigmaz.append(Z[edge[0]]*Z[edge[1]]*bin_prob_dist[i]) \n",
    "    return -sum(list_double_sigmaz)*coupling_const"
   ]
  },
  {
   "cell_type": "code",
   "execution_count": 49,
   "id": "beautiful-triumph",
   "metadata": {},
   "outputs": [],
   "source": [
    "def evolution_operator_ising(n_qubits, edges, gammas, betas, bin_prob_dist):\n",
    "    evol_oper = I\n",
    "    for i in range(len(gammas)):\n",
    "        u_mix_hamilt_i = (-complex(0,betas[i])*H_B).expm()\n",
    "        u_prob_hamilt_i = (-complex(0,gammas[i])*prob_hamilt_ising(n_qubits, edges, bin_prob_dist)).expm()\n",
    "        evol_oper = u_mix_hamilt_i*u_prob_hamilt_i*evol_oper\n",
    "    return evol_oper"
   ]
  },
  {
   "cell_type": "code",
   "execution_count": 50,
   "id": "better-calibration",
   "metadata": {},
   "outputs": [],
   "source": [
    "def evaluate_energy_p(params, n_qubits, edges, bin_prob_dist, n_samples):\n",
    "    gammas = params[:int(len(list(params))/2)]\n",
    "    betas = params[int(len(list(params))/2):]\n",
    "    \n",
    "    # initial state (as density matrix):\n",
    "    #dm_init_state = qu.ket2dm(initial_state(n_qubits))\n",
    "    init_state = qaoa.initial_state(n_qubits)\n",
    "    #obtain final state\n",
    "    #dm_fin_state = evolution_operator(n_qubits, edges, gammas, betas)*dm_init_state*evolution_operator(n_qubits, edges, gammas, betas).dag()\n",
    "    fin_state = evolution_operator_ising(n_qubits, edges, gammas, betas, bin_prob_dist)*init_state\n",
    "    #fin_state = qaoa.evolution_operator(n_qubits, edges, gammas, betas)*init_state\n",
    "\n",
    "    \n",
    "    #Perform N measurements on each single qubit of final state\n",
    "    outcomes = quantum_measurements_ising(n_samples, fin_state)\n",
    "    dict_outcomes = {}\n",
    "    for outcome in outcomes:\n",
    "        dict_outcomes[tuple(outcome)] = outcomes.count(outcome)\n",
    "    \n",
    "    #Evaluate Fp\n",
    "    Ep = 0\n",
    "    for outcome_w in dict_outcomes:\n",
    "        Ep += dict_outcomes[outcome_w]*evaluate_energy_ising(outcome_w, edges, bin_prob_dist)\n",
    "    return Ep/n_samples"
   ]
  },
  {
   "cell_type": "raw",
   "id": "political-coach",
   "metadata": {},
   "source": [
    "def evaluate_magnetization_p(params, n_qubits, edges, bin_prob_dist, n_samples):\n",
    "    gammas = params[:int(len(list(params))/2)]\n",
    "    betas = params[int(len(list(params))/2):]\n",
    "    \n",
    "    # initial state (as density matrix):\n",
    "    #dm_init_state = qu.ket2dm(initial_state(n_qubits))\n",
    "    init_state = qaoa.initial_state(n_qubits)\n",
    "    #obtain final state\n",
    "    #dm_fin_state = evolution_operator(n_qubits, edges, gammas, betas)*dm_init_state*evolution_operator(n_qubits, edges, gammas, betas).dag()\n",
    "    fin_state = evolution_operator_ising(n_qubits, edges, gammas, betas, bin_prob_dist)*init_state\n",
    "    \n",
    "    #Perform N measurements on each single qubit of final state\n",
    "    outcomes = quantum_measurements_ising(n_samples, fin_state)\n",
    "    dict_outcomes = {}\n",
    "    for outcome in outcomes:\n",
    "        dict_outcomes[tuple(outcome)] = outcomes.count(outcome)\n",
    "    \n",
    "    #Evaluate Fp\n",
    "    Mp = 0\n",
    "    for outcome_w in dict_outcomes:\n",
    "        Mp += dict_outcomes[outcome_w]*evaluate_magnetization_ising(outcome_w)\n",
    "    return Mp/n_samples"
   ]
  },
  {
   "cell_type": "markdown",
   "id": "rational-slope",
   "metadata": {},
   "source": [
    "## 1 Parameters optimization"
   ]
  },
  {
   "cell_type": "markdown",
   "id": "likely-indonesia",
   "metadata": {},
   "source": [
    "## 1.1 Choose QAOA level and pick initial parameters"
   ]
  },
  {
   "cell_type": "raw",
   "id": "turned-meeting",
   "metadata": {},
   "source": [
    "n_levels = 1"
   ]
  },
  {
   "cell_type": "raw",
   "id": "distributed-saudi",
   "metadata": {},
   "source": [
    "init_params = 0.01*np.random.rand(2, n_levels)\n",
    "gammas = init_params[0]\n",
    "betas = init_params[1]"
   ]
  },
  {
   "cell_type": "raw",
   "id": "spanish-sense",
   "metadata": {},
   "source": [
    "list_init_params = 0.5*np.random.rand(2*n_levels)\n",
    "list_init_gammas = list_init_params[:n_levels]\n",
    "list_init_betas = list_init_params[n_levels:]"
   ]
  },
  {
   "cell_type": "markdown",
   "id": "respective-planet",
   "metadata": {},
   "source": [
    "## 1.2 Generate initial state"
   ]
  },
  {
   "cell_type": "markdown",
   "id": "alpine-astronomy",
   "metadata": {},
   "source": [
    "${\\large |s\\rangle = \\sum_{z \\, \\in \\, \\{0,1\\}^n}^{}{|z\\rangle} = |+\\rangle^{\\otimes n}}$"
   ]
  },
  {
   "cell_type": "raw",
   "id": "julian-stack",
   "metadata": {},
   "source": [
    "# initial state:\n",
    "init_state = qaoa.initial_state(n_qubits)\n",
    "#dm_init_state = qu.ket2dm(qaoa.initial_state(n_qubits))"
   ]
  },
  {
   "cell_type": "markdown",
   "id": "tutorial-douglas",
   "metadata": {},
   "source": [
    "## 1.3 Obtain final state"
   ]
  },
  {
   "cell_type": "markdown",
   "id": "vital-things",
   "metadata": {},
   "source": [
    "${\\large |\\vec{\\gamma},\\vec{\\beta}\\rangle = U(B,\\beta_p)U(C,\\gamma_p)...U(B,\\beta_1)U(C,\\gamma_1)|s\\rangle}$"
   ]
  },
  {
   "cell_type": "raw",
   "id": "immediate-delaware",
   "metadata": {},
   "source": [
    "# obtain final state:\n",
    "optimal_params = optimal_params_scipy\n",
    "#optimal_params = optimal_parameters_Adam_fin_diff\n",
    "optimal_gammas = optimal_params[:n_levels]\n",
    "optimal_betas = optimal_params[n_levels:]\n",
    "fin_state = qaoa.evolution_operator(n_qubits, edges, optimal_gammas, optimal_betas)*init_state\n",
    "#fin_state = evolution_operator_ising(n_qubits, edges, optimal_gammas, optimal_betas, bin_prob_dist)*init_state\n",
    "#dm_fin_state = qaoa.evolution_operator(n_qubits, edges, optimal_gammas, optimal_betas)*dm_init_state*qaoa.evolution_operator(n_qubits, edges, optimal_gammas, optimal_betas).dag()"
   ]
  },
  {
   "cell_type": "markdown",
   "id": "lightweight-leone",
   "metadata": {},
   "source": [
    "##  1.4 Perform N-computational_basis measurements on $|\\vec{\\gamma},\\vec{\\beta}\\rangle$ and evaluate $F_p$"
   ]
  },
  {
   "cell_type": "raw",
   "id": "pressed-authority",
   "metadata": {},
   "source": [
    "#Perform N measurements on each single qubit of final state\n",
    "n_samples = 1000\n",
    "outcomes = quantum_measurements_ising(n_samples, fin_state)\n",
    "dict_outcomes = {}\n",
    "for outcome in outcomes:\n",
    "    dict_outcomes[tuple(outcome)] = outcomes.count(outcome)\n",
    "\n",
    "#Evaluate Fp\n",
    "Ep = 0\n",
    "for outcome_w in dict_outcomes:\n",
    "    Ep += dict_outcomes[outcome_w]*evaluate_energy_ising(outcome_w, edges, bin_prob_dist)\n",
    "Ep/n_samples"
   ]
  },
  {
   "cell_type": "raw",
   "id": "arabic-senator",
   "metadata": {},
   "source": [
    "# obtain final state:\n",
    "optimal_params = optimal_params_scipy\n",
    "#optimal_params = optimal_parameters_Adam_fin_diff\n",
    "optimal_gammas = optimal_params[:n_levels]\n",
    "optimal_betas = optimal_params[n_levels:]\n",
    "fin_state = qaoa.evolution_operator(n_qubits, edges, optimal_gammas, optimal_betas)*init_state\n",
    "#fin_state = evolution_operator_ising(n_qubits, edges, optimal_gammas, optimal_betas, bin_prob_dist)*init_state\n",
    "#dm_fin_state = qaoa.evolution_operator(n_qubits, edges, optimal_gammas, optimal_betas)*dm_init_state*qaoa.evolution_operator(n_qubits, edges, optimal_gammas, optimal_betas).dag()"
   ]
  },
  {
   "cell_type": "raw",
   "id": "known-blowing",
   "metadata": {},
   "source": [
    "# plot probabilities of each state of the graph corresponding to every possible configuration after a cut\n",
    "plt.figure(figsize = (2**n_qubits,6))\n",
    "plt.xticks(rotation=45)\n",
    "x_axis = []\n",
    "for key in dict_outcomes:\n",
    "    x_axis.append(str(key))\n",
    "plt.bar(x_axis, dict_outcomes.values(), width = 0.5)"
   ]
  },
  {
   "cell_type": "markdown",
   "id": "acquired-globe",
   "metadata": {},
   "source": [
    "### 1.5 Parameters update"
   ]
  },
  {
   "cell_type": "code",
   "execution_count": 215,
   "id": "voluntary-distributor",
   "metadata": {},
   "outputs": [
    {
     "name": "stdout",
     "output_type": "stream",
     "text": [
      "in [0.00415378 0.00174454] with grad  [-1.5 -2.2] objective after step     1:  0.0004058\n",
      "in [0.05415378 0.05174454] with grad  [4.6 2.4] objective after step     2:  0.1541993\n",
      "in [0.02916032 0.04694368] with grad  [-0.5  3.8] objective after step     3:  0.0759802\n",
      "in [0.01322781 0.02026715] with grad  [3.5 3.3] objective after step     4:  0.0149874\n",
      "in [-0.01434443 -0.01397611] with grad  [ 0.3 -3.8] objective after step     5:  0.0112129\n",
      "in [-0.03898538 -0.02379927] with grad  [-0.6 -5.5] objective after step     6:  0.0516024\n",
      "in [-0.05751498 -0.0144844 ] with grad  [-2.  -3.7] objective after step     7:  0.0460847\n",
      "in [-0.06488452  0.0026924 ] with grad  [ 2.  -3.5] objective after step     8: -0.0096384\n",
      "in [-0.07854003  0.02535154] with grad  [ 1.2 -3.8] objective after step     9: -0.1089115\n",
      "in [-0.09481408  0.05268052] with grad  [ 1.9 -6.8] objective after step    10: -0.2689560\n",
      "in [-0.11536057  0.08617065] with grad  [ 4.6 -5.8] objective after step    11: -0.5205801\n",
      "in [-0.14398423  0.12342849] with grad  [ 1.6 -3.2] objective after step    12: -0.8873930\n",
      "in [-0.17378005  0.1614149 ] with grad  [ 6.1 -5.8] objective after step    13: -1.3143052\n",
      "in [-0.20964898  0.20216265] with grad  [ 4. -7.] objective after step    14: -1.8129713\n",
      "in [-0.24854668  0.24564705] with grad  [ 4.8 -6.2] objective after step    15: -2.3143772\n",
      "in [-0.29047223  0.29092743] with grad  [ 3.8 -2.8] objective after step    16: -2.7416578\n",
      "in [-0.33402528  0.33520872] with grad  [ 2.2 -3. ] objective after step    17: -3.0090794\n",
      "in [-0.37715345  0.37883035] with grad  [-5.5 -1.4] objective after step    18: -3.0823923\n",
      "in [-0.40347818  0.42019794] with grad  [-0.3  2.9] objective after step    19: -3.0163865\n",
      "in [-0.42686244  0.45349495] with grad  [-2.5  2.6] objective after step    20: -2.8709019\n",
      "in [-0.44336124  0.48003389] with grad  [-4.7  2.7] objective after step    21: -2.7131953\n",
      "in [-0.44960729  0.50034684] with grad  [-4.8  7.3] objective after step    22: -2.5968170\n",
      "in [-0.44714067  0.50844261] with grad  [-4.5  7.2] objective after step    23: -2.5676053\n",
      "in [-0.43779321  0.50674629] with grad  [-0.9  6.1] objective after step    24: -2.6149170\n",
      "in [-0.42784049  0.49811566] with grad  [-1.3  3.5] objective after step    25: -2.6953722\n",
      "in [-0.41668614  0.48624759] with grad  [-0.1  1.7] objective after step    26: -2.7875089\n",
      "in [-0.40635981  0.47345566] with grad  [2.  7.7] objective after step    27: -2.8702178\n",
      "in [-0.40033325  0.45367409] with grad  [-0.6  5.7] objective after step    28: -2.9528636\n",
      "in [-0.39384054  0.42976192] with grad  [-2.2  1.2] objective after step    29: -3.0246583\n",
      "in [-0.38427702  0.40664408] with grad  [-4.9  0.3] objective after step    30: -3.0718430\n",
      "optimal parameters are  [-0.3679137   0.38523945] and F_1 is -3.071843020777137\n"
     ]
    }
   ],
   "source": [
    "#Adam\n",
    "#perform it for exp_F_1 (check if this method works properly for p=1 case)\n",
    "n_levels = 1\n",
    "n_steps = 30\n",
    "#parameters = np.array(np.pi/2*np.random.random_sample(2*n_levels)) #check how choose initial params, for pi*rand is too dispersive\n",
    "#parameters = np.array(np.random.uniform(-np.pi/4, np.pi/4, 2*n_levels)) #check how choose initial params, for pi*rand is too dispersive\n",
    "parameters = 0.01*np.random.rand(2*n_levels)\n",
    "init_state = qaoa.initial_state(n_qubits)\n",
    "beta_1 = 0.9\n",
    "beta_2 = 0.999\n",
    "epsilon = 1e-8\n",
    "m_t = np.zeros(2*n_levels)\n",
    "v_t = np.zeros(2*n_levels)\n",
    "t = 0\n",
    "adam_grad_fin_diff_g = []\n",
    "adam_grad_fin_diff_b = []\n",
    "adam_grad_fin_diff_E = []\n",
    "H_P = prob_hamilt_ising(n_qubits, edges, bin_prob_dist)\n",
    "eta = 0.05 #works also for eta = 0.01, but increases very slowly, and 0.1 oscillates too much around max\n",
    "previous_g_t = np.zeros(2*n_levels)\n",
    "for i in range(n_steps):\n",
    "    g_t = qaoa.fin_diff_grad(evaluate_energy_p, parameters, args=(n_qubits, edges, bin_prob_dist, 100), increment=0.1)\n",
    "    gammas = parameters[:n_levels]\n",
    "    betas = parameters[n_levels:]\n",
    "    fin_state = evolution_operator_ising(n_qubits, edges, gammas, betas, bin_prob_dist)*init_state\n",
    "    E_p_adam = qu.expect(H_P, fin_state)\n",
    "    adam_grad_fin_diff_g.append(gammas[0])\n",
    "    adam_grad_fin_diff_b.append(betas[0])\n",
    "    adam_grad_fin_diff_E.append(E_p_adam)\n",
    "    #if (np.sign(g_t) == -np.sign(previous_g_t)).all() and (np.sign(g_t) == -np.sign(np.ones(2*n_levels))).all():\n",
    "        #break\n",
    "    #if (i + 1) % 1 == 0:\n",
    "    print('in', parameters, 'with grad ', g_t,  \"objective after step {:5d}: {: .7f}\".format(i + 1, E_p_adam))\n",
    "    t = t+1\n",
    "    m_t = beta_1*m_t + (1-beta_1)*g_t\n",
    "    v_t = beta_2*v_t + (1-beta_2)*g_t**2\n",
    "    m_t_hat = m_t/(1-beta_1**t)\n",
    "    v_t_hat = v_t/(1-beta_2**t)\n",
    "    parameters = parameters - eta*m_t_hat/(np.sqrt(v_t_hat) + epsilon)\n",
    "    #previous_g_t = g_t\n",
    "optimal_parameters_Adam_fin_diff = parameters\n",
    "optimal_gammas = optimal_parameters_Adam_fin_diff[:n_levels]\n",
    "optimal_betas = optimal_parameters_Adam_fin_diff[n_levels:]\n",
    "print('optimal parameters are ', optimal_parameters_Adam_fin_diff, 'and F_1 is', qu.expect(H_P, evolution_operator_ising(n_qubits, edges, gammas, betas, bin_prob_dist)*init_state))"
   ]
  },
  {
   "cell_type": "raw",
   "id": "fiscal-sarah",
   "metadata": {},
   "source": [
    "prob = 1, n=4\n",
    "p=1 E_p = -1.9\n",
    "p=3 E_p = -3.9"
   ]
  },
  {
   "cell_type": "raw",
   "id": "meaningful-divide",
   "metadata": {},
   "source": [
    "prob = 0.7, n=9\n",
    "p=1 E_p = -4.72\n",
    "p=3 E_p = -6.67"
   ]
  },
  {
   "cell_type": "code",
   "execution_count": 209,
   "id": "facial-version",
   "metadata": {},
   "outputs": [],
   "source": [
    "H_P = prob_hamilt_ising(n_qubits, edges, bin_prob_dist)\n",
    "fin_state = evolution_operator_ising(n_qubits, edges, gammas, betas, bin_prob_dist)*init_state\n",
    "E_p_adam = qu.expect(H_P, fin_state)\n",
    "\n",
    "step_size = 0.1\n",
    "a_gamma_iter         = np.arange(-np.pi/4, np.pi/4, step_size)\n",
    "a_beta_iter          = np.arange(-np.pi/4, np.pi/4, step_size)\n",
    "grid_gammas_betas_iter = list(itertools.product(a_gamma_iter, a_beta_iter))\n",
    "grid_F_1_iter = []\n",
    "for par_iter in grid_gammas_betas_iter:\n",
    "    fin_state = evolution_operator_ising(n_qubits, edges, [par_iter[0]], [par_iter[1]], bin_prob_dist)*init_state\n",
    "    E_p = qu.expect(H_P, fin_state)\n",
    "    grid_F_1_iter.append(E_p)"
   ]
  },
  {
   "cell_type": "code",
   "execution_count": 210,
   "id": "twenty-calgary",
   "metadata": {},
   "outputs": [],
   "source": [
    "optimal_gamma_iter  = grid_gammas_betas_iter[grid_F_1_iter.index(min(grid_F_1_iter))][0]\n",
    "optimal_beta_iter  = grid_gammas_betas_iter[grid_F_1_iter.index(min(grid_F_1_iter))][1]"
   ]
  },
  {
   "cell_type": "code",
   "execution_count": 216,
   "id": "sensitive-ending",
   "metadata": {},
   "outputs": [
    {
     "name": "stdout",
     "output_type": "stream",
     "text": [
      "\n",
      " --- OPTIMAL PARAMETERS --- \n",
      "\n",
      "The maximal expectation value is:  F_1 = -3.063\n",
      "This is attained for gamma = -0.385 and beta = 0.415\n"
     ]
    }
   ],
   "source": [
    "%matplotlib qt\n",
    "#%matplotlib inline\n",
    "# Plot the expetation value grid_f_1\n",
    "fig = plt.figure(figsize = (10,10))\n",
    "ax  = fig.gca(projection='3d')\n",
    "\n",
    "\n",
    "y_axis, x_axis = np.meshgrid(a_beta_iter, a_gamma_iter)\n",
    "z_axis = np.reshape(np.array(grid_F_1_iter), y_axis.shape)\n",
    "\n",
    "surf = ax.plot_surface(x_axis, y_axis, z_axis, cmap=cm.coolwarm, linewidth=0, antialiased=True, alpha=0.2)\n",
    "\n",
    "#a_maximum_cut = find_maximum_cuts(n_qubits, edges)[0]\n",
    "#max_cost_fun = qaoa.evaluate_cost_fun (a_maximum_cut, edges)\n",
    "#max_cost_fun\n",
    "#ax.set_zlim(1,max_cost_fun)\n",
    "ax.zaxis.set_major_locator(LinearLocator(3))\n",
    "ax.zaxis.set_major_formatter(FormatStrFormatter('%.02f'))\n",
    "ax.set_ylabel('beta')\n",
    "ax.set_xlabel('gamma')\n",
    "ax.set_zlabel('F1')\n",
    "ax.scatter(np.array(adam_grad_fin_diff_g), np.array(adam_grad_fin_diff_b), np.array(adam_grad_fin_diff_E), c=np.array(adam_grad_fin_diff_E), cmap='viridis', zorder=1);\n",
    "#plt.scatter(np.array(adam_grad_fin_diff_g), np.array(adam_grad_fin_diff_b))\n",
    "plt.show()\n",
    "\n",
    "#The smallest parameters and the expectation can be extracted\n",
    "print('\\n --- OPTIMAL PARAMETERS --- \\n')\n",
    "print('The maximal expectation value is:  F_1 = %.03f' % np.amin(z_axis))\n",
    "#print('where the max_C is ', max_cost_fun)\n",
    "print('This is attained for gamma = %.03f and beta = %.03f' % (optimal_gamma_iter, optimal_beta_iter))"
   ]
  },
  {
   "cell_type": "code",
   "execution_count": 20,
   "id": "intelligent-barcelona",
   "metadata": {},
   "outputs": [],
   "source": [
    "n_samples = 100\n",
    "outcomes = quantum_measurements_ising(n_samples, fin_state)\n",
    "dict_outcomes = {}\n",
    "for outcome in outcomes:\n",
    "    dict_outcomes[tuple(outcome)] = outcomes.count(outcome)"
   ]
  },
  {
   "cell_type": "code",
   "execution_count": 27,
   "id": "loved-grace",
   "metadata": {},
   "outputs": [],
   "source": [
    "max_occurrency = max(list(dict_outcomes.values()))\n",
    "\n",
    "index_max_occurrency = list(dict_outcomes.values()).index(max_occurrency)\n",
    "\n",
    "most_probable_state = list(dict_outcomes.keys())[index_max_occurrency]"
   ]
  },
  {
   "cell_type": "code",
   "execution_count": 33,
   "id": "manufactured-daily",
   "metadata": {},
   "outputs": [
    {
     "data": {
      "text/plain": [
       "4"
      ]
     },
     "execution_count": 33,
     "metadata": {},
     "output_type": "execute_result"
    }
   ],
   "source": [
    "M = evaluate_magnetization_ising(most_probable_state)\n",
    "M"
   ]
  },
  {
   "cell_type": "code",
   "execution_count": null,
   "id": "representative-merchant",
   "metadata": {},
   "outputs": [],
   "source": []
  },
  {
   "cell_type": "code",
   "execution_count": null,
   "id": "variable-anthropology",
   "metadata": {},
   "outputs": [],
   "source": [
    "# plot probabilities of each state of the graph corresponding to every possible configuration after a cut\n",
    "plt.figure(figsize = (2**n_qubits,6))\n",
    "plt.xticks(rotation=45)\n",
    "x_axis = []\n",
    "for key in dict_outcomes:\n",
    "    x_axis.append(str(key))\n",
    "plt.bar(x_axis, dict_outcomes.values(), width = 0.5)"
   ]
  },
  {
   "cell_type": "code",
   "execution_count": 135,
   "id": "spread-escape",
   "metadata": {},
   "outputs": [
    {
     "data": {
      "text/plain": [
       "-6.8"
      ]
     },
     "execution_count": 135,
     "metadata": {},
     "output_type": "execute_result"
    }
   ],
   "source": [
    "evaluate_energy_p(optimal_parameters_Adam_fin_diff, n_qubits, edges, bin_prob_dist, 100)"
   ]
  },
  {
   "cell_type": "raw",
   "id": "reported-compromise",
   "metadata": {},
   "source": [
    "evaluate_magnetization_p(optimal_parameters_Adam_fin_diff, n_qubits, edges, bin_prob_dist, 100)"
   ]
  },
  {
   "cell_type": "raw",
   "id": "express-lending",
   "metadata": {},
   "source": [
    "# obtain final state:\n",
    "#optimal_params = optimal_params_scipy\n",
    "optimal_params = optimal_parameters_Adam_fin_diff\n",
    "optimal_gammas = optimal_params[:n_levels]\n",
    "optimal_betas = optimal_params[n_levels:]\n",
    "#fin_state = qaoa.evolution_operator(n_qubits, edges, optimal_gammas, optimal_betas)*init_state\n",
    "fin_state = evolution_operator_ising(n_qubits, edges, optimal_gammas, optimal_betas, bin_prob_dist)*init_state\n",
    "#dm_fin_state = qaoa.evolution_operator(n_qubits, edges, optimal_gammas, optimal_betas)*dm_init_state*qaoa.evolution_operator(n_qubits, edges, optimal_gammas, optimal_betas).dag()"
   ]
  },
  {
   "cell_type": "code",
   "execution_count": 130,
   "id": "pursuant-shoot",
   "metadata": {},
   "outputs": [],
   "source": [
    "prob_dist_fin_state = qucs.comp_basis_prob_dist(fin_state)"
   ]
  },
  {
   "cell_type": "code",
   "execution_count": null,
   "id": "based-imagination",
   "metadata": {},
   "outputs": [],
   "source": [
    "# plot probabilities of each state of the graph corresponding to every possible configuration after a cut (using the state)\n",
    "plt.figure(figsize = (2**n_qubits,20))\n",
    "plt.xticks(rotation=90)\n",
    "xticks = range(0,2**(n_qubits-1))\n",
    "plt.bar(xtick_labels,prob_dist_fin_state,width = 0.5)\n",
    "plt.savefig(f\"./images/prob_dist_plots/n_qubits_{n_qubits}_prob_{prob}_bin_dist_{bin_prob_dist}.pdf\", bbox_inches='tight')"
   ]
  },
  {
   "cell_type": "raw",
   "id": "supported-kansas",
   "metadata": {},
   "source": [
    "# plot probabilities of each state of the graph corresponding to every possible configuration after a cut\n",
    "plt.figure(figsize = (2**n_qubits,6))\n",
    "plt.xticks(rotation=45)\n",
    "x_axis = []\n",
    "for key in dict_outcomes:\n",
    "    x_axis.append(str(key))\n",
    "plt.bar(x_axis, dict_outcomes.values(), width = 0.5)"
   ]
  }
 ],
 "metadata": {
  "kernelspec": {
   "display_name": "Python 3",
   "language": "python",
   "name": "python3"
  },
  "language_info": {
   "codemirror_mode": {
    "name": "ipython",
    "version": 3
   },
   "file_extension": ".py",
   "mimetype": "text/x-python",
   "name": "python",
   "nbconvert_exporter": "python",
   "pygments_lexer": "ipython3",
   "version": "3.8.5"
  }
 },
 "nbformat": 4,
 "nbformat_minor": 5
}

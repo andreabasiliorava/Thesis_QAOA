{
 "cells": [
  {
   "cell_type": "markdown",
   "id": "consecutive-jackson",
   "metadata": {},
   "source": [
    "# QAOA for random bond Ising model (RBIM)"
   ]
  },
  {
   "cell_type": "code",
   "execution_count": 1,
   "id": "british-eleven",
   "metadata": {},
   "outputs": [],
   "source": [
    "import qaoa\n",
    "import qucompsys as qucs\n",
    "import graphs as gr\n",
    "import qutip as qu\n",
    "import numpy as np\n",
    "import matplotlib.pyplot as plt\n",
    "from   matplotlib import cm\n",
    "from   matplotlib.ticker import LinearLocator, FormatStrFormatter\n",
    "import networkx as nx\n",
    "from   networkx.generators.random_graphs import erdos_renyi_graph\n",
    "import configparser\n",
    "import scipy\n",
    "import itertools\n",
    "from collections import Counter\n",
    "\n",
    "import importlib\n",
    "importlib.reload(qaoa)\n",
    "importlib.reload(qucs)\n",
    "\n",
    "%matplotlib inline\n",
    "%config InlineBackened.figure_format = 'svg'"
   ]
  },
  {
   "cell_type": "markdown",
   "id": "pressing-horizontal",
   "metadata": {},
   "source": [
    "##  0 Define the graph"
   ]
  },
  {
   "cell_type": "code",
   "execution_count": 2,
   "id": "opposed-jesus",
   "metadata": {},
   "outputs": [],
   "source": [
    "# grid graph\n",
    "n_nodes = 9\n",
    "nodes = np.arange(0, n_nodes, 1)\n",
    "edges = [(0, 1), (0,3), (1, 2), (1, 4), (2, 5), (3,4), (3,6), (4, 5), (4, 7), (5,8), (6, 7), (7, 8)]"
   ]
  },
  {
   "cell_type": "code",
   "execution_count": 3,
   "id": "fluid-humanitarian",
   "metadata": {},
   "outputs": [],
   "source": [
    "n_qubits = n_nodes\n",
    "graph = nx.Graph()\n",
    "graph.add_nodes_from(nodes)\n",
    "graph.add_edges_from(edges)\n",
    "edges = list(graph.edges)"
   ]
  },
  {
   "cell_type": "markdown",
   "id": "black-berlin",
   "metadata": {},
   "source": [
    "### 0.1 plot the graph"
   ]
  },
  {
   "cell_type": "code",
   "execution_count": 9,
   "id": "external-rolling",
   "metadata": {},
   "outputs": [
    {
     "data": {
      "image/png": "[encoded data removed]",
      "text/plain": [
       "<Figure size 504x504 with 1 Axes>"
      ]
     },
     "metadata": {},
     "output_type": "display_data"
    }
   ],
   "source": [
    "fig = plt.figure(figsize = (7,7))\n",
    "colors = ['r' for node in graph.nodes()]\n",
    "pos = nx.planar_layout(graph)\n",
    "graph_drawing = nx.draw_networkx(graph, node_color=colors, node_size=200, pos = None, alpha=1, with_labels=True)\n",
    "plt.show()"
   ]
  },
  {
   "cell_type": "markdown",
   "id": "effective-medication",
   "metadata": {},
   "source": [
    "## 1 choose probability"
   ]
  },
  {
   "cell_type": "code",
   "execution_count": 106,
   "id": "domestic-innocent",
   "metadata": {},
   "outputs": [
    {
     "data": {
      "text/plain": [
       "array([1, 1, 1, 1, 1, 1, 1, 1, 1, 1, 1, 1])"
      ]
     },
     "execution_count": 106,
     "metadata": {},
     "output_type": "execute_result"
    }
   ],
   "source": [
    "prob = 1 #prbability 0.5 < prob < 1 that the site is ferromagnetic (all 1 or -1), expect phase-transistion at p = 0.88\n",
    "\n",
    "bin_prob_dist = np.random.binomial(1, prob, size=(len(edges),)) # 1 for ferromagnetic link\n",
    "\n",
    "bin_prob_dist"
   ]
  },
  {
   "cell_type": "code",
   "execution_count": 107,
   "id": "empty-george",
   "metadata": {},
   "outputs": [
    {
     "data": {
      "text/plain": [
       "array([1, 1, 1, 1, 1, 1, 1, 1, 1, 1, 1, 1])"
      ]
     },
     "execution_count": 107,
     "metadata": {},
     "output_type": "execute_result"
    }
   ],
   "source": [
    "for i, link in enumerate (bin_prob_dist):\n",
    "    if link == 0:\n",
    "        bin_prob_dist[i] = -1\n",
    "bin_prob_dist"
   ]
  },
  {
   "cell_type": "markdown",
   "id": "beneficial-dietary",
   "metadata": {},
   "source": [
    "## 2 Define needed functions"
   ]
  },
  {
   "cell_type": "code",
   "execution_count": 100,
   "id": "unlikely-queensland",
   "metadata": {},
   "outputs": [],
   "source": [
    "def evaluate_energy_ising(list_z, edges, bin_prob_dist, coupling_const=1):\n",
    "    \"\"\"This method evaluates the object function of the RBIM\n",
    "    Parameters\n",
    "        z_str : input bit string\n",
    "        edges : edges of the graph\n",
    "    Returns\n",
    "        the integer value the object function\"\"\"\n",
    "    energy = 0\n",
    "    for i, edge in enumerate(edges):\n",
    "        energy += -bin_prob_dist[i]*list_z[edge[0]]*list_z[edge[1]]\n",
    "    return coupling_const*energy"
   ]
  },
  {
   "cell_type": "code",
   "execution_count": 101,
   "id": "double-alias",
   "metadata": {},
   "outputs": [],
   "source": [
    "def evaluate_magnetization_ising(list_z):\n",
    "    \"\"\"This method evaluates the object function of the RBIM\n",
    "    Parameters\n",
    "        z_str : input bit string\n",
    "        edges : edges of the graph\n",
    "    Returns\n",
    "        the integer value the object function\"\"\"\n",
    "\n",
    "    return sum(list_z)"
   ]
  },
  {
   "cell_type": "raw",
   "id": "polished-nothing",
   "metadata": {},
   "source": [
    "evaluate_energy([1,1,1,1,1,1,1,1,1], edges, bin_prob_dist)"
   ]
  },
  {
   "cell_type": "code",
   "execution_count": 102,
   "id": "turned-reasoning",
   "metadata": {},
   "outputs": [],
   "source": [
    "def prob_hamilt_ising(n_qubits, edges, bin_prob_dist, coupling_const=1):\n",
    "    \"\"\"This method generates a tensor that apply the problem hamiltonian of the\n",
    "        RBIM problem on a state of n-qubits\\n\n",
    "    Parameters:\\n\n",
    "        n_qubits: number of vertices of the graph\n",
    "        edges: list of tuples corresponding to the edges of the graph\\n\n",
    "    Returns:\\n\n",
    "        a tensor that apply the problem hamiltonian to a n-qubits state\\n\n",
    "    Raise:\\n\n",
    "        ValueError if number of qubits is less than 2\"\"\"\n",
    "    if n_qubits < 2:\n",
    "        raise ValueError('number of qubits must be > 1, but is {}'.format(n_qubits))\n",
    "    list_double_sigmaz = []\n",
    "    for i, edge in enumerate(edges):\n",
    "        list_double_sigmaz.append(\n",
    "            -bin_prob_dist[i]*qucs.n_sigmaz(n_qubits,edge[0])*qucs.n_sigmaz(n_qubits,edge[1])\n",
    "            ) \n",
    "    return -sum(list_double_sigmaz)*coupling_const"
   ]
  },
  {
   "cell_type": "code",
   "execution_count": 66,
   "id": "limiting-portfolio",
   "metadata": {},
   "outputs": [],
   "source": [
    "def evolution_operator_ising(n_qubits, edges, gammas, betas, bin_prob_dist):\n",
    "    \"\"\"\n",
    "    This method generates a tensor that apply the evolution operator U of the\n",
    "        MaxCut problem on a state of n-qubits\\n\n",
    "    Parameters:\\n\n",
    "        n_qubits: number of qubits is the n-qubits state among this operators acts on\\n\n",
    "        edges: edges of the graph of the MaxCut that define the problem hamiltonian\n",
    "        gammas: gamma parameters of the MaxCut\\n\n",
    "        betas: betas parameters of the MaxCut\\n\n",
    "    Returns:\\n\n",
    "        a tensor that apply the evolution operator to a n-qubits state\\n\n",
    "    Raise:\\n\n",
    "        ValueError if number of gammas is less than 1\\n\n",
    "        ValueError if number of betas is less than 1\\n\n",
    "        ValueError if number of betas is different than number of gammas\\n\n",
    "        ValueError if number of qubits is less than 2      \n",
    "    \"\"\"\n",
    "    if len(gammas) < 1:\n",
    "        raise ValueError('number of gammas must be > 0, but is {}'.format(len(gammas)))\n",
    "    if len(betas) < 1:\n",
    "        raise ValueError('number of gammas must be > 0, but is {}'.format(len(betas)))\n",
    "    if len(betas) != len(gammas):\n",
    "        raise ValueError('number of gammas must be = number of betas')\n",
    "    if n_qubits < 2:\n",
    "        raise ValueError('number of qubits must be > 1, but is {}'.format(n_qubits))\n",
    "    evol_oper = qucs.n_qeye(n_qubits)\n",
    "    for i in range(len(gammas)):\n",
    "        u_mix_hamilt_i = (-complex(0,betas[i])*qaoa.mix_hamilt(n_qubits)).expm()\n",
    "        u_prob_hamilt_i = (-complex(0,gammas[i])*prob_hamilt_ising(n_qubits, edges, bin_prob_dist)).expm()\n",
    "        evol_oper = u_mix_hamilt_i*u_prob_hamilt_i*evol_oper\n",
    "    return evol_oper"
   ]
  },
  {
   "cell_type": "code",
   "execution_count": 67,
   "id": "spoken-plastic",
   "metadata": {},
   "outputs": [],
   "source": [
    "def single_qubit_measurement_ising(qstate, qubit_pos):\n",
    "    n_qubits = len(qstate.dims[0])\n",
    "    if qstate.dims[1][0] == 1:\n",
    "        qstate = qu.ket2dm(qstate)\n",
    "    M_i = (qucs.n_proj0(n_qubits, qubit_pos)*qstate)\n",
    "    p0_i = M_i.tr()\n",
    "    #p1_i = (n_proj1(n_qubits, i)*dm_dummy).tr()\n",
    "    if np.random.random_sample() <= p0_i:\n",
    "        outcome = [1]\n",
    "        qstate = M_i/p0_i\n",
    "    else:\n",
    "        outcome = [-1]\n",
    "        qstate = (qucs.n_proj1(n_qubits, qubit_pos)*qstate)/(1-p0_i)\n",
    "    return outcome, qstate"
   ]
  },
  {
   "cell_type": "code",
   "execution_count": 68,
   "id": "seventh-extension",
   "metadata": {},
   "outputs": [],
   "source": [
    "def quantum_measurements_ising(n_samples, qstate):\n",
    "    \"\"\"\n",
    "    This method simulates n_samples quantum computational basis measurements \n",
    "        on a composite system by obtaining, for each sampling, a bit string \n",
    "        correspondign to the camputational basis state of the Hilbert space the \n",
    "        state belongs to.\n",
    "    \n",
    "    Parameters\n",
    "    ----------\n",
    "    n_samples : int\n",
    "        number of samplings want to be executed on the quantum state.\n",
    "    qstate : Qobj\n",
    "        pure state or density matrix of a n-qubits state.\n",
    "\n",
    "    Returns\n",
    "    -------\n",
    "    outcomes : list \n",
    "        list of outcomes, stored as bit-strings.\n",
    "    \"\"\"\n",
    "    n_qubits = len(qstate.dims[0])\n",
    "    if qstate.dims[1][0] == 1:\n",
    "        qstate = qu.ket2dm(qstate)\n",
    "    outcomes = []\n",
    "    for j in range(n_samples):\n",
    "        outcome = []\n",
    "        qstate_dummy = qstate.copy()\n",
    "        for i in range(n_qubits):\n",
    "            outcome_i, qstate_dummy = single_qubit_measurement_ising(qstate_dummy, i)\n",
    "            outcome += outcome_i\n",
    "        outcomes.append(outcome)\n",
    "    return outcomes"
   ]
  },
  {
   "cell_type": "code",
   "execution_count": 129,
   "id": "ambient-thousand",
   "metadata": {},
   "outputs": [],
   "source": [
    "def evaluate_energy_p(params, n_qubits, edges, bin_prob_dist,n_samples):\n",
    "    \"\"\"\n",
    "    This method perform n quantum measurements on final state and evaluate F_p\n",
    "    through classical mean of the outcomes\n",
    "\n",
    "    Parameters\n",
    "    ----------\n",
    "    params : 1-D array-like\n",
    "        array of parameters [gamma_1, gamma_2, ..., gamma_p, beta_1, beta_2, ..., beta_p].\n",
    "    n_qubits : int\n",
    "        number of qubits of the state.\n",
    "    edges : list of tuples\n",
    "        edges of the graph.\n",
    "    n_samples : int\n",
    "        number of quantum measurements performed.\n",
    "\n",
    "    Returns\n",
    "    -------\n",
    "    F_p: float\n",
    "        expectation value of the cost function\n",
    "\n",
    "    \"\"\"\n",
    "    gammas = params[:int(len(list(params))/2)]\n",
    "    betas = params[int(len(list(params))/2):]\n",
    "    \n",
    "    # initial state (as density matrix):\n",
    "    #dm_init_state = qu.ket2dm(initial_state(n_qubits))\n",
    "    init_state = qaoa.initial_state(n_qubits)\n",
    "    #obtain final state\n",
    "    #dm_fin_state = evolution_operator(n_qubits, edges, gammas, betas)*dm_init_state*evolution_operator(n_qubits, edges, gammas, betas).dag()\n",
    "    fin_state = (evolution_operator_ising(n_qubits, edges, gammas, betas, bin_prob_dist)*init_state)\n",
    "    \n",
    "    #Perform N measurements on each single qubit of final state\n",
    "    outcomes = quantum_measurements_ising(n_samples, fin_state)\n",
    "    occurrencies = []\n",
    "    for outcome in outcomes:\n",
    "        occurrencies.append((outcomes.count(outcome), outcome))\n",
    "    \n",
    "    #Evaluate Fp\n",
    "    Ep = 0\n",
    "    for occurrency in occurrencies:\n",
    "        Ep += occurrency[0]*evaluate_energy_ising(occurrency[1], edges, bin_prob_dist)\n",
    "    return Ep/n_samples"
   ]
  },
  {
   "cell_type": "code",
   "execution_count": 133,
   "id": "increased-firmware",
   "metadata": {},
   "outputs": [],
   "source": [
    "def evaluate_magnetization_p(params, n_qubits, edges, bin_prob_dist, n_samples):\n",
    "    \"\"\"\n",
    "    This method perform n quantum measurements on final state and evaluate F_p\n",
    "    through classical mean of the outcomes\n",
    "\n",
    "    Parameters\n",
    "    ----------\n",
    "    params : 1-D array-like\n",
    "        array of parameters [gamma_1, gamma_2, ..., gamma_p, beta_1, beta_2, ..., beta_p].\n",
    "    n_qubits : int\n",
    "        number of qubits of the state.\n",
    "    edges : list of tuples\n",
    "        edges of the graph.\n",
    "    bin_prob_dist: list\n",
    "        binary prob dist of type of links\n",
    "    n_samples : int\n",
    "        number of quantum measurements performed.\n",
    "\n",
    "    Returns\n",
    "    -------\n",
    "    M_p: float\n",
    "        expectation value of the cost function\n",
    "\n",
    "    \"\"\"\n",
    "    gammas = params[:int(len(list(params))/2)]\n",
    "    betas = params[int(len(list(params))/2):]\n",
    "    \n",
    "    # initial state (as density matrix):\n",
    "    #dm_init_state = qu.ket2dm(initial_state(n_qubits))\n",
    "    init_state = qaoa.initial_state(n_qubits)\n",
    "    #obtain final state\n",
    "    #dm_fin_state = evolution_operator(n_qubits, edges, gammas, betas)*dm_init_state*evolution_operator(n_qubits, edges, gammas, betas).dag()\n",
    "    fin_state = (evolution_operator_ising(n_qubits, edges, gammas, betas, bin_prob_dist)*init_state)\n",
    "    \n",
    "    #Perform N measurements on each single qubit of final state\n",
    "    outcomes = quantum_measurements_ising(n_samples, fin_state)\n",
    "    occurrencies = []\n",
    "    for outcome in outcomes:\n",
    "        occurrencies.append((outcomes.count(outcome), outcome))\n",
    "    \n",
    "    #Evaluate Fp\n",
    "    Mp = 0\n",
    "    for occurrency in occurrencies:\n",
    "        Mp += occurrency[0]*evaluate_magnetization_ising(occurrency[1])\n",
    "    return Mp/n_samples"
   ]
  },
  {
   "cell_type": "markdown",
   "id": "completed-concord",
   "metadata": {},
   "source": [
    "## 1 Parameters optimization"
   ]
  },
  {
   "cell_type": "markdown",
   "id": "joint-equipment",
   "metadata": {},
   "source": [
    "## 1.1 Choose QAOA level and pick initial parameters"
   ]
  },
  {
   "cell_type": "code",
   "execution_count": 108,
   "id": "fourth-station",
   "metadata": {},
   "outputs": [],
   "source": [
    "n_levels = 1"
   ]
  },
  {
   "cell_type": "raw",
   "id": "compressed-china",
   "metadata": {},
   "source": [
    "init_params = 0.01*np.random.rand(2, n_levels)\n",
    "gammas = init_params[0]\n",
    "betas = init_params[1]"
   ]
  },
  {
   "cell_type": "code",
   "execution_count": 109,
   "id": "opened-three",
   "metadata": {},
   "outputs": [],
   "source": [
    "list_init_params = 0.5*np.random.rand(2*n_levels)\n",
    "list_init_gammas = list_init_params[:n_levels]\n",
    "list_init_betas = list_init_params[n_levels:]"
   ]
  },
  {
   "cell_type": "markdown",
   "id": "thick-currency",
   "metadata": {},
   "source": [
    "## 1.2 Generate initial state"
   ]
  },
  {
   "cell_type": "markdown",
   "id": "mature-monte",
   "metadata": {},
   "source": [
    "${\\large |s\\rangle = \\sum_{z \\, \\in \\, \\{0,1\\}^n}^{}{|z\\rangle} = |+\\rangle^{\\otimes n}}$"
   ]
  },
  {
   "cell_type": "code",
   "execution_count": 110,
   "id": "facial-profit",
   "metadata": {},
   "outputs": [],
   "source": [
    "# initial state:\n",
    "init_state = qaoa.initial_state(n_qubits)\n",
    "#dm_init_state = qu.ket2dm(qaoa.initial_state(n_qubits))"
   ]
  },
  {
   "cell_type": "markdown",
   "id": "technical-freeware",
   "metadata": {},
   "source": [
    "## 1.3 Obtain final state"
   ]
  },
  {
   "cell_type": "markdown",
   "id": "original-drunk",
   "metadata": {},
   "source": [
    "${\\large |\\vec{\\gamma},\\vec{\\beta}\\rangle = U(B,\\beta_p)U(C,\\gamma_p)...U(B,\\beta_1)U(C,\\gamma_1)|s\\rangle}$"
   ]
  },
  {
   "cell_type": "raw",
   "id": "configured-cartridge",
   "metadata": {},
   "source": [
    "# obtain final state:\n",
    "optimal_params = optimal_params_scipy\n",
    "#optimal_params = optimal_parameters_Adam_fin_diff\n",
    "optimal_gammas = optimal_params[:n_levels]\n",
    "optimal_betas = optimal_params[n_levels:]\n",
    "fin_state = qaoa.evolution_operator(n_qubits, edges, optimal_gammas, optimal_betas)*init_state\n",
    "#dm_fin_state = qaoa.evolution_operator(n_qubits, edges, optimal_gammas, optimal_betas)*dm_init_state*qaoa.evolution_operator(n_qubits, edges, optimal_gammas, optimal_betas).dag()"
   ]
  },
  {
   "cell_type": "markdown",
   "id": "dependent-officer",
   "metadata": {},
   "source": [
    "##  1.4 Perform N-computational_basis measurements on $|\\vec{\\gamma},\\vec{\\beta}\\rangle$ and evaluate $F_p$"
   ]
  },
  {
   "cell_type": "markdown",
   "id": "connected-police",
   "metadata": {},
   "source": [
    "the idea is that, for each ($\\gamma,\\beta$), after each measurement I will obtain as outcome one of the elements of the computational basis: $\\{z : z \\in \\{ 0,1 \\}^n\\}$\n",
    "\n",
    "so, after N measurements, I will have each that each possible outcome $z_i$ has been obtained with occurency $w_i$, so $F_p$ will be evaluated as:\n",
    "\n",
    "$$F_p = \\frac{\\sum_{i}^{N}{w_iC(z_i)}}{\\sum_{i}^{N}{w_i}}$$"
   ]
  },
  {
   "cell_type": "raw",
   "id": "stuck-reducing",
   "metadata": {},
   "source": [
    "qu.expect(qaoa.prob_hamilt(n_qubits, edges), fin_state)"
   ]
  },
  {
   "cell_type": "code",
   "execution_count": 116,
   "id": "appreciated-alfred",
   "metadata": {},
   "outputs": [],
   "source": [
    "outcomes = quantum_measurements_ising(1000, init_state)\n",
    "dict_outcomes = {}\n",
    "for outcome in outcomes:\n",
    "    dict_outcomes[outcomes.count(outcome)] = outcome"
   ]
  },
  {
   "cell_type": "code",
   "execution_count": 124,
   "id": "dominican-medium",
   "metadata": {},
   "outputs": [],
   "source": [
    "for outcome in outcomes:\n",
    "    print(outcome, outcomes.count(outcome))\n",
    "    "
   ]
  },
  {
   "cell_type": "raw",
   "id": "opening-optimum",
   "metadata": {},
   "source": [
    "occurrencies = []\n",
    "for outcome in outcomes:\n",
    "    occurrencies.append((outcomes.count(outcome), outcome))"
   ]
  },
  {
   "cell_type": "raw",
   "id": "noticed-boring",
   "metadata": {},
   "source": [
    "occurrencies[1]"
   ]
  },
  {
   "cell_type": "code",
   "execution_count": 119,
   "id": "important-gallery",
   "metadata": {},
   "outputs": [],
   "source": [
    "all_outcomes = itertools.product([1,-1], repeat=n_qubits)"
   ]
  },
  {
   "cell_type": "raw",
   "id": "prime-brain",
   "metadata": {},
   "source": [
    "for i in all_outcomes:\n",
    "    print(i)"
   ]
  },
  {
   "cell_type": "raw",
   "id": "macro-solid",
   "metadata": {},
   "source": [
    "for w_i in dict_outcomes:\n",
    "    print(w_i, dict_outcomes[w_i])"
   ]
  },
  {
   "cell_type": "code",
   "execution_count": 131,
   "id": "guilty-conversion",
   "metadata": {},
   "outputs": [
    {
     "data": {
      "text/plain": [
       "-2.12"
      ]
     },
     "execution_count": 131,
     "metadata": {},
     "output_type": "execute_result"
    }
   ],
   "source": [
    "n_samples = 100\n",
    "#optimal_params = optimal_params_scipy\n",
    "#optimal_params = optimal_parameters_Adam_fin_diff\n",
    "E_p = evaluate_energy_p(list_init_params, n_qubits, edges, bin_prob_dist, n_samples)\n",
    "E_p"
   ]
  },
  {
   "cell_type": "code",
   "execution_count": 134,
   "id": "nasty-classification",
   "metadata": {},
   "outputs": [
    {
     "data": {
      "text/plain": [
       "-0.06"
      ]
     },
     "execution_count": 134,
     "metadata": {},
     "output_type": "execute_result"
    }
   ],
   "source": [
    "M_p = evaluate_magnetization_p(list_init_params, n_qubits, edges, bin_prob_dist, n_samples)\n",
    "M_p"
   ]
  },
  {
   "cell_type": "raw",
   "id": "rocky-uzbekistan",
   "metadata": {},
   "source": [
    "# plot probabilities of each state of the graph corresponding to every possible configuration after a cut\n",
    "plt.figure(figsize = (2**n_qubits/2.5,5))\n",
    "plt.xticks(rotation=45)\n",
    "plt.bar(dict_outcomes.values(), dict_outcomes.keys(),width = 0.5)"
   ]
  },
  {
   "cell_type": "markdown",
   "id": "green-wonder",
   "metadata": {},
   "source": [
    "### 1.5 Parameters update"
   ]
  },
  {
   "cell_type": "code",
   "execution_count": 139,
   "id": "surface-venue",
   "metadata": {},
   "outputs": [
    {
     "name": "stdout",
     "output_type": "stream",
     "text": [
      "in [0.08897426 0.00602018] with grad  [-88.   0.] objective after step     1:  0.0005630\n",
      "in [ 0.08897426 -0.01097982] with grad  [ 0. 17.] objective after step     2:  0.0496777\n",
      "in [ 0.07297426 -0.03097982] with grad  [16. 20.] objective after step     3: -0.0905836\n",
      "in [0.05297426 0.02602018] with grad  [ 20. -57.] objective after step     4: -0.2115272\n",
      "in [ 0.05297426 -0.01497982] with grad  [ 0. 41.] objective after step     5:  0.1304894\n",
      "optimal parameters are  [ 0.05297426 -0.01497982]\n"
     ]
    }
   ],
   "source": [
    "# perform M-steps for expectation value of the cost-function\n",
    "n_steps = 5\n",
    "n_levels = 1\n",
    "#parameters = np.array(0.5*np.random.random_sample(2*n_levels))\n",
    "parameters = 0.01*np.random.rand(2*n_levels)\n",
    "eta = 0.001 #con 0.01 si muove troppo lentamente, però con 0.1 oscilla troppo attorno al massimo\n",
    "H_P = prob_hamilt_ising(n_qubits, edges, bin_prob_dist)\n",
    "for i in range(n_steps):\n",
    "    g_t = qaoa.fin_diff_grad(evaluate_energy_p, parameters, args=(n_qubits, edges, bin_prob_dist, 100), increment=0.01)\n",
    "    gammas = parameters[:n_levels]\n",
    "    betas = parameters[n_levels:]\n",
    "    fin_state = evolution_operator_ising(n_qubits, edges, gammas, betas, bin_prob_dist)*init_state\n",
    "    E_p = qu.expect(H_P, fin_state)\n",
    "    parameters = parameters - eta*g_t\n",
    "    if (i + 1) % 1 == 0:\n",
    "            print('in', parameters, 'with grad ', g_t,  \"objective after step {:5d}: {: .7f}\".format(i + 1, E_p))\n",
    "optimal_parameters = parameters\n",
    "print('optimal parameters are ', optimal_parameters)"
   ]
  },
  {
   "cell_type": "raw",
   "id": "sporting-apache",
   "metadata": {},
   "source": [
    "#Adam\n",
    "#perform it for exp_F_1 (check if this method works properly for p=1 case)\n",
    "n_steps = 5\n",
    "#parameters = np.array(0.5*np.random.random_sample(2*n_levels)) #check how choose initial params, for pi*rand is too dispersive\n",
    "parameters = 0.01*np.random.rand(2*n_levels)\n",
    "\"\"\"\n",
    "parameters = np.zeros(2*n_levels) # method used in the paper\n",
    "for j in range(2*n_levels):\n",
    "    if j%2 == 0: #for H-p parameters\n",
    "        parameters[j] = j/(2*n_levels) #see SGD paper for reference\n",
    "    else:\n",
    "        parameters[j] = 1 - j/(2*n_levels) #see SDG paper\n",
    "\"\"\"\n",
    "beta_1 = 0.9\n",
    "beta_2 = 0.999\n",
    "epsilon = 1e-8\n",
    "m_t = np.zeros(2*n_levels)\n",
    "v_t = np.zeros(2*n_levels)\n",
    "t = 0\n",
    "H_P = prob_hamilt_ising(n_qubits, edges, bin_prob_dist)\n",
    "eta = 0.05 #works also for eta = 0.01, but increases very slowly, and 0.1 oscillates too much around max\n",
    "previous_g_t = np.zeros(2*n_levels)\n",
    "for i in range(n_steps):\n",
    "    g_t = qaoa.fin_diff_grad(evaluate_energy_p, parameters, args=(n_qubits, edges, bin_prob_dist, 100), increment=0.1)\n",
    "    gammas = parameters[:n_levels]\n",
    "    betas = parameters[n_levels:]\n",
    "    fin_state = evolution_operator_ising(n_qubits, edges, gammas, betas, bin_prob_dist)*init_state\n",
    "    E_p = qu.expect(H_P, fin_state)\n",
    "    #if (np.sign(g_t) == -np.sign(previous_g_t)).all() and (np.sign(g_t) == -np.sign(np.ones(2*n_levels))).all():\n",
    "        #break\n",
    "    #if (i + 1) % 1 == 0:\n",
    "    print('in', parameters, 'with grad ', g_t,  \"objective after step {:5d}: {: .7f}\".format(i + 1, E_p))\n",
    "    t = t+1\n",
    "    m_t = beta_1*m_t + (1-beta_1)*g_t\n",
    "    v_t = beta_2*v_t + (1-beta_2)*g_t**2\n",
    "    m_t_hat = m_t/(1-beta_1**t)\n",
    "    v_t_hat = v_t/(1-beta_2**t)\n",
    "    parameters = parameters + eta*m_t_hat/(np.sqrt(v_t_hat) + epsilon)\n",
    "    #previous_g_t = g_t\n",
    "optimal_parameters_Adam_fin_diff = parameters\n",
    "print('optimal parameters are ', optimal_parameters_Adam_fin_diff)#, 'and F_1 is', qaoa.analitic_F_1(optimal_parameters_Adam_fin_diff, graph, edges))"
   ]
  },
  {
   "cell_type": "raw",
   "id": "young-identifier",
   "metadata": {},
   "source": [
    "optimal parameters are  [-0.35664311  0.41426241] #after 30 steps of Adam, E_p = 2, M_p = -0.27, prob = 0.5"
   ]
  },
  {
   "cell_type": "code",
   "execution_count": 104,
   "id": "charged-escape",
   "metadata": {},
   "outputs": [
    {
     "data": {
      "text/plain": [
       "0.22"
      ]
     },
     "execution_count": 104,
     "metadata": {},
     "output_type": "execute_result"
    }
   ],
   "source": [
    "n_samples = 100\n",
    "#optimal_params = optimal_params_scipy\n",
    "optimal_params = optimal_parameters_Adam_fin_diff\n",
    "E_p = evaluate_energy_p(optimal_params, n_qubits, edges, bin_prob_dist, n_samples)\n",
    "E_p"
   ]
  },
  {
   "cell_type": "code",
   "execution_count": 105,
   "id": "amateur-treasury",
   "metadata": {},
   "outputs": [
    {
     "data": {
      "text/plain": [
       "0.1"
      ]
     },
     "execution_count": 105,
     "metadata": {},
     "output_type": "execute_result"
    }
   ],
   "source": [
    "M_p = evaluate_magnetization_p(optimal_params, n_qubits, edges, bin_prob_dist, n_samples)\n",
    "M_p"
   ]
  },
  {
   "cell_type": "code",
   "execution_count": null,
   "id": "intended-scenario",
   "metadata": {},
   "outputs": [],
   "source": []
  }
 ],
 "metadata": {
  "kernelspec": {
   "display_name": "Python 3",
   "language": "python",
   "name": "python3"
  },
  "language_info": {
   "codemirror_mode": {
    "name": "ipython",
    "version": 3
   },
   "file_extension": ".py",
   "mimetype": "text/x-python",
   "name": "python",
   "nbconvert_exporter": "python",
   "pygments_lexer": "ipython3",
   "version": "3.8.5"
  }
 },
 "nbformat": 4,
 "nbformat_minor": 5
}

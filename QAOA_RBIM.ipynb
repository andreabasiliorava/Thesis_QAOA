{
 "cells": [
  {
   "cell_type": "markdown",
   "id": "appropriate-creek",
   "metadata": {},
   "source": [
    "# QAOA for random bond Ising model (RBIM)"
   ]
  },
  {
   "cell_type": "code",
   "execution_count": 1,
   "id": "tracked-advocacy",
   "metadata": {},
   "outputs": [],
   "source": [
    "import qaoa\n",
    "import qucompsys as qucs\n",
    "import graphs as gr\n",
    "import qutip as qu\n",
    "import numpy as np\n",
    "import matplotlib.pyplot as plt\n",
    "from   matplotlib import cm\n",
    "from   matplotlib.ticker import LinearLocator, FormatStrFormatter\n",
    "import networkx as nx\n",
    "from   networkx.generators.random_graphs import erdos_renyi_graph\n",
    "import configparser\n",
    "import scipy\n",
    "import itertools\n",
    "from collections import Counter\n",
    "\n",
    "import importlib\n",
    "importlib.reload(qaoa)\n",
    "importlib.reload(qucs)\n",
    "\n",
    "%matplotlib inline\n",
    "%config InlineBackened.figure_format = 'svg'"
   ]
  },
  {
   "cell_type": "markdown",
   "id": "close-bloom",
   "metadata": {},
   "source": [
    "##  0 Define the graph"
   ]
  },
  {
   "cell_type": "code",
   "execution_count": 2,
   "id": "coral-consumer",
   "metadata": {},
   "outputs": [],
   "source": [
    "# grid graph\n",
    "n_nodes = 4\n",
    "nodes = np.arange(0, n_nodes, 1)\n",
    "edges = [(0, 1), (1, 2), (2, 3), (3, 0)]"
   ]
  },
  {
   "cell_type": "code",
   "execution_count": 168,
   "id": "biblical-massage",
   "metadata": {},
   "outputs": [],
   "source": [
    "# grid graph\n",
    "n_nodes = 9\n",
    "nodes = np.arange(0, n_nodes, 1)\n",
    "edges = [(0, 1), (0,3), (1, 2), (1, 4), (2, 5), (3,4), (3,6), (4, 5), (4, 7), (5,8), (6, 7), (7, 8)]"
   ]
  },
  {
   "cell_type": "code",
   "execution_count": 3,
   "id": "naughty-pollution",
   "metadata": {},
   "outputs": [],
   "source": [
    "n_qubits = n_nodes\n",
    "graph = nx.Graph()\n",
    "graph.add_nodes_from(nodes)\n",
    "graph.add_edges_from(edges)\n",
    "edges = list(graph.edges)"
   ]
  },
  {
   "cell_type": "markdown",
   "id": "charming-avatar",
   "metadata": {},
   "source": [
    "### 0.1 plot the graph"
   ]
  },
  {
   "cell_type": "code",
   "execution_count": 4,
   "id": "armed-bullet",
   "metadata": {},
   "outputs": [
    {
     "data": {
      "image/png": "[encoded data removed]",
      "text/plain": [
       "<Figure size 504x504 with 1 Axes>"
      ]
     },
     "metadata": {},
     "output_type": "display_data"
    }
   ],
   "source": [
    "fig = plt.figure(figsize = (7,7))\n",
    "colors = ['r' for node in graph.nodes()]\n",
    "pos = nx.planar_layout(graph)\n",
    "graph_drawing = nx.draw_networkx(graph, node_color=colors, node_size=200, pos = None, alpha=1, with_labels=True)\n",
    "plt.show()"
   ]
  },
  {
   "cell_type": "markdown",
   "id": "abroad-reply",
   "metadata": {},
   "source": [
    "## 1 choose probability"
   ]
  },
  {
   "cell_type": "code",
   "execution_count": 5,
   "id": "rural-ceiling",
   "metadata": {},
   "outputs": [
    {
     "data": {
      "text/plain": [
       "array([1, 1, 1, 1])"
      ]
     },
     "execution_count": 5,
     "metadata": {},
     "output_type": "execute_result"
    }
   ],
   "source": [
    "prob = 1 #prbability 0.5 < prob < 1 that the site is ferromagnetic (all 1 or -1), expect phase-transistion at p = 0.88\n",
    "\n",
    "bin_prob_dist = np.random.binomial(1, prob, size=(len(edges),)) # 1 for ferromagnetic link\n",
    "\n",
    "bin_prob_dist"
   ]
  },
  {
   "cell_type": "code",
   "execution_count": 6,
   "id": "prepared-cattle",
   "metadata": {},
   "outputs": [
    {
     "data": {
      "text/plain": [
       "array([1, 1, 1, 1])"
      ]
     },
     "execution_count": 6,
     "metadata": {},
     "output_type": "execute_result"
    }
   ],
   "source": [
    "for i, link in enumerate (bin_prob_dist):\n",
    "    if link == 0:\n",
    "        bin_prob_dist[i] = -1\n",
    "bin_prob_dist"
   ]
  },
  {
   "cell_type": "markdown",
   "id": "printable-comparative",
   "metadata": {},
   "source": [
    "## 2 Define needed functions"
   ]
  },
  {
   "cell_type": "code",
   "execution_count": 7,
   "id": "severe-nightlife",
   "metadata": {},
   "outputs": [],
   "source": [
    "def evaluate_energy_ising(list_z, edges, bin_prob_dist, coupling_const=1):\n",
    "    \"\"\"This method evaluates the object function of the RBIM\n",
    "    Parameters\n",
    "        z_str : input bit string\n",
    "        edges : edges of the graph\n",
    "    Returns\n",
    "        the integer value the object function\"\"\"\n",
    "    energy = 0\n",
    "    for i, edge in enumerate(edges):\n",
    "        energy += -bin_prob_dist[i]*list_z[edge[0]]*list_z[edge[1]]\n",
    "    return coupling_const*energy"
   ]
  },
  {
   "cell_type": "code",
   "execution_count": 8,
   "id": "drawn-richardson",
   "metadata": {},
   "outputs": [
    {
     "name": "stdout",
     "output_type": "stream",
     "text": [
      "(1, 1, 1, 1) -4\n",
      "(1, 1, 1, -1) 0\n",
      "(1, 1, -1, 1) 0\n",
      "(1, 1, -1, -1) 0\n",
      "(1, -1, 1, 1) 0\n",
      "(1, -1, 1, -1) 4\n",
      "(1, -1, -1, 1) 0\n",
      "(1, -1, -1, -1) 0\n",
      "(-1, 1, 1, 1) 0\n",
      "(-1, 1, 1, -1) 0\n",
      "(-1, 1, -1, 1) 4\n",
      "(-1, 1, -1, -1) 0\n",
      "(-1, -1, 1, 1) 0\n",
      "(-1, -1, 1, -1) 0\n",
      "(-1, -1, -1, 1) 0\n",
      "(-1, -1, -1, -1) -4\n"
     ]
    }
   ],
   "source": [
    "all_outcomes = itertools.product([1,-1], repeat=n_qubits)\n",
    "for outcome in all_outcomes:\n",
    "    print(outcome, evaluate_energy_ising(outcome, edges, bin_prob_dist))"
   ]
  },
  {
   "cell_type": "code",
   "execution_count": 9,
   "id": "smooth-concert",
   "metadata": {},
   "outputs": [],
   "source": [
    "def evaluate_magnetization_ising(list_z):\n",
    "    \"\"\"This method evaluates the object function of the RBIM\n",
    "    Parameters\n",
    "        z_str : input bit string\n",
    "        edges : edges of the graph\n",
    "    Returns\n",
    "        the integer value the object function\"\"\"\n",
    "\n",
    "    return sum(list_z)"
   ]
  },
  {
   "cell_type": "raw",
   "id": "possible-shelter",
   "metadata": {},
   "source": [
    "all_outcomes = itertools.product([1,-1], repeat=n_qubits)\n",
    "for outcome in all_outcomes:\n",
    "    print(outcome, evaluate_magnetization_ising(outcome))"
   ]
  },
  {
   "cell_type": "raw",
   "id": "correct-subject",
   "metadata": {},
   "source": [
    "evaluate_energy([1,1,1,1,1,1,1,1,1], edges, bin_prob_dist)"
   ]
  },
  {
   "cell_type": "markdown",
   "id": "accessory-dealer",
   "metadata": {},
   "source": [
    "for prob=1 (all links are ferromagnetics), we have that $H = -J\\sum_{<u,v>}Z_uZ_v$, and we know that it's analitical expression is:\n",
    "\n",
    "$$E_1(\\gamma,\\beta) = \\langle H_{Ising} \\rangle = \\sum_{<u,v>} C_{<u,v>} = \\sum_{<u,v>} \n",
    "+ \\frac{1}{2} (sin4\\beta sin2\\gamma)(cos^{d_u}\\gamma + cos^{d_v}\\gamma) - \\frac{1}{2}(sin^2\\beta cos^{d_u + d_v - 2\\lambda_{uv}}\\gamma)(1-cos^{\\lambda_{uv}}2\\gamma)$$"
   ]
  },
  {
   "cell_type": "code",
   "execution_count": 10,
   "id": "spanish-shanghai",
   "metadata": {},
   "outputs": [],
   "source": [
    "def analitic_E_1(parameters, graph, edges):\n",
    "    f_1 = 0\n",
    "    gamma = parameters[0]\n",
    "    beta = parameters[1]\n",
    "    for edge in edges:\n",
    "        degree_u = gr.node_degree(graph, edge[0])\n",
    "        degree_v = gr.node_degree(graph, edge[1])\n",
    "        lambda_uv = gr.common_neighbours(graph, edge[0], edge[1])\n",
    "        c_uv = +0.5*np.sin(4*beta)*np.sin(gamma)*(np.cos(gamma)**(degree_u-1) + np.cos(gamma)**(degree_v-1))\n",
    "        -0.5*np.sin(beta)**2*np.cos(gamma)**(degree_u+degree_v-2-2*lambda_uv)*(1-np.cos(2*gamma)**lambda_uv)\n",
    "        f_1 += c_uv\n",
    "    return f_1"
   ]
  },
  {
   "cell_type": "code",
   "execution_count": 11,
   "id": "incoming-block",
   "metadata": {},
   "outputs": [
    {
     "data": {
      "text/plain": [
       " final_simplex: (array([[ 0.78536687, -0.39267054],\n",
       "       [ 0.78529206, -0.39268441],\n",
       "       [ 0.78543974, -0.39276145]]), array([-1.99999998, -1.99999995, -1.99999993]))\n",
       "           fun: -1.9999999830459168\n",
       "       message: 'Optimization terminated successfully.'\n",
       "          nfev: 122\n",
       "           nit: 65\n",
       "        status: 0\n",
       "       success: True\n",
       "             x: array([ 0.78536687, -0.39267054])"
      ]
     },
     "execution_count": 11,
     "metadata": {},
     "output_type": "execute_result"
    }
   ],
   "source": [
    "scipy.optimize.minimize(analitic_E_1, [0.0, 0.0], args = (graph, edges), method='Nelder-Mead')"
   ]
  },
  {
   "cell_type": "code",
   "execution_count": 12,
   "id": "spectacular-shadow",
   "metadata": {},
   "outputs": [],
   "source": [
    "optimal_params_scipy = scipy.optimize.minimize(analitic_E_1, [0.0, 0.0], args = (graph, edges), method='Nelder-Mead')['x']\n",
    "optimal_gamma_scipy = optimal_params_scipy[0]\n",
    "optimal_beta_scipy = optimal_params_scipy[1]"
   ]
  },
  {
   "cell_type": "code",
   "execution_count": 13,
   "id": "center-train",
   "metadata": {},
   "outputs": [],
   "source": [
    "step_size = 0.01\n",
    "a_gamma_iter         = np.arange(-np.pi/2, np.pi/2, step_size)\n",
    "a_beta_iter          = np.arange(-np.pi/4, np.pi/4, step_size)\n",
    "grid_gammas_betas_iter = list(itertools.product(a_gamma_iter, a_beta_iter))\n",
    "grid_F_1_iter = []\n",
    "for par_iter in grid_gammas_betas_iter:\n",
    "    grid_F_1_iter.append(analitic_E_1(np.reshape(par_iter, (2,1)), graph, edges))"
   ]
  },
  {
   "cell_type": "code",
   "execution_count": 14,
   "id": "large-criminal",
   "metadata": {},
   "outputs": [],
   "source": [
    "optimal_gamma_iter  = grid_gammas_betas_iter[grid_F_1_iter.index(min(grid_F_1_iter))][0]\n",
    "optimal_beta_iter  = grid_gammas_betas_iter[grid_F_1_iter.index(min(grid_F_1_iter))][1]"
   ]
  },
  {
   "cell_type": "code",
   "execution_count": 15,
   "id": "laughing-processor",
   "metadata": {},
   "outputs": [
    {
     "data": {
      "image/png": "[encoded data removed]",
      "text/plain": [
       "<Figure size 720x720 with 1 Axes>"
      ]
     },
     "metadata": {
      "needs_background": "light"
     },
     "output_type": "display_data"
    },
    {
     "name": "stdout",
     "output_type": "stream",
     "text": [
      "\n",
      " --- OPTIMAL PARAMETERS --- \n",
      "\n",
      "The maximal expectation value is:  F_1 = -2.000\n",
      "where the min E is  -4\n",
      "This is attained for gamma = -0.781 and beta = 0.395\n"
     ]
    }
   ],
   "source": [
    "# Plot the expetation value grid_f_1\n",
    "fig = plt.figure(figsize = (10,10))\n",
    "ax  = fig.gca(projection='3d')\n",
    "\n",
    "\n",
    "y_axis, x_axis = np.meshgrid(a_beta_iter, a_gamma_iter)\n",
    "z_axis = np.reshape(np.array(grid_F_1_iter), y_axis.shape)\n",
    "surf = ax.plot_surface(x_axis, y_axis, z_axis, cmap=cm.coolwarm, linewidth=0, antialiased=True)\n",
    "surf = ax.plot_surface(x_axis, y_axis, z_axis, cmap=cm.coolwarm, linewidth=0, antialiased=True)\n",
    "\n",
    "min_energy = evaluate_energy_ising([1,1,1,1], edges, bin_prob_dist)\n",
    "ax.set_zlim(min_energy, -min_energy)\n",
    "ax.zaxis.set_major_locator(LinearLocator(3))\n",
    "ax.zaxis.set_major_formatter(FormatStrFormatter('%.02f'))\n",
    "ax.set_ylabel('beta')\n",
    "ax.set_xlabel('gamma')\n",
    "ax.set_zlabel('F1')\n",
    "\n",
    "plt.show()\n",
    "\n",
    "#The smallest parameters and the expectation can be extracted\n",
    "print('\\n --- OPTIMAL PARAMETERS --- \\n')\n",
    "print('The maximal expectation value is:  F_1 = %.03f' % np.amin(z_axis))\n",
    "print('where the min E is ', min_energy)\n",
    "print('This is attained for gamma = %.03f and beta = %.03f' % (optimal_gamma_iter, optimal_beta_iter))"
   ]
  },
  {
   "cell_type": "code",
   "execution_count": 17,
   "id": "cognitive-summary",
   "metadata": {},
   "outputs": [],
   "source": [
    "def prob_hamilt_ising(n_qubits, edges, bin_prob_dist, coupling_const=1):\n",
    "    \"\"\"This method generates a tensor that apply the problem hamiltonian of the\n",
    "        RBIM problem on a state of n-qubits\\n\n",
    "    Parameters:\\n\n",
    "        n_qubits: number of vertices of the graph\n",
    "        edges: list of tuples corresponding to the edges of the graph\\n\n",
    "    Returns:\\n\n",
    "        a tensor that apply the problem hamiltonian to a n-qubits state\\n\n",
    "    Raise:\\n\n",
    "        ValueError if number of qubits is less than 2\"\"\"\n",
    "    if n_qubits < 2:\n",
    "        raise ValueError('number of qubits must be > 1, but is {}'.format(n_qubits))\n",
    "    list_double_sigmaz = []\n",
    "    for i, edge in enumerate(edges):\n",
    "        list_double_sigmaz.append(\n",
    "            qucs.n_sigmaz(n_qubits,edge[0])*qucs.n_sigmaz(n_qubits,edge[1])#*bin_prob_dist[i]\n",
    "            ) \n",
    "    return -sum(list_double_sigmaz)*coupling_const"
   ]
  },
  {
   "cell_type": "raw",
   "id": "later-grave",
   "metadata": {},
   "source": [
    "for i, edge in enumerate(edges):\n",
    "    print(i, edge)"
   ]
  },
  {
   "cell_type": "raw",
   "id": "private-sailing",
   "metadata": {},
   "source": [
    "prob_hamilt_ising(n_qubits, edges, bin_prob_dist)"
   ]
  },
  {
   "cell_type": "code",
   "execution_count": 52,
   "id": "minute-motel",
   "metadata": {},
   "outputs": [],
   "source": [
    "def evolution_operator_ising(n_qubits, edges, gammas, betas, bin_prob_dist):\n",
    "    if len(gammas) < 1:\n",
    "        raise ValueError('number of gammas must be > 0, but is {}'.format(len(gammas)))\n",
    "    if len(betas) < 1:\n",
    "        raise ValueError('number of gammas must be > 0, but is {}'.format(len(betas)))\n",
    "    if len(betas) != len(gammas):\n",
    "        raise ValueError('number of gammas must be = number of betas')\n",
    "    if n_qubits < 2:\n",
    "        raise ValueError('number of qubits must be > 1, but is {}'.format(n_qubits))\n",
    "    evol_oper = qucs.n_qeye(n_qubits)\n",
    "    for i in range(len(gammas)):\n",
    "        u_mix_hamilt_i = (-complex(0,betas[i])*qaoa.mix_hamilt(n_qubits)).expm()\n",
    "        #u_prob_hamilt_i = (-complex(0,gammas[i])*qaoa.prob_hamilt(n_qubits, edges)).expm()\n",
    "        u_prob_hamilt_i = (-complex(0,gammas[i])*prob_hamilt_ising(n_qubits, edges, bin_prob_dist)).expm()\n",
    "        evol_oper = u_mix_hamilt_i*u_prob_hamilt_i*evol_oper\n",
    "    return evol_oper"
   ]
  },
  {
   "cell_type": "code",
   "execution_count": 19,
   "id": "utility-current",
   "metadata": {},
   "outputs": [],
   "source": [
    "def single_qubit_measurement_ising(qstate, qubit_pos):\n",
    "    n_qubits = len(qstate.dims[0])\n",
    "    if qstate.dims[1][0] == 1:\n",
    "        qstate = qu.ket2dm(qstate)\n",
    "    M_i = (qucs.n_proj0(n_qubits, qubit_pos)*qstate)\n",
    "    p0_i = M_i.tr()\n",
    "    #p1_i = (n_proj1(n_qubits, i)*dm_dummy).tr()\n",
    "    if np.random.random_sample() <= p0_i:\n",
    "        outcome = [1]\n",
    "        qstate = M_i/p0_i\n",
    "    else:\n",
    "        outcome = [-1]\n",
    "        qstate = (qucs.n_proj1(n_qubits, qubit_pos)*qstate)/(1-p0_i)\n",
    "    return outcome, qstate"
   ]
  },
  {
   "cell_type": "code",
   "execution_count": 20,
   "id": "canadian-intelligence",
   "metadata": {},
   "outputs": [],
   "source": [
    "def quantum_measurements_ising(n_samples, qstate):\n",
    "    \"\"\"\n",
    "    This method simulates n_samples quantum computational basis measurements \n",
    "        on a composite system by obtaining, for each sampling, a bit string \n",
    "        correspondign to the camputational basis state of the Hilbert space the \n",
    "        state belongs to.\n",
    "    \n",
    "    Parameters\n",
    "    ----------\n",
    "    n_samples : int\n",
    "        number of samplings want to be executed on the quantum state.\n",
    "    qstate : Qobj\n",
    "        pure state or density matrix of a n-qubits state.\n",
    "\n",
    "    Returns\n",
    "    -------\n",
    "    outcomes : list \n",
    "        list of outcomes, stored as bit-strings.\n",
    "    \"\"\"\n",
    "    n_qubits = len(qstate.dims[0])\n",
    "    if qstate.dims[1][0] == 1:\n",
    "        qstate = qu.ket2dm(qstate)\n",
    "    outcomes = []\n",
    "    for j in range(n_samples):\n",
    "        outcome = []\n",
    "        qstate_dummy = qstate.copy()\n",
    "        for i in range(n_qubits):\n",
    "            outcome_i, qstate_dummy = single_qubit_measurement_ising(qstate_dummy, i)\n",
    "            outcome += outcome_i\n",
    "        outcomes.append(outcome)\n",
    "    return outcomes"
   ]
  },
  {
   "cell_type": "code",
   "execution_count": 51,
   "id": "social-expense",
   "metadata": {},
   "outputs": [],
   "source": [
    "def evaluate_energy_p(params, n_qubits, edges, bin_prob_dist, n_samples):\n",
    "    \"\"\"\n",
    "    This method perform n quantum measurements on final state and evaluate F_p\n",
    "    through classical mean of the outcomes\n",
    "\n",
    "    Parameters\n",
    "    ----------\n",
    "    params : 1-D array-like\n",
    "        array of parameters [gamma_1, gamma_2, ..., gamma_p, beta_1, beta_2, ..., beta_p].\n",
    "    n_qubits : int\n",
    "        number of qubits of the state.\n",
    "    edges : list of tuples\n",
    "        edges of the graph.\n",
    "    n_samples : int\n",
    "        number of quantum measurements performed.\n",
    "\n",
    "    Returns\n",
    "    -------\n",
    "    F_p: float\n",
    "        expectation value of the cost function\n",
    "\n",
    "    \"\"\"\n",
    "    gammas = params[:int(len(list(params))/2)]\n",
    "    betas = params[int(len(list(params))/2):]\n",
    "    \n",
    "    # initial state (as density matrix):\n",
    "    #dm_init_state = qu.ket2dm(initial_state(n_qubits))\n",
    "    init_state = qaoa.initial_state(n_qubits)\n",
    "    #obtain final state\n",
    "    #dm_fin_state = evolution_operator(n_qubits, edges, gammas, betas)*dm_init_state*evolution_operator(n_qubits, edges, gammas, betas).dag()\n",
    "    fin_state = evolution_operator_ising(n_qubits, edges, gammas, betas, bin_prob_dist)*init_state\n",
    "    #fin_state = qaoa.evolution_operator(n_qubits, edges, gammas, betas)*init_state\n",
    "\n",
    "    \n",
    "    #Perform N measurements on each single qubit of final state\n",
    "    outcomes = quantum_measurements_ising(100, fin_state)\n",
    "    dict_outcomes = {}\n",
    "    for outcome in outcomes:\n",
    "        dict_outcomes[tuple(outcome)] = outcomes.count(outcome)\n",
    "    \n",
    "    #Evaluate Fp\n",
    "    Ep = 0\n",
    "    for outcome_w in dict_outcomes:\n",
    "        Ep += dict_outcomes[outcome_w]*evaluate_energy_ising(outcome_w, edges, bin_prob_dist)\n",
    "    return Ep/n_samples"
   ]
  },
  {
   "cell_type": "code",
   "execution_count": 22,
   "id": "complete-shelf",
   "metadata": {},
   "outputs": [],
   "source": [
    "def evaluate_magnetization_p(params, n_qubits, edges, bin_prob_dist, n_samples):\n",
    "    \"\"\"\n",
    "    This method perform n quantum measurements on final state and evaluate F_p\n",
    "    through classical mean of the outcomes\n",
    "\n",
    "    Parameters\n",
    "    ----------\n",
    "    params : 1-D array-like\n",
    "        array of parameters [gamma_1, gamma_2, ..., gamma_p, beta_1, beta_2, ..., beta_p].\n",
    "    n_qubits : int\n",
    "        number of qubits of the state.\n",
    "    edges : list of tuples\n",
    "        edges of the graph.\n",
    "    bin_prob_dist: list\n",
    "        binary prob dist of type of links\n",
    "    n_samples : int\n",
    "        number of quantum measurements performed.\n",
    "\n",
    "    Returns\n",
    "    -------\n",
    "    M_p: float\n",
    "        expectation value of the cost function\n",
    "\n",
    "    \"\"\"\n",
    "    gammas = params[:int(len(list(params))/2)]\n",
    "    betas = params[int(len(list(params))/2):]\n",
    "    \n",
    "    # initial state (as density matrix):\n",
    "    #dm_init_state = qu.ket2dm(initial_state(n_qubits))\n",
    "    init_state = qaoa.initial_state(n_qubits)\n",
    "    #obtain final state\n",
    "    #dm_fin_state = evolution_operator(n_qubits, edges, gammas, betas)*dm_init_state*evolution_operator(n_qubits, edges, gammas, betas).dag()\n",
    "    fin_state = (evolution_operator_ising(n_qubits, edges, gammas, betas, bin_prob_dist)*init_state)\n",
    "    \n",
    "    #Perform N measurements on each single qubit of final state\n",
    "    outcomes = quantum_measurements_ising(n_samples, fin_state)\n",
    "    occurrencies = []\n",
    "    for outcome in outcomes:\n",
    "        occurrencies.append((outcomes.count(outcome), outcome))\n",
    "    \n",
    "    #Evaluate Fp\n",
    "    Mp = 0\n",
    "    for occurrency in occurrencies:\n",
    "        Mp += occurrency[0]*evaluate_magnetization_ising(occurrency[1])\n",
    "    return Mp/n_samples"
   ]
  },
  {
   "cell_type": "markdown",
   "id": "rubber-perspective",
   "metadata": {},
   "source": [
    "## 1 Parameters optimization"
   ]
  },
  {
   "cell_type": "markdown",
   "id": "ancient-found",
   "metadata": {},
   "source": [
    "## 1.1 Choose QAOA level and pick initial parameters"
   ]
  },
  {
   "cell_type": "code",
   "execution_count": 23,
   "id": "impressed-beaver",
   "metadata": {},
   "outputs": [],
   "source": [
    "n_levels = 1"
   ]
  },
  {
   "cell_type": "raw",
   "id": "medical-polls",
   "metadata": {},
   "source": [
    "init_params = 0.01*np.random.rand(2, n_levels)\n",
    "gammas = init_params[0]\n",
    "betas = init_params[1]"
   ]
  },
  {
   "cell_type": "code",
   "execution_count": 109,
   "id": "other-sheep",
   "metadata": {},
   "outputs": [],
   "source": [
    "list_init_params = 0.5*np.random.rand(2*n_levels)\n",
    "list_init_gammas = list_init_params[:n_levels]\n",
    "list_init_betas = list_init_params[n_levels:]"
   ]
  },
  {
   "cell_type": "markdown",
   "id": "arctic-secondary",
   "metadata": {},
   "source": [
    "## 1.2 Generate initial state"
   ]
  },
  {
   "cell_type": "markdown",
   "id": "revised-despite",
   "metadata": {},
   "source": [
    "${\\large |s\\rangle = \\sum_{z \\, \\in \\, \\{0,1\\}^n}^{}{|z\\rangle} = |+\\rangle^{\\otimes n}}$"
   ]
  },
  {
   "cell_type": "code",
   "execution_count": 24,
   "id": "intellectual-robert",
   "metadata": {},
   "outputs": [],
   "source": [
    "# initial state:\n",
    "init_state = qaoa.initial_state(n_qubits)\n",
    "#dm_init_state = qu.ket2dm(qaoa.initial_state(n_qubits))"
   ]
  },
  {
   "cell_type": "markdown",
   "id": "developing-intro",
   "metadata": {},
   "source": [
    "## 1.3 Obtain final state"
   ]
  },
  {
   "cell_type": "markdown",
   "id": "portuguese-elimination",
   "metadata": {},
   "source": [
    "${\\large |\\vec{\\gamma},\\vec{\\beta}\\rangle = U(B,\\beta_p)U(C,\\gamma_p)...U(B,\\beta_1)U(C,\\gamma_1)|s\\rangle}$"
   ]
  },
  {
   "cell_type": "code",
   "execution_count": 28,
   "id": "special-auditor",
   "metadata": {},
   "outputs": [],
   "source": [
    "# obtain final state:\n",
    "optimal_params = optimal_params_scipy\n",
    "#optimal_params = optimal_parameters_Adam_fin_diff\n",
    "optimal_gammas = optimal_params[:n_levels]\n",
    "optimal_betas = optimal_params[n_levels:]\n",
    "fin_state = qaoa.evolution_operator(n_qubits, edges, optimal_gammas, optimal_betas)*init_state\n",
    "#fin_state = evolution_operator_ising(n_qubits, edges, optimal_gammas, optimal_betas, bin_prob_dist)*init_state\n",
    "#dm_fin_state = qaoa.evolution_operator(n_qubits, edges, optimal_gammas, optimal_betas)*dm_init_state*qaoa.evolution_operator(n_qubits, edges, optimal_gammas, optimal_betas).dag()"
   ]
  },
  {
   "cell_type": "markdown",
   "id": "aerial-credits",
   "metadata": {},
   "source": [
    "##  1.4 Perform N-computational_basis measurements on $|\\vec{\\gamma},\\vec{\\beta}\\rangle$ and evaluate $F_p$"
   ]
  },
  {
   "cell_type": "markdown",
   "id": "intense-front",
   "metadata": {},
   "source": [
    "the idea is that, for each ($\\gamma,\\beta$), after each measurement I will obtain as outcome one of the elements of the computational basis: $\\{z : z \\in \\{ 0,1 \\}^n\\}$\n",
    "\n",
    "so, after N measurements, I will have each that each possible outcome $z_i$ has been obtained with occurency $w_i$, so $F_p$ will be evaluated as:\n",
    "\n",
    "$$F_p = \\frac{\\sum_{i}^{N}{w_iC(z_i)}}{\\sum_{i}^{N}{w_i}}$$"
   ]
  },
  {
   "cell_type": "code",
   "execution_count": 29,
   "id": "valued-negotiation",
   "metadata": {},
   "outputs": [
    {
     "data": {
      "text/plain": [
       "-1.9999999830459154"
      ]
     },
     "execution_count": 29,
     "metadata": {},
     "output_type": "execute_result"
    }
   ],
   "source": [
    "qu.expect(prob_hamilt_ising(n_qubits, edges, bin_prob_dist), fin_state)"
   ]
  },
  {
   "cell_type": "code",
   "execution_count": 37,
   "id": "curious-metallic",
   "metadata": {},
   "outputs": [],
   "source": [
    "outcomes = quantum_measurements_ising(100, fin_state)\n",
    "dict_outcomes = {}\n",
    "for outcome in outcomes:\n",
    "    dict_outcomes[tuple(outcome)] = outcomes.count(outcome)"
   ]
  },
  {
   "cell_type": "code",
   "execution_count": 38,
   "id": "thick-candidate",
   "metadata": {},
   "outputs": [
    {
     "data": {
      "text/plain": [
       "{(-1, -1, 1, 1): 5,\n",
       " (-1, -1, -1, -1): 30,\n",
       " (1, 1, 1, 1): 25,\n",
       " (-1, 1, -1, -1): 4,\n",
       " (1, -1, -1, 1): 9,\n",
       " (-1, 1, 1, -1): 8,\n",
       " (1, -1, -1, -1): 3,\n",
       " (1, 1, -1, 1): 2,\n",
       " (1, 1, -1, -1): 5,\n",
       " (1, -1, 1, 1): 1,\n",
       " (-1, -1, 1, -1): 2,\n",
       " (1, -1, 1, -1): 2,\n",
       " (1, 1, 1, -1): 2,\n",
       " (-1, 1, 1, 1): 2}"
      ]
     },
     "execution_count": 38,
     "metadata": {},
     "output_type": "execute_result"
    }
   ],
   "source": [
    "dict_outcomes"
   ]
  },
  {
   "cell_type": "code",
   "execution_count": 47,
   "id": "likely-avenue",
   "metadata": {},
   "outputs": [
    {
     "data": {
      "text/plain": [
       "-2.04"
      ]
     },
     "execution_count": 47,
     "metadata": {},
     "output_type": "execute_result"
    }
   ],
   "source": [
    "n_samples = 100\n",
    "optimal_params = optimal_params_scipy\n",
    "#optimal_params = optimal_parameters_Adam_fin_diff\n",
    "E_p = evaluate_energy_p(optimal_params, n_qubits, edges, bin_prob_dist, n_samples)\n",
    "E_p"
   ]
  },
  {
   "cell_type": "code",
   "execution_count": 41,
   "id": "killing-mountain",
   "metadata": {},
   "outputs": [
    {
     "data": {
      "text/plain": [
       "-0.08"
      ]
     },
     "execution_count": 41,
     "metadata": {},
     "output_type": "execute_result"
    }
   ],
   "source": [
    "#Perform N measurements on each single qubit of final state\n",
    "n_sample=100\n",
    "outcomes = quantum_measurements_ising(100, init_state)\n",
    "dict_outcomes = {}\n",
    "for outcome in outcomes:\n",
    "    dict_outcomes[tuple(outcome)] = outcomes.count(outcome)\n",
    "\n",
    "#Evaluate Fp\n",
    "Ep = 0\n",
    "for outcome_w in dict_outcomes:\n",
    "    Ep += dict_outcomes[outcome_w]*evaluate_energy_ising(outcome_w, edges, bin_prob_dist)\n",
    "Ep/n_samples"
   ]
  },
  {
   "cell_type": "raw",
   "id": "spiritual-boring",
   "metadata": {},
   "source": [
    "for outcome_w in dict_outcomes:\n",
    "    print(outcome_w, dict_outcomes[outcome_w])"
   ]
  },
  {
   "cell_type": "raw",
   "id": "functional-border",
   "metadata": {},
   "source": [
    "sum(dict_outcomes.values())"
   ]
  },
  {
   "cell_type": "raw",
   "id": "opposed-modem",
   "metadata": {},
   "source": [
    "for outcome in outcomes:\n",
    "    print(outcome, outcomes.count(outcome))\n",
    "    "
   ]
  },
  {
   "cell_type": "raw",
   "id": "external-colors",
   "metadata": {},
   "source": [
    "outcomes = quantum_measurements_ising(100, fin_state)\n",
    "occurrencies = []\n",
    "for outcome in outcomes:\n",
    "    occurrencies.append((outcomes.count(outcome), outcome))\n",
    "dict_occurrencies = {}\n",
    "for occurrency in occurrencies:\n",
    "    dict_occurrencies[tuple(occurrency[1])] = occurrency[0]"
   ]
  },
  {
   "cell_type": "raw",
   "id": "chronic-terrorism",
   "metadata": {},
   "source": [
    "dict_occurrencies"
   ]
  },
  {
   "cell_type": "raw",
   "id": "disturbed-floor",
   "metadata": {},
   "source": [
    "sum(dict_occurrencies.keys())"
   ]
  },
  {
   "cell_type": "raw",
   "id": "terminal-lying",
   "metadata": {},
   "source": [
    "occurrencies"
   ]
  },
  {
   "cell_type": "raw",
   "id": "directed-witch",
   "metadata": {},
   "source": [
    "occurrencies[1]"
   ]
  },
  {
   "cell_type": "code",
   "execution_count": 119,
   "id": "configured-explorer",
   "metadata": {},
   "outputs": [],
   "source": [
    "all_outcomes = itertools.product([1,-1], repeat=n_qubits)"
   ]
  },
  {
   "cell_type": "raw",
   "id": "incorporate-beginning",
   "metadata": {},
   "source": [
    "for i in all_outcomes:\n",
    "    print(i)"
   ]
  },
  {
   "cell_type": "raw",
   "id": "tutorial-panama",
   "metadata": {},
   "source": [
    "for w_i in dict_outcomes:\n",
    "    print(w_i, dict_outcomes[w_i])"
   ]
  },
  {
   "cell_type": "code",
   "execution_count": 277,
   "id": "exotic-pharmacy",
   "metadata": {},
   "outputs": [
    {
     "data": {
      "text/plain": [
       "0.24"
      ]
     },
     "execution_count": 277,
     "metadata": {},
     "output_type": "execute_result"
    }
   ],
   "source": [
    "n_samples = 100\n",
    "optimal_params = optimal_params_scipy\n",
    "#optimal_params = optimal_parameters_Adam_fin_diff\n",
    "E_p = evaluate_energy_p(optimal_params, n_qubits, edges, bin_prob_dist, n_samples)\n",
    "E_p"
   ]
  },
  {
   "cell_type": "code",
   "execution_count": 134,
   "id": "frank-cassette",
   "metadata": {},
   "outputs": [
    {
     "data": {
      "text/plain": [
       "-0.06"
      ]
     },
     "execution_count": 134,
     "metadata": {},
     "output_type": "execute_result"
    }
   ],
   "source": [
    "M_p = evaluate_magnetization_p(list_init_params, n_qubits, edges, bin_prob_dist, n_samples)\n",
    "M_p"
   ]
  },
  {
   "cell_type": "code",
   "execution_count": 39,
   "id": "living-causing",
   "metadata": {},
   "outputs": [
    {
     "data": {
      "text/plain": [
       "<BarContainer object of 14 artists>"
      ]
     },
     "execution_count": 39,
     "metadata": {},
     "output_type": "execute_result"
    },
    {
     "data": {
      "image/png": "[encoded data removed]",
      "text/plain": [
       "<Figure size 1152x432 with 1 Axes>"
      ]
     },
     "metadata": {
      "needs_background": "light"
     },
     "output_type": "display_data"
    }
   ],
   "source": [
    "# plot probabilities of each state of the graph corresponding to every possible configuration after a cut\n",
    "plt.figure(figsize = (2**n_qubits,6))\n",
    "plt.xticks(rotation=45)\n",
    "x_axis = []\n",
    "for key in dict_outcomes:\n",
    "    x_axis.append(str(key))\n",
    "plt.bar(x_axis, dict_outcomes.values(), width = 0.5)"
   ]
  },
  {
   "cell_type": "markdown",
   "id": "hundred-camping",
   "metadata": {},
   "source": [
    "### 1.5 Parameters update"
   ]
  },
  {
   "cell_type": "code",
   "execution_count": 139,
   "id": "future-phoenix",
   "metadata": {},
   "outputs": [
    {
     "name": "stdout",
     "output_type": "stream",
     "text": [
      "in [0.08897426 0.00602018] with grad  [-88.   0.] objective after step     1:  0.0005630\n",
      "in [ 0.08897426 -0.01097982] with grad  [ 0. 17.] objective after step     2:  0.0496777\n",
      "in [ 0.07297426 -0.03097982] with grad  [16. 20.] objective after step     3: -0.0905836\n",
      "in [0.05297426 0.02602018] with grad  [ 20. -57.] objective after step     4: -0.2115272\n",
      "in [ 0.05297426 -0.01497982] with grad  [ 0. 41.] objective after step     5:  0.1304894\n",
      "optimal parameters are  [ 0.05297426 -0.01497982]\n"
     ]
    }
   ],
   "source": [
    "# perform M-steps for expectation value of the cost-function\n",
    "n_steps = 5\n",
    "n_levels = 1\n",
    "#parameters = np.array(0.5*np.random.random_sample(2*n_levels))\n",
    "parameters = 0.01*np.random.rand(2*n_levels)\n",
    "eta = 0.001 #con 0.01 si muove troppo lentamente, però con 0.1 oscilla troppo attorno al massimo\n",
    "H_P = prob_hamilt_ising(n_qubits, edges, bin_prob_dist)\n",
    "for i in range(n_steps):\n",
    "    g_t = qaoa.fin_diff_grad(evaluate_energy_p, parameters, args=(n_qubits, edges, bin_prob_dist, 100), increment=0.01)\n",
    "    gammas = parameters[:n_levels]\n",
    "    betas = parameters[n_levels:]\n",
    "    fin_state = evolution_operator_ising(n_qubits, edges, gammas, betas, bin_prob_dist)*init_state\n",
    "    E_p = qu.expect(H_P, fin_state)\n",
    "    parameters = parameters - eta*g_t\n",
    "    if (i + 1) % 1 == 0:\n",
    "            print('in', parameters, 'with grad ', g_t,  \"objective after step {:5d}: {: .7f}\".format(i + 1, E_p))\n",
    "optimal_parameters = parameters\n",
    "print('optimal parameters are ', optimal_parameters)"
   ]
  },
  {
   "cell_type": "code",
   "execution_count": 53,
   "id": "operational-addition",
   "metadata": {},
   "outputs": [
    {
     "name": "stdout",
     "output_type": "stream",
     "text": [
      "in [0.00726277 0.00684502] with grad  [0.2 0. ] objective after step     1:  0.0015904\n",
      "in [-0.04273723  0.00684502] with grad  [ 0.6 -1.4] objective after step     2: -0.0093145\n",
      "in [-0.08993367  0.0461189 ] with grad  [ 1.8 -0.6] objective after step     3: -0.1291450\n",
      "in [-0.13471073  0.08619557] with grad  [ 4.6 -2.2] objective after step     4: -0.3468764\n",
      "in [-0.17907583  0.13144662] with grad  [ 3.2 -3.2] objective after step     5: -0.6590874\n",
      "in [-0.22636281  0.17973835] with grad  [ 2.6 -4. ] objective after step     6: -1.0362423\n",
      "in [-0.2742818   0.23052528] with grad  [ 2.  -4.2] objective after step     7: -1.4182751\n",
      "in [-0.32111033  0.28333218] with grad  [ 2.2 -1.2] objective after step     8: -1.7378839\n",
      "in [-0.36778593  0.33126121] with grad  [-0.6  0.2] objective after step     9: -1.9302852\n",
      "in [-0.4028197   0.36939315] with grad  [-1.  0.] objective after step    10: -1.9896841\n",
      "in [-0.42628951  0.40058963] with grad  [-1.  -1.4] objective after step    11: -1.9809870\n",
      "in [-0.44035485  0.43257184] with grad  [-2.4  3.4] objective after step    12: -1.9388490\n",
      "in [-0.4396602   0.44083142] with grad  [-2.2  4.6] objective after step    13: -1.9285149\n",
      "in [-0.42858438  0.42794656] with grad  [-1.8  3.2] objective after step    14: -1.9597901\n",
      "in [-0.41109755  0.4052665 ] with grad  [-0.6 -2.4] objective after step    15: -1.9920667\n",
      "in [-0.39384451  0.39665896] with grad  [-2. -1.] objective after step    16: -1.9997281\n",
      "in [-0.37033496  0.39366109] with grad  [ 0.8 -0.8] objective after step    17: -1.9919881\n",
      "in [-0.35512657  0.39450497] with grad  [0.  1.4] objective after step    18: -1.9774038\n",
      "in [-0.34266142  0.3893378 ] with grad  [ 3.2 -1.6] objective after step    19: -1.9598961\n",
      "in [-0.34874573  0.39192251] with grad  [ 1.6 -2.8] objective after step    20: -1.9691597\n",
      "optimal parameters are  [-0.36152294  0.40566684]\n"
     ]
    }
   ],
   "source": [
    "#Adam\n",
    "#perform it for exp_F_1 (check if this method works properly for p=1 case)\n",
    "n_steps = 20\n",
    "#parameters = np.array(0.5*np.random.random_sample(2*n_levels)) #check how choose initial params, for pi*rand is too dispersive\n",
    "parameters = 0.01*np.random.rand(2*n_levels)\n",
    "\"\"\"\n",
    "parameters = np.zeros(2*n_levels) # method used in the paper\n",
    "for j in range(2*n_levels):\n",
    "    if j%2 == 0: #for H-p parameters\n",
    "        parameters[j] = j/(2*n_levels) #see SGD paper for reference\n",
    "    else:\n",
    "        parameters[j] = 1 - j/(2*n_levels) #see SDG paper\n",
    "\"\"\"\n",
    "beta_1 = 0.8\n",
    "beta_2 = 0.999\n",
    "epsilon = 1e-8\n",
    "m_t = np.zeros(2*n_levels)\n",
    "v_t = np.zeros(2*n_levels)\n",
    "t = 0\n",
    "H_P = prob_hamilt_ising(n_qubits, edges, bin_prob_dist)\n",
    "eta = 0.05 #works also for eta = 0.01, but increases very slowly, and 0.1 oscillates too much around max\n",
    "previous_g_t = np.zeros(2*n_levels)\n",
    "for i in range(n_steps):\n",
    "    g_t = qaoa.fin_diff_grad(evaluate_energy_p, parameters, args=(n_qubits, edges, bin_prob_dist, 100), increment=0.1)\n",
    "    gammas = parameters[:n_levels]\n",
    "    betas = parameters[n_levels:]\n",
    "    fin_state = evolution_operator_ising(n_qubits, edges, gammas, betas, bin_prob_dist)*init_state\n",
    "    E_p = qu.expect(H_P, fin_state)\n",
    "    #if (np.sign(g_t) == -np.sign(previous_g_t)).all() and (np.sign(g_t) == -np.sign(np.ones(2*n_levels))).all():\n",
    "        #break\n",
    "    #if (i + 1) % 1 == 0:\n",
    "    print('in', parameters, 'with grad ', g_t,  \"objective after step {:5d}: {: .7f}\".format(i + 1, E_p))\n",
    "    t = t+1\n",
    "    m_t = beta_1*m_t + (1-beta_1)*g_t\n",
    "    v_t = beta_2*v_t + (1-beta_2)*g_t**2\n",
    "    m_t_hat = m_t/(1-beta_1**t)\n",
    "    v_t_hat = v_t/(1-beta_2**t)\n",
    "    parameters = parameters - eta*m_t_hat/(np.sqrt(v_t_hat) + epsilon)\n",
    "    #previous_g_t = g_t\n",
    "optimal_parameters_Adam_fin_diff = parameters\n",
    "print('optimal parameters are ', optimal_parameters_Adam_fin_diff)#, 'and F_1 is', qaoa.analitic_F_1(optimal_parameters_Adam_fin_diff, graph, edges))"
   ]
  },
  {
   "cell_type": "raw",
   "id": "polar-album",
   "metadata": {},
   "source": [
    "optimal parameters are  [-0.35664311  0.41426241] #after 30 steps of Adam, E_p = 2, M_p = -0.27, prob = 0.5"
   ]
  },
  {
   "cell_type": "code",
   "execution_count": 54,
   "id": "pointed-organization",
   "metadata": {},
   "outputs": [
    {
     "data": {
      "text/plain": [
       "-2.04"
      ]
     },
     "execution_count": 54,
     "metadata": {},
     "output_type": "execute_result"
    }
   ],
   "source": [
    "n_samples = 100\n",
    "#optimal_params = optimal_params_scipy\n",
    "optimal_params = optimal_parameters_Adam_fin_diff\n",
    "E_p = evaluate_energy_p(optimal_params, n_qubits, edges, bin_prob_dist, n_samples)\n",
    "E_p"
   ]
  },
  {
   "cell_type": "code",
   "execution_count": 105,
   "id": "distant-implementation",
   "metadata": {},
   "outputs": [
    {
     "data": {
      "text/plain": [
       "0.1"
      ]
     },
     "execution_count": 105,
     "metadata": {},
     "output_type": "execute_result"
    }
   ],
   "source": [
    "M_p = evaluate_magnetization_p(optimal_params, n_qubits, edges, bin_prob_dist, n_samples)\n",
    "M_p"
   ]
  },
  {
   "cell_type": "code",
   "execution_count": null,
   "id": "colored-semiconductor",
   "metadata": {},
   "outputs": [],
   "source": []
  }
 ],
 "metadata": {
  "kernelspec": {
   "display_name": "Python 3",
   "language": "python",
   "name": "python3"
  },
  "language_info": {
   "codemirror_mode": {
    "name": "ipython",
    "version": 3
   },
   "file_extension": ".py",
   "mimetype": "text/x-python",
   "name": "python",
   "nbconvert_exporter": "python",
   "pygments_lexer": "ipython3",
   "version": "3.8.5"
  }
 },
 "nbformat": 4,
 "nbformat_minor": 5
}

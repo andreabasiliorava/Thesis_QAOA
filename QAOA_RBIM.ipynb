{
 "cells": [
  {
   "cell_type": "markdown",
   "id": "alert-millennium",
   "metadata": {},
   "source": [
    "# QAOA for random bond Ising model (RBIM)"
   ]
  },
  {
   "cell_type": "code",
   "execution_count": 1,
   "id": "rolled-arnold",
   "metadata": {},
   "outputs": [],
   "source": [
    "import qaoa\n",
    "import qucompsys as qucs\n",
    "import graphs as gr\n",
    "import qutip as qu\n",
    "import numpy as np\n",
    "import matplotlib.pyplot as plt\n",
    "from   matplotlib import cm\n",
    "from   matplotlib.ticker import LinearLocator, FormatStrFormatter\n",
    "import networkx as nx\n",
    "from   networkx.generators.random_graphs import erdos_renyi_graph\n",
    "import configparser\n",
    "import scipy\n",
    "import itertools\n",
    "from collections import Counter\n",
    "\n",
    "import importlib\n",
    "importlib.reload(qaoa)\n",
    "importlib.reload(qucs)\n",
    "\n",
    "%matplotlib inline\n",
    "%config InlineBackened.figure_format = 'svg'"
   ]
  },
  {
   "cell_type": "markdown",
   "id": "familiar-scanner",
   "metadata": {},
   "source": [
    "##  0 Define the graph"
   ]
  },
  {
   "cell_type": "code",
   "execution_count": 2,
   "id": "engaged-series",
   "metadata": {},
   "outputs": [],
   "source": [
    "# grid graph\n",
    "n_nodes = 9\n",
    "nodes = np.arange(0, n_nodes, 1)\n",
    "edges = [(0, 1), (0,3), (1, 2), (1, 4), (2, 5), (3,4), (3,6), (4, 5), (4, 7), (5,8), (6, 7), (7, 8)]"
   ]
  },
  {
   "cell_type": "code",
   "execution_count": 3,
   "id": "interim-softball",
   "metadata": {},
   "outputs": [],
   "source": [
    "n_qubits = n_nodes\n",
    "graph = nx.Graph()\n",
    "graph.add_nodes_from(nodes)\n",
    "graph.add_edges_from(edges)\n",
    "edges = list(graph.edges)"
   ]
  },
  {
   "cell_type": "markdown",
   "id": "moved-voice",
   "metadata": {},
   "source": [
    "### 0.1 plot the graph"
   ]
  },
  {
   "cell_type": "code",
   "execution_count": 9,
   "id": "funny-typing",
   "metadata": {},
   "outputs": [
    {
     "data": {
      "image/png": "[encoded data removed]",
      "text/plain": [
       "<Figure size 504x504 with 1 Axes>"
      ]
     },
     "metadata": {},
     "output_type": "display_data"
    }
   ],
   "source": [
    "fig = plt.figure(figsize = (7,7))\n",
    "colors = ['r' for node in graph.nodes()]\n",
    "pos = nx.planar_layout(graph)\n",
    "graph_drawing = nx.draw_networkx(graph, node_color=colors, node_size=200, pos = None, alpha=1, with_labels=True)\n",
    "plt.show()"
   ]
  },
  {
   "cell_type": "markdown",
   "id": "acknowledged-recruitment",
   "metadata": {},
   "source": [
    "## 1 choose probability"
   ]
  },
  {
   "cell_type": "code",
   "execution_count": 10,
   "id": "spoken-trader",
   "metadata": {},
   "outputs": [
    {
     "data": {
      "text/plain": [
       "array([0, 0, 1, 1, 1, 1, 1, 1, 0, 1, 0, 1])"
      ]
     },
     "execution_count": 10,
     "metadata": {},
     "output_type": "execute_result"
    }
   ],
   "source": [
    "prob = 0.5 #prbability 0.5 < prob < 1 that the site is ferromagnetic (all 1 or -1), expect phase-transistion at p = 0.88\n",
    "\n",
    "bin_prob_dist = np.random.binomial(1, prob, size=(len(edges),)) # 1 for up (z-i = 1), 0 for down (z-i = -1)\n",
    "\n",
    "bin_prob_dist"
   ]
  },
  {
   "cell_type": "markdown",
   "id": "attended-formula",
   "metadata": {},
   "source": [
    "## 2 Define needed functions"
   ]
  },
  {
   "cell_type": "code",
   "execution_count": 11,
   "id": "narrow-momentum",
   "metadata": {},
   "outputs": [],
   "source": [
    "def evaluate_energy_ising(list_z, edges, bin_prob_dist, coupling_const=1):\n",
    "    \"\"\"This method evaluates the object function of the RBIM\n",
    "    Parameters\n",
    "        z_str : input bit string\n",
    "        edges : edges of the graph\n",
    "    Returns\n",
    "        the integer value the object function\"\"\"\n",
    "    energy = 0\n",
    "    for edge in edges:\n",
    "        if bin_prob_dist[edges.index(edge)] == 1:\n",
    "            energy += -list_z[edge[0]]*list_z[edge[1]]\n",
    "        else:\n",
    "            energy -= -list_z[edge[0]]*list_z[edge[1]]\n",
    "    return coupling_const*energy"
   ]
  },
  {
   "cell_type": "code",
   "execution_count": 12,
   "id": "fossil-commonwealth",
   "metadata": {},
   "outputs": [],
   "source": [
    "def evaluate_magnetization_ising(list_z):\n",
    "    \"\"\"This method evaluates the object function of the RBIM\n",
    "    Parameters\n",
    "        z_str : input bit string\n",
    "        edges : edges of the graph\n",
    "    Returns\n",
    "        the integer value the object function\"\"\"\n",
    "\n",
    "    return sum(list_z)"
   ]
  },
  {
   "cell_type": "raw",
   "id": "convenient-snowboard",
   "metadata": {},
   "source": [
    "evaluate_energy([1,1,1,1,1,1,1,1,1], edges, bin_prob_dist)"
   ]
  },
  {
   "cell_type": "code",
   "execution_count": 13,
   "id": "anticipated-karen",
   "metadata": {},
   "outputs": [],
   "source": [
    "def prob_hamilt_ising(n_qubits, edges, bin_prob_dist, coupling_const=1):\n",
    "    \"\"\"This method generates a tensor that apply the problem hamiltonian of the\n",
    "        RBIM problem on a state of n-qubits\\n\n",
    "    Parameters:\\n\n",
    "        n_qubits: number of vertices of the graph\n",
    "        edges: list of tuples corresponding to the edges of the graph\\n\n",
    "    Returns:\\n\n",
    "        a tensor that apply the problem hamiltonian to a n-qubits state\\n\n",
    "    Raise:\\n\n",
    "        ValueError if number of qubits is less than 2\"\"\"\n",
    "    if n_qubits < 2:\n",
    "        raise ValueError('number of qubits must be > 1, but is {}'.format(n_qubits))\n",
    "    list_double_sigmaz = []\n",
    "    for edge in edges:\n",
    "        if bin_prob_dist[edges.index(edge)] == 1:\n",
    "            list_double_sigmaz.append(\n",
    "                -qucs.n_sigmaz(n_qubits,edge[0])*qucs.n_sigmaz(n_qubits,edge[1])\n",
    "                )\n",
    "        else:\n",
    "             list_double_sigmaz.append(\n",
    "                qucs.n_sigmaz(n_qubits,edge[0])*qucs.n_sigmaz(n_qubits,edge[1])\n",
    "                )   \n",
    "    return -sum(list_double_sigmaz)*coupling_const"
   ]
  },
  {
   "cell_type": "code",
   "execution_count": 66,
   "id": "offshore-evanescence",
   "metadata": {},
   "outputs": [],
   "source": [
    "def evolution_operator_ising(n_qubits, edges, gammas, betas, bin_prob_dist):\n",
    "    \"\"\"\n",
    "    This method generates a tensor that apply the evolution operator U of the\n",
    "        MaxCut problem on a state of n-qubits\\n\n",
    "    Parameters:\\n\n",
    "        n_qubits: number of qubits is the n-qubits state among this operators acts on\\n\n",
    "        edges: edges of the graph of the MaxCut that define the problem hamiltonian\n",
    "        gammas: gamma parameters of the MaxCut\\n\n",
    "        betas: betas parameters of the MaxCut\\n\n",
    "    Returns:\\n\n",
    "        a tensor that apply the evolution operator to a n-qubits state\\n\n",
    "    Raise:\\n\n",
    "        ValueError if number of gammas is less than 1\\n\n",
    "        ValueError if number of betas is less than 1\\n\n",
    "        ValueError if number of betas is different than number of gammas\\n\n",
    "        ValueError if number of qubits is less than 2      \n",
    "    \"\"\"\n",
    "    if len(gammas) < 1:\n",
    "        raise ValueError('number of gammas must be > 0, but is {}'.format(len(gammas)))\n",
    "    if len(betas) < 1:\n",
    "        raise ValueError('number of gammas must be > 0, but is {}'.format(len(betas)))\n",
    "    if len(betas) != len(gammas):\n",
    "        raise ValueError('number of gammas must be = number of betas')\n",
    "    if n_qubits < 2:\n",
    "        raise ValueError('number of qubits must be > 1, but is {}'.format(n_qubits))\n",
    "    evol_oper = qucs.n_qeye(n_qubits)\n",
    "    for i in range(len(gammas)):\n",
    "        u_mix_hamilt_i = (-complex(0,betas[i])*qaoa.mix_hamilt(n_qubits)).expm()\n",
    "        u_prob_hamilt_i = (-complex(0,gammas[i])*prob_hamilt_ising(n_qubits, edges, bin_prob_dist)).expm()\n",
    "        evol_oper = u_mix_hamilt_i*u_prob_hamilt_i*evol_oper\n",
    "    return evol_oper"
   ]
  },
  {
   "cell_type": "code",
   "execution_count": 67,
   "id": "metropolitan-absorption",
   "metadata": {},
   "outputs": [],
   "source": [
    "def single_qubit_measurement_ising(qstate, qubit_pos):\n",
    "    n_qubits = len(qstate.dims[0])\n",
    "    if qstate.dims[1][0] == 1:\n",
    "        qstate = qu.ket2dm(qstate)\n",
    "    M_i = (qucs.n_proj0(n_qubits, qubit_pos)*qstate)\n",
    "    p0_i = M_i.tr()\n",
    "    #p1_i = (n_proj1(n_qubits, i)*dm_dummy).tr()\n",
    "    if np.random.random_sample() <= p0_i:\n",
    "        outcome = [1]\n",
    "        qstate = M_i/p0_i\n",
    "    else:\n",
    "        outcome = [-1]\n",
    "        qstate = (qucs.n_proj1(n_qubits, qubit_pos)*qstate)/(1-p0_i)\n",
    "    return outcome, qstate"
   ]
  },
  {
   "cell_type": "code",
   "execution_count": 68,
   "id": "available-mainland",
   "metadata": {},
   "outputs": [],
   "source": [
    "def quantum_measurements_ising(n_samples, qstate):\n",
    "    \"\"\"\n",
    "    This method simulates n_samples quantum computational basis measurements \n",
    "        on a composite system by obtaining, for each sampling, a bit string \n",
    "        correspondign to the camputational basis state of the Hilbert space the \n",
    "        state belongs to.\n",
    "    \n",
    "    Parameters\n",
    "    ----------\n",
    "    n_samples : int\n",
    "        number of samplings want to be executed on the quantum state.\n",
    "    qstate : Qobj\n",
    "        pure state or density matrix of a n-qubits state.\n",
    "\n",
    "    Returns\n",
    "    -------\n",
    "    outcomes : list \n",
    "        list of outcomes, stored as bit-strings.\n",
    "    \"\"\"\n",
    "    n_qubits = len(qstate.dims[0])\n",
    "    if qstate.dims[1][0] == 1:\n",
    "        qstate = qu.ket2dm(qstate)\n",
    "    outcomes = []\n",
    "    for j in range(n_samples):\n",
    "        outcome = []\n",
    "        qstate_dummy = qstate.copy()\n",
    "        for i in range(n_qubits):\n",
    "            outcome_i, qstate_dummy = single_qubit_measurement_ising(qstate_dummy, i)\n",
    "            outcome += outcome_i\n",
    "        outcomes.append(outcome)\n",
    "    return outcomes"
   ]
  },
  {
   "cell_type": "code",
   "execution_count": 83,
   "id": "productive-tulsa",
   "metadata": {},
   "outputs": [],
   "source": [
    "def evaluate_energy_p(params, n_qubits, edges, bin_prob_dist,n_samples):\n",
    "    \"\"\"\n",
    "    This method perform n quantum measurements on final state and evaluate F_p\n",
    "    through classical mean of the outcomes\n",
    "\n",
    "    Parameters\n",
    "    ----------\n",
    "    params : 1-D array-like\n",
    "        array of parameters [gamma_1, gamma_2, ..., gamma_p, beta_1, beta_2, ..., beta_p].\n",
    "    n_qubits : int\n",
    "        number of qubits of the state.\n",
    "    edges : list of tuples\n",
    "        edges of the graph.\n",
    "    n_samples : int\n",
    "        number of quantum measurements performed.\n",
    "\n",
    "    Returns\n",
    "    -------\n",
    "    F_p: float\n",
    "        expectation value of the cost function\n",
    "\n",
    "    \"\"\"\n",
    "    gammas = params[:int(len(list(params))/2)]\n",
    "    betas = params[int(len(list(params))/2):]\n",
    "    \n",
    "    # initial state (as density matrix):\n",
    "    #dm_init_state = qu.ket2dm(initial_state(n_qubits))\n",
    "    init_state = qaoa.initial_state(n_qubits)\n",
    "    #obtain final state\n",
    "    #dm_fin_state = evolution_operator(n_qubits, edges, gammas, betas)*dm_init_state*evolution_operator(n_qubits, edges, gammas, betas).dag()\n",
    "    fin_state = (evolution_operator_ising(n_qubits, edges, gammas, betas, bin_prob_dist)*init_state)\n",
    "    \n",
    "    #Perform N measurements on each single qubit of final state\n",
    "    outcomes = quantum_measurements_ising(n_samples, fin_state)\n",
    "    dict_outcomes = {}\n",
    "    for outcome in outcomes:\n",
    "        dict_outcomes[outcomes.count(outcome)] = outcome\n",
    "    \n",
    "    #Evaluate Fp\n",
    "    Ep = 0\n",
    "    for w_i in dict_outcomes:\n",
    "        Ep += w_i*evaluate_energy_ising(dict_outcomes[w_i], edges, bin_prob_dist)\n",
    "    return Ep/n_samples"
   ]
  },
  {
   "cell_type": "code",
   "execution_count": 73,
   "id": "earlier-absence",
   "metadata": {},
   "outputs": [],
   "source": [
    "def evaluate_magnetization_p(params, n_qubits, edges, bin_prob_dist, n_samples):\n",
    "    \"\"\"\n",
    "    This method perform n quantum measurements on final state and evaluate F_p\n",
    "    through classical mean of the outcomes\n",
    "\n",
    "    Parameters\n",
    "    ----------\n",
    "    params : 1-D array-like\n",
    "        array of parameters [gamma_1, gamma_2, ..., gamma_p, beta_1, beta_2, ..., beta_p].\n",
    "    n_qubits : int\n",
    "        number of qubits of the state.\n",
    "    edges : list of tuples\n",
    "        edges of the graph.\n",
    "    n_samples : int\n",
    "        number of quantum measurements performed.\n",
    "\n",
    "    Returns\n",
    "    -------\n",
    "    F_p: float\n",
    "        expectation value of the cost function\n",
    "\n",
    "    \"\"\"\n",
    "    gammas = params[:int(len(list(params))/2)]\n",
    "    betas = params[int(len(list(params))/2):]\n",
    "    \n",
    "    # initial state (as density matrix):\n",
    "    #dm_init_state = qu.ket2dm(initial_state(n_qubits))\n",
    "    init_state = initial_state(n_qubits)\n",
    "    #obtain final state\n",
    "    #dm_fin_state = evolution_operator(n_qubits, edges, gammas, betas)*dm_init_state*evolution_operator(n_qubits, edges, gammas, betas).dag()\n",
    "    fin_state = (evolution_operator_ising(n_qubits, edges, gammas, betas)*init_state)\n",
    "    \n",
    "    #Perform N measurements on each single qubit of final state\n",
    "    outcomes = qucs.quantum_measurements(n_samples, fin_state)\n",
    "    dict_outcomes = {}\n",
    "    for outcome in outcomes:\n",
    "        dict_outcomes[outcomes.count(outcome)] = outcome\n",
    "    \n",
    "    #Evaluate Fp\n",
    "    list_z = list(c_outcomes.values())\n",
    "    list_w = list(c_outcomes.keys())\n",
    "    Mp = 0\n",
    "    for w_i in dict_outcomes:\n",
    "        Mp += w_i*evaluate_cost_fun(list_z[i], edges)\n",
    "    return Mp/n_samples"
   ]
  },
  {
   "cell_type": "markdown",
   "id": "interracial-defensive",
   "metadata": {},
   "source": [
    "## 1 Parameters optimization"
   ]
  },
  {
   "cell_type": "markdown",
   "id": "satisfied-bullet",
   "metadata": {},
   "source": [
    "## 1.1 Choose QAOA level and pick initial parameters"
   ]
  },
  {
   "cell_type": "code",
   "execution_count": 21,
   "id": "compact-longitude",
   "metadata": {},
   "outputs": [],
   "source": [
    "n_levels = 1"
   ]
  },
  {
   "cell_type": "raw",
   "id": "accomplished-textbook",
   "metadata": {},
   "source": [
    "init_params = 0.01*np.random.rand(2, n_levels)\n",
    "gammas = init_params[0]\n",
    "betas = init_params[1]"
   ]
  },
  {
   "cell_type": "code",
   "execution_count": 22,
   "id": "buried-pulse",
   "metadata": {},
   "outputs": [],
   "source": [
    "list_init_params = 0.5*np.random.rand(2*n_levels)\n",
    "list_init_gammas = list_init_params[:n_levels]\n",
    "list_init_betas = list_init_params[n_levels:]"
   ]
  },
  {
   "cell_type": "markdown",
   "id": "complex-stanford",
   "metadata": {},
   "source": [
    "## 1.2 Generate initial state"
   ]
  },
  {
   "cell_type": "markdown",
   "id": "structured-booth",
   "metadata": {},
   "source": [
    "${\\large |s\\rangle = \\sum_{z \\, \\in \\, \\{0,1\\}^n}^{}{|z\\rangle} = |+\\rangle^{\\otimes n}}$"
   ]
  },
  {
   "cell_type": "code",
   "execution_count": 23,
   "id": "genuine-association",
   "metadata": {},
   "outputs": [],
   "source": [
    "# initial state:\n",
    "init_state = qaoa.initial_state(n_qubits)\n",
    "#dm_init_state = qu.ket2dm(qaoa.initial_state(n_qubits))"
   ]
  },
  {
   "cell_type": "markdown",
   "id": "centered-surprise",
   "metadata": {},
   "source": [
    "## 1.3 Obtain final state"
   ]
  },
  {
   "cell_type": "markdown",
   "id": "enhanced-inside",
   "metadata": {},
   "source": [
    "${\\large |\\vec{\\gamma},\\vec{\\beta}\\rangle = U(B,\\beta_p)U(C,\\gamma_p)...U(B,\\beta_1)U(C,\\gamma_1)|s\\rangle}$"
   ]
  },
  {
   "cell_type": "code",
   "execution_count": null,
   "id": "demographic-graduation",
   "metadata": {},
   "outputs": [],
   "source": [
    "# obtain final state:\n",
    "optimal_params = optimal_params_scipy\n",
    "#optimal_params = optimal_parameters_Adam_fin_diff\n",
    "optimal_gammas = optimal_params[:n_levels]\n",
    "optimal_betas = optimal_params[n_levels:]\n",
    "fin_state = qaoa.evolution_operator(n_qubits, edges, optimal_gammas, optimal_betas)*init_state\n",
    "#dm_fin_state = qaoa.evolution_operator(n_qubits, edges, optimal_gammas, optimal_betas)*dm_init_state*qaoa.evolution_operator(n_qubits, edges, optimal_gammas, optimal_betas).dag()"
   ]
  },
  {
   "cell_type": "markdown",
   "id": "cooperative-dancing",
   "metadata": {},
   "source": [
    "##  1.4 Perform N-computational_basis measurements on $|\\vec{\\gamma},\\vec{\\beta}\\rangle$ and evaluate $F_p$"
   ]
  },
  {
   "cell_type": "markdown",
   "id": "recovered-worship",
   "metadata": {},
   "source": [
    "the idea is that, for each ($\\gamma,\\beta$), after each measurement I will obtain as outcome one of the elements of the computational basis: $\\{z : z \\in \\{ 0,1 \\}^n\\}$\n",
    "\n",
    "so, after N measurements, I will have each that each possible outcome $z_i$ has been obtained with occurency $w_i$, so $F_p$ will be evaluated as:\n",
    "\n",
    "$$F_p = \\frac{\\sum_{i}^{N}{w_iC(z_i)}}{\\sum_{i}^{N}{w_i}}$$"
   ]
  },
  {
   "cell_type": "raw",
   "id": "sufficient-wellington",
   "metadata": {},
   "source": [
    "qu.expect(qaoa.prob_hamilt(n_qubits, edges), fin_state)"
   ]
  },
  {
   "cell_type": "code",
   "execution_count": 50,
   "id": "eligible-murray",
   "metadata": {},
   "outputs": [],
   "source": [
    "outcomes = quantum_measurements_ising(100, init_state)\n",
    "dict_outcomes = {}\n",
    "for outcome in outcomes:\n",
    "    dict_outcomes[outcomes.count(outcome)] = outcome"
   ]
  },
  {
   "cell_type": "code",
   "execution_count": 80,
   "id": "distant-tyler",
   "metadata": {},
   "outputs": [
    {
     "name": "stdout",
     "output_type": "stream",
     "text": [
      "2 [1, 1, 1, 1, -1, -1, 1, 1, -1]\n",
      "1 [1, -1, 1, 1, -1, 1, -1, -1, -1]\n",
      "3 [-1, 1, 1, 1, -1, -1, 1, -1, -1]\n"
     ]
    }
   ],
   "source": [
    "for w_i in dict_outcomes:\n",
    "    print(w_i, dict_outcomes[w_i])"
   ]
  },
  {
   "cell_type": "code",
   "execution_count": 84,
   "id": "renewable-delay",
   "metadata": {},
   "outputs": [
    {
     "data": {
      "text/plain": [
       "-0.16"
      ]
     },
     "execution_count": 84,
     "metadata": {},
     "output_type": "execute_result"
    }
   ],
   "source": [
    "n_samples = 100\n",
    "#optimal_params = optimal_params_scipy\n",
    "#optimal_params = optimal_parameters_Adam_fin_diff\n",
    "E_p = evaluate_energy_p(list_init_params, n_qubits, edges, bin_prob_dist, n_samples)\n",
    "E_p"
   ]
  },
  {
   "cell_type": "code",
   "execution_count": null,
   "id": "incorrect-toddler",
   "metadata": {},
   "outputs": [],
   "source": [
    "M_p = evaluate_magnetization_p(list_init_params, n_qubits, edges,  n_samples)\n",
    "M_p"
   ]
  },
  {
   "cell_type": "code",
   "execution_count": 56,
   "id": "opening-plain",
   "metadata": {},
   "outputs": [
    {
     "ename": "ValueError",
     "evalue": "shape mismatch: objects cannot be broadcast to a single shape",
     "output_type": "error",
     "traceback": [
      "\u001b[1;31m---------------------------------------------------------------------------\u001b[0m",
      "\u001b[1;31mValueError\u001b[0m                                Traceback (most recent call last)",
      "\u001b[1;32m<ipython-input-56-490f12dcd7ae>\u001b[0m in \u001b[0;36m<module>\u001b[1;34m\u001b[0m\n\u001b[0;32m      2\u001b[0m \u001b[0mplt\u001b[0m\u001b[1;33m.\u001b[0m\u001b[0mfigure\u001b[0m\u001b[1;33m(\u001b[0m\u001b[0mfigsize\u001b[0m \u001b[1;33m=\u001b[0m \u001b[1;33m(\u001b[0m\u001b[1;36m2\u001b[0m\u001b[1;33m**\u001b[0m\u001b[0mn_qubits\u001b[0m\u001b[1;33m/\u001b[0m\u001b[1;36m2.5\u001b[0m\u001b[1;33m,\u001b[0m\u001b[1;36m5\u001b[0m\u001b[1;33m)\u001b[0m\u001b[1;33m)\u001b[0m\u001b[1;33m\u001b[0m\u001b[1;33m\u001b[0m\u001b[0m\n\u001b[0;32m      3\u001b[0m \u001b[0mplt\u001b[0m\u001b[1;33m.\u001b[0m\u001b[0mxticks\u001b[0m\u001b[1;33m(\u001b[0m\u001b[0mrotation\u001b[0m\u001b[1;33m=\u001b[0m\u001b[1;36m45\u001b[0m\u001b[1;33m)\u001b[0m\u001b[1;33m\u001b[0m\u001b[1;33m\u001b[0m\u001b[0m\n\u001b[1;32m----> 4\u001b[1;33m \u001b[0mplt\u001b[0m\u001b[1;33m.\u001b[0m\u001b[0mbar\u001b[0m\u001b[1;33m(\u001b[0m\u001b[0mdict_outcomes\u001b[0m\u001b[1;33m.\u001b[0m\u001b[0mvalues\u001b[0m\u001b[1;33m(\u001b[0m\u001b[1;33m)\u001b[0m\u001b[1;33m,\u001b[0m \u001b[0mdict_outcomes\u001b[0m\u001b[1;33m.\u001b[0m\u001b[0mkeys\u001b[0m\u001b[1;33m(\u001b[0m\u001b[1;33m)\u001b[0m\u001b[1;33m,\u001b[0m\u001b[0mwidth\u001b[0m \u001b[1;33m=\u001b[0m \u001b[1;36m0.5\u001b[0m\u001b[1;33m)\u001b[0m\u001b[1;33m\u001b[0m\u001b[1;33m\u001b[0m\u001b[0m\n\u001b[0m",
      "\u001b[1;32m~\\anaconda3\\lib\\site-packages\\matplotlib\\pyplot.py\u001b[0m in \u001b[0;36mbar\u001b[1;34m(x, height, width, bottom, align, data, **kwargs)\u001b[0m\n\u001b[0;32m   2485\u001b[0m         \u001b[0mx\u001b[0m\u001b[1;33m,\u001b[0m \u001b[0mheight\u001b[0m\u001b[1;33m,\u001b[0m \u001b[0mwidth\u001b[0m\u001b[1;33m=\u001b[0m\u001b[1;36m0.8\u001b[0m\u001b[1;33m,\u001b[0m \u001b[0mbottom\u001b[0m\u001b[1;33m=\u001b[0m\u001b[1;32mNone\u001b[0m\u001b[1;33m,\u001b[0m \u001b[1;33m*\u001b[0m\u001b[1;33m,\u001b[0m \u001b[0malign\u001b[0m\u001b[1;33m=\u001b[0m\u001b[1;34m'center'\u001b[0m\u001b[1;33m,\u001b[0m\u001b[1;33m\u001b[0m\u001b[1;33m\u001b[0m\u001b[0m\n\u001b[0;32m   2486\u001b[0m         data=None, **kwargs):\n\u001b[1;32m-> 2487\u001b[1;33m     return gca().bar(\n\u001b[0m\u001b[0;32m   2488\u001b[0m         \u001b[0mx\u001b[0m\u001b[1;33m,\u001b[0m \u001b[0mheight\u001b[0m\u001b[1;33m,\u001b[0m \u001b[0mwidth\u001b[0m\u001b[1;33m=\u001b[0m\u001b[0mwidth\u001b[0m\u001b[1;33m,\u001b[0m \u001b[0mbottom\u001b[0m\u001b[1;33m=\u001b[0m\u001b[0mbottom\u001b[0m\u001b[1;33m,\u001b[0m \u001b[0malign\u001b[0m\u001b[1;33m=\u001b[0m\u001b[0malign\u001b[0m\u001b[1;33m,\u001b[0m\u001b[1;33m\u001b[0m\u001b[1;33m\u001b[0m\u001b[0m\n\u001b[0;32m   2489\u001b[0m         **({\"data\": data} if data is not None else {}), **kwargs)\n",
      "\u001b[1;32m~\\anaconda3\\lib\\site-packages\\matplotlib\\__init__.py\u001b[0m in \u001b[0;36minner\u001b[1;34m(ax, data, *args, **kwargs)\u001b[0m\n\u001b[0;32m   1436\u001b[0m     \u001b[1;32mdef\u001b[0m \u001b[0minner\u001b[0m\u001b[1;33m(\u001b[0m\u001b[0max\u001b[0m\u001b[1;33m,\u001b[0m \u001b[1;33m*\u001b[0m\u001b[0margs\u001b[0m\u001b[1;33m,\u001b[0m \u001b[0mdata\u001b[0m\u001b[1;33m=\u001b[0m\u001b[1;32mNone\u001b[0m\u001b[1;33m,\u001b[0m \u001b[1;33m**\u001b[0m\u001b[0mkwargs\u001b[0m\u001b[1;33m)\u001b[0m\u001b[1;33m:\u001b[0m\u001b[1;33m\u001b[0m\u001b[1;33m\u001b[0m\u001b[0m\n\u001b[0;32m   1437\u001b[0m         \u001b[1;32mif\u001b[0m \u001b[0mdata\u001b[0m \u001b[1;32mis\u001b[0m \u001b[1;32mNone\u001b[0m\u001b[1;33m:\u001b[0m\u001b[1;33m\u001b[0m\u001b[1;33m\u001b[0m\u001b[0m\n\u001b[1;32m-> 1438\u001b[1;33m             \u001b[1;32mreturn\u001b[0m \u001b[0mfunc\u001b[0m\u001b[1;33m(\u001b[0m\u001b[0max\u001b[0m\u001b[1;33m,\u001b[0m \u001b[1;33m*\u001b[0m\u001b[0mmap\u001b[0m\u001b[1;33m(\u001b[0m\u001b[0msanitize_sequence\u001b[0m\u001b[1;33m,\u001b[0m \u001b[0margs\u001b[0m\u001b[1;33m)\u001b[0m\u001b[1;33m,\u001b[0m \u001b[1;33m**\u001b[0m\u001b[0mkwargs\u001b[0m\u001b[1;33m)\u001b[0m\u001b[1;33m\u001b[0m\u001b[1;33m\u001b[0m\u001b[0m\n\u001b[0m\u001b[0;32m   1439\u001b[0m \u001b[1;33m\u001b[0m\u001b[0m\n\u001b[0;32m   1440\u001b[0m         \u001b[0mbound\u001b[0m \u001b[1;33m=\u001b[0m \u001b[0mnew_sig\u001b[0m\u001b[1;33m.\u001b[0m\u001b[0mbind\u001b[0m\u001b[1;33m(\u001b[0m\u001b[0max\u001b[0m\u001b[1;33m,\u001b[0m \u001b[1;33m*\u001b[0m\u001b[0margs\u001b[0m\u001b[1;33m,\u001b[0m \u001b[1;33m**\u001b[0m\u001b[0mkwargs\u001b[0m\u001b[1;33m)\u001b[0m\u001b[1;33m\u001b[0m\u001b[1;33m\u001b[0m\u001b[0m\n",
      "\u001b[1;32m~\\anaconda3\\lib\\site-packages\\matplotlib\\axes\\_axes.py\u001b[0m in \u001b[0;36mbar\u001b[1;34m(self, x, height, width, bottom, align, **kwargs)\u001b[0m\n\u001b[0;32m   2428\u001b[0m                 \u001b[0myerr\u001b[0m \u001b[1;33m=\u001b[0m \u001b[0mself\u001b[0m\u001b[1;33m.\u001b[0m\u001b[0m_convert_dx\u001b[0m\u001b[1;33m(\u001b[0m\u001b[0myerr\u001b[0m\u001b[1;33m,\u001b[0m \u001b[0my0\u001b[0m\u001b[1;33m,\u001b[0m \u001b[0my\u001b[0m\u001b[1;33m,\u001b[0m \u001b[0mself\u001b[0m\u001b[1;33m.\u001b[0m\u001b[0mconvert_yunits\u001b[0m\u001b[1;33m)\u001b[0m\u001b[1;33m\u001b[0m\u001b[1;33m\u001b[0m\u001b[0m\n\u001b[0;32m   2429\u001b[0m \u001b[1;33m\u001b[0m\u001b[0m\n\u001b[1;32m-> 2430\u001b[1;33m         x, height, width, y, linewidth = np.broadcast_arrays(\n\u001b[0m\u001b[0;32m   2431\u001b[0m             \u001b[1;31m# Make args iterable too.\u001b[0m\u001b[1;33m\u001b[0m\u001b[1;33m\u001b[0m\u001b[1;33m\u001b[0m\u001b[0m\n\u001b[0;32m   2432\u001b[0m             np.atleast_1d(x), height, width, y, linewidth)\n",
      "\u001b[1;32m<__array_function__ internals>\u001b[0m in \u001b[0;36mbroadcast_arrays\u001b[1;34m(*args, **kwargs)\u001b[0m\n",
      "\u001b[1;32m~\\anaconda3\\lib\\site-packages\\numpy\\lib\\stride_tricks.py\u001b[0m in \u001b[0;36mbroadcast_arrays\u001b[1;34m(subok, *args)\u001b[0m\n\u001b[0;32m    256\u001b[0m     \u001b[0margs\u001b[0m \u001b[1;33m=\u001b[0m \u001b[1;33m[\u001b[0m\u001b[0mnp\u001b[0m\u001b[1;33m.\u001b[0m\u001b[0marray\u001b[0m\u001b[1;33m(\u001b[0m\u001b[0m_m\u001b[0m\u001b[1;33m,\u001b[0m \u001b[0mcopy\u001b[0m\u001b[1;33m=\u001b[0m\u001b[1;32mFalse\u001b[0m\u001b[1;33m,\u001b[0m \u001b[0msubok\u001b[0m\u001b[1;33m=\u001b[0m\u001b[0msubok\u001b[0m\u001b[1;33m)\u001b[0m \u001b[1;32mfor\u001b[0m \u001b[0m_m\u001b[0m \u001b[1;32min\u001b[0m \u001b[0margs\u001b[0m\u001b[1;33m]\u001b[0m\u001b[1;33m\u001b[0m\u001b[1;33m\u001b[0m\u001b[0m\n\u001b[0;32m    257\u001b[0m \u001b[1;33m\u001b[0m\u001b[0m\n\u001b[1;32m--> 258\u001b[1;33m     \u001b[0mshape\u001b[0m \u001b[1;33m=\u001b[0m \u001b[0m_broadcast_shape\u001b[0m\u001b[1;33m(\u001b[0m\u001b[1;33m*\u001b[0m\u001b[0margs\u001b[0m\u001b[1;33m)\u001b[0m\u001b[1;33m\u001b[0m\u001b[1;33m\u001b[0m\u001b[0m\n\u001b[0m\u001b[0;32m    259\u001b[0m \u001b[1;33m\u001b[0m\u001b[0m\n\u001b[0;32m    260\u001b[0m     \u001b[1;32mif\u001b[0m \u001b[0mall\u001b[0m\u001b[1;33m(\u001b[0m\u001b[0marray\u001b[0m\u001b[1;33m.\u001b[0m\u001b[0mshape\u001b[0m \u001b[1;33m==\u001b[0m \u001b[0mshape\u001b[0m \u001b[1;32mfor\u001b[0m \u001b[0marray\u001b[0m \u001b[1;32min\u001b[0m \u001b[0margs\u001b[0m\u001b[1;33m)\u001b[0m\u001b[1;33m:\u001b[0m\u001b[1;33m\u001b[0m\u001b[1;33m\u001b[0m\u001b[0m\n",
      "\u001b[1;32m~\\anaconda3\\lib\\site-packages\\numpy\\lib\\stride_tricks.py\u001b[0m in \u001b[0;36m_broadcast_shape\u001b[1;34m(*args)\u001b[0m\n\u001b[0;32m    187\u001b[0m     \u001b[1;31m# use the old-iterator because np.nditer does not handle size 0 arrays\u001b[0m\u001b[1;33m\u001b[0m\u001b[1;33m\u001b[0m\u001b[1;33m\u001b[0m\u001b[0m\n\u001b[0;32m    188\u001b[0m     \u001b[1;31m# consistently\u001b[0m\u001b[1;33m\u001b[0m\u001b[1;33m\u001b[0m\u001b[1;33m\u001b[0m\u001b[0m\n\u001b[1;32m--> 189\u001b[1;33m     \u001b[0mb\u001b[0m \u001b[1;33m=\u001b[0m \u001b[0mnp\u001b[0m\u001b[1;33m.\u001b[0m\u001b[0mbroadcast\u001b[0m\u001b[1;33m(\u001b[0m\u001b[1;33m*\u001b[0m\u001b[0margs\u001b[0m\u001b[1;33m[\u001b[0m\u001b[1;33m:\u001b[0m\u001b[1;36m32\u001b[0m\u001b[1;33m]\u001b[0m\u001b[1;33m)\u001b[0m\u001b[1;33m\u001b[0m\u001b[1;33m\u001b[0m\u001b[0m\n\u001b[0m\u001b[0;32m    190\u001b[0m     \u001b[1;31m# unfortunately, it cannot handle 32 or more arguments directly\u001b[0m\u001b[1;33m\u001b[0m\u001b[1;33m\u001b[0m\u001b[1;33m\u001b[0m\u001b[0m\n\u001b[0;32m    191\u001b[0m     \u001b[1;32mfor\u001b[0m \u001b[0mpos\u001b[0m \u001b[1;32min\u001b[0m \u001b[0mrange\u001b[0m\u001b[1;33m(\u001b[0m\u001b[1;36m32\u001b[0m\u001b[1;33m,\u001b[0m \u001b[0mlen\u001b[0m\u001b[1;33m(\u001b[0m\u001b[0margs\u001b[0m\u001b[1;33m)\u001b[0m\u001b[1;33m,\u001b[0m \u001b[1;36m31\u001b[0m\u001b[1;33m)\u001b[0m\u001b[1;33m:\u001b[0m\u001b[1;33m\u001b[0m\u001b[1;33m\u001b[0m\u001b[0m\n",
      "\u001b[1;31mValueError\u001b[0m: shape mismatch: objects cannot be broadcast to a single shape"
     ]
    },
    {
     "data": {
      "image/png": "[encoded data removed]",
      "text/plain": [
       "<Figure size 14745.6x360 with 1 Axes>"
      ]
     },
     "metadata": {
      "needs_background": "light"
     },
     "output_type": "display_data"
    }
   ],
   "source": [
    "# plot probabilities of each state of the graph corresponding to every possible configuration after a cut\n",
    "plt.figure(figsize = (2**n_qubits/2.5,5))\n",
    "plt.xticks(rotation=45)\n",
    "plt.bar(dict_outcomes.values(), dict_outcomes.keys(),width = 0.5)"
   ]
  },
  {
   "cell_type": "code",
   "execution_count": null,
   "id": "activated-division",
   "metadata": {},
   "outputs": [],
   "source": []
  }
 ],
 "metadata": {
  "kernelspec": {
   "display_name": "Python 3",
   "language": "python",
   "name": "python3"
  },
  "language_info": {
   "codemirror_mode": {
    "name": "ipython",
    "version": 3
   },
   "file_extension": ".py",
   "mimetype": "text/x-python",
   "name": "python",
   "nbconvert_exporter": "python",
   "pygments_lexer": "ipython3",
   "version": "3.8.5"
  }
 },
 "nbformat": 4,
 "nbformat_minor": 5
}

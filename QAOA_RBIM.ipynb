{
 "cells": [
  {
   "cell_type": "markdown",
   "id": "dress-strip",
   "metadata": {},
   "source": [
    "# QAOA for random bond Ising model (RBIM)"
   ]
  },
  {
   "cell_type": "code",
   "execution_count": 35,
   "id": "dynamic-funds",
   "metadata": {},
   "outputs": [],
   "source": [
    "import qaoa\n",
    "import qucompsys as qucs\n",
    "import graphs as gr\n",
    "import qutip as qu\n",
    "import numpy as np\n",
    "import matplotlib.pyplot as plt\n",
    "from   matplotlib import cm\n",
    "from   matplotlib.ticker import LinearLocator, FormatStrFormatter\n",
    "import networkx as nx\n",
    "from   networkx.generators.random_graphs import erdos_renyi_graph\n",
    "import configparser\n",
    "import scipy\n",
    "import itertools\n",
    "from collections import Counter\n",
    "\n",
    "import importlib\n",
    "importlib.reload(qaoa)\n",
    "importlib.reload(qucs)\n",
    "\n",
    "%matplotlib inline\n",
    "%config InlineBackened.figure_format = 'svg'"
   ]
  },
  {
   "cell_type": "markdown",
   "id": "ordered-watts",
   "metadata": {},
   "source": [
    "##  0 Define the graph"
   ]
  },
  {
   "cell_type": "code",
   "execution_count": 2,
   "id": "alternate-slope",
   "metadata": {},
   "outputs": [],
   "source": [
    "# grid graph\n",
    "n_nodes = 4\n",
    "nodes = np.arange(0, n_nodes, 1)\n",
    "edges = [(0, 1), (1, 2), (2, 3), (3, 0)]"
   ]
  },
  {
   "cell_type": "code",
   "execution_count": 190,
   "id": "negative-university",
   "metadata": {},
   "outputs": [],
   "source": [
    "# grid graph\n",
    "n_nodes = 9\n",
    "nodes = np.arange(0, n_nodes, 1)\n",
    "edges = [(0, 1), (0,3), (1, 2), (1, 4), (2, 5), (3,4), (3,6), (4, 5), (4, 7), (5,8), (6, 7), (7, 8)]"
   ]
  },
  {
   "cell_type": "code",
   "execution_count": 3,
   "id": "subtle-original",
   "metadata": {},
   "outputs": [],
   "source": [
    "n_qubits = n_nodes\n",
    "graph = nx.Graph()\n",
    "graph.add_nodes_from(nodes)\n",
    "graph.add_edges_from(edges)\n",
    "edges = list(graph.edges)"
   ]
  },
  {
   "cell_type": "markdown",
   "id": "final-product",
   "metadata": {},
   "source": [
    "### 0.1 plot the graph"
   ]
  },
  {
   "cell_type": "code",
   "execution_count": 5,
   "id": "quiet-stadium",
   "metadata": {},
   "outputs": [
    {
     "data": {
      "image/png": "[encoded data removed]",
      "text/plain": [
       "<Figure size 504x504 with 1 Axes>"
      ]
     },
     "metadata": {},
     "output_type": "display_data"
    }
   ],
   "source": [
    "fig = plt.figure(figsize = (7,7))\n",
    "colors = ['r' for node in graph.nodes()]\n",
    "pos = nx.planar_layout(graph)\n",
    "graph_drawing = nx.draw_networkx(graph, node_color=colors, node_size=200, pos = None, alpha=1, with_labels=True)\n",
    "plt.show()"
   ]
  },
  {
   "cell_type": "markdown",
   "id": "absent-diversity",
   "metadata": {},
   "source": [
    "## 1 choose probability"
   ]
  },
  {
   "cell_type": "markdown",
   "id": "comic-velvet",
   "metadata": {},
   "source": [
    "$$H_{RBIM} = -\\sum_{<i,j>}K_{ij}Z_iZ_j,$$\n",
    "\n",
    "$P(K_{ij}) = p\\delta(K_{ij}-K) + (1-p)\\delta(K_{ij}+K) \\; , K>0$"
   ]
  },
  {
   "cell_type": "code",
   "execution_count": 6,
   "id": "tender-relationship",
   "metadata": {},
   "outputs": [
    {
     "data": {
      "text/plain": [
       "array([1, 1, 1, 1])"
      ]
     },
     "execution_count": 6,
     "metadata": {},
     "output_type": "execute_result"
    }
   ],
   "source": [
    "prob = 1 #prbability 0.5 < prob < 1 that the site is ferromagnetic (all 1 or -1), expect phase-transistion at p = 0.88\n",
    "\n",
    "bin_prob_dist = np.random.binomial(1, prob, size=(len(edges),)) # 1 for ferromagnetic link\n",
    "\n",
    "bin_prob_dist"
   ]
  },
  {
   "cell_type": "code",
   "execution_count": 7,
   "id": "complex-beatles",
   "metadata": {},
   "outputs": [
    {
     "data": {
      "text/plain": [
       "array([1, 1, 1, 1])"
      ]
     },
     "execution_count": 7,
     "metadata": {},
     "output_type": "execute_result"
    }
   ],
   "source": [
    "for i, link in enumerate (bin_prob_dist):\n",
    "    if link == 0:\n",
    "        bin_prob_dist[i] = -1\n",
    "bin_prob_dist"
   ]
  },
  {
   "cell_type": "code",
   "execution_count": 109,
   "id": "harmful-adelaide",
   "metadata": {},
   "outputs": [],
   "source": [
    "def binomial_dist (prob, edges):\n",
    "    bin_prob_dist = np.random.binomial(1, prob, size=(len(edges),)) # 1 for ferromagnetic link\n",
    "    for i, link in enumerate (bin_prob_dist):\n",
    "        if link == 0:\n",
    "            bin_prob_dist[i] = -1\n",
    "    return bin_prob_dist"
   ]
  },
  {
   "cell_type": "code",
   "execution_count": 112,
   "id": "funky-cartridge",
   "metadata": {},
   "outputs": [
    {
     "data": {
      "text/plain": [
       "array([-1, -1,  1,  1])"
      ]
     },
     "execution_count": 112,
     "metadata": {},
     "output_type": "execute_result"
    }
   ],
   "source": [
    "binomial_dist(0.5, edges)"
   ]
  },
  {
   "cell_type": "markdown",
   "id": "anticipated-consequence",
   "metadata": {},
   "source": [
    "## 2 Define needed functions"
   ]
  },
  {
   "cell_type": "code",
   "execution_count": 8,
   "id": "desperate-broadcasting",
   "metadata": {},
   "outputs": [],
   "source": [
    "def evaluate_energy_ising(list_z, edges, bin_prob_dist, coupling_const=1):\n",
    "    energy = 0\n",
    "    for i, edge in enumerate(edges):\n",
    "        energy += -bin_prob_dist[i]*list_z[edge[0]]*list_z[edge[1]]\n",
    "    return coupling_const*energy"
   ]
  },
  {
   "cell_type": "code",
   "execution_count": 62,
   "id": "unexpected-postage",
   "metadata": {},
   "outputs": [
    {
     "name": "stdout",
     "output_type": "stream",
     "text": [
      "(1, 1, 1, 1) -4\n",
      "(1, 1, 1, -1) 0\n",
      "(1, 1, -1, 1) 0\n",
      "(1, 1, -1, -1) 0\n",
      "(1, -1, 1, 1) 0\n",
      "(1, -1, 1, -1) 4\n",
      "(1, -1, -1, 1) 0\n",
      "(1, -1, -1, -1) 0\n",
      "(-1, 1, 1, 1) 0\n",
      "(-1, 1, 1, -1) 0\n",
      "(-1, 1, -1, 1) 4\n",
      "(-1, 1, -1, -1) 0\n",
      "(-1, -1, 1, 1) 0\n",
      "(-1, -1, 1, -1) 0\n",
      "(-1, -1, -1, 1) 0\n",
      "(-1, -1, -1, -1) -4\n"
     ]
    }
   ],
   "source": [
    "all_outcomes = itertools.product([1,-1], repeat=n_qubits)\n",
    "for outcome in all_outcomes:\n",
    "    print(outcome, evaluate_energy_ising(outcome, edges, bin_prob_dist))"
   ]
  },
  {
   "cell_type": "code",
   "execution_count": 10,
   "id": "veterinary-terrorism",
   "metadata": {},
   "outputs": [],
   "source": [
    "def evaluate_magnetization_ising(list_z):\n",
    "    \"\"\"This method evaluates the object function of the RBIM\n",
    "    Parameters\n",
    "        z_str : input bit string\n",
    "        edges : edges of the graph\n",
    "    Returns\n",
    "        the integer value the object function\"\"\"\n",
    "\n",
    "    return abs(sum(list_z))"
   ]
  },
  {
   "cell_type": "code",
   "execution_count": 11,
   "id": "judicial-amendment",
   "metadata": {},
   "outputs": [
    {
     "name": "stdout",
     "output_type": "stream",
     "text": [
      "(1, 1, 1, 1) 4\n",
      "(1, 1, 1, -1) 2\n",
      "(1, 1, -1, 1) 2\n",
      "(1, 1, -1, -1) 0\n",
      "(1, -1, 1, 1) 2\n",
      "(1, -1, 1, -1) 0\n",
      "(1, -1, -1, 1) 0\n",
      "(1, -1, -1, -1) 2\n",
      "(-1, 1, 1, 1) 2\n",
      "(-1, 1, 1, -1) 0\n",
      "(-1, 1, -1, 1) 0\n",
      "(-1, 1, -1, -1) 2\n",
      "(-1, -1, 1, 1) 0\n",
      "(-1, -1, 1, -1) 2\n",
      "(-1, -1, -1, 1) 2\n",
      "(-1, -1, -1, -1) 4\n"
     ]
    }
   ],
   "source": [
    "all_outcomes = itertools.product([1,-1], repeat=n_qubits)\n",
    "for outcome in all_outcomes:\n",
    "    print(outcome, evaluate_magnetization_ising(outcome))"
   ]
  },
  {
   "cell_type": "code",
   "execution_count": 12,
   "id": "cellular-blogger",
   "metadata": {},
   "outputs": [],
   "source": [
    "def prob_hamilt_ising(n_qubits, edges, bin_prob_dist, coupling_const=1):\n",
    "    if n_qubits < 2:\n",
    "        raise ValueError('number of qubits must be > 1, but is {}'.format(n_qubits))\n",
    "    list_double_sigmaz = []\n",
    "    for i, edge in enumerate(edges):\n",
    "        list_double_sigmaz.append(\n",
    "            qucs.n_sigmaz(n_qubits,edge[0])*qucs.n_sigmaz(n_qubits,edge[1])*bin_prob_dist[i]\n",
    "            ) \n",
    "    return -sum(list_double_sigmaz)*coupling_const"
   ]
  },
  {
   "cell_type": "code",
   "execution_count": 13,
   "id": "frequent-nerve",
   "metadata": {},
   "outputs": [],
   "source": [
    "def evolution_operator_ising(n_qubits, edges, gammas, betas, bin_prob_dist):\n",
    "    if len(gammas) < 1:\n",
    "        raise ValueError('number of gammas must be > 0, but is {}'.format(len(gammas)))\n",
    "    if len(betas) < 1:\n",
    "        raise ValueError('number of gammas must be > 0, but is {}'.format(len(betas)))\n",
    "    if len(betas) != len(gammas):\n",
    "        raise ValueError('number of gammas must be = number of betas')\n",
    "    if n_qubits < 2:\n",
    "        raise ValueError('number of qubits must be > 1, but is {}'.format(n_qubits))\n",
    "    evol_oper = qucs.n_qeye(n_qubits)\n",
    "    for i in range(len(gammas)):\n",
    "        u_mix_hamilt_i = (-complex(0,betas[i])*qaoa.mix_hamilt(n_qubits)).expm()\n",
    "        #u_prob_hamilt_i = (-complex(0,gammas[i])*qaoa.prob_hamilt(n_qubits, edges)).expm()\n",
    "        u_prob_hamilt_i = (-complex(0,gammas[i])*prob_hamilt_ising(n_qubits, edges, bin_prob_dist)).expm()\n",
    "        evol_oper = u_mix_hamilt_i*u_prob_hamilt_i*evol_oper\n",
    "    return evol_oper"
   ]
  },
  {
   "cell_type": "code",
   "execution_count": 14,
   "id": "center-allocation",
   "metadata": {},
   "outputs": [],
   "source": [
    "def single_qubit_measurement_ising(qstate, qubit_pos):\n",
    "    n_qubits = len(qstate.dims[0])\n",
    "    if qstate.dims[1][0] == 1:\n",
    "        qstate = qu.ket2dm(qstate)\n",
    "    M_i = (qucs.n_proj0(n_qubits, qubit_pos)*qstate)\n",
    "    p0_i = M_i.tr()\n",
    "    #p1_i = (n_proj1(n_qubits, i)*dm_dummy).tr()\n",
    "    if np.random.random_sample() <= p0_i:\n",
    "        outcome = [1]\n",
    "        qstate = M_i/p0_i\n",
    "    else:\n",
    "        outcome = [-1]\n",
    "        qstate = (qucs.n_proj1(n_qubits, qubit_pos)*qstate)/(1-p0_i)\n",
    "    return outcome, qstate"
   ]
  },
  {
   "cell_type": "code",
   "execution_count": 15,
   "id": "first-phoenix",
   "metadata": {},
   "outputs": [],
   "source": [
    "def quantum_measurements_ising(n_samples, qstate):\n",
    "    n_qubits = len(qstate.dims[0])\n",
    "    if qstate.dims[1][0] == 1:\n",
    "        qstate = qu.ket2dm(qstate)\n",
    "    outcomes = []\n",
    "    for j in range(n_samples):\n",
    "        outcome = []\n",
    "        qstate_dummy = qstate.copy()\n",
    "        for i in range(n_qubits):\n",
    "            outcome_i, qstate_dummy = single_qubit_measurement_ising(qstate_dummy, i)\n",
    "            outcome += outcome_i\n",
    "        outcomes.append(outcome)\n",
    "    return outcomes"
   ]
  },
  {
   "cell_type": "code",
   "execution_count": 16,
   "id": "fixed-still",
   "metadata": {},
   "outputs": [],
   "source": [
    "def evaluate_energy_p(params, n_qubits, edges, bin_prob_dist, n_samples):\n",
    "    gammas = params[:int(len(list(params))/2)]\n",
    "    betas = params[int(len(list(params))/2):]\n",
    "    \n",
    "    # initial state (as density matrix):\n",
    "    #dm_init_state = qu.ket2dm(initial_state(n_qubits))\n",
    "    init_state = qaoa.initial_state(n_qubits)\n",
    "    #obtain final state\n",
    "    #dm_fin_state = evolution_operator(n_qubits, edges, gammas, betas)*dm_init_state*evolution_operator(n_qubits, edges, gammas, betas).dag()\n",
    "    fin_state = evolution_operator_ising(n_qubits, edges, gammas, betas, bin_prob_dist)*init_state\n",
    "    #fin_state = qaoa.evolution_operator(n_qubits, edges, gammas, betas)*init_state\n",
    "\n",
    "    \n",
    "    #Perform N measurements on each single qubit of final state\n",
    "    outcomes = quantum_measurements_ising(n_samples, fin_state)\n",
    "    dict_outcomes = {}\n",
    "    for outcome in outcomes:\n",
    "        dict_outcomes[tuple(outcome)] = outcomes.count(outcome)\n",
    "    \n",
    "    #Evaluate Fp\n",
    "    Ep = 0\n",
    "    for outcome_w in dict_outcomes:\n",
    "        Ep += dict_outcomes[outcome_w]*evaluate_energy_ising(outcome_w, edges, bin_prob_dist)\n",
    "    return Ep/n_samples"
   ]
  },
  {
   "cell_type": "code",
   "execution_count": 17,
   "id": "decreased-detective",
   "metadata": {},
   "outputs": [],
   "source": [
    "def evaluate_magnetization_p(params, n_qubits, edges, bin_prob_dist, n_samples):\n",
    "    gammas = params[:int(len(list(params))/2)]\n",
    "    betas = params[int(len(list(params))/2):]\n",
    "    \n",
    "    # initial state (as density matrix):\n",
    "    #dm_init_state = qu.ket2dm(initial_state(n_qubits))\n",
    "    init_state = qaoa.initial_state(n_qubits)\n",
    "    #obtain final state\n",
    "    #dm_fin_state = evolution_operator(n_qubits, edges, gammas, betas)*dm_init_state*evolution_operator(n_qubits, edges, gammas, betas).dag()\n",
    "    fin_state = evolution_operator_ising(n_qubits, edges, gammas, betas, bin_prob_dist)*init_state\n",
    "    \n",
    "    #Perform N measurements on each single qubit of final state\n",
    "    outcomes = quantum_measurements_ising(n_samples, fin_state)\n",
    "    dict_outcomes = {}\n",
    "    for outcome in outcomes:\n",
    "        dict_outcomes[tuple(outcome)] = outcomes.count(outcome)\n",
    "    \n",
    "    #Evaluate Fp\n",
    "    Mp = 0\n",
    "    for outcome_w in dict_outcomes:\n",
    "        Mp += dict_outcomes[outcome_w]*evaluate_magnetization_ising(outcome_w)\n",
    "    return Mp/n_samples"
   ]
  },
  {
   "cell_type": "markdown",
   "id": "perfect-celtic",
   "metadata": {},
   "source": [
    "## 1 Parameters optimization"
   ]
  },
  {
   "cell_type": "markdown",
   "id": "recreational-transsexual",
   "metadata": {},
   "source": [
    "## 1.1 Choose QAOA level and pick initial parameters"
   ]
  },
  {
   "cell_type": "raw",
   "id": "modified-amsterdam",
   "metadata": {},
   "source": [
    "n_levels = 1"
   ]
  },
  {
   "cell_type": "raw",
   "id": "secure-chapel",
   "metadata": {},
   "source": [
    "init_params = 0.01*np.random.rand(2, n_levels)\n",
    "gammas = init_params[0]\n",
    "betas = init_params[1]"
   ]
  },
  {
   "cell_type": "raw",
   "id": "pleased-naples",
   "metadata": {},
   "source": [
    "list_init_params = 0.5*np.random.rand(2*n_levels)\n",
    "list_init_gammas = list_init_params[:n_levels]\n",
    "list_init_betas = list_init_params[n_levels:]"
   ]
  },
  {
   "cell_type": "markdown",
   "id": "clean-federal",
   "metadata": {},
   "source": [
    "## 1.2 Generate initial state"
   ]
  },
  {
   "cell_type": "markdown",
   "id": "incorporate-fellowship",
   "metadata": {},
   "source": [
    "${\\large |s\\rangle = \\sum_{z \\, \\in \\, \\{0,1\\}^n}^{}{|z\\rangle} = |+\\rangle^{\\otimes n}}$"
   ]
  },
  {
   "cell_type": "raw",
   "id": "false-anxiety",
   "metadata": {},
   "source": [
    "# initial state:\n",
    "init_state = qaoa.initial_state(n_qubits)\n",
    "#dm_init_state = qu.ket2dm(qaoa.initial_state(n_qubits))"
   ]
  },
  {
   "cell_type": "markdown",
   "id": "vanilla-failing",
   "metadata": {},
   "source": [
    "## 1.3 Obtain final state"
   ]
  },
  {
   "cell_type": "markdown",
   "id": "authentic-digit",
   "metadata": {},
   "source": [
    "${\\large |\\vec{\\gamma},\\vec{\\beta}\\rangle = U(B,\\beta_p)U(C,\\gamma_p)...U(B,\\beta_1)U(C,\\gamma_1)|s\\rangle}$"
   ]
  },
  {
   "cell_type": "raw",
   "id": "endless-poetry",
   "metadata": {},
   "source": [
    "# obtain final state:\n",
    "optimal_params = optimal_params_scipy\n",
    "#optimal_params = optimal_parameters_Adam_fin_diff\n",
    "optimal_gammas = optimal_params[:n_levels]\n",
    "optimal_betas = optimal_params[n_levels:]\n",
    "fin_state = qaoa.evolution_operator(n_qubits, edges, optimal_gammas, optimal_betas)*init_state\n",
    "#fin_state = evolution_operator_ising(n_qubits, edges, optimal_gammas, optimal_betas, bin_prob_dist)*init_state\n",
    "#dm_fin_state = qaoa.evolution_operator(n_qubits, edges, optimal_gammas, optimal_betas)*dm_init_state*qaoa.evolution_operator(n_qubits, edges, optimal_gammas, optimal_betas).dag()"
   ]
  },
  {
   "cell_type": "markdown",
   "id": "split-tooth",
   "metadata": {},
   "source": [
    "##  1.4 Perform N-computational_basis measurements on $|\\vec{\\gamma},\\vec{\\beta}\\rangle$ and evaluate $F_p$"
   ]
  },
  {
   "cell_type": "markdown",
   "id": "boxed-senegal",
   "metadata": {},
   "source": [
    "the idea is that, for each ($\\gamma,\\beta$), after each measurement I will obtain as outcome one of the elements of the computational basis: $\\{z : z \\in \\{ 0,1 \\}^n\\}$\n",
    "\n",
    "so, after N measurements, I will have each that each possible outcome $z_i$ has been obtained with occurency $w_i$, so $F_p$ will be evaluated as:\n",
    "\n",
    "$$F_p = \\frac{\\sum_{i}^{N}{w_iC(z_i)}}{\\sum_{i}^{N}{w_i}}$$"
   ]
  },
  {
   "cell_type": "raw",
   "id": "unexpected-naples",
   "metadata": {},
   "source": [
    "#Perform N measurements on each single qubit of final state\n",
    "n_samples = 1000\n",
    "outcomes = quantum_measurements_ising(n_samples, fin_state)\n",
    "dict_outcomes = {}\n",
    "for outcome in outcomes:\n",
    "    dict_outcomes[tuple(outcome)] = outcomes.count(outcome)\n",
    "\n",
    "#Evaluate Fp\n",
    "Ep = 0\n",
    "for outcome_w in dict_outcomes:\n",
    "    Ep += dict_outcomes[outcome_w]*evaluate_energy_ising(outcome_w, edges, bin_prob_dist)\n",
    "Ep/n_samples"
   ]
  },
  {
   "cell_type": "raw",
   "id": "competitive-frame",
   "metadata": {},
   "source": [
    "# obtain final state:\n",
    "optimal_params = optimal_params_scipy\n",
    "#optimal_params = optimal_parameters_Adam_fin_diff\n",
    "optimal_gammas = optimal_params[:n_levels]\n",
    "optimal_betas = optimal_params[n_levels:]\n",
    "fin_state = qaoa.evolution_operator(n_qubits, edges, optimal_gammas, optimal_betas)*init_state\n",
    "#fin_state = evolution_operator_ising(n_qubits, edges, optimal_gammas, optimal_betas, bin_prob_dist)*init_state\n",
    "#dm_fin_state = qaoa.evolution_operator(n_qubits, edges, optimal_gammas, optimal_betas)*dm_init_state*qaoa.evolution_operator(n_qubits, edges, optimal_gammas, optimal_betas).dag()"
   ]
  },
  {
   "cell_type": "raw",
   "id": "proud-kazakhstan",
   "metadata": {},
   "source": [
    "# plot probabilities of each state of the graph corresponding to every possible configuration after a cut\n",
    "plt.figure(figsize = (2**n_qubits,6))\n",
    "plt.xticks(rotation=45)\n",
    "x_axis = []\n",
    "for key in dict_outcomes:\n",
    "    x_axis.append(str(key))\n",
    "plt.bar(x_axis, dict_outcomes.values(), width = 0.5)"
   ]
  },
  {
   "cell_type": "markdown",
   "id": "earlier-communications",
   "metadata": {},
   "source": [
    "### 1.5 Parameters update"
   ]
  },
  {
   "cell_type": "raw",
   "id": "guilty-headquarters",
   "metadata": {},
   "source": [
    "# perform M-steps for expectation value of the cost-function\n",
    "n_steps = 5\n",
    "n_levels = 1\n",
    "#parameters = np.array(0.5*np.random.random_sample(2*n_levels))\n",
    "parameters = 0.01*np.random.rand(2*n_levels)\n",
    "eta = 0.001 #con 0.01 si muove troppo lentamente, però con 0.1 oscilla troppo attorno al massimo\n",
    "H_P = prob_hamilt_ising(n_qubits, edges, bin_prob_dist)\n",
    "for i in range(n_steps):\n",
    "    g_t = qaoa.fin_diff_grad(evaluate_energy_p, parameters, args=(n_qubits, edges, bin_prob_dist, 100), increment=0.01)\n",
    "    gammas = parameters[:n_levels]\n",
    "    betas = parameters[n_levels:]\n",
    "    fin_state = evolution_operator_ising(n_qubits, edges, gammas, betas, bin_prob_dist)*init_state\n",
    "    E_p = qu.expect(H_P, fin_state)\n",
    "    parameters = parameters - eta*g_t\n",
    "    if (i + 1) % 1 == 0:\n",
    "            print('in', parameters, 'with grad ', g_t,  \"objective after step {:5d}: {: .7f}\".format(i + 1, E_p))\n",
    "optimal_parameters = parameters\n",
    "print('optimal parameters are ', optimal_parameters)"
   ]
  },
  {
   "cell_type": "code",
   "execution_count": 34,
   "id": "urban-thomas",
   "metadata": {},
   "outputs": [
    {
     "name": "stdout",
     "output_type": "stream",
     "text": [
      "in [0.00446982 0.0062028 ] with grad  [ 2. -2.] objective after step     1:  0.0008871\n",
      "in [-0.04553018  0.0562028 ] with grad  [ 1.2 -2.4] objective after step     2: -0.0807494\n",
      "in [-0.09269544  0.10649817] with grad  [ 2.4 -4. ] objective after step     3: -0.2994593\n",
      "in [-0.14190116  0.15683654] with grad  [ 5.  -2.2] objective after step     4: -0.6311569\n",
      "in [-0.19092928  0.20557713] with grad  [ 6.4 -2.8] objective after step     5: -1.0135127\n",
      "in [-0.24151838  0.25475319] with grad  [ 3.2 -5.2] objective after step     6: -1.4011391\n",
      "in [-0.29083783  0.30615404] with grad  [-0.6 -4.6] objective after step     7: -1.7273369\n",
      "in [-0.32841177  0.358739  ] with grad  [ 1.4 -2. ] objective after step     8: -1.9164194\n",
      "in [-0.3636212   0.40763709] with grad  [ 1.8 -1.2] objective after step     9: -1.9829417\n",
      "in [-0.39830941  0.45154889] with grad  [-1.6  3.8] objective after step    10: -1.9443529\n",
      "in [-0.4205021   0.47189797] with grad  [-1.2  2.2] objective after step    11: -1.8887366\n",
      "in [-0.43412949  0.48064266] with grad  [3.  2.6] objective after step    12: -1.8518027\n",
      "in [-0.45566637  0.47870796] with grad  [2.2 5.2] objective after step    13: -1.8233968\n",
      "in [-0.48092844  0.46081485] with grad  [-2.2  4. ] objective after step    14: -1.8075057\n",
      "in [-0.49321081  0.43455257] with grad  [-4.2  3.6] objective after step    15: -1.8147915\n",
      "in [-0.48798667  0.40287362] with grad  [-2.8  0.8] objective after step    16: -1.8549374\n",
      "in [-0.47411793  0.37443993] with grad  [-2.  -3.8] objective after step    17: -1.8898180\n",
      "in [-0.45589764  0.36368721] with grad  [-2. -1.] objective after step    18: -1.9234103\n",
      "in [-0.43408738  0.35803025] with grad  [-3.  -0.8] objective after step    19: -1.9537171\n",
      "in [-0.40618647  0.35596616] with grad  [-1.2 -0.8] objective after step    20: -1.9755714\n",
      "optimal parameters are  [-0.37915024  0.35689629] and F_1 is -1.9755713964295072\n"
     ]
    }
   ],
   "source": [
    "#Adam\n",
    "#perform it for exp_F_1 (check if this method works properly for p=1 case)\n",
    "n_levels = 1\n",
    "n_steps = 20\n",
    "#parameters = np.array(0.5*np.random.random_sample(2*n_levels)) #check how choose initial params, for pi*rand is too dispersive\n",
    "parameters = 0.01*np.random.rand(2*n_levels)\n",
    "\"\"\"\n",
    "parameters = np.zeros(2*n_levels) # method used in the paper\n",
    "for j in range(2*n_levels):\n",
    "    if j%2 == 0: #for H-p parameters\n",
    "        parameters[j] = j/(2*n_levels) #see SGD paper for reference\n",
    "    else:\n",
    "        parameters[j] = 1 - j/(2*n_levels) #see SDG paper\n",
    "\"\"\"\n",
    "init_state = qaoa.initial_state(n_qubits)\n",
    "beta_1 = 0.8\n",
    "beta_2 = 0.999\n",
    "epsilon = 1e-8\n",
    "m_t = np.zeros(2*n_levels)\n",
    "v_t = np.zeros(2*n_levels)\n",
    "t = 0\n",
    "H_P = prob_hamilt_ising(n_qubits, edges, bin_prob_dist)\n",
    "eta = 0.05 #works also for eta = 0.01, but increases very slowly, and 0.1 oscillates too much around max\n",
    "previous_g_t = np.zeros(2*n_levels)\n",
    "for i in range(n_steps):\n",
    "    g_t = qaoa.fin_diff_grad(evaluate_energy_p, parameters, args=(n_qubits, edges, bin_prob_dist, 100), increment=0.1)\n",
    "    gammas = parameters[:n_levels]\n",
    "    betas = parameters[n_levels:]\n",
    "    fin_state = evolution_operator_ising(n_qubits, edges, gammas, betas, bin_prob_dist)*init_state\n",
    "    E_p_adam = qu.expect(H_P, fin_state)\n",
    "    #if (np.sign(g_t) == -np.sign(previous_g_t)).all() and (np.sign(g_t) == -np.sign(np.ones(2*n_levels))).all():\n",
    "        #break\n",
    "    #if (i + 1) % 1 == 0:\n",
    "    print('in', parameters, 'with grad ', g_t,  \"objective after step {:5d}: {: .7f}\".format(i + 1, E_p_adam))\n",
    "    t = t+1\n",
    "    m_t = beta_1*m_t + (1-beta_1)*g_t\n",
    "    v_t = beta_2*v_t + (1-beta_2)*g_t**2\n",
    "    m_t_hat = m_t/(1-beta_1**t)\n",
    "    v_t_hat = v_t/(1-beta_2**t)\n",
    "    parameters = parameters - eta*m_t_hat/(np.sqrt(v_t_hat) + epsilon)\n",
    "    #previous_g_t = g_t\n",
    "optimal_parameters_Adam_fin_diff = parameters\n",
    "optimal_gammas = optimal_parameters_Adam_fin_diff[:n_levels]\n",
    "optimal_betas = optimal_parameters_Adam_fin_diff[n_levels:]\n",
    "print('optimal parameters are ', optimal_parameters_Adam_fin_diff, 'and F_1 is', qu.expect(H_P, evolution_operator_ising(n_qubits, edges, gammas, betas, bin_prob_dist)*init_state))"
   ]
  },
  {
   "cell_type": "raw",
   "id": "governmental-bruce",
   "metadata": {},
   "source": [
    "#prob = 1 (ferromagnetic)\n",
    "in [0.00753918 0.00366024] with grad  [ 1.4 -0.8] objective after step     1:  0.0008829\n",
    "in [-0.04246082  0.05366024] with grad  [ 2.8 -1.2] objective after step     2: -0.0720047\n",
    "in [-0.09164443  0.10377399] with grad  [ 0.6 -1.8] objective after step     3: -0.2890877\n",
    "in [-0.13324843  0.15411154] with grad  [ 1.4 -2.4] objective after step     4: -0.5875212\n",
    "in [-0.17595996  0.20515518] with grad  [ 4.4 -1.8] objective after step     5: -0.9468697\n",
    "in [-0.22283327  0.25623791] with grad  [ 3.2 -3.8] objective after step     6: -1.3297426\n",
    "in [-0.27178518  0.30851854] with grad  [3.2 2.2] objective after step     7: -1.6711696\n",
    "in [-0.32202844  0.33484591] with grad  [ 0.6 -2.8] objective after step     8: -1.8694240\n",
    "in [-0.36552032  0.36887219] with grad  [-1.  0.] objective after step     9: -1.9791696\n",
    "in [-0.39592212  0.39663242] with grad  [2.2 1. ] objective after step    10: -1.9995863\n",
    "in [-0.42995215  0.41363604] with grad  [2.6 3. ] objective after step    11: -1.9709045\n",
    "in [-0.46804954  0.41111655] with grad  [0.2 0.2] objective after step    12: -1.9046623\n",
    "in [-0.50021683  0.40801371] with grad  [-2.2  2.2] objective after step    13: -1.8144625\n",
    "in [-0.51563139  0.39439633] with grad  [-3.4  1.4] objective after step    14: -1.7629948\n",
    "in [-0.51259283  0.37623176] with grad  [-2.  -0.4] objective after step    15: -1.7705343\n",
    "in [-0.50146852  0.36344499] with grad  [-3.6 -0.4] objective after step    16: -1.8012715\n",
    "in [-0.47802933  0.35512014] with grad  [-3.6 -0.2] objective after step    17: -1.8633753\n",
    "in [-0.4455815   0.34939794] with grad  [-2.2 -1.8] objective after step    18: -1.9261639\n",
    "in [-0.41073374  0.35472686] with grad  [-1.6 -2. ] objective after step    19: -1.9718322\n",
    "in [-0.37600731  0.3698605 ] with grad  [1.4 0.4] objective after step    20: -1.9872226\n",
    "optimal parameters are  [-0.353581    0.38000475] and F_1 is -1.9872225826303598\n",
    "\n",
    "E = -1.88\n",
    "M = 2.28"
   ]
  },
  {
   "cell_type": "code",
   "execution_count": 20,
   "id": "gorgeous-clinic",
   "metadata": {},
   "outputs": [],
   "source": [
    "n_samples = 100\n",
    "outcomes = quantum_measurements_ising(n_samples, fin_state)\n",
    "dict_outcomes = {}\n",
    "for outcome in outcomes:\n",
    "    dict_outcomes[tuple(outcome)] = outcomes.count(outcome)"
   ]
  },
  {
   "cell_type": "code",
   "execution_count": 27,
   "id": "appointed-soccer",
   "metadata": {},
   "outputs": [],
   "source": [
    "max_occurrency = max(list(dict_outcomes.values()))\n",
    "\n",
    "index_max_occurrency = list(dict_outcomes.values()).index(max_occurrency)\n",
    "\n",
    "most_probable_state = list(dict_outcomes.keys())[index_max_occurrency]"
   ]
  },
  {
   "cell_type": "code",
   "execution_count": 33,
   "id": "hourly-harris",
   "metadata": {},
   "outputs": [
    {
     "data": {
      "text/plain": [
       "4"
      ]
     },
     "execution_count": 33,
     "metadata": {},
     "output_type": "execute_result"
    }
   ],
   "source": [
    "M = evaluate_magnetization_ising(most_probable_state)\n",
    "M"
   ]
  },
  {
   "cell_type": "code",
   "execution_count": null,
   "id": "liberal-application",
   "metadata": {},
   "outputs": [],
   "source": []
  },
  {
   "cell_type": "code",
   "execution_count": 60,
   "id": "intensive-native",
   "metadata": {},
   "outputs": [
    {
     "data": {
      "text/plain": [
       "<BarContainer object of 16 artists>"
      ]
     },
     "execution_count": 60,
     "metadata": {},
     "output_type": "execute_result"
    },
    {
     "data": {
      "image/png": "[encoded data removed]",
      "text/plain": [
       "<Figure size 1152x432 with 1 Axes>"
      ]
     },
     "metadata": {
      "needs_background": "light"
     },
     "output_type": "display_data"
    }
   ],
   "source": [
    "# plot probabilities of each state of the graph corresponding to every possible configuration after a cut\n",
    "plt.figure(figsize = (2**n_qubits,6))\n",
    "plt.xticks(rotation=45)\n",
    "x_axis = []\n",
    "for key in dict_outcomes:\n",
    "    x_axis.append(str(key))\n",
    "plt.bar(x_axis, dict_outcomes.values(), width = 0.5)"
   ]
  },
  {
   "cell_type": "code",
   "execution_count": 188,
   "id": "related-czech",
   "metadata": {},
   "outputs": [
    {
     "data": {
      "text/plain": [
       "-2.08"
      ]
     },
     "execution_count": 188,
     "metadata": {},
     "output_type": "execute_result"
    }
   ],
   "source": [
    "evaluate_energy_p(optimal_parameters_Adam_fin_diff, n_qubits, edges, bin_prob_dist, 100)"
   ]
  },
  {
   "cell_type": "code",
   "execution_count": 189,
   "id": "capable-insight",
   "metadata": {},
   "outputs": [
    {
     "data": {
      "text/plain": [
       "1.9"
      ]
     },
     "execution_count": 189,
     "metadata": {},
     "output_type": "execute_result"
    }
   ],
   "source": [
    "evaluate_magnetization_p(optimal_parameters_Adam_fin_diff, n_qubits, edges, bin_prob_dist, 100)"
   ]
  },
  {
   "cell_type": "code",
   "execution_count": 36,
   "id": "decent-interpretation",
   "metadata": {},
   "outputs": [],
   "source": [
    "# obtain final state:\n",
    "#optimal_params = optimal_params_scipy\n",
    "optimal_params = optimal_parameters_Adam_fin_diff\n",
    "optimal_gammas = optimal_params[:n_levels]\n",
    "optimal_betas = optimal_params[n_levels:]\n",
    "#fin_state = qaoa.evolution_operator(n_qubits, edges, optimal_gammas, optimal_betas)*init_state\n",
    "fin_state = evolution_operator_ising(n_qubits, edges, optimal_gammas, optimal_betas, bin_prob_dist)*init_state\n",
    "#dm_fin_state = qaoa.evolution_operator(n_qubits, edges, optimal_gammas, optimal_betas)*dm_init_state*qaoa.evolution_operator(n_qubits, edges, optimal_gammas, optimal_betas).dag()"
   ]
  },
  {
   "cell_type": "code",
   "execution_count": 37,
   "id": "welcome-niger",
   "metadata": {},
   "outputs": [],
   "source": [
    "prob_dist_fin_state = qucs.comp_basis_prob_dist(fin_state)"
   ]
  },
  {
   "cell_type": "code",
   "execution_count": 80,
   "id": "multiple-composer",
   "metadata": {},
   "outputs": [
    {
     "name": "stdout",
     "output_type": "stream",
     "text": [
      "[1, 1, 1, 1]\n",
      "[1, 1, 1, -1]\n",
      "[1, 1, -1, 1]\n",
      "[1, 1, -1, -1]\n",
      "[1, -1, 1, 1]\n",
      "[1, -1, 1, -1]\n",
      "[1, -1, -1, 1]\n",
      "[1, -1, -1, -1]\n",
      "[-1, 1, 1, 1]\n",
      "[-1, 1, 1, -1]\n",
      "[-1, 1, -1, 1]\n",
      "[-1, 1, -1, -1]\n",
      "[-1, -1, 1, 1]\n",
      "[-1, -1, 1, -1]\n",
      "[-1, -1, -1, 1]\n",
      "[-1, -1, -1, -1]\n"
     ]
    }
   ],
   "source": [
    "all_outcomes = itertools.product([1,-1], repeat=n_qubits)\n",
    "for i in all_outcomes:\n",
    "    print(str(list(i)))\n"
   ]
  },
  {
   "cell_type": "code",
   "execution_count": 57,
   "id": "verified-joshua",
   "metadata": {},
   "outputs": [
    {
     "ename": "TypeError",
     "evalue": "'itertools.product' object is not subscriptable",
     "output_type": "error",
     "traceback": [
      "\u001b[1;31m---------------------------------------------------------------------------\u001b[0m",
      "\u001b[1;31mTypeError\u001b[0m                                 Traceback (most recent call last)",
      "\u001b[1;32m<ipython-input-57-e2bf43b26d9f>\u001b[0m in \u001b[0;36m<module>\u001b[1;34m\u001b[0m\n\u001b[1;32m----> 1\u001b[1;33m \u001b[0mall_outcomes\u001b[0m\u001b[1;33m[\u001b[0m\u001b[1;36m1\u001b[0m\u001b[1;33m]\u001b[0m\u001b[1;33m\u001b[0m\u001b[1;33m\u001b[0m\u001b[0m\n\u001b[0m",
      "\u001b[1;31mTypeError\u001b[0m: 'itertools.product' object is not subscriptable"
     ]
    }
   ],
   "source": [
    "all_outcomes"
   ]
  },
  {
   "cell_type": "code",
   "execution_count": 105,
   "id": "direct-lambda",
   "metadata": {},
   "outputs": [
    {
     "data": {
      "text/plain": [
       "['[1, 1, 1, 1]',\n",
       " '[1, 1, 1, -1]',\n",
       " '[1, 1, -1, 1]',\n",
       " '[1, 1, -1, -1]',\n",
       " '[1, -1, 1, 1]',\n",
       " '[1, -1, 1, -1]',\n",
       " '[1, -1, -1, 1]',\n",
       " '[1, -1, -1, -1]',\n",
       " '[-1, 1, 1, 1]',\n",
       " '[-1, 1, 1, -1]',\n",
       " '[-1, 1, -1, 1]',\n",
       " '[-1, 1, -1, -1]',\n",
       " '[-1, -1, 1, 1]',\n",
       " '[-1, -1, 1, -1]',\n",
       " '[-1, -1, -1, 1]',\n",
       " '[-1, -1, -1, -1]']"
      ]
     },
     "execution_count": 105,
     "metadata": {},
     "output_type": "execute_result"
    }
   ],
   "source": [
    "all_outcomes = itertools.product([1,-1], repeat=n_qubits)\n",
    "xtick_labels = []\n",
    "for outcome in all_outcomes:\n",
    "    xtick_labels.append(str(list(outcome)))    \n",
    "xtick_labels"
   ]
  },
  {
   "cell_type": "code",
   "execution_count": 97,
   "id": "criminal-involvement",
   "metadata": {},
   "outputs": [
    {
     "data": {
      "text/plain": [
       "list"
      ]
     },
     "execution_count": 97,
     "metadata": {},
     "output_type": "execute_result"
    }
   ],
   "source": [
    "type(xtick_labels)"
   ]
  },
  {
   "cell_type": "code",
   "execution_count": 85,
   "id": "ordinary-archives",
   "metadata": {},
   "outputs": [
    {
     "data": {
      "text/plain": [
       "(16,)"
      ]
     },
     "execution_count": 85,
     "metadata": {},
     "output_type": "execute_result"
    }
   ],
   "source": [
    "x_axis = np.array(xtick_labels)\n",
    "x_axis.shape"
   ]
  },
  {
   "cell_type": "code",
   "execution_count": 86,
   "id": "opening-advocate",
   "metadata": {},
   "outputs": [
    {
     "data": {
      "text/plain": [
       "array(['-1, -1, -1, -1', '-1, -1, -1, -1', '-1, -1, -1, -1',\n",
       "       '-1, -1, -1, -1', '-1, -1, -1, -1', '-1, -1, -1, -1',\n",
       "       '-1, -1, -1, -1', '-1, -1, -1, -1', '-1, -1, -1, -1',\n",
       "       '-1, -1, -1, -1', '-1, -1, -1, -1', '-1, -1, -1, -1',\n",
       "       '-1, -1, -1, -1', '-1, -1, -1, -1', '-1, -1, -1, -1',\n",
       "       '-1, -1, -1, -1'], dtype='<U14')"
      ]
     },
     "execution_count": 86,
     "metadata": {},
     "output_type": "execute_result"
    }
   ],
   "source": [
    "x_axis"
   ]
  },
  {
   "cell_type": "code",
   "execution_count": 93,
   "id": "photographic-colleague",
   "metadata": {},
   "outputs": [
    {
     "ename": "TypeError",
     "evalue": "format() argument 2 must be str, not list",
     "output_type": "error",
     "traceback": [
      "\u001b[1;31m---------------------------------------------------------------------------\u001b[0m",
      "\u001b[1;31mTypeError\u001b[0m                                 Traceback (most recent call last)",
      "\u001b[1;32m<ipython-input-93-c043fa7652e7>\u001b[0m in \u001b[0;36m<module>\u001b[1;34m\u001b[0m\n\u001b[0;32m      1\u001b[0m \u001b[0mxticks\u001b[0m \u001b[1;33m=\u001b[0m \u001b[0mrange\u001b[0m\u001b[1;33m(\u001b[0m\u001b[1;36m0\u001b[0m\u001b[1;33m,\u001b[0m\u001b[1;36m2\u001b[0m\u001b[1;33m**\u001b[0m\u001b[1;33m(\u001b[0m\u001b[0mn_qubits\u001b[0m\u001b[1;33m)\u001b[0m\u001b[1;33m)\u001b[0m\u001b[1;33m\u001b[0m\u001b[1;33m\u001b[0m\u001b[0m\n\u001b[1;32m----> 2\u001b[1;33m \u001b[0mxtick_labels\u001b[0m \u001b[1;33m=\u001b[0m \u001b[0mlist\u001b[0m\u001b[1;33m(\u001b[0m\u001b[0mmap\u001b[0m\u001b[1;33m(\u001b[0m\u001b[1;32mlambda\u001b[0m \u001b[0mx\u001b[0m\u001b[1;33m:\u001b[0m \u001b[0mformat\u001b[0m\u001b[1;33m(\u001b[0m\u001b[0mx\u001b[0m\u001b[1;33m,\u001b[0m \u001b[0mxtick_labels\u001b[0m\u001b[1;33m)\u001b[0m\u001b[1;33m,\u001b[0m \u001b[0mxticks\u001b[0m\u001b[1;33m)\u001b[0m\u001b[1;33m)\u001b[0m\u001b[1;33m\u001b[0m\u001b[1;33m\u001b[0m\u001b[0m\n\u001b[0m",
      "\u001b[1;32m<ipython-input-93-c043fa7652e7>\u001b[0m in \u001b[0;36m<lambda>\u001b[1;34m(x)\u001b[0m\n\u001b[0;32m      1\u001b[0m \u001b[0mxticks\u001b[0m \u001b[1;33m=\u001b[0m \u001b[0mrange\u001b[0m\u001b[1;33m(\u001b[0m\u001b[1;36m0\u001b[0m\u001b[1;33m,\u001b[0m\u001b[1;36m2\u001b[0m\u001b[1;33m**\u001b[0m\u001b[1;33m(\u001b[0m\u001b[0mn_qubits\u001b[0m\u001b[1;33m)\u001b[0m\u001b[1;33m)\u001b[0m\u001b[1;33m\u001b[0m\u001b[1;33m\u001b[0m\u001b[0m\n\u001b[1;32m----> 2\u001b[1;33m \u001b[0mxtick_labels\u001b[0m \u001b[1;33m=\u001b[0m \u001b[0mlist\u001b[0m\u001b[1;33m(\u001b[0m\u001b[0mmap\u001b[0m\u001b[1;33m(\u001b[0m\u001b[1;32mlambda\u001b[0m \u001b[0mx\u001b[0m\u001b[1;33m:\u001b[0m \u001b[0mformat\u001b[0m\u001b[1;33m(\u001b[0m\u001b[0mx\u001b[0m\u001b[1;33m,\u001b[0m \u001b[0mxtick_labels\u001b[0m\u001b[1;33m)\u001b[0m\u001b[1;33m,\u001b[0m \u001b[0mxticks\u001b[0m\u001b[1;33m)\u001b[0m\u001b[1;33m)\u001b[0m\u001b[1;33m\u001b[0m\u001b[1;33m\u001b[0m\u001b[0m\n\u001b[0m",
      "\u001b[1;31mTypeError\u001b[0m: format() argument 2 must be str, not list"
     ]
    }
   ],
   "source": [
    "xticks = range(0,2**(n_qubits))\n",
    "xtick_labels = list(map(lambda x: format(x, xtick_labels), xticks))"
   ]
  },
  {
   "cell_type": "code",
   "execution_count": 132,
   "id": "moral-dutch",
   "metadata": {},
   "outputs": [
    {
     "data": {
      "text/plain": [
       "[0.2569669918945841,\n",
       " 0.01828303438402278,\n",
       " 0.018283034384022793,\n",
       " 0.08000564131073587,\n",
       " 0.01828303438402278,\n",
       " 0.009889587947852477,\n",
       " 0.08000564131073584,\n",
       " 0.018283034384022793,\n",
       " 0.018283034384022786,\n",
       " 0.08000564131073584,\n",
       " 0.009889587947852477,\n",
       " 0.018283034384022772,\n",
       " 0.08000564131073581,\n",
       " 0.018283034384022786,\n",
       " 0.018283034384022786,\n",
       " 0.2569669918945842]"
      ]
     },
     "execution_count": 132,
     "metadata": {},
     "output_type": "execute_result"
    }
   ],
   "source": [
    "prob_dist_fin_state"
   ]
  },
  {
   "cell_type": "code",
   "execution_count": 126,
   "id": "residential-province",
   "metadata": {},
   "outputs": [],
   "source": [
    "prob_dists = []\n",
    "for i in range(5):\n",
    "    prob_dists.append(np.array(prob_dist_fin_state))"
   ]
  },
  {
   "cell_type": "code",
   "execution_count": 131,
   "id": "black-decision",
   "metadata": {},
   "outputs": [
    {
     "data": {
      "text/plain": [
       "[0.2569669918945841,\n",
       " 0.01828303438402278,\n",
       " 0.018283034384022793,\n",
       " 0.08000564131073587,\n",
       " 0.01828303438402278,\n",
       " 0.009889587947852477,\n",
       " 0.08000564131073584,\n",
       " 0.018283034384022793,\n",
       " 0.018283034384022786,\n",
       " 0.08000564131073584,\n",
       " 0.009889587947852477,\n",
       " 0.018283034384022772,\n",
       " 0.08000564131073581,\n",
       " 0.018283034384022786,\n",
       " 0.018283034384022786,\n",
       " 0.2569669918945842]"
      ]
     },
     "execution_count": 131,
     "metadata": {},
     "output_type": "execute_result"
    }
   ],
   "source": [
    "list(sum(prob_dists)/5)"
   ]
  },
  {
   "cell_type": "code",
   "execution_count": 128,
   "id": "cultural-consensus",
   "metadata": {},
   "outputs": [
    {
     "data": {
      "text/plain": [
       "array([0.25696699, 0.01828303, 0.01828303, 0.08000564, 0.01828303,\n",
       "       0.00988959, 0.08000564, 0.01828303, 0.01828303, 0.08000564,\n",
       "       0.00988959, 0.01828303, 0.08000564, 0.01828303, 0.01828303,\n",
       "       0.25696699])"
      ]
     },
     "execution_count": 128,
     "metadata": {},
     "output_type": "execute_result"
    }
   ],
   "source": [
    "np.array(prob_dist_fin_state)"
   ]
  },
  {
   "cell_type": "code",
   "execution_count": 106,
   "id": "another-annex",
   "metadata": {},
   "outputs": [
    {
     "name": "stdout",
     "output_type": "stream",
     "text": [
      "0 [1, 1, 1, 1]\n",
      "1 [1, 1, 1, -1]\n",
      "2 [1, 1, -1, 1]\n",
      "3 [1, 1, -1, -1]\n",
      "4 [1, -1, 1, 1]\n",
      "5 [1, -1, 1, -1]\n",
      "6 [1, -1, -1, 1]\n",
      "7 [1, -1, -1, -1]\n",
      "8 [-1, 1, 1, 1]\n",
      "9 [-1, 1, 1, -1]\n",
      "10 [-1, 1, -1, 1]\n",
      "11 [-1, 1, -1, -1]\n",
      "12 [-1, -1, 1, 1]\n",
      "13 [-1, -1, 1, -1]\n",
      "14 [-1, -1, -1, 1]\n",
      "15 [-1, -1, -1, -1]\n"
     ]
    }
   ],
   "source": [
    "dict_prob = {}\n",
    "for i, label in enumerate(xtick_labels):\n",
    "    print(i, label)\n",
    "    dict_prob[label] = prob_dist_fin_state[i]"
   ]
  },
  {
   "cell_type": "code",
   "execution_count": 102,
   "id": "adopted-development",
   "metadata": {},
   "outputs": [
    {
     "data": {
      "text/plain": [
       "{'-1, -1, -1, -1': 0.2569669918945842}"
      ]
     },
     "execution_count": 102,
     "metadata": {},
     "output_type": "execute_result"
    }
   ],
   "source": [
    "dict_prob"
   ]
  },
  {
   "cell_type": "code",
   "execution_count": 107,
   "id": "innocent-spain",
   "metadata": {},
   "outputs": [
    {
     "data": {
      "text/plain": [
       "<BarContainer object of 16 artists>"
      ]
     },
     "execution_count": 107,
     "metadata": {},
     "output_type": "execute_result"
    },
    {
     "data": {
      "image/png": "[encoded data removed]",
      "text/plain": [
       "<Figure size 1152x1440 with 1 Axes>"
      ]
     },
     "metadata": {
      "needs_background": "light"
     },
     "output_type": "display_data"
    }
   ],
   "source": [
    "# plot probabilities of each state of the graph corresponding to every possible configuration after a cut (using the state)\n",
    "plt.figure(figsize = (2**n_qubits,20))\n",
    "plt.xticks(rotation=45)\n",
    "xticks = range(0,2**(n_qubits-1))\n",
    "plt.bar(xtick_labels,prob_dist_fin_state,width = 0.5)"
   ]
  },
  {
   "cell_type": "raw",
   "id": "annoying-equity",
   "metadata": {},
   "source": [
    "p=0.5\n",
    "in [0.00211625 0.0033408 ] with grad  [-1.   2.6] objective after step     1:  0.0002262\n",
    "in [ 0.05211625 -0.0466592 ] with grad  [-2.   3.4] objective after step     2: -0.0768044\n",
    "in [ 0.10129985 -0.09695155] with grad  [-1.2  2.8] objective after step     3: -0.2981416\n",
    "in [ 0.14941053 -0.14680317] with grad  [-2.4  3.8] objective after step     4: -0.6235140\n",
    "in [ 0.1993651  -0.19755421] with grad  [-3.6  4.6] objective after step     5: -1.0168539\n",
    "in [ 0.25053791 -0.24933228] with grad  [-3.  5.] objective after step     6: -1.4156630\n",
    "in [ 0.30263732 -0.30202614] with grad  [-3.   0.6] objective after step     7: -1.7498617\n",
    "in [ 0.3553109 -0.3466124] with grad  [-4.  -0.4] objective after step     8: -1.9441663\n",
    "in [ 0.40950628 -0.38134279] with grad  [1.2 0.8] objective after step     9: -1.9934236\n",
    "in [ 0.44785232 -0.4125311 ] with grad  [ 1. -2.] objective after step    10: -1.9453898\n",
    "in [ 0.47445458 -0.43008862] with grad  [ 6.2 -1.6] objective after step    11: -1.8728635\n",
    "in [ 0.46907647 -0.43830388] with grad  [3.  1.6] objective after step    12: -1.8757397\n",
    "in [ 0.45417396 -0.45099973] with grad  [ 3.  -0.4] objective after step    13: -1.8873286\n",
    "in [ 0.4318937 -0.4598618] with grad  [-0.8 -4.2] objective after step    14: -1.9046104\n",
    "in [ 0.41652687 -0.45120137] with grad  [2.2 0.4] objective after step    15: -1.9366592\n",
    "in [ 0.39622329 -0.44559701] with grad  [ 1.8 -3.2] objective after step    16: -1.9552014\n",
    "in [ 0.37320245 -0.42941547] with grad  [-1.  -0.4] objective after step    17: -1.9724559\n",
    "in [ 0.35812974 -0.41464578] with grad  [-1.2  1.2] objective after step    18: -1.9732818\n",
    "in [ 0.35040728 -0.40721851] with grad  [ 0.4 -1.4] objective after step    19: -1.9681267\n",
    "in [ 0.3425296  -0.39571893] with grad  [0.6 1. ] objective after step    20: -1.9597204\n",
    "optimal parameters are  [ 0.33370514 -0.39031928] and F_1 is -1.9597203521485749\n",
    "\n",
    "E = -2\n",
    "M = 1.9"
   ]
  },
  {
   "cell_type": "code",
   "execution_count": 187,
   "id": "least-school",
   "metadata": {},
   "outputs": [
    {
     "data": {
      "text/plain": [
       "<BarContainer object of 15 artists>"
      ]
     },
     "execution_count": 187,
     "metadata": {},
     "output_type": "execute_result"
    },
    {
     "data": {
      "image/png": "[encoded data removed]",
      "text/plain": [
       "<Figure size 1152x432 with 1 Axes>"
      ]
     },
     "metadata": {
      "needs_background": "light"
     },
     "output_type": "display_data"
    }
   ],
   "source": [
    "# plot probabilities of each state of the graph corresponding to every possible configuration after a cut\n",
    "plt.figure(figsize = (2**n_qubits,6))\n",
    "plt.xticks(rotation=45)\n",
    "x_axis = []\n",
    "for key in dict_outcomes:\n",
    "    x_axis.append(str(key))\n",
    "plt.bar(x_axis, dict_outcomes.values(), width = 0.5)"
   ]
  },
  {
   "cell_type": "markdown",
   "id": "dominican-leather",
   "metadata": {},
   "source": [
    "## Evaluate E and M for different prob"
   ]
  },
  {
   "cell_type": "code",
   "execution_count": 133,
   "id": "developing-albert",
   "metadata": {},
   "outputs": [
    {
     "data": {
      "text/plain": [
       "array([1.  , 0.98, 0.96, 0.94, 0.92, 0.9 , 0.88, 0.86, 0.84])"
      ]
     },
     "execution_count": 133,
     "metadata": {},
     "output_type": "execute_result"
    }
   ],
   "source": [
    "probabilities = np.arange(1, 0.84, -0.02)\n",
    "probabilities"
   ]
  },
  {
   "cell_type": "code",
   "execution_count": 132,
   "id": "spatial-intelligence",
   "metadata": {},
   "outputs": [
    {
     "name": "stdout",
     "output_type": "stream",
     "text": [
      "0.84\n",
      "0.86\n",
      "0.88\n",
      "0.9\n",
      "0.92\n",
      "0.9400000000000001\n",
      "0.9600000000000001\n",
      "0.9800000000000001\n",
      "1.0\n"
     ]
    }
   ],
   "source": [
    "n_levels = 1\n",
    "n_steps = 20\n",
    "eta = 0.05\n",
    "beta_1 = 0.8\n",
    "beta_2 = 0.999\n",
    "epsilon = 1e-8\n",
    "N = 10\n",
    "prob_E_M = []\n",
    "n_steps = 20\n",
    "\n",
    "for prob in probabilities:\n",
    "    energies = []\n",
    "    magnetizations = []\n",
    "    for i in range(N):\n",
    "        \n",
    "        #define bin_prob_dist\n",
    "        bin_prob_dist = np.random.binomial(1, prob, size=(len(edges),))\n",
    "        for i, link in enumerate (bin_prob_dist):\n",
    "            if link == 0:\n",
    "                bin_prob_dist[i] = -1\n",
    "                \n",
    "        #Adam\n",
    "        parameters = 0.01*np.random.rand(2*n_levels)\n",
    "        m_t = np.zeros(2*n_levels)\n",
    "        v_t = np.zeros(2*n_levels)\n",
    "        t = 0\n",
    "        for i in range(n_steps):\n",
    "            g_t = qaoa.fin_diff_grad(evaluate_energy_p, parameters, args=(n_qubits, edges, bin_prob_dist, 100), increment=0.1)\n",
    "            t = t+1\n",
    "            m_t = beta_1*m_t + (1-beta_1)*g_t\n",
    "            v_t = beta_2*v_t + (1-beta_2)*g_t**2\n",
    "            m_t_hat = m_t/(1-beta_1**t)\n",
    "            v_t_hat = v_t/(1-beta_2**t)\n",
    "            parameters = parameters - eta*m_t_hat/(np.sqrt(v_t_hat) + epsilon)\n",
    "        \n",
    "        #evalute estimations of energy and magnetization\n",
    "        energy = evaluate_energy_p(parameters, n_qubits, edges, bin_prob_dist, 1000)\n",
    "        energies.append(energy)\n",
    "        magnetization = evaluate_magnetization_p(parameters, n_qubits, edges, bin_prob_dist, 1000)\n",
    "        magnetizations.append(magnetization)\n",
    "        \n",
    "    #store results in a list\n",
    "    mean_en = sum(energies)/N\n",
    "    mean_mag = sum(magnetizations)/N\n",
    "    prob_E_M.append([prob, mean_en, mean_mag])\n",
    "\n",
    "#store result in a file\n",
    "np.savetxt('Ising_4nodes_prob_en_mag', prob_E_M)"
   ]
  },
  {
   "cell_type": "code",
   "execution_count": 158,
   "id": "velvet-antibody",
   "metadata": {},
   "outputs": [],
   "source": [
    "results = np.loadtxt('Ising_4nodes_prob_en_mag.txt')"
   ]
  },
  {
   "cell_type": "code",
   "execution_count": 159,
   "id": "organizational-affair",
   "metadata": {},
   "outputs": [
    {
     "data": {
      "text/plain": [
       "array([[ 0.8   , -1.9016,  1.9212],\n",
       "       [ 0.82  , -1.8284,  2.19  ],\n",
       "       [ 0.84  , -1.8532,  1.9516],\n",
       "       [ 0.86  , -1.8484,  2.102 ],\n",
       "       [ 0.88  , -1.844 ,  2.1342],\n",
       "       [ 0.9   , -1.6944,  2.1246],\n",
       "       [ 0.92  , -1.9292,  2.224 ],\n",
       "       [ 0.94  , -1.878 ,  2.3348],\n",
       "       [ 0.96  , -1.804 ,  2.277 ],\n",
       "       [ 0.98  , -1.7688,  2.264 ]])"
      ]
     },
     "execution_count": 159,
     "metadata": {},
     "output_type": "execute_result"
    }
   ],
   "source": [
    "results"
   ]
  },
  {
   "cell_type": "code",
   "execution_count": null,
   "id": "heard-principal",
   "metadata": {},
   "outputs": [],
   "source": [
    "results = np.load('')"
   ]
  },
  {
   "cell_type": "code",
   "execution_count": 113,
   "id": "collectible-bronze",
   "metadata": {},
   "outputs": [
    {
     "data": {
      "text/plain": [
       "array([1.  , 0.98, 0.96, 0.94, 0.92, 0.9 , 0.88, 0.86, 0.84, 0.82, 0.8 ,\n",
       "       0.78, 0.76, 0.74, 0.72, 0.7 ])"
      ]
     },
     "execution_count": 113,
     "metadata": {},
     "output_type": "execute_result"
    }
   ],
   "source": [
    "probabilities = np.arange(1, 0.7, -0.02)\n",
    "probabilities"
   ]
  },
  {
   "cell_type": "code",
   "execution_count": 117,
   "id": "maritime-buffer",
   "metadata": {},
   "outputs": [],
   "source": [
    "file = open(\"file.dat\", 'a')"
   ]
  },
  {
   "cell_type": "code",
   "execution_count": 118,
   "id": "soviet-regard",
   "metadata": {},
   "outputs": [],
   "source": [
    "np.savetxt(file, probabilities)"
   ]
  },
  {
   "cell_type": "code",
   "execution_count": 119,
   "id": "unlimited-wright",
   "metadata": {},
   "outputs": [],
   "source": [
    "file.close()"
   ]
  },
  {
   "cell_type": "code",
   "execution_count": null,
   "id": "thrown-blame",
   "metadata": {},
   "outputs": [],
   "source": []
  }
 ],
 "metadata": {
  "kernelspec": {
   "display_name": "Python 3",
   "language": "python",
   "name": "python3"
  },
  "language_info": {
   "codemirror_mode": {
    "name": "ipython",
    "version": 3
   },
   "file_extension": ".py",
   "mimetype": "text/x-python",
   "name": "python",
   "nbconvert_exporter": "python",
   "pygments_lexer": "ipython3",
   "version": "3.8.5"
  }
 },
 "nbformat": 4,
 "nbformat_minor": 5
}

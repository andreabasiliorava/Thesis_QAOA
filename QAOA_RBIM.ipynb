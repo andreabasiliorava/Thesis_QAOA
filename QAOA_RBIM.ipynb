{
 "cells": [
  {
   "cell_type": "markdown",
   "id": "valuable-framing",
   "metadata": {},
   "source": [
    "# QAOA for random bond Ising model (RBIM)"
   ]
  },
  {
   "cell_type": "code",
   "execution_count": 1,
   "id": "novel-arlington",
   "metadata": {},
   "outputs": [],
   "source": [
    "import qaoa\n",
    "import qucompsys as qucs\n",
    "import graphs as gr\n",
    "import qutip as qu\n",
    "import numpy as np\n",
    "import matplotlib.pyplot as plt\n",
    "from   matplotlib import cm\n",
    "from   matplotlib.ticker import LinearLocator, FormatStrFormatter\n",
    "import networkx as nx\n",
    "from   networkx.generators.random_graphs import erdos_renyi_graph\n",
    "import configparser\n",
    "import scipy\n",
    "import itertools\n",
    "from collections import Counter\n",
    "\n",
    "import importlib\n",
    "importlib.reload(qaoa)\n",
    "importlib.reload(qucs)\n",
    "\n",
    "%matplotlib inline\n",
    "%config InlineBackened.figure_format = 'svg'"
   ]
  },
  {
   "cell_type": "markdown",
   "id": "favorite-feedback",
   "metadata": {},
   "source": [
    "##  0 Define the graph"
   ]
  },
  {
   "cell_type": "code",
   "execution_count": 125,
   "id": "joint-notebook",
   "metadata": {},
   "outputs": [],
   "source": [
    "# grid graph\n",
    "n_nodes = 4\n",
    "nodes = np.arange(0, n_nodes, 1)\n",
    "edges = [(0, 1), (1, 2), (2, 3), (3, 0)]"
   ]
  },
  {
   "cell_type": "code",
   "execution_count": 117,
   "id": "limiting-paste",
   "metadata": {},
   "outputs": [],
   "source": [
    "# grid graph\n",
    "n_nodes = 9\n",
    "nodes = np.arange(0, n_nodes, 1)\n",
    "edges = [(0, 1), (0,3), (1, 2), (1, 4), (2, 5), (3,4), (3,6), (4, 5), (4, 7), (5,8), (6, 7), (7, 8)]"
   ]
  },
  {
   "cell_type": "code",
   "execution_count": 126,
   "id": "alpine-skating",
   "metadata": {},
   "outputs": [],
   "source": [
    "n_qubits = n_nodes\n",
    "graph = nx.Graph()\n",
    "graph.add_nodes_from(nodes)\n",
    "graph.add_edges_from(edges)\n",
    "edges = list(graph.edges)"
   ]
  },
  {
   "cell_type": "markdown",
   "id": "intelligent-greek",
   "metadata": {},
   "source": [
    "### 0.1 plot the graph"
   ]
  },
  {
   "cell_type": "code",
   "execution_count": 119,
   "id": "careful-table",
   "metadata": {},
   "outputs": [
    {
     "data": {
      "image/png": "[encoded data removed]",
      "text/plain": [
       "<Figure size 504x504 with 1 Axes>"
      ]
     },
     "metadata": {},
     "output_type": "display_data"
    }
   ],
   "source": [
    "fig = plt.figure(figsize = (7,7))\n",
    "colors = ['r' for node in graph.nodes()]\n",
    "pos = nx.planar_layout(graph)\n",
    "graph_drawing = nx.draw_networkx(graph, node_color=colors, node_size=200, pos = None, alpha=1, with_labels=True)\n",
    "plt.show()"
   ]
  },
  {
   "cell_type": "markdown",
   "id": "adjacent-april",
   "metadata": {},
   "source": [
    "## 1 choose probability"
   ]
  },
  {
   "cell_type": "code",
   "execution_count": 120,
   "id": "opposed-gabriel",
   "metadata": {},
   "outputs": [
    {
     "data": {
      "text/plain": [
       "array([1, 1, 1, 1, 1, 1, 1, 1, 1, 1, 1, 1])"
      ]
     },
     "execution_count": 120,
     "metadata": {},
     "output_type": "execute_result"
    }
   ],
   "source": [
    "prob = 1 #prbability 0.5 < prob < 1 that the site is ferromagnetic (all 1 or -1), expect phase-transistion at p = 0.88\n",
    "\n",
    "bin_prob_dist = np.random.binomial(1, prob, size=(len(edges),)) # 1 for ferromagnetic link\n",
    "\n",
    "bin_prob_dist"
   ]
  },
  {
   "cell_type": "code",
   "execution_count": 121,
   "id": "traditional-jungle",
   "metadata": {},
   "outputs": [
    {
     "data": {
      "text/plain": [
       "array([1, 1, 1, 1, 1, 1, 1, 1, 1, 1, 1, 1])"
      ]
     },
     "execution_count": 121,
     "metadata": {},
     "output_type": "execute_result"
    }
   ],
   "source": [
    "for i, link in enumerate (bin_prob_dist):\n",
    "    if link == 0:\n",
    "        bin_prob_dist[i] = -1\n",
    "bin_prob_dist"
   ]
  },
  {
   "cell_type": "markdown",
   "id": "following-brunei",
   "metadata": {},
   "source": [
    "## 2 Define needed functions"
   ]
  },
  {
   "cell_type": "code",
   "execution_count": 7,
   "id": "portable-hepatitis",
   "metadata": {},
   "outputs": [],
   "source": [
    "def evaluate_energy_ising(list_z, edges, bin_prob_dist, coupling_const=1):\n",
    "    energy = 0\n",
    "    for i, edge in enumerate(edges):\n",
    "        energy += -bin_prob_dist[i]*list_z[edge[0]]*list_z[edge[1]]\n",
    "    return coupling_const*energy"
   ]
  },
  {
   "cell_type": "raw",
   "id": "eligible-dublin",
   "metadata": {},
   "source": [
    "all_outcomes = itertools.product([1,-1], repeat=n_qubits)\n",
    "for outcome in all_outcomes:\n",
    "    print(outcome, evaluate_energy_ising(outcome, edges, bin_prob_dist))"
   ]
  },
  {
   "cell_type": "code",
   "execution_count": 114,
   "id": "passive-denver",
   "metadata": {},
   "outputs": [],
   "source": [
    "def evaluate_magnetization_ising(list_z):\n",
    "    \"\"\"This method evaluates the object function of the RBIM\n",
    "    Parameters\n",
    "        z_str : input bit string\n",
    "        edges : edges of the graph\n",
    "    Returns\n",
    "        the integer value the object function\"\"\"\n",
    "\n",
    "    return abs(sum(list_z))"
   ]
  },
  {
   "cell_type": "raw",
   "id": "oriental-phase",
   "metadata": {},
   "source": [
    "all_outcomes = itertools.product([1,-1], repeat=n_qubits)\n",
    "for outcome in all_outcomes:\n",
    "    print(outcome, evaluate_magnetization_ising(outcome))"
   ]
  },
  {
   "cell_type": "code",
   "execution_count": 17,
   "id": "practical-terry",
   "metadata": {},
   "outputs": [],
   "source": [
    "def prob_hamilt_ising(n_qubits, edges, bin_prob_dist, coupling_const=1):\n",
    "    if n_qubits < 2:\n",
    "        raise ValueError('number of qubits must be > 1, but is {}'.format(n_qubits))\n",
    "    list_double_sigmaz = []\n",
    "    for i, edge in enumerate(edges):\n",
    "        list_double_sigmaz.append(\n",
    "            qucs.n_sigmaz(n_qubits,edge[0])*qucs.n_sigmaz(n_qubits,edge[1])#*bin_prob_dist[i]\n",
    "            ) \n",
    "    return -sum(list_double_sigmaz)*coupling_const"
   ]
  },
  {
   "cell_type": "code",
   "execution_count": 52,
   "id": "divided-victoria",
   "metadata": {},
   "outputs": [],
   "source": [
    "def evolution_operator_ising(n_qubits, edges, gammas, betas, bin_prob_dist):\n",
    "    if len(gammas) < 1:\n",
    "        raise ValueError('number of gammas must be > 0, but is {}'.format(len(gammas)))\n",
    "    if len(betas) < 1:\n",
    "        raise ValueError('number of gammas must be > 0, but is {}'.format(len(betas)))\n",
    "    if len(betas) != len(gammas):\n",
    "        raise ValueError('number of gammas must be = number of betas')\n",
    "    if n_qubits < 2:\n",
    "        raise ValueError('number of qubits must be > 1, but is {}'.format(n_qubits))\n",
    "    evol_oper = qucs.n_qeye(n_qubits)\n",
    "    for i in range(len(gammas)):\n",
    "        u_mix_hamilt_i = (-complex(0,betas[i])*qaoa.mix_hamilt(n_qubits)).expm()\n",
    "        #u_prob_hamilt_i = (-complex(0,gammas[i])*qaoa.prob_hamilt(n_qubits, edges)).expm()\n",
    "        u_prob_hamilt_i = (-complex(0,gammas[i])*prob_hamilt_ising(n_qubits, edges, bin_prob_dist)).expm()\n",
    "        evol_oper = u_mix_hamilt_i*u_prob_hamilt_i*evol_oper\n",
    "    return evol_oper"
   ]
  },
  {
   "cell_type": "code",
   "execution_count": 19,
   "id": "emotional-boating",
   "metadata": {},
   "outputs": [],
   "source": [
    "def single_qubit_measurement_ising(qstate, qubit_pos):\n",
    "    n_qubits = len(qstate.dims[0])\n",
    "    if qstate.dims[1][0] == 1:\n",
    "        qstate = qu.ket2dm(qstate)\n",
    "    M_i = (qucs.n_proj0(n_qubits, qubit_pos)*qstate)\n",
    "    p0_i = M_i.tr()\n",
    "    #p1_i = (n_proj1(n_qubits, i)*dm_dummy).tr()\n",
    "    if np.random.random_sample() <= p0_i:\n",
    "        outcome = [1]\n",
    "        qstate = M_i/p0_i\n",
    "    else:\n",
    "        outcome = [-1]\n",
    "        qstate = (qucs.n_proj1(n_qubits, qubit_pos)*qstate)/(1-p0_i)\n",
    "    return outcome, qstate"
   ]
  },
  {
   "cell_type": "code",
   "execution_count": 20,
   "id": "portuguese-diary",
   "metadata": {},
   "outputs": [],
   "source": [
    "def quantum_measurements_ising(n_samples, qstate):\n",
    "    n_qubits = len(qstate.dims[0])\n",
    "    if qstate.dims[1][0] == 1:\n",
    "        qstate = qu.ket2dm(qstate)\n",
    "    outcomes = []\n",
    "    for j in range(n_samples):\n",
    "        outcome = []\n",
    "        qstate_dummy = qstate.copy()\n",
    "        for i in range(n_qubits):\n",
    "            outcome_i, qstate_dummy = single_qubit_measurement_ising(qstate_dummy, i)\n",
    "            outcome += outcome_i\n",
    "        outcomes.append(outcome)\n",
    "    return outcomes"
   ]
  },
  {
   "cell_type": "code",
   "execution_count": 105,
   "id": "minus-giant",
   "metadata": {},
   "outputs": [],
   "source": [
    "def evaluate_energy_p(params, n_qubits, edges, bin_prob_dist, n_samples):\n",
    "    gammas = params[:int(len(list(params))/2)]\n",
    "    betas = params[int(len(list(params))/2):]\n",
    "    \n",
    "    # initial state (as density matrix):\n",
    "    #dm_init_state = qu.ket2dm(initial_state(n_qubits))\n",
    "    init_state = qaoa.initial_state(n_qubits)\n",
    "    #obtain final state\n",
    "    #dm_fin_state = evolution_operator(n_qubits, edges, gammas, betas)*dm_init_state*evolution_operator(n_qubits, edges, gammas, betas).dag()\n",
    "    fin_state = evolution_operator_ising(n_qubits, edges, gammas, betas, bin_prob_dist)*init_state\n",
    "    #fin_state = qaoa.evolution_operator(n_qubits, edges, gammas, betas)*init_state\n",
    "\n",
    "    \n",
    "    #Perform N measurements on each single qubit of final state\n",
    "    outcomes = quantum_measurements_ising(n_samples, fin_state)\n",
    "    dict_outcomes = {}\n",
    "    for outcome in outcomes:\n",
    "        dict_outcomes[tuple(outcome)] = outcomes.count(outcome)\n",
    "    \n",
    "    #Evaluate Fp\n",
    "    Ep = 0\n",
    "    for outcome_w in dict_outcomes:\n",
    "        Ep += dict_outcomes[outcome_w]*evaluate_energy_ising(outcome_w, edges, bin_prob_dist)\n",
    "    return Ep/n_samples"
   ]
  },
  {
   "cell_type": "code",
   "execution_count": 112,
   "id": "blind-enclosure",
   "metadata": {},
   "outputs": [],
   "source": [
    "def evaluate_magnetization_p(params, n_qubits, edges, bin_prob_dist, n_samples):\n",
    "    gammas = params[:int(len(list(params))/2)]\n",
    "    betas = params[int(len(list(params))/2):]\n",
    "    \n",
    "    # initial state (as density matrix):\n",
    "    #dm_init_state = qu.ket2dm(initial_state(n_qubits))\n",
    "    init_state = qaoa.initial_state(n_qubits)\n",
    "    #obtain final state\n",
    "    #dm_fin_state = evolution_operator(n_qubits, edges, gammas, betas)*dm_init_state*evolution_operator(n_qubits, edges, gammas, betas).dag()\n",
    "    fin_state = evolution_operator_ising(n_qubits, edges, gammas, betas, bin_prob_dist)*init_state\n",
    "    \n",
    "    #Perform N measurements on each single qubit of final state\n",
    "    outcomes = quantum_measurements_ising(n_samples, fin_state)\n",
    "    dict_outcomes = {}\n",
    "    for outcome in outcomes:\n",
    "        dict_outcomes[tuple(outcome)] = outcomes.count(outcome)\n",
    "    \n",
    "    #Evaluate Fp\n",
    "    Mp = 0\n",
    "    for outcome_w in dict_outcomes:\n",
    "        Mp += dict_outcomes[outcome_w]*evaluate_magnetization_ising(outcome_w)\n",
    "    return Mp/n_samples"
   ]
  },
  {
   "cell_type": "markdown",
   "id": "standing-explosion",
   "metadata": {},
   "source": [
    "## 1 Parameters optimization"
   ]
  },
  {
   "cell_type": "markdown",
   "id": "monetary-minority",
   "metadata": {},
   "source": [
    "## 1.1 Choose QAOA level and pick initial parameters"
   ]
  },
  {
   "cell_type": "raw",
   "id": "wooden-thursday",
   "metadata": {},
   "source": [
    "n_levels = 1"
   ]
  },
  {
   "cell_type": "raw",
   "id": "efficient-dealing",
   "metadata": {},
   "source": [
    "init_params = 0.01*np.random.rand(2, n_levels)\n",
    "gammas = init_params[0]\n",
    "betas = init_params[1]"
   ]
  },
  {
   "cell_type": "raw",
   "id": "simplified-scottish",
   "metadata": {},
   "source": [
    "list_init_params = 0.5*np.random.rand(2*n_levels)\n",
    "list_init_gammas = list_init_params[:n_levels]\n",
    "list_init_betas = list_init_params[n_levels:]"
   ]
  },
  {
   "cell_type": "markdown",
   "id": "unexpected-sarah",
   "metadata": {},
   "source": [
    "## 1.2 Generate initial state"
   ]
  },
  {
   "cell_type": "markdown",
   "id": "adaptive-backing",
   "metadata": {},
   "source": [
    "${\\large |s\\rangle = \\sum_{z \\, \\in \\, \\{0,1\\}^n}^{}{|z\\rangle} = |+\\rangle^{\\otimes n}}$"
   ]
  },
  {
   "cell_type": "raw",
   "id": "bottom-browse",
   "metadata": {},
   "source": [
    "# initial state:\n",
    "init_state = qaoa.initial_state(n_qubits)\n",
    "#dm_init_state = qu.ket2dm(qaoa.initial_state(n_qubits))"
   ]
  },
  {
   "cell_type": "markdown",
   "id": "valued-farming",
   "metadata": {},
   "source": [
    "## 1.3 Obtain final state"
   ]
  },
  {
   "cell_type": "markdown",
   "id": "indoor-screw",
   "metadata": {},
   "source": [
    "${\\large |\\vec{\\gamma},\\vec{\\beta}\\rangle = U(B,\\beta_p)U(C,\\gamma_p)...U(B,\\beta_1)U(C,\\gamma_1)|s\\rangle}$"
   ]
  },
  {
   "cell_type": "raw",
   "id": "outside-tuesday",
   "metadata": {},
   "source": [
    "# obtain final state:\n",
    "optimal_params = optimal_params_scipy\n",
    "#optimal_params = optimal_parameters_Adam_fin_diff\n",
    "optimal_gammas = optimal_params[:n_levels]\n",
    "optimal_betas = optimal_params[n_levels:]\n",
    "fin_state = qaoa.evolution_operator(n_qubits, edges, optimal_gammas, optimal_betas)*init_state\n",
    "#fin_state = evolution_operator_ising(n_qubits, edges, optimal_gammas, optimal_betas, bin_prob_dist)*init_state\n",
    "#dm_fin_state = qaoa.evolution_operator(n_qubits, edges, optimal_gammas, optimal_betas)*dm_init_state*qaoa.evolution_operator(n_qubits, edges, optimal_gammas, optimal_betas).dag()"
   ]
  },
  {
   "cell_type": "markdown",
   "id": "circular-campbell",
   "metadata": {},
   "source": [
    "##  1.4 Perform N-computational_basis measurements on $|\\vec{\\gamma},\\vec{\\beta}\\rangle$ and evaluate $F_p$"
   ]
  },
  {
   "cell_type": "markdown",
   "id": "early-driving",
   "metadata": {},
   "source": [
    "the idea is that, for each ($\\gamma,\\beta$), after each measurement I will obtain as outcome one of the elements of the computational basis: $\\{z : z \\in \\{ 0,1 \\}^n\\}$\n",
    "\n",
    "so, after N measurements, I will have each that each possible outcome $z_i$ has been obtained with occurency $w_i$, so $F_p$ will be evaluated as:\n",
    "\n",
    "$$F_p = \\frac{\\sum_{i}^{N}{w_iC(z_i)}}{\\sum_{i}^{N}{w_i}}$$"
   ]
  },
  {
   "cell_type": "raw",
   "id": "multiple-aurora",
   "metadata": {},
   "source": [
    "#Perform N measurements on each single qubit of final state\n",
    "n_samples = 1000\n",
    "outcomes = quantum_measurements_ising(n_samples, fin_state)\n",
    "dict_outcomes = {}\n",
    "for outcome in outcomes:\n",
    "    dict_outcomes[tuple(outcome)] = outcomes.count(outcome)\n",
    "\n",
    "#Evaluate Fp\n",
    "Ep = 0\n",
    "for outcome_w in dict_outcomes:\n",
    "    Ep += dict_outcomes[outcome_w]*evaluate_energy_ising(outcome_w, edges, bin_prob_dist)\n",
    "Ep/n_samples"
   ]
  },
  {
   "cell_type": "raw",
   "id": "traditional-bottle",
   "metadata": {},
   "source": [
    "# obtain final state:\n",
    "optimal_params = optimal_params_scipy\n",
    "#optimal_params = optimal_parameters_Adam_fin_diff\n",
    "optimal_gammas = optimal_params[:n_levels]\n",
    "optimal_betas = optimal_params[n_levels:]\n",
    "fin_state = qaoa.evolution_operator(n_qubits, edges, optimal_gammas, optimal_betas)*init_state\n",
    "#fin_state = evolution_operator_ising(n_qubits, edges, optimal_gammas, optimal_betas, bin_prob_dist)*init_state\n",
    "#dm_fin_state = qaoa.evolution_operator(n_qubits, edges, optimal_gammas, optimal_betas)*dm_init_state*qaoa.evolution_operator(n_qubits, edges, optimal_gammas, optimal_betas).dag()"
   ]
  },
  {
   "cell_type": "raw",
   "id": "anonymous-editor",
   "metadata": {},
   "source": [
    "# plot probabilities of each state of the graph corresponding to every possible configuration after a cut\n",
    "plt.figure(figsize = (2**n_qubits,6))\n",
    "plt.xticks(rotation=45)\n",
    "x_axis = []\n",
    "for key in dict_outcomes:\n",
    "    x_axis.append(str(key))\n",
    "plt.bar(x_axis, dict_outcomes.values(), width = 0.5)"
   ]
  },
  {
   "cell_type": "markdown",
   "id": "unsigned-customer",
   "metadata": {},
   "source": [
    "### 1.5 Parameters update"
   ]
  },
  {
   "cell_type": "raw",
   "id": "ordinary-tutorial",
   "metadata": {},
   "source": [
    "# perform M-steps for expectation value of the cost-function\n",
    "n_steps = 5\n",
    "n_levels = 1\n",
    "#parameters = np.array(0.5*np.random.random_sample(2*n_levels))\n",
    "parameters = 0.01*np.random.rand(2*n_levels)\n",
    "eta = 0.001 #con 0.01 si muove troppo lentamente, però con 0.1 oscilla troppo attorno al massimo\n",
    "H_P = prob_hamilt_ising(n_qubits, edges, bin_prob_dist)\n",
    "for i in range(n_steps):\n",
    "    g_t = qaoa.fin_diff_grad(evaluate_energy_p, parameters, args=(n_qubits, edges, bin_prob_dist, 100), increment=0.01)\n",
    "    gammas = parameters[:n_levels]\n",
    "    betas = parameters[n_levels:]\n",
    "    fin_state = evolution_operator_ising(n_qubits, edges, gammas, betas, bin_prob_dist)*init_state\n",
    "    E_p = qu.expect(H_P, fin_state)\n",
    "    parameters = parameters - eta*g_t\n",
    "    if (i + 1) % 1 == 0:\n",
    "            print('in', parameters, 'with grad ', g_t,  \"objective after step {:5d}: {: .7f}\".format(i + 1, E_p))\n",
    "optimal_parameters = parameters\n",
    "print('optimal parameters are ', optimal_parameters)"
   ]
  },
  {
   "cell_type": "code",
   "execution_count": 131,
   "id": "informational-nursery",
   "metadata": {},
   "outputs": [
    {
     "name": "stdout",
     "output_type": "stream",
     "text": [
      "in [0.00418831 0.00269537] with grad  [1.  1.8] objective after step     1:  0.0003612\n",
      "in [-0.04581169 -0.04730463] with grad  [-4.  -1.2] objective after step     2:  0.0685491\n",
      "in [-0.01532978 -0.05166319] with grad  [-0.4 -0.2] objective after step     3:  0.0251478\n",
      "in [ 0.01003228 -0.05153245] with grad  [-0.2  0. ] objective after step     4: -0.0164223\n",
      "in [ 0.0310136 -0.0514326] with grad  [-3.  0.] objective after step     5: -0.0505543\n",
      "in [ 0.06385545 -0.05135415] with grad  [-0.4  0.8] objective after step     6: -0.1030700\n",
      "in [ 0.09259387 -0.06277594] with grad  [-3.2  2.4] objective after step     7: -0.1798775\n",
      "in [ 0.12997129 -0.09325504] with grad  [-2.8  3.4] objective after step     8: -0.3620830\n",
      "in [ 0.17178945 -0.13481856] with grad  [-4.6  3.6] objective after step     9: -0.6514868\n",
      "in [ 0.21951945 -0.18272702] with grad  [-2.6  2.8] objective after step    10: -1.0273704\n",
      "in [ 0.26751553 -0.23323025] with grad  [-5.2  7.2] objective after step    11: -1.4094684\n",
      "in [ 0.31996339 -0.2878698 ] with grad  [-3.2  4. ] objective after step    12: -1.7499638\n",
      "in [ 0.37228153 -0.34341883] with grad  [2. 2.] objective after step    13: -1.9547317\n",
      "in [ 0.40730284 -0.39530634] with grad  [-2.2  2.2] objective after step    14: -1.9964801\n",
      "in [ 0.44336    -0.44487306] with grad  [ 4.2 -2.8] objective after step    15: -1.9165677\n",
      "in [ 0.456517   -0.47436024] with grad  [-0.6  2. ] objective after step    16: -1.8328650\n",
      "in [ 0.46941036 -0.50533911] with grad  [ 4.8 -5. ] objective after step    17: -1.7163119\n",
      "in [ 0.46316656 -0.51181208] with grad  [ 4.  -5.6] objective after step    18: -1.7071196\n",
      "in [ 0.44525593 -0.49905237] with grad  [ 0.8 -2.4] objective after step    19: -1.7816283\n",
      "in [ 0.42794767 -0.48115046] with grad  [ 3.  -0.8] objective after step    20: -1.8575048\n",
      "optimal parameters are  [ 0.40416178 -0.4639299 ] and F_1 is -1.8575047930952846\n"
     ]
    }
   ],
   "source": [
    "#Adam\n",
    "#perform it for exp_F_1 (check if this method works properly for p=1 case)\n",
    "n_steps = 20\n",
    "#parameters = np.array(0.5*np.random.random_sample(2*n_levels)) #check how choose initial params, for pi*rand is too dispersive\n",
    "parameters = 0.01*np.random.rand(2*n_levels)\n",
    "\"\"\"\n",
    "parameters = np.zeros(2*n_levels) # method used in the paper\n",
    "for j in range(2*n_levels):\n",
    "    if j%2 == 0: #for H-p parameters\n",
    "        parameters[j] = j/(2*n_levels) #see SGD paper for reference\n",
    "    else:\n",
    "        parameters[j] = 1 - j/(2*n_levels) #see SDG paper\n",
    "\"\"\"\n",
    "init_state = qaoa.initial_state(n_qubits)\n",
    "beta_1 = 0.8\n",
    "beta_2 = 0.999\n",
    "epsilon = 1e-8\n",
    "m_t = np.zeros(2*n_levels)\n",
    "v_t = np.zeros(2*n_levels)\n",
    "t = 0\n",
    "H_P = prob_hamilt_ising(n_qubits, edges, bin_prob_dist)\n",
    "eta = 0.05 #works also for eta = 0.01, but increases very slowly, and 0.1 oscillates too much around max\n",
    "previous_g_t = np.zeros(2*n_levels)\n",
    "for i in range(n_steps):\n",
    "    g_t = qaoa.fin_diff_grad(evaluate_energy_p, parameters, args=(n_qubits, edges, bin_prob_dist, 100), increment=0.1)\n",
    "    gammas = parameters[:n_levels]\n",
    "    betas = parameters[n_levels:]\n",
    "    fin_state = evolution_operator_ising(n_qubits, edges, gammas, betas, bin_prob_dist)*init_state\n",
    "    E_p_adam = qu.expect(H_P, fin_state)\n",
    "    #if (np.sign(g_t) == -np.sign(previous_g_t)).all() and (np.sign(g_t) == -np.sign(np.ones(2*n_levels))).all():\n",
    "        #break\n",
    "    #if (i + 1) % 1 == 0:\n",
    "    print('in', parameters, 'with grad ', g_t,  \"objective after step {:5d}: {: .7f}\".format(i + 1, E_p_adam))\n",
    "    t = t+1\n",
    "    m_t = beta_1*m_t + (1-beta_1)*g_t\n",
    "    v_t = beta_2*v_t + (1-beta_2)*g_t**2\n",
    "    m_t_hat = m_t/(1-beta_1**t)\n",
    "    v_t_hat = v_t/(1-beta_2**t)\n",
    "    parameters = parameters - eta*m_t_hat/(np.sqrt(v_t_hat) + epsilon)\n",
    "    #previous_g_t = g_t\n",
    "optimal_parameters_Adam_fin_diff = parameters\n",
    "optimal_gammas = optimal_parameters_Adam_fin_diff[:n_levels]\n",
    "optimal_betas = optimal_parameters_Adam_fin_diff[n_levels:]\n",
    "print('optimal parameters are ', optimal_parameters_Adam_fin_diff, 'and F_1 is', qu.expect(H_P, evolution_operator_ising(n_qubits, edges, gammas, betas, bin_prob_dist)*init_state))"
   ]
  },
  {
   "cell_type": "raw",
   "id": "upper-background",
   "metadata": {},
   "source": [
    "# obtain final state:\n",
    "#optimal_params = optimal_params_scipy\n",
    "optimal_params = optimal_parameters_Adam_fin_diff\n",
    "optimal_gammas = optimal_params[:n_levels]\n",
    "optimal_betas = optimal_params[n_levels:]\n",
    "#fin_state = qaoa.evolution_operator(n_qubits, edges, optimal_gammas, optimal_betas)*init_state\n",
    "fin_state = evolution_operator_ising(n_qubits, edges, optimal_gammas, optimal_betas, bin_prob_dist)*init_state\n",
    "#dm_fin_state = qaoa.evolution_operator(n_qubits, edges, optimal_gammas, optimal_betas)*dm_init_state*qaoa.evolution_operator(n_qubits, edges, optimal_gammas, optimal_betas).dag()"
   ]
  },
  {
   "cell_type": "raw",
   "id": "greek-performance",
   "metadata": {},
   "source": [
    "# plot probabilities of each state of the graph corresponding to every possible configuration after a cut\n",
    "plt.figure(figsize = (2**n_qubits,6))\n",
    "plt.xticks(rotation=45)\n",
    "x_axis = []\n",
    "for key in dict_outcomes:\n",
    "    x_axis.append(str(key))\n",
    "plt.bar(x_axis, dict_outcomes.values(), width = 0.5)"
   ]
  },
  {
   "cell_type": "markdown",
   "id": "architectural-mercy",
   "metadata": {},
   "source": [
    "## Evaluate E and M for different prob"
   ]
  },
  {
   "cell_type": "code",
   "execution_count": 133,
   "id": "australian-failing",
   "metadata": {},
   "outputs": [
    {
     "data": {
      "text/plain": [
       "array([1.  , 0.98, 0.96, 0.94, 0.92, 0.9 , 0.88, 0.86, 0.84])"
      ]
     },
     "execution_count": 133,
     "metadata": {},
     "output_type": "execute_result"
    }
   ],
   "source": [
    "probabilities = np.arange(1, 0.84, -0.02)\n",
    "probabilities"
   ]
  },
  {
   "cell_type": "code",
   "execution_count": 132,
   "id": "second-african",
   "metadata": {},
   "outputs": [
    {
     "name": "stdout",
     "output_type": "stream",
     "text": [
      "0.84\n",
      "0.86\n",
      "0.88\n",
      "0.9\n",
      "0.92\n",
      "0.9400000000000001\n",
      "0.9600000000000001\n",
      "0.9800000000000001\n",
      "1.0\n"
     ]
    }
   ],
   "source": [
    "n_levels = 1\n",
    "n_steps = 20\n",
    "eta = 0.05\n",
    "beta_1 = 0.8\n",
    "beta_2 = 0.999\n",
    "epsilon = 1e-8\n",
    "N = 10\n",
    "prob_E_M = []\n",
    "n_steps = 20\n",
    "\n",
    "for prob in probabilities:\n",
    "    energies = []\n",
    "    magnetizations = []\n",
    "    for i in range(N):\n",
    "        \n",
    "        #define bin_prob_dist\n",
    "        bin_prob_dist = np.random.binomial(1, prob, size=(len(edges),))\n",
    "        for i, link in enumerate (bin_prob_dist):\n",
    "            if link == 0:\n",
    "                bin_prob_dist[i] = -1\n",
    "                \n",
    "        #Adam\n",
    "        parameters = 0.01*np.random.rand(2*n_levels)\n",
    "        m_t = np.zeros(2*n_levels)\n",
    "        v_t = np.zeros(2*n_levels)\n",
    "        t = 0\n",
    "        for i in range(n_steps):\n",
    "            g_t = qaoa.fin_diff_grad(evaluate_energy_p, parameters, args=(n_qubits, edges, bin_prob_dist, 100), increment=0.1)\n",
    "            t = t+1\n",
    "            m_t = beta_1*m_t + (1-beta_1)*g_t\n",
    "            v_t = beta_2*v_t + (1-beta_2)*g_t**2\n",
    "            m_t_hat = m_t/(1-beta_1**t)\n",
    "            v_t_hat = v_t/(1-beta_2**t)\n",
    "            parameters = parameters - eta*m_t_hat/(np.sqrt(v_t_hat) + epsilon)\n",
    "        \n",
    "        #evalute estimations of energy and magnetization\n",
    "        energy = evaluate_energy_p(parameters, n_qubits, edges, bin_prob_dist, 1000)\n",
    "        energies.append(energy)\n",
    "        magnetization = evaluate_magnetization_p(parameters, n_qubits, edges, bin_prob_dist, 1000)\n",
    "        magnetizations.append(magnetization)\n",
    "        \n",
    "    #store results in a list\n",
    "    mean_en = sum(energies)/N\n",
    "    mean_mag = sum(magnetizations)/N\n",
    "    prob_E_M.append([prob, mean_en, mean_mag])\n",
    "\n",
    "#store result in a file\n",
    "np.savetxt('Ising_4nodes_prob_en_mag', prob_E_M)"
   ]
  }
 ],
 "metadata": {
  "kernelspec": {
   "display_name": "Python 3",
   "language": "python",
   "name": "python3"
  },
  "language_info": {
   "codemirror_mode": {
    "name": "ipython",
    "version": 3
   },
   "file_extension": ".py",
   "mimetype": "text/x-python",
   "name": "python",
   "nbconvert_exporter": "python",
   "pygments_lexer": "ipython3",
   "version": "3.8.5"
  }
 },
 "nbformat": 4,
 "nbformat_minor": 5
}

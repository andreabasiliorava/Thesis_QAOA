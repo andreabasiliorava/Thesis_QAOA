{
 "cells": [
  {
   "cell_type": "markdown",
   "id": "liable-population",
   "metadata": {},
   "source": [
    "# QAOA for random bond Ising model (RBIM)"
   ]
  },
  {
   "cell_type": "code",
   "execution_count": 2,
   "id": "exterior-david",
   "metadata": {},
   "outputs": [],
   "source": [
    "import qaoa\n",
    "import qucompsys as qucs\n",
    "import graphs as gr\n",
    "import qutip as qu\n",
    "import numpy as np\n",
    "import matplotlib.pyplot as plt\n",
    "from   matplotlib import cm\n",
    "from   matplotlib.ticker import LinearLocator, FormatStrFormatter\n",
    "import networkx as nx\n",
    "from   networkx.generators.random_graphs import erdos_renyi_graph\n",
    "import configparser\n",
    "import scipy\n",
    "import itertools\n",
    "from collections import Counter\n",
    "\n",
    "import importlib\n",
    "importlib.reload(qaoa)\n",
    "importlib.reload(qucs)\n",
    "\n",
    "%matplotlib inline\n",
    "%config InlineBackened.figure_format = 'svg'"
   ]
  },
  {
   "cell_type": "markdown",
   "id": "engaging-independence",
   "metadata": {},
   "source": [
    "##  0 Define the graph"
   ]
  },
  {
   "cell_type": "code",
   "execution_count": 17,
   "id": "early-cosmetic",
   "metadata": {},
   "outputs": [],
   "source": [
    "# grid graph\n",
    "n_nodes = 9\n",
    "nodes = np.arange(0, n_nodes, 1)\n",
    "edges = [(0, 1), (0,3), (1, 2), (1, 4), (2, 5), (3,4), (3,6), (4, 5), (4, 7), (5,8), (6, 7), (7, 8)]"
   ]
  },
  {
   "cell_type": "code",
   "execution_count": 18,
   "id": "phantom-divorce",
   "metadata": {},
   "outputs": [],
   "source": [
    "n_qubits = n_nodes\n",
    "graph = nx.Graph()\n",
    "graph.add_nodes_from(nodes)\n",
    "graph.add_edges_from(edges)\n",
    "edges = list(graph.edges)"
   ]
  },
  {
   "cell_type": "markdown",
   "id": "dense-ownership",
   "metadata": {},
   "source": [
    "### 0.1 plot the graph"
   ]
  },
  {
   "cell_type": "code",
   "execution_count": 20,
   "id": "ordered-brave",
   "metadata": {},
   "outputs": [
    {
     "data": {
      "image/png": "[encoded data removed]",
      "text/plain": [
       "<Figure size 432x288 with 1 Axes>"
      ]
     },
     "metadata": {},
     "output_type": "display_data"
    }
   ],
   "source": [
    "colors = ['r' for node in graph.nodes()]\n",
    "pos = nx.planar_layout(graph)\n",
    "graph_drawing = nx.draw_networkx(graph, node_color=colors, node_size=200, pos = None, alpha=1, with_labels=True)\n",
    "plt.show()"
   ]
  },
  {
   "cell_type": "markdown",
   "id": "potential-storm",
   "metadata": {},
   "source": [
    "## 1 choose probability"
   ]
  },
  {
   "cell_type": "code",
   "execution_count": 85,
   "id": "occasional-tutorial",
   "metadata": {},
   "outputs": [
    {
     "data": {
      "text/plain": [
       "array([1, 0, 1, 1, 0, 0, 0, 1, 0, 1, 0, 1])"
      ]
     },
     "execution_count": 85,
     "metadata": {},
     "output_type": "execute_result"
    }
   ],
   "source": [
    "prob = 0.5 #prbability 0.5 < prob < 1 that the site is ferromagnetic (all 1 or -1), expect phase-transistion at p = 0.88\n",
    "\n",
    "bin_prob_dist = np.random.binomial(1, prob, size=(len(edges),)) # 1 for up (z-i = 1), 0 for down (z-i = -1)\n",
    "\n",
    "bin_prob_dist"
   ]
  },
  {
   "cell_type": "markdown",
   "id": "understood-tiffany",
   "metadata": {},
   "source": [
    "## 2 Define needed functions"
   ]
  },
  {
   "cell_type": "code",
   "execution_count": 87,
   "id": "moving-blend",
   "metadata": {},
   "outputs": [],
   "source": [
    "def evaluate_energy_ising(list_z, edges, bin_prob_dist, coupling_const=1):\n",
    "    \"\"\"This method evaluates the object function of the RBIM\n",
    "    Parameters\n",
    "        z_str : input bit string\n",
    "        edges : edges of the graph\n",
    "    Returns\n",
    "        the integer value the object function\"\"\"\n",
    "    energy = 0\n",
    "    for edge in edges:\n",
    "        if bin_prob_dist[edges.index(edge)] == 1:\n",
    "            energy += -list_z[edge[0]]*list_z[edge[1]]\n",
    "        else:\n",
    "            energy -= -list_z[edge[0]]*list_z[edge[1]]\n",
    "    return coupling_const*energy"
   ]
  },
  {
   "cell_type": "code",
   "execution_count": null,
   "id": "related-deposit",
   "metadata": {},
   "outputs": [],
   "source": [
    "def evaluate_magnetization_ising(list_z):\n",
    "    \"\"\"This method evaluates the object function of the RBIM\n",
    "    Parameters\n",
    "        z_str : input bit string\n",
    "        edges : edges of the graph\n",
    "    Returns\n",
    "        the integer value the object function\"\"\"\n",
    "\n",
    "    return sum(list_z)"
   ]
  },
  {
   "cell_type": "raw",
   "id": "illegal-lighter",
   "metadata": {},
   "source": [
    "evaluate_energy([1,1,1,1,1,1,1,1,1], edges, bin_prob_dist)"
   ]
  },
  {
   "cell_type": "code",
   "execution_count": 90,
   "id": "balanced-recorder",
   "metadata": {},
   "outputs": [],
   "source": [
    "def prob_hamilt_ising(n_qubits, edges, bin_prob_dist, coupling_const=1):\n",
    "    \"\"\"This method generates a tensor that apply the problem hamiltonian of the\n",
    "        RBIM problem on a state of n-qubits\\n\n",
    "    Parameters:\\n\n",
    "        n_qubits: number of vertices of the graph\n",
    "        edges: list of tuples corresponding to the edges of the graph\\n\n",
    "    Returns:\\n\n",
    "        a tensor that apply the problem hamiltonian to a n-qubits state\\n\n",
    "    Raise:\\n\n",
    "        ValueError if number of qubits is less than 2\"\"\"\n",
    "    if n_qubits < 2:\n",
    "        raise ValueError('number of qubits must be > 1, but is {}'.format(n_qubits))\n",
    "    list_double_sigmaz = []\n",
    "    for edge in edges:\n",
    "        if bin_prob_dist[edges.index(edge)] == 1:\n",
    "            list_double_sigmaz.append(\n",
    "                -qucs.n_sigmaz(n_qubits,edge[0])*qucs.n_sigmaz(n_qubits,edge[1])\n",
    "                )\n",
    "        else:\n",
    "             list_double_sigmaz.append(\n",
    "                qucs.n_sigmaz(n_qubits,edge[0])*qucs.n_sigmaz(n_qubits,edge[1])\n",
    "                )   \n",
    "    return -sum(list_double_sigmaz)*coupling_const"
   ]
  },
  {
   "cell_type": "code",
   "execution_count": 91,
   "id": "cross-copyright",
   "metadata": {},
   "outputs": [],
   "source": [
    "def evolution_operator_ising(n_qubits, edges, gammas, betas):\n",
    "    \"\"\"\n",
    "    This method generates a tensor that apply the evolution operator U of the\n",
    "        MaxCut problem on a state of n-qubits\\n\n",
    "    Parameters:\\n\n",
    "        n_qubits: number of qubits is the n-qubits state among this operators acts on\\n\n",
    "        edges: edges of the graph of the MaxCut that define the problem hamiltonian\n",
    "        gammas: gamma parameters of the MaxCut\\n\n",
    "        betas: betas parameters of the MaxCut\\n\n",
    "    Returns:\\n\n",
    "        a tensor that apply the evolution operator to a n-qubits state\\n\n",
    "    Raise:\\n\n",
    "        ValueError if number of gammas is less than 1\\n\n",
    "        ValueError if number of betas is less than 1\\n\n",
    "        ValueError if number of betas is different than number of gammas\\n\n",
    "        ValueError if number of qubits is less than 2      \n",
    "    \"\"\"\n",
    "    if len(gammas) < 1:\n",
    "        raise ValueError('number of gammas must be > 0, but is {}'.format(len(gammas)))\n",
    "    if len(betas) < 1:\n",
    "        raise ValueError('number of gammas must be > 0, but is {}'.format(len(betas)))\n",
    "    if len(betas) != len(gammas):\n",
    "        raise ValueError('number of gammas must be = number of betas')\n",
    "    if n_qubits < 2:\n",
    "        raise ValueError('number of qubits must be > 1, but is {}'.format(n_qubits))\n",
    "    evol_oper = qucs.n_qeye(n_qubits)\n",
    "    for i in range(len(gammas)):\n",
    "        u_mix_hamilt_i = (-complex(0,betas[i])*qaoa.mix_hamilt(n_qubits)).expm()\n",
    "        u_prob_hamilt_i = (-complex(0,gammas[i])*prob_hamilt_ising(n_qubits, edges)).expm()\n",
    "        evol_oper = u_mix_hamilt_i*u_prob_hamilt_i*evol_oper\n",
    "    return evol_oper"
   ]
  },
  {
   "cell_type": "code",
   "execution_count": null,
   "id": "immune-notification",
   "metadata": {},
   "outputs": [],
   "source": [
    "def evaluate_energy_p(params, n_qubits, edges, n_samples):\n",
    "    \"\"\"\n",
    "    This method perform n quantum measurements on final state and evaluate F_p\n",
    "    through classical mean of the outcomes\n",
    "\n",
    "    Parameters\n",
    "    ----------\n",
    "    params : 1-D array-like\n",
    "        array of parameters [gamma_1, gamma_2, ..., gamma_p, beta_1, beta_2, ..., beta_p].\n",
    "    n_qubits : int\n",
    "        number of qubits of the state.\n",
    "    edges : list of tuples\n",
    "        edges of the graph.\n",
    "    n_samples : int\n",
    "        number of quantum measurements performed.\n",
    "\n",
    "    Returns\n",
    "    -------\n",
    "    F_p: float\n",
    "        expectation value of the cost function\n",
    "\n",
    "    \"\"\"\n",
    "    gammas = params[:int(len(list(params))/2)]\n",
    "    betas = params[int(len(list(params))/2):]\n",
    "    \n",
    "    # initial state (as density matrix):\n",
    "    #dm_init_state = qu.ket2dm(initial_state(n_qubits))\n",
    "    init_state = initial_state(n_qubits)\n",
    "    #obtain final state\n",
    "    #dm_fin_state = evolution_operator(n_qubits, edges, gammas, betas)*dm_init_state*evolution_operator(n_qubits, edges, gammas, betas).dag()\n",
    "    fin_state = (evolution_operator_ising(n_qubits, edges, gammas, betas)*init_state)\n",
    "    \n",
    "    #Perform N measurements on each single qubit of final state\n",
    "    c_outcomes = Counter(qucs.quantum_measurements(n_samples, fin_state))\n",
    "    \n",
    "    #Evaluate Fp\n",
    "    list_z = list(c_outcomes.keys())\n",
    "    list_w = list(c_outcomes.values())\n",
    "    Fp = 0\n",
    "    for i in range(len(c_outcomes)):\n",
    "        Fp += list_w[i]*evaluate_cost_fun(list(list_z)[i], edges)\n",
    "    return Fp/n_samples"
   ]
  },
  {
   "cell_type": "code",
   "execution_count": null,
   "id": "small-accent",
   "metadata": {},
   "outputs": [],
   "source": [
    "def evaluate_magnetization_p(params, n_qubits, edges, n_samples):\n",
    "    \"\"\"\n",
    "    This method perform n quantum measurements on final state and evaluate F_p\n",
    "    through classical mean of the outcomes\n",
    "\n",
    "    Parameters\n",
    "    ----------\n",
    "    params : 1-D array-like\n",
    "        array of parameters [gamma_1, gamma_2, ..., gamma_p, beta_1, beta_2, ..., beta_p].\n",
    "    n_qubits : int\n",
    "        number of qubits of the state.\n",
    "    edges : list of tuples\n",
    "        edges of the graph.\n",
    "    n_samples : int\n",
    "        number of quantum measurements performed.\n",
    "\n",
    "    Returns\n",
    "    -------\n",
    "    F_p: float\n",
    "        expectation value of the cost function\n",
    "\n",
    "    \"\"\"\n",
    "    gammas = params[:int(len(list(params))/2)]\n",
    "    betas = params[int(len(list(params))/2):]\n",
    "    \n",
    "    # initial state (as density matrix):\n",
    "    #dm_init_state = qu.ket2dm(initial_state(n_qubits))\n",
    "    init_state = initial_state(n_qubits)\n",
    "    #obtain final state\n",
    "    #dm_fin_state = evolution_operator(n_qubits, edges, gammas, betas)*dm_init_state*evolution_operator(n_qubits, edges, gammas, betas).dag()\n",
    "    fin_state = (evolution_operator_ising(n_qubits, edges, gammas, betas)*init_state)\n",
    "    \n",
    "    #Perform N measurements on each single qubit of final state\n",
    "    c_outcomes = Counter(qucs.quantum_measurements(n_samples, fin_state))\n",
    "    \n",
    "    #Evaluate Fp\n",
    "    list_z = list(c_outcomes.keys())\n",
    "    list_w = list(c_outcomes.values())\n",
    "    Fp = 0\n",
    "    for i in range(len(c_outcomes)):\n",
    "        Fp += list_w[i]*evaluate_cost_fun(list(list_z)[i], edges)\n",
    "    return Fp/n_samples"
   ]
  },
  {
   "cell_type": "code",
   "execution_count": 92,
   "id": "adolescent-myrtle",
   "metadata": {},
   "outputs": [],
   "source": [
    "def single_qubit_measurement_ising(qstate, qubit_pos):\n",
    "    n_qubits = len(qstate.dims[0])\n",
    "    if qstate.dims[1][0] == 1:\n",
    "        qstate = qu.ket2dm(qstate)\n",
    "    M_i = (n_proj0(n_qubits, qubit_pos)*qstate)\n",
    "    p0_i = M_i.tr()\n",
    "    #p1_i = (n_proj1(n_qubits, i)*dm_dummy).tr()\n",
    "    if np.random.random_sample() <= p0_i:\n",
    "        outcome = [1]\n",
    "        qstate = M_i/p0_i\n",
    "    else:\n",
    "        outcome = [-1]\n",
    "        qstate = (n_proj1(n_qubits, qubit_pos)*qstate)/(1-p0_i)\n",
    "    return outcome, qstate"
   ]
  },
  {
   "cell_type": "code",
   "execution_count": 93,
   "id": "mexican-welding",
   "metadata": {},
   "outputs": [],
   "source": [
    "def quantum_measurements_ising(n_samples, qstate):\n",
    "    \"\"\"\n",
    "    This method simulates n_samples quantum computational basis measurements \n",
    "        on a composite system by obtaining, for each sampling, a bit string \n",
    "        correspondign to the camputational basis state of the Hilbert space the \n",
    "        state belongs to.\n",
    "    \n",
    "    Parameters\n",
    "    ----------\n",
    "    n_samples : int\n",
    "        number of samplings want to be executed on the quantum state.\n",
    "    qstate : Qobj\n",
    "        pure state or density matrix of a n-qubits state.\n",
    "\n",
    "    Returns\n",
    "    -------\n",
    "    outcomes : list \n",
    "        list of outcomes, stored as bit-strings.\n",
    "    \"\"\"\n",
    "    n_qubits = len(qstate.dims[0])\n",
    "    if qstate.dims[1][0] == 1:\n",
    "        qstate = qu.ket2dm(qstate)\n",
    "    outcomes = []\n",
    "    for j in range(n_samples):\n",
    "        outcome = []\n",
    "        qstate_dummy = qstate.copy()\n",
    "        for i in range(n_qubits):\n",
    "            outcome_i, qstate_dummy = single_qubit_measurement_ising(qstate_dummy, i)\n",
    "            outcome += outcome_i\n",
    "        outcomes.append(outcome)\n",
    "    return outcomes"
   ]
  },
  {
   "cell_type": "code",
   "execution_count": null,
   "id": "responsible-protocol",
   "metadata": {},
   "outputs": [],
   "source": []
  }
 ],
 "metadata": {
  "kernelspec": {
   "display_name": "Python 3",
   "language": "python",
   "name": "python3"
  },
  "language_info": {
   "codemirror_mode": {
    "name": "ipython",
    "version": 3
   },
   "file_extension": ".py",
   "mimetype": "text/x-python",
   "name": "python",
   "nbconvert_exporter": "python",
   "pygments_lexer": "ipython3",
   "version": "3.8.5"
  }
 },
 "nbformat": 4,
 "nbformat_minor": 5
}

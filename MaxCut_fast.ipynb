{
 "cells": [
  {
   "cell_type": "code",
   "execution_count": 11,
   "id": "thousand-jackson",
   "metadata": {},
   "outputs": [],
   "source": [
    "import qaoa\n",
    "import qucompsys as qucs\n",
    "import graphs as gr\n",
    "import qutip as qu\n",
    "import numpy as np\n",
    "import matplotlib.pyplot as plt\n",
    "from   matplotlib import cm\n",
    "from   matplotlib.ticker import LinearLocator, FormatStrFormatter\n",
    "import networkx as nx\n",
    "from   networkx.generators.random_graphs import erdos_renyi_graph\n",
    "import configparser\n",
    "import scipy\n",
    "import itertools\n",
    "from collections import Counter\n",
    "\n",
    "import importlib\n",
    "importlib.reload(qaoa)\n",
    "importlib.reload(qucs)\n",
    "\n",
    "%matplotlib inline\n",
    "%config InlineBackened.figure_format = 'svg'"
   ]
  },
  {
   "cell_type": "markdown",
   "id": "periodic-tobacco",
   "metadata": {},
   "source": [
    "##  0 Define the graph"
   ]
  },
  {
   "cell_type": "markdown",
   "id": "gentle-moderator",
   "metadata": {},
   "source": [
    "**method_1**: define manually graphs"
   ]
  },
  {
   "cell_type": "code",
   "execution_count": 253,
   "id": "quantitative-limit",
   "metadata": {},
   "outputs": [],
   "source": [
    "#simple\n",
    "n_nodes = 3\n",
    "nodes = np.arange(0, n_nodes, 1)\n",
    "edges = [(0,1),(1,2)]"
   ]
  },
  {
   "cell_type": "code",
   "execution_count": 170,
   "id": "caring-generation",
   "metadata": {},
   "outputs": [],
   "source": [
    "#house\n",
    "n_nodes = 5\n",
    "nodes = np.arange(0, n_nodes, 1)\n",
    "edges = [(0,1),(1,2),(1,4),(0,4),(2,3),(3,4)]"
   ]
  },
  {
   "cell_type": "code",
   "execution_count": null,
   "id": "processed-carnival",
   "metadata": {},
   "outputs": [],
   "source": [
    "#butterfly\n",
    "n_nodes = 5\n",
    "nodes = np.arange(0, n_nodes, 1)\n",
    "edges = [(0,1),(0,2),(1,2),(2,3),(2,4),(3,4)]"
   ]
  },
  {
   "cell_type": "raw",
   "id": "serious-marijuana",
   "metadata": {},
   "source": [
    "#square\n",
    "n_nodes = 4\n",
    "nodes = np.arange(0, n_nodes, 1)\n",
    "edges = [(0, 1), (1, 2), (2,3), (3,0)]"
   ]
  },
  {
   "cell_type": "code",
   "execution_count": 262,
   "id": "sixth-omega",
   "metadata": {},
   "outputs": [],
   "source": [
    "n_nodes = 7\n",
    "nodes = np.arange(0, n_nodes, 1)\n",
    "edges = [(0, 1), (0, 2), (0, 3), (0, 5), (1, 3), (1, 4), (1, 6), (2, 3), (2, 4), \n",
    "          (2, 5), (2, 6), (3, 4), (3, 6), (4, 5), (4, 6)]"
   ]
  },
  {
   "cell_type": "code",
   "execution_count": 135,
   "id": "taken-peeing",
   "metadata": {},
   "outputs": [],
   "source": [
    "# grid graph\n",
    "n_nodes = 9\n",
    "nodes = np.arange(0, n_nodes, 1)\n",
    "edges = [(0, 1), (0,3), (1, 2), (1, 4), (2, 5), (3,4), (3,6), (4, 5), (4, 7), (5,8), (6, 7), (7, 8)]"
   ]
  },
  {
   "cell_type": "code",
   "execution_count": 263,
   "id": "responsible-prize",
   "metadata": {},
   "outputs": [],
   "source": [
    "n_qubits = n_nodes\n",
    "graph = nx.Graph()\n",
    "graph.add_nodes_from(nodes)\n",
    "graph.add_edges_from(edges)\n",
    "edges = list(graph.edges)"
   ]
  },
  {
   "cell_type": "markdown",
   "id": "built-transcription",
   "metadata": {},
   "source": [
    "**method_2**: generate random graph"
   ]
  },
  {
   "cell_type": "code",
   "execution_count": 206,
   "id": "portable-chain",
   "metadata": {},
   "outputs": [],
   "source": [
    "#n_nodes = np.random.randint(3,11)\n",
    "n_nodes = 9\n",
    "n_qubits = n_nodes\n",
    "graph = gr.random_graph(n_nodes)\n",
    "edges = list(graph.edges)"
   ]
  },
  {
   "cell_type": "markdown",
   "id": "trained-brand",
   "metadata": {},
   "source": [
    "### 0.1 plot the graph"
   ]
  },
  {
   "cell_type": "code",
   "execution_count": 228,
   "id": "incorporate-edgar",
   "metadata": {},
   "outputs": [
    {
     "data": {
      "image/png": "[encoded data removed]",
      "text/plain": [
       "<Figure size 432x288 with 1 Axes>"
      ]
     },
     "metadata": {},
     "output_type": "display_data"
    }
   ],
   "source": [
    "%matplotlib inline\n",
    "\n",
    "colors = ['r' for node in graph.nodes()]\n",
    "pos = nx.circular_layout(graph)\n",
    "graph_drawing = nx.draw_networkx(graph, node_color=colors, node_size=200, alpha=1, pos=pos, with_labels=True)\n",
    "plt.show()"
   ]
  },
  {
   "cell_type": "code",
   "execution_count": 208,
   "id": "normal-desperate",
   "metadata": {},
   "outputs": [
    {
     "data": {
      "text/plain": [
       "NodeView((0, 1, 2, 3, 4, 5, 6, 7, 8))"
      ]
     },
     "execution_count": 208,
     "metadata": {},
     "output_type": "execute_result"
    }
   ],
   "source": [
    "graph.nodes"
   ]
  },
  {
   "cell_type": "code",
   "execution_count": 209,
   "id": "negative-constant",
   "metadata": {},
   "outputs": [
    {
     "data": {
      "text/plain": [
       "EdgeView([(0, 1), (0, 2), (0, 4), (0, 5), (0, 7), (0, 8), (1, 2), (1, 3), (1, 5), (2, 4), (2, 5), (2, 7), (2, 8), (3, 4), (4, 5), (5, 6), (5, 8), (6, 7), (7, 8)])"
      ]
     },
     "execution_count": 209,
     "metadata": {},
     "output_type": "execute_result"
    }
   ],
   "source": [
    "graph.edges"
   ]
  },
  {
   "cell_type": "markdown",
   "id": "demanding-hamburg",
   "metadata": {},
   "source": [
    "### 0.2 use grid serach for p=1"
   ]
  },
  {
   "cell_type": "code",
   "execution_count": 138,
   "id": "timely-blood",
   "metadata": {},
   "outputs": [],
   "source": [
    "step_size = 0.01\n",
    "a_gamma_mesh         = np.arange(-np.pi/2, np.pi/2, step_size) #see article with QAOA scheme for reference of this interval\n",
    "a_beta_mesh          = np.arange(-np.pi/4, np.pi/4, step_size)\n",
    "a_gamma_mesh, a_beta_mesh = np.meshgrid(a_gamma_mesh, a_beta_mesh, indexing='xy')\n",
    "parameters_mesh = np.array([a_gamma_mesh, a_beta_mesh])"
   ]
  },
  {
   "cell_type": "code",
   "execution_count": 139,
   "id": "square-adventure",
   "metadata": {},
   "outputs": [],
   "source": [
    "# Grid search for the maximizing variables\n",
    "grid_F_1_mesh = qaoa.analitic_F_1(parameters_mesh, graph, edges)\n",
    "result_mesh = np.where(grid_F_1_mesh == np.amax(grid_F_1_mesh))\n",
    "max_pos_mesh      = list(zip(result_mesh[0],result_mesh[1]))[0]"
   ]
  },
  {
   "cell_type": "code",
   "execution_count": 140,
   "id": "engaging-ethnic",
   "metadata": {},
   "outputs": [],
   "source": [
    "optimal_gamma_mesh   = max_pos_mesh[1]*step_size\n",
    "optimal_beta_mesh  = max_pos_mesh[0]*step_size"
   ]
  },
  {
   "cell_type": "code",
   "execution_count": 141,
   "id": "formed-committee",
   "metadata": {},
   "outputs": [
    {
     "data": {
      "image/png": "[encoded data removed]",
      "text/plain": [
       "<Figure size 720x720 with 1 Axes>"
      ]
     },
     "metadata": {
      "needs_background": "light"
     },
     "output_type": "display_data"
    },
    {
     "name": "stdout",
     "output_type": "stream",
     "text": [
      "\n",
      " --- OPTIMAL PARAMETERS --- \n",
      "\n",
      "The maximal expectation value is:  F_1 = 8.419\n",
      "This is attained for gamma = 2.220 and beta = 1.180\n"
     ]
    }
   ],
   "source": [
    "# Plot the expetation value grid_f_1\n",
    "fig = plt.figure(figsize = (10,10))\n",
    "ax  = fig.gca(projection='3d')\n",
    "\n",
    "surf = ax.plot_surface(parameters_mesh[0], parameters_mesh[1], grid_F_1_mesh, cmap=cm.coolwarm, linewidth=0, antialiased=True)\n",
    "\n",
    "#a_maximum_cut = find_maximum_cuts(n_qubits, edges)[0]\n",
    "#max_cost_fun = qaoa.evaluate_cost_fun (a_maximum_cut, edges)\n",
    "#ax.set_zlim(1,max_cost_fun)\n",
    "ax.zaxis.set_major_locator(LinearLocator(3))\n",
    "ax.zaxis.set_major_formatter(FormatStrFormatter('%.02f'))\n",
    "ax.set_ylabel('beta')\n",
    "ax.set_xlabel('gamma')\n",
    "ax.set_zlabel('F1')\n",
    "\n",
    "plt.show()\n",
    "\n",
    "#The smallest parameters and the expectation can be extracted\n",
    "print('\\n --- OPTIMAL PARAMETERS --- \\n')\n",
    "print('The maximal expectation value is:  F_1 = %.03f' % np.amax(grid_F_1_mesh))\n",
    "#print('where the max_C is ', max_cost_fun)\n",
    "print('This is attained for gamma = %.03f and beta = %.03f' % (optimal_gamma_mesh, optimal_beta_mesh))"
   ]
  },
  {
   "cell_type": "code",
   "execution_count": 21,
   "id": "lasting-corner",
   "metadata": {},
   "outputs": [],
   "source": [
    "optimal_params_scipy = scipy.optimize.minimize(qaoa.minus_analitic_F_1, [0.0, 0.0], args = (graph, edges), method='Nelder-Mead')['x']\n",
    "optimal_gamma_scipy = optimal_params_scipy[0]\n",
    "optimal_beta_scipy = optimal_params_scipy[1]"
   ]
  },
  {
   "cell_type": "markdown",
   "id": "distinguished-nirvana",
   "metadata": {},
   "source": [
    "### 0.3 Define operators"
   ]
  },
  {
   "cell_type": "code",
   "execution_count": 264,
   "id": "lined-kenya",
   "metadata": {},
   "outputs": [],
   "source": [
    "I = qu.tensor([qu.qeye(2)]*n_qubits)\n",
    "X = []\n",
    "for i in range(n_qubits):\n",
    "    X.append(qu.tensor([qu.qeye(2)]*i+[qu.sigmax()]+[qu.qeye(2)]*(n_qubits-i-1)))\n",
    "Y = []\n",
    "for i in range(n_qubits):\n",
    "    Y.append(qu.tensor([qu.qeye(2)]*i+[qu.sigmay()]+[qu.qeye(2)]*(n_qubits-i-1)))\n",
    "Z = []\n",
    "for i in range(n_qubits):\n",
    "    Z.append(qu.tensor([qu.qeye(2)]*i+[qu.sigmaz()]+[qu.qeye(2)]*(n_qubits-i-1)))\n",
    "P_0 = []\n",
    "for i in range(n_qubits):\n",
    "    P_0.append(qu.tensor([qu.qeye(2)]*i+[qu.ket('0').proj()]+[qu.qeye(2)]*(n_qubits-i-1)))\n",
    "P_1 = []\n",
    "for i in range(n_qubits):\n",
    "    P_1.append(qu.tensor([qu.qeye(2)]*i+[qu.ket('1').proj()]+[qu.qeye(2)]*(n_qubits-i-1)))\n",
    "\n",
    "H_B = sum(X)\n",
    "list_double_sigmaz = []\n",
    "for edge in edges:\n",
    "    list_double_sigmaz.append(Z[edge[0]]*Z[edge[1]])\n",
    "H_P = 0.5*(len(edges)*qucs.n_qeye(n_qubits)-sum(list_double_sigmaz))\n",
    "def evolution_operator(gammas, betas):\n",
    "    evol_oper = I\n",
    "    for i in range(len(gammas)):\n",
    "        u_mix_hamilt_i = (-complex(0,betas[i])*H_B).expm()\n",
    "        u_prob_hamilt_i = (-complex(0,gammas[i])*H_P).expm()\n",
    "        evol_oper = u_mix_hamilt_i*u_prob_hamilt_i*evol_oper\n",
    "    return evol_oper"
   ]
  },
  {
   "cell_type": "code",
   "execution_count": 49,
   "id": "popular-exception",
   "metadata": {},
   "outputs": [
    {
     "data": {
      "text/plain": [
       "0.49999999999999956"
      ]
     },
     "execution_count": 49,
     "metadata": {},
     "output_type": "execute_result"
    }
   ],
   "source": [
    "float(abs(fin_state.dag()*P_0[1]*fin_state.full()))"
   ]
  },
  {
   "cell_type": "code",
   "execution_count": 53,
   "id": "unlimited-spray",
   "metadata": {},
   "outputs": [
    {
     "name": "stdout",
     "output_type": "stream",
     "text": [
      "[[0.5+0.j]]\n",
      "[[0.5+0.j]]\n",
      "[[0.5+0.j]]\n",
      "[[0.5+0.j]]\n",
      "[[0.5+0.j]]\n"
     ]
    }
   ],
   "source": [
    "for i in range(n_qubits):\n",
    "    print((fin_state.dag()*P_1[i]*fin_state).full())"
   ]
  },
  {
   "cell_type": "code",
   "execution_count": 54,
   "id": "intellectual-claim",
   "metadata": {},
   "outputs": [
    {
     "name": "stdout",
     "output_type": "stream",
     "text": [
      "[[0.5+0.j]]\n",
      "[[0.5+0.j]]\n",
      "[[0.5+0.j]]\n",
      "[[0.5+0.j]]\n",
      "[[0.5+0.j]]\n"
     ]
    }
   ],
   "source": [
    "for i in range(n_qubits):\n",
    "    print((init_state.dag()*P_1[i]*init_state).full())"
   ]
  },
  {
   "cell_type": "code",
   "execution_count": 52,
   "id": "difficult-orleans",
   "metadata": {},
   "outputs": [
    {
     "data": {
      "text/latex": [
       "Quantum object: dims = [[2, 2, 2, 2, 2], [1, 1, 1, 1, 1]], shape = (32, 1), type = ket\\begin{equation*}\\left(\\begin{array}{*{11}c}(0.060+0.049j)\\\\(-0.022+0.094j)\\\\(0.080+0.030j)\\\\(-0.157+0.063j)\\\\(0.080+0.030j)\\\\\\vdots\\\\(0.080+0.030j)\\\\(-0.157+0.063j)\\\\(0.080+0.030j)\\\\(-0.022+0.094j)\\\\(0.060+0.049j)\\\\\\end{array}\\right)\\end{equation*}"
      ],
      "text/plain": [
       "Quantum object: dims = [[2, 2, 2, 2, 2], [1, 1, 1, 1, 1]], shape = (32, 1), type = ket\n",
       "Qobj data =\n",
       "[[ 0.05979253+0.04860579j]\n",
       " [-0.02163665+0.093993j  ]\n",
       " [ 0.08040059+0.02984937j]\n",
       " [-0.15664487+0.06321629j]\n",
       " [ 0.08040059+0.02984937j]\n",
       " [-0.14893968+0.28969475j]\n",
       " [-0.05460763-0.00092733j]\n",
       " [-0.10798678+0.03840152j]\n",
       " [-0.02163665+0.093993j  ]\n",
       " [-0.19385426+0.17785252j]\n",
       " [-0.14893968+0.28969475j]\n",
       " [-0.14519617+0.15303775j]\n",
       " [-0.15664487+0.06321629j]\n",
       " [-0.14519617+0.15303775j]\n",
       " [-0.10798678+0.03840152j]\n",
       " [ 0.03174251+0.05466414j]\n",
       " [ 0.03174251+0.05466414j]\n",
       " [-0.10798678+0.03840152j]\n",
       " [-0.14519617+0.15303775j]\n",
       " [-0.15664487+0.06321629j]\n",
       " [-0.14519617+0.15303775j]\n",
       " [-0.14893968+0.28969475j]\n",
       " [-0.19385426+0.17785252j]\n",
       " [-0.02163665+0.093993j  ]\n",
       " [-0.10798678+0.03840152j]\n",
       " [-0.05460763-0.00092733j]\n",
       " [-0.14893968+0.28969475j]\n",
       " [ 0.08040059+0.02984937j]\n",
       " [-0.15664487+0.06321629j]\n",
       " [ 0.08040059+0.02984937j]\n",
       " [-0.02163665+0.093993j  ]\n",
       " [ 0.05979253+0.04860579j]]"
      ]
     },
     "execution_count": 52,
     "metadata": {},
     "output_type": "execute_result"
    }
   ],
   "source": [
    "fin_state"
   ]
  },
  {
   "cell_type": "code",
   "execution_count": 75,
   "id": "northern-regulation",
   "metadata": {},
   "outputs": [],
   "source": [
    "def single_qubit_measurement(qstate, qubit_pos):\n",
    "    n_qubits = len(qstate.dims[0])\n",
    "    M_i = P_0[qubit_pos]*qstate\n",
    "    if qstate.dims[1][0] == 1:\n",
    "        p0_i = float(abs((qstate.dag()*M_i).full()))\n",
    "        if np.random.random_sample() <= p0_i:\n",
    "            outcome = '0'\n",
    "            qstate = M_i/np.sqrt(p0_i)\n",
    "        else:\n",
    "            outcome = '1'\n",
    "            qstate = (P_1[qubit_pos]*qstate)/np.sqrt((1-p0_i))\n",
    "    else:\n",
    "        p0_i = M_i.tr()\n",
    "        if np.random.random_sample() <= p0_i:\n",
    "            outcome = '0'\n",
    "            qstate = M_i/p0_i\n",
    "        else:\n",
    "            outcome = '1'\n",
    "            qstate = (P_1[qubit_pos]*qstate)/(1-p0_i)\n",
    "    return outcome, qstate\n",
    "\n",
    "def quantum_measurements(n_samples, qstate):\n",
    "    n_qubits = len(qstate.dims[0])\n",
    "    outcomes = []\n",
    "    for j in range(n_samples):\n",
    "        outcome = ''\n",
    "        qstate_dummy = qstate.copy()\n",
    "        for i in range(n_qubits):\n",
    "            outcome_i, qstate_dummy = single_qubit_measurement(qstate_dummy, i)\n",
    "            outcome += outcome_i\n",
    "        outcomes.append(outcome)\n",
    "    return outcomes"
   ]
  },
  {
   "cell_type": "markdown",
   "id": "apparent-starter",
   "metadata": {},
   "source": [
    "## 1 Parameters optimization"
   ]
  },
  {
   "cell_type": "markdown",
   "id": "dated-republican",
   "metadata": {},
   "source": [
    "## 1.1 Choose QAOA level and pick initial parameters"
   ]
  },
  {
   "cell_type": "code",
   "execution_count": 25,
   "id": "civic-quarterly",
   "metadata": {},
   "outputs": [],
   "source": [
    "n_levels = 1"
   ]
  },
  {
   "cell_type": "markdown",
   "id": "studied-consumption",
   "metadata": {},
   "source": [
    "## 1.2 Generate initial state"
   ]
  },
  {
   "cell_type": "markdown",
   "id": "present-service",
   "metadata": {},
   "source": [
    "${\\large |s\\rangle = \\sum_{z \\, \\in \\, \\{0,1\\}^n}^{}{|z\\rangle} = |+\\rangle^{\\otimes n}}$"
   ]
  },
  {
   "cell_type": "code",
   "execution_count": 55,
   "id": "unauthorized-sally",
   "metadata": {},
   "outputs": [],
   "source": [
    "# initial state:\n",
    "init_state = qaoa.initial_state(n_qubits)\n",
    "dm_init_state = qu.ket2dm(qaoa.initial_state(n_qubits))"
   ]
  },
  {
   "cell_type": "markdown",
   "id": "dominant-triumph",
   "metadata": {},
   "source": [
    "## 1.3 Obtain final state"
   ]
  },
  {
   "cell_type": "markdown",
   "id": "mysterious-microphone",
   "metadata": {},
   "source": [
    "${\\large |\\vec{\\gamma},\\vec{\\beta}\\rangle = U(B,\\beta_p)U(C,\\gamma_p)...U(B,\\beta_1)U(C,\\gamma_1)|s\\rangle}$"
   ]
  },
  {
   "cell_type": "code",
   "execution_count": 103,
   "id": "occupied-enterprise",
   "metadata": {},
   "outputs": [],
   "source": [
    "# obtain final state:\n",
    "#optimal_params = optimal_params_scipy\n",
    "optimal_params = optimal_parameters_Adam_fin_diff\n",
    "optimal_gammas = optimal_params[:n_levels]\n",
    "optimal_betas = optimal_params[n_levels:]\n",
    "fin_state = evolution_operator(optimal_gammas, optimal_betas)*init_state\n",
    "dm_fin_state = evolution_operator(optimal_gammas, optimal_betas)*dm_init_state*evolution_operator(optimal_gammas, optimal_betas).dag()"
   ]
  },
  {
   "cell_type": "code",
   "execution_count": 38,
   "id": "explicit-location",
   "metadata": {},
   "outputs": [
    {
     "data": {
      "text/latex": [
       "Quantum object: dims = [[2, 2, 2, 2, 2], [1, 1, 1, 1, 1]], shape = (32, 1), type = ket\\begin{equation*}\\left(\\begin{array}{*{11}c}(0.060+0.049j)\\\\(-0.022+0.094j)\\\\(0.080+0.030j)\\\\(-0.157+0.063j)\\\\(0.080+0.030j)\\\\\\vdots\\\\(0.080+0.030j)\\\\(-0.157+0.063j)\\\\(0.080+0.030j)\\\\(-0.022+0.094j)\\\\(0.060+0.049j)\\\\\\end{array}\\right)\\end{equation*}"
      ],
      "text/plain": [
       "Quantum object: dims = [[2, 2, 2, 2, 2], [1, 1, 1, 1, 1]], shape = (32, 1), type = ket\n",
       "Qobj data =\n",
       "[[ 0.05979253+0.04860579j]\n",
       " [-0.02163665+0.093993j  ]\n",
       " [ 0.08040059+0.02984937j]\n",
       " [-0.15664487+0.06321629j]\n",
       " [ 0.08040059+0.02984937j]\n",
       " [-0.14893968+0.28969475j]\n",
       " [-0.05460763-0.00092733j]\n",
       " [-0.10798678+0.03840152j]\n",
       " [-0.02163665+0.093993j  ]\n",
       " [-0.19385426+0.17785252j]\n",
       " [-0.14893968+0.28969475j]\n",
       " [-0.14519617+0.15303775j]\n",
       " [-0.15664487+0.06321629j]\n",
       " [-0.14519617+0.15303775j]\n",
       " [-0.10798678+0.03840152j]\n",
       " [ 0.03174251+0.05466414j]\n",
       " [ 0.03174251+0.05466414j]\n",
       " [-0.10798678+0.03840152j]\n",
       " [-0.14519617+0.15303775j]\n",
       " [-0.15664487+0.06321629j]\n",
       " [-0.14519617+0.15303775j]\n",
       " [-0.14893968+0.28969475j]\n",
       " [-0.19385426+0.17785252j]\n",
       " [-0.02163665+0.093993j  ]\n",
       " [-0.10798678+0.03840152j]\n",
       " [-0.05460763-0.00092733j]\n",
       " [-0.14893968+0.28969475j]\n",
       " [ 0.08040059+0.02984937j]\n",
       " [-0.15664487+0.06321629j]\n",
       " [ 0.08040059+0.02984937j]\n",
       " [-0.02163665+0.093993j  ]\n",
       " [ 0.05979253+0.04860579j]]"
      ]
     },
     "execution_count": 38,
     "metadata": {},
     "output_type": "execute_result"
    }
   ],
   "source": [
    "fin_state"
   ]
  },
  {
   "cell_type": "markdown",
   "id": "gross-sleep",
   "metadata": {},
   "source": [
    "##  1.4 Perform N-computational_basis measurements on $|\\vec{\\gamma},\\vec{\\beta}\\rangle$ and evaluate $F_p$"
   ]
  },
  {
   "cell_type": "code",
   "execution_count": 151,
   "id": "orange-region",
   "metadata": {},
   "outputs": [],
   "source": [
    "def evaluate_F_p(params, n_qubits, edges, n_samples):\n",
    "    gammas = params[:int(len(list(params))/2)]\n",
    "    betas = params[int(len(list(params))/2):]\n",
    "    \n",
    "    # initial state:\n",
    "    init_state = qaoa.initial_state(n_qubits)\n",
    "    #obtain final state\n",
    "    fin_state = evolution_operator(gammas, betas)*init_state\n",
    "    \n",
    "    #Perform N measurements on each single qubit of final state\n",
    "    c_outcomes = Counter(quantum_measurements(n_samples, fin_state))\n",
    "    \n",
    "    #Evaluate Fp\n",
    "    list_z = list(c_outcomes.keys())\n",
    "    list_w = list(c_outcomes.values())\n",
    "    Fp = 0\n",
    "    for i in range(len(c_outcomes)):\n",
    "        Fp += list_w[i]*qaoa.evaluate_cost_fun(list(list_z)[i], edges)\n",
    "    return Fp/n_samples"
   ]
  },
  {
   "cell_type": "code",
   "execution_count": 152,
   "id": "lesbian-screen",
   "metadata": {},
   "outputs": [
    {
     "data": {
      "text/plain": [
       "2.654295634453291"
      ]
     },
     "execution_count": 152,
     "metadata": {},
     "output_type": "execute_result"
    }
   ],
   "source": [
    "qu.expect(H_P, fin_state)"
   ]
  },
  {
   "cell_type": "code",
   "execution_count": 105,
   "id": "british-banner",
   "metadata": {},
   "outputs": [
    {
     "data": {
      "text/plain": [
       "4.7242"
      ]
     },
     "execution_count": 105,
     "metadata": {},
     "output_type": "execute_result"
    }
   ],
   "source": [
    "n_samples = 10000\n",
    "#optimal_params = optimal_params_scipy\n",
    "optimal_params = optimal_parameters_Adam_fin_diff\n",
    "F_p= evaluate_F_p(optimal_params, n_qubits, edges, n_samples)\n",
    "F_p"
   ]
  },
  {
   "cell_type": "code",
   "execution_count": 106,
   "id": "designing-assumption",
   "metadata": {},
   "outputs": [],
   "source": [
    "n_samples=10000\n",
    "occurrencies = Counter(quantum_measurements(n_samples, fin_state))"
   ]
  },
  {
   "cell_type": "raw",
   "id": "documentary-commitment",
   "metadata": {},
   "source": [
    "occurrencies"
   ]
  },
  {
   "cell_type": "raw",
   "id": "natural-hunter",
   "metadata": {},
   "source": [
    "occurrencies.most_common(2)"
   ]
  },
  {
   "cell_type": "code",
   "execution_count": 107,
   "id": "national-elder",
   "metadata": {},
   "outputs": [
    {
     "data": {
      "text/plain": [
       "<BarContainer object of 32 artists>"
      ]
     },
     "execution_count": 107,
     "metadata": {},
     "output_type": "execute_result"
    },
    {
     "data": {
      "image/png": "[encoded data removed]",
      "text/plain": [
       "<Figure size 921.6x360 with 1 Axes>"
      ]
     },
     "metadata": {
      "needs_background": "light"
     },
     "output_type": "display_data"
    }
   ],
   "source": [
    "# plot probabilities of each state of the graph corresponding to every possible configuration after a cut\n",
    "plt.figure(figsize = (2**n_qubits/2.5,5))\n",
    "plt.xticks(rotation=45)\n",
    "plt.bar(occurrencies.keys(),occurrencies.values(),width = 0.5)"
   ]
  },
  {
   "cell_type": "code",
   "execution_count": 116,
   "id": "awful-chain",
   "metadata": {},
   "outputs": [],
   "source": [
    "def evaluate_F_p_j(params, n_qubits, index_j, edges, n_samples):\n",
    "    gammas = params[:int(len(list(params))/2)]\n",
    "    betas = params[int(len(list(params))/2):]\n",
    "    edge = edges[index_j]\n",
    "    \n",
    "    # initial state (as density matrix):\n",
    "    #dm_init_state = qu.ket2dm(initial_state(n_qubits))\n",
    "    init_state = qaoa.initial_state(n_qubits)\n",
    "    #obtain final state\n",
    "    #dm_fin_state = evolution_operator(n_qubits, edges, gammas, betas)*dm_init_state*evolution_operator(n_qubits, edges, gammas, betas).dag()\n",
    "    fin_state = evolution_operator(gammas, betas)*init_state\n",
    "    \n",
    "    #perform n_samples measurments on qubits in edge[0] and edge[1]\n",
    "    outcomes = []\n",
    "    for j in range(n_samples):\n",
    "        outcome = ''\n",
    "        qstate_dummy = fin_state.copy()\n",
    "        for i in edge:\n",
    "            outcome_i, qstate_dummy = single_qubit_measurement(qstate_dummy, i)\n",
    "            outcome += outcome_i\n",
    "        outcomes.append(outcome)\n",
    "    c_outcomes = Counter(outcomes)\n",
    "    \n",
    "    #evaluate F_p_j\n",
    "    list_z = list(c_outcomes.keys())\n",
    "    list_w = list(c_outcomes.values())\n",
    "    F_p_j = 0\n",
    "    for i in range(len(list_w)):\n",
    "        F_p_j += list_w[i]*qaoa.single_term_cost_fun(list(list_z)[i])\n",
    "    return F_p_j/n_samples"
   ]
  },
  {
   "cell_type": "markdown",
   "id": "attempted-tuner",
   "metadata": {},
   "source": [
    "### SGD: finite differences"
   ]
  },
  {
   "cell_type": "code",
   "execution_count": 154,
   "id": "premium-democracy",
   "metadata": {},
   "outputs": [
    {
     "name": "stdout",
     "output_type": "stream",
     "text": [
      "in [2.23313842 1.07984599] with grad  [-0.25  0.6 ] objective after step     1:  6.2388927\n",
      "in [2.18313843 1.12984599] with grad  [-1.35 -1.25] objective after step     2:  6.2797494\n",
      "in [2.14045543 1.11079188] with grad  [ 1.  -0.1] objective after step     3:  6.2945867\n"
     ]
    },
    {
     "ename": "KeyboardInterrupt",
     "evalue": "",
     "output_type": "error",
     "traceback": [
      "\u001b[1;31m---------------------------------------------------------------------------\u001b[0m",
      "\u001b[1;31mKeyboardInterrupt\u001b[0m                         Traceback (most recent call last)",
      "\u001b[1;32m<ipython-input-154-6558c3009baf>\u001b[0m in \u001b[0;36m<module>\u001b[1;34m\u001b[0m\n\u001b[0;32m     15\u001b[0m \u001b[1;31m#H_P = qaoa.prob_hamilt(n_qubits, edges)\u001b[0m\u001b[1;33m\u001b[0m\u001b[1;33m\u001b[0m\u001b[1;33m\u001b[0m\u001b[0m\n\u001b[0;32m     16\u001b[0m \u001b[1;32mfor\u001b[0m \u001b[0mi\u001b[0m \u001b[1;32min\u001b[0m \u001b[0mrange\u001b[0m\u001b[1;33m(\u001b[0m\u001b[0mn_steps\u001b[0m\u001b[1;33m)\u001b[0m\u001b[1;33m:\u001b[0m\u001b[1;33m\u001b[0m\u001b[1;33m\u001b[0m\u001b[0m\n\u001b[1;32m---> 17\u001b[1;33m     \u001b[0mg_t\u001b[0m \u001b[1;33m=\u001b[0m \u001b[0mqaoa\u001b[0m\u001b[1;33m.\u001b[0m\u001b[0mfin_diff_grad\u001b[0m\u001b[1;33m(\u001b[0m\u001b[0mevaluate_F_p\u001b[0m\u001b[1;33m,\u001b[0m \u001b[0mparameters\u001b[0m\u001b[1;33m,\u001b[0m \u001b[0margs\u001b[0m\u001b[1;33m=\u001b[0m\u001b[1;33m(\u001b[0m\u001b[0mn_qubits\u001b[0m\u001b[1;33m,\u001b[0m \u001b[0medges\u001b[0m\u001b[1;33m,\u001b[0m \u001b[1;36m100\u001b[0m\u001b[1;33m)\u001b[0m\u001b[1;33m,\u001b[0m \u001b[0mincrement\u001b[0m\u001b[1;33m=\u001b[0m\u001b[1;36m0.1\u001b[0m\u001b[1;33m)\u001b[0m\u001b[1;33m\u001b[0m\u001b[1;33m\u001b[0m\u001b[0m\n\u001b[0m\u001b[0;32m     18\u001b[0m     \u001b[0mgammas\u001b[0m \u001b[1;33m=\u001b[0m \u001b[0mparameters\u001b[0m\u001b[1;33m[\u001b[0m\u001b[1;33m:\u001b[0m\u001b[0mn_levels\u001b[0m\u001b[1;33m]\u001b[0m\u001b[1;33m\u001b[0m\u001b[1;33m\u001b[0m\u001b[0m\n\u001b[0;32m     19\u001b[0m     \u001b[0mbetas\u001b[0m \u001b[1;33m=\u001b[0m \u001b[0mparameters\u001b[0m\u001b[1;33m[\u001b[0m\u001b[0mn_levels\u001b[0m\u001b[1;33m:\u001b[0m\u001b[1;33m]\u001b[0m\u001b[1;33m\u001b[0m\u001b[1;33m\u001b[0m\u001b[0m\n",
      "\u001b[1;32m~\\Desktop\\Thesis_QAOA_MaxCut\\qaoa.py\u001b[0m in \u001b[0;36mfin_diff_grad\u001b[1;34m(function, params, args, increment)\u001b[0m\n\u001b[0;32m    252\u001b[0m     \u001b[0mg_t\u001b[0m \u001b[1;33m=\u001b[0m \u001b[0mnp\u001b[0m\u001b[1;33m.\u001b[0m\u001b[0mzeros\u001b[0m\u001b[1;33m(\u001b[0m\u001b[0md\u001b[0m\u001b[1;33m)\u001b[0m\u001b[1;33m\u001b[0m\u001b[1;33m\u001b[0m\u001b[0m\n\u001b[0;32m    253\u001b[0m     \u001b[1;32mfor\u001b[0m \u001b[0mi\u001b[0m \u001b[1;32min\u001b[0m \u001b[0mrange\u001b[0m\u001b[1;33m(\u001b[0m\u001b[0md\u001b[0m\u001b[1;33m)\u001b[0m\u001b[1;33m:\u001b[0m\u001b[1;33m\u001b[0m\u001b[1;33m\u001b[0m\u001b[0m\n\u001b[1;32m--> 254\u001b[1;33m         \u001b[0me_i\u001b[0m \u001b[1;33m=\u001b[0m \u001b[0mnp\u001b[0m\u001b[1;33m.\u001b[0m\u001b[0mzeros\u001b[0m\u001b[1;33m(\u001b[0m\u001b[0md\u001b[0m\u001b[1;33m)\u001b[0m\u001b[1;33m\u001b[0m\u001b[1;33m\u001b[0m\u001b[0m\n\u001b[0m\u001b[0;32m    255\u001b[0m         \u001b[0me_i\u001b[0m\u001b[1;33m[\u001b[0m\u001b[0mi\u001b[0m\u001b[1;33m]\u001b[0m \u001b[1;33m=\u001b[0m \u001b[1;36m1.0\u001b[0m\u001b[1;33m\u001b[0m\u001b[1;33m\u001b[0m\u001b[0m\n\u001b[0;32m    256\u001b[0m         \u001b[0mg_t\u001b[0m\u001b[1;33m[\u001b[0m\u001b[0mi\u001b[0m\u001b[1;33m]\u001b[0m \u001b[1;33m=\u001b[0m \u001b[1;33m(\u001b[0m\u001b[0mfunction\u001b[0m\u001b[1;33m(\u001b[0m\u001b[0ma_params\u001b[0m\u001b[1;33m+\u001b[0m\u001b[0me_i\u001b[0m\u001b[1;33m*\u001b[0m\u001b[0mincrement\u001b[0m\u001b[1;33m,\u001b[0m \u001b[1;33m*\u001b[0m\u001b[0margs\u001b[0m\u001b[1;33m)\u001b[0m\u001b[1;33m-\u001b[0m\u001b[0mfunction\u001b[0m\u001b[1;33m(\u001b[0m\u001b[0ma_params\u001b[0m\u001b[1;33m-\u001b[0m\u001b[0me_i\u001b[0m\u001b[1;33m*\u001b[0m\u001b[0mincrement\u001b[0m\u001b[1;33m,\u001b[0m \u001b[1;33m*\u001b[0m\u001b[0margs\u001b[0m\u001b[1;33m)\u001b[0m\u001b[1;33m)\u001b[0m\u001b[1;33m/\u001b[0m\u001b[1;33m(\u001b[0m\u001b[1;36m2\u001b[0m\u001b[1;33m*\u001b[0m\u001b[0mincrement\u001b[0m\u001b[1;33m)\u001b[0m\u001b[1;33m\u001b[0m\u001b[1;33m\u001b[0m\u001b[0m\n",
      "\u001b[1;32m<ipython-input-151-c9ae10d48a41>\u001b[0m in \u001b[0;36mevaluate_F_p\u001b[1;34m(params, n_qubits, edges, n_samples)\u001b[0m\n\u001b[0;32m      9\u001b[0m \u001b[1;33m\u001b[0m\u001b[0m\n\u001b[0;32m     10\u001b[0m     \u001b[1;31m#Perform N measurements on each single qubit of final state\u001b[0m\u001b[1;33m\u001b[0m\u001b[1;33m\u001b[0m\u001b[1;33m\u001b[0m\u001b[0m\n\u001b[1;32m---> 11\u001b[1;33m     \u001b[0mc_outcomes\u001b[0m \u001b[1;33m=\u001b[0m \u001b[0mCounter\u001b[0m\u001b[1;33m(\u001b[0m\u001b[0mquantum_measurements\u001b[0m\u001b[1;33m(\u001b[0m\u001b[0mn_samples\u001b[0m\u001b[1;33m,\u001b[0m \u001b[0mfin_state\u001b[0m\u001b[1;33m)\u001b[0m\u001b[1;33m)\u001b[0m\u001b[1;33m\u001b[0m\u001b[1;33m\u001b[0m\u001b[0m\n\u001b[0m\u001b[0;32m     12\u001b[0m \u001b[1;33m\u001b[0m\u001b[0m\n\u001b[0;32m     13\u001b[0m     \u001b[1;31m#Evaluate Fp\u001b[0m\u001b[1;33m\u001b[0m\u001b[1;33m\u001b[0m\u001b[1;33m\u001b[0m\u001b[0m\n",
      "\u001b[1;32m<ipython-input-75-8f691ab0baff>\u001b[0m in \u001b[0;36mquantum_measurements\u001b[1;34m(n_samples, qstate)\u001b[0m\n\u001b[0;32m     25\u001b[0m     \u001b[1;32mfor\u001b[0m \u001b[0mj\u001b[0m \u001b[1;32min\u001b[0m \u001b[0mrange\u001b[0m\u001b[1;33m(\u001b[0m\u001b[0mn_samples\u001b[0m\u001b[1;33m)\u001b[0m\u001b[1;33m:\u001b[0m\u001b[1;33m\u001b[0m\u001b[1;33m\u001b[0m\u001b[0m\n\u001b[0;32m     26\u001b[0m         \u001b[0moutcome\u001b[0m \u001b[1;33m=\u001b[0m \u001b[1;34m''\u001b[0m\u001b[1;33m\u001b[0m\u001b[1;33m\u001b[0m\u001b[0m\n\u001b[1;32m---> 27\u001b[1;33m         \u001b[0mqstate_dummy\u001b[0m \u001b[1;33m=\u001b[0m \u001b[0mqstate\u001b[0m\u001b[1;33m.\u001b[0m\u001b[0mcopy\u001b[0m\u001b[1;33m(\u001b[0m\u001b[1;33m)\u001b[0m\u001b[1;33m\u001b[0m\u001b[1;33m\u001b[0m\u001b[0m\n\u001b[0m\u001b[0;32m     28\u001b[0m         \u001b[1;32mfor\u001b[0m \u001b[0mi\u001b[0m \u001b[1;32min\u001b[0m \u001b[0mrange\u001b[0m\u001b[1;33m(\u001b[0m\u001b[0mn_qubits\u001b[0m\u001b[1;33m)\u001b[0m\u001b[1;33m:\u001b[0m\u001b[1;33m\u001b[0m\u001b[1;33m\u001b[0m\u001b[0m\n\u001b[0;32m     29\u001b[0m             \u001b[0moutcome_i\u001b[0m\u001b[1;33m,\u001b[0m \u001b[0mqstate_dummy\u001b[0m \u001b[1;33m=\u001b[0m \u001b[0msingle_qubit_measurement\u001b[0m\u001b[1;33m(\u001b[0m\u001b[0mqstate_dummy\u001b[0m\u001b[1;33m,\u001b[0m \u001b[0mi\u001b[0m\u001b[1;33m)\u001b[0m\u001b[1;33m\u001b[0m\u001b[1;33m\u001b[0m\u001b[0m\n",
      "\u001b[1;32m~\\anaconda3\\lib\\site-packages\\qutip\\qobj.py\u001b[0m in \u001b[0;36mcopy\u001b[1;34m(self)\u001b[0m\n\u001b[0;32m    349\u001b[0m     \u001b[1;32mdef\u001b[0m \u001b[0mcopy\u001b[0m\u001b[1;33m(\u001b[0m\u001b[0mself\u001b[0m\u001b[1;33m)\u001b[0m\u001b[1;33m:\u001b[0m\u001b[1;33m\u001b[0m\u001b[1;33m\u001b[0m\u001b[0m\n\u001b[0;32m    350\u001b[0m         \u001b[1;34m\"\"\"Create identical copy\"\"\"\u001b[0m\u001b[1;33m\u001b[0m\u001b[1;33m\u001b[0m\u001b[0m\n\u001b[1;32m--> 351\u001b[1;33m         \u001b[1;32mreturn\u001b[0m \u001b[0mQobj\u001b[0m\u001b[1;33m(\u001b[0m\u001b[0minpt\u001b[0m\u001b[1;33m=\u001b[0m\u001b[0mself\u001b[0m\u001b[1;33m)\u001b[0m\u001b[1;33m\u001b[0m\u001b[1;33m\u001b[0m\u001b[0m\n\u001b[0m\u001b[0;32m    352\u001b[0m \u001b[1;33m\u001b[0m\u001b[0m\n\u001b[0;32m    353\u001b[0m     \u001b[1;32mdef\u001b[0m \u001b[0mget_data\u001b[0m\u001b[1;33m(\u001b[0m\u001b[0mself\u001b[0m\u001b[1;33m)\u001b[0m\u001b[1;33m:\u001b[0m\u001b[1;33m\u001b[0m\u001b[1;33m\u001b[0m\u001b[0m\n",
      "\u001b[1;32m~\\anaconda3\\lib\\site-packages\\qutip\\qobj.py\u001b[0m in \u001b[0;36m__init__\u001b[1;34m(self, inpt, dims, shape, type, isherm, copy, fast, superrep, isunitary)\u001b[0m\n\u001b[0;32m    240\u001b[0m             \u001b[1;31m# if input is already Qobj then return identical copy\u001b[0m\u001b[1;33m\u001b[0m\u001b[1;33m\u001b[0m\u001b[1;33m\u001b[0m\u001b[0m\n\u001b[0;32m    241\u001b[0m \u001b[1;33m\u001b[0m\u001b[0m\n\u001b[1;32m--> 242\u001b[1;33m             self._data = fast_csr_matrix((inpt.data.data, inpt.data.indices,\n\u001b[0m\u001b[0;32m    243\u001b[0m                                           inpt.data.indptr),\n\u001b[0;32m    244\u001b[0m                                           shape=inpt.shape, copy=copy)\n",
      "\u001b[1;32m~\\anaconda3\\lib\\site-packages\\qutip\\fastsparse.py\u001b[0m in \u001b[0;36m__init__\u001b[1;34m(self, args, shape, dtype, copy)\u001b[0m\n\u001b[0;32m     62\u001b[0m                 \u001b[1;32mraise\u001b[0m \u001b[0mTypeError\u001b[0m\u001b[1;33m(\u001b[0m\u001b[1;34m'fast_csr_matrix allows only int32 indptr.'\u001b[0m\u001b[1;33m)\u001b[0m\u001b[1;33m\u001b[0m\u001b[1;33m\u001b[0m\u001b[0m\n\u001b[0;32m     63\u001b[0m             \u001b[0mself\u001b[0m\u001b[1;33m.\u001b[0m\u001b[0mdata\u001b[0m \u001b[1;33m=\u001b[0m \u001b[0mnp\u001b[0m\u001b[1;33m.\u001b[0m\u001b[0marray\u001b[0m\u001b[1;33m(\u001b[0m\u001b[0margs\u001b[0m\u001b[1;33m[\u001b[0m\u001b[1;36m0\u001b[0m\u001b[1;33m]\u001b[0m\u001b[1;33m,\u001b[0m \u001b[0mdtype\u001b[0m\u001b[1;33m=\u001b[0m\u001b[0mcomplex\u001b[0m\u001b[1;33m,\u001b[0m \u001b[0mcopy\u001b[0m\u001b[1;33m=\u001b[0m\u001b[0mcopy\u001b[0m\u001b[1;33m)\u001b[0m\u001b[1;33m\u001b[0m\u001b[1;33m\u001b[0m\u001b[0m\n\u001b[1;32m---> 64\u001b[1;33m             \u001b[0mself\u001b[0m\u001b[1;33m.\u001b[0m\u001b[0mindices\u001b[0m \u001b[1;33m=\u001b[0m \u001b[0mnp\u001b[0m\u001b[1;33m.\u001b[0m\u001b[0marray\u001b[0m\u001b[1;33m(\u001b[0m\u001b[0margs\u001b[0m\u001b[1;33m[\u001b[0m\u001b[1;36m1\u001b[0m\u001b[1;33m]\u001b[0m\u001b[1;33m,\u001b[0m \u001b[0mdtype\u001b[0m\u001b[1;33m=\u001b[0m\u001b[0mnp\u001b[0m\u001b[1;33m.\u001b[0m\u001b[0mint32\u001b[0m\u001b[1;33m,\u001b[0m \u001b[0mcopy\u001b[0m\u001b[1;33m=\u001b[0m\u001b[0mcopy\u001b[0m\u001b[1;33m)\u001b[0m\u001b[1;33m\u001b[0m\u001b[1;33m\u001b[0m\u001b[0m\n\u001b[0m\u001b[0;32m     65\u001b[0m             \u001b[0mself\u001b[0m\u001b[1;33m.\u001b[0m\u001b[0mindptr\u001b[0m \u001b[1;33m=\u001b[0m \u001b[0mnp\u001b[0m\u001b[1;33m.\u001b[0m\u001b[0marray\u001b[0m\u001b[1;33m(\u001b[0m\u001b[0margs\u001b[0m\u001b[1;33m[\u001b[0m\u001b[1;36m2\u001b[0m\u001b[1;33m]\u001b[0m\u001b[1;33m,\u001b[0m \u001b[0mdtype\u001b[0m\u001b[1;33m=\u001b[0m\u001b[0mnp\u001b[0m\u001b[1;33m.\u001b[0m\u001b[0mint32\u001b[0m\u001b[1;33m,\u001b[0m \u001b[0mcopy\u001b[0m\u001b[1;33m=\u001b[0m\u001b[0mcopy\u001b[0m\u001b[1;33m)\u001b[0m\u001b[1;33m\u001b[0m\u001b[1;33m\u001b[0m\u001b[0m\n\u001b[0;32m     66\u001b[0m             \u001b[1;32mif\u001b[0m \u001b[0mshape\u001b[0m \u001b[1;32mis\u001b[0m \u001b[1;32mNone\u001b[0m\u001b[1;33m:\u001b[0m\u001b[1;33m\u001b[0m\u001b[1;33m\u001b[0m\u001b[0m\n",
      "\u001b[1;31mKeyboardInterrupt\u001b[0m: "
     ]
    }
   ],
   "source": [
    "#perform it for exp_F_1 (check if this method works properly for p=1 case)\n",
    "n_steps = 20\n",
    "n_levels=1\n",
    "parameters = np.array(np.pi*np.random.random_sample(2*n_levels)) #check how choose initial params, for pi*rand is too dispersive\n",
    "#parameters = 0.01*np.random.rand(2*n_levels)\n",
    "beta_1 = 0.9\n",
    "beta_2 = 0.999\n",
    "epsilon = 1e-8\n",
    "m_t = np.zeros(2*n_levels)\n",
    "v_t = np.zeros(2*n_levels)\n",
    "t = 0\n",
    "init_state = qaoa.initial_state(n_qubits)\n",
    "eta = 0.05 #works also for eta = 0.01, but increases very slowly, and 0.1 oscillates too much around max\n",
    "#previous_g_t = np.zeros(2*n_levels)\n",
    "#H_P = qaoa.prob_hamilt(n_qubits, edges)\n",
    "for i in range(n_steps):\n",
    "    g_t = qaoa.fin_diff_grad(evaluate_F_p, parameters, args=(n_qubits, edges, 100), increment=0.1)\n",
    "    gammas = parameters[:n_levels]\n",
    "    betas = parameters[n_levels:]\n",
    "    fin_state = evolution_operator(gammas, betas)*init_state\n",
    "    F_p = qu.expect(H_P, fin_state)\n",
    "    #if (i + 1) % 1 == 0:\n",
    "    print('in', parameters, 'with grad ', g_t,  \"objective after step {:5d}: {: .7f}\".format(i + 1, F_p))\n",
    "    t = t+1\n",
    "    m_t = beta_1*m_t + (1-beta_1)*g_t\n",
    "    v_t = beta_2*v_t + (1-beta_2)*g_t**2\n",
    "    m_t_hat = m_t/(1-beta_1**t)\n",
    "    v_t_hat = v_t/(1-beta_2**t)\n",
    "    delta_params = eta*m_t_hat/(np.sqrt(v_t_hat) + epsilon)\n",
    "    #if (np.sqrt(sum(delta_params**2)) < 0.02):\n",
    "        #break\n",
    "    parameters = parameters + delta_params\n",
    "    #previous_g_t = g_t\n",
    "optimal_parameters_Adam_fin_diff = parameters\n",
    "print('optimal parameters are ', optimal_parameters_Adam_fin_diff, 'and F_p is', F_p)"
   ]
  },
  {
   "cell_type": "raw",
   "id": "acting-estate",
   "metadata": {},
   "source": [
    "for house:\n",
    "F_1 = 4.08\n",
    "F_2 = 4.30\n",
    "F_3 = 4.72"
   ]
  },
  {
   "cell_type": "markdown",
   "id": "prospective-polyester",
   "metadata": {},
   "source": [
    "### doubly SGD"
   ]
  },
  {
   "cell_type": "code",
   "execution_count": 109,
   "id": "absent-jefferson",
   "metadata": {},
   "outputs": [],
   "source": [
    "def doubly_stoc_grad_max_cut(params, n_qubits, edges, n_samples):\n",
    "    d = len(list(params))\n",
    "    a_params = np.array(params)\n",
    "    g_t = np.zeros(d)\n",
    "    m = len(edges)\n",
    "    for i in range(d):\n",
    "        \n",
    "        #obtain indecies for the samplings\n",
    "        index_j = np.random.randint(m)\n",
    "        #index_r not necessary (they behave in the same way)\n",
    "        #index_j' not necessary (they behave in the same way)\n",
    "        index_k = np.random.randint(2)\n",
    "        \n",
    "        #obtain forward parameters\n",
    "        e_i = np.zeros(d)\n",
    "        e_i[i] = 1.0\n",
    "        if index_k == 0:\n",
    "            forward_params = a_params + np.pi*0.5*e_i\n",
    "            epsilon_i = 0.5\n",
    "        else:\n",
    "            forward_params = a_params - np.pi*0.5*e_i\n",
    "            epsilon_i = -0.5\n",
    "            \n",
    "        #obtain gradient estimator\n",
    "        g_t[i] = evaluate_F_p_j(forward_params, n_qubits ,index_j, edges, n_samples)*epsilon_i*2*m\n",
    "    return g_t"
   ]
  },
  {
   "cell_type": "code",
   "execution_count": 176,
   "id": "interested-latex",
   "metadata": {},
   "outputs": [
    {
     "ename": "KeyboardInterrupt",
     "evalue": "",
     "output_type": "error",
     "traceback": [
      "\u001b[1;31m---------------------------------------------------------------------------\u001b[0m",
      "\u001b[1;31mKeyboardInterrupt\u001b[0m                         Traceback (most recent call last)",
      "\u001b[1;32m<ipython-input-176-58621bd983fa>\u001b[0m in \u001b[0;36m<module>\u001b[1;34m\u001b[0m\n\u001b[0;32m     23\u001b[0m \u001b[1;31m#previous_g_t = np.zeros(2*n_levels)\u001b[0m\u001b[1;33m\u001b[0m\u001b[1;33m\u001b[0m\u001b[1;33m\u001b[0m\u001b[0m\n\u001b[0;32m     24\u001b[0m \u001b[1;32mfor\u001b[0m \u001b[0mi\u001b[0m \u001b[1;32min\u001b[0m \u001b[0mrange\u001b[0m\u001b[1;33m(\u001b[0m\u001b[0mn_steps\u001b[0m\u001b[1;33m)\u001b[0m\u001b[1;33m:\u001b[0m\u001b[1;33m\u001b[0m\u001b[1;33m\u001b[0m\u001b[0m\n\u001b[1;32m---> 25\u001b[1;33m     \u001b[0mg_t\u001b[0m \u001b[1;33m=\u001b[0m \u001b[0mdoubly_stoc_grad_max_cut\u001b[0m\u001b[1;33m(\u001b[0m\u001b[0mparameters\u001b[0m\u001b[1;33m,\u001b[0m \u001b[0mn_qubits\u001b[0m\u001b[1;33m,\u001b[0m \u001b[0medges\u001b[0m\u001b[1;33m,\u001b[0m \u001b[1;36m1\u001b[0m\u001b[1;33m)\u001b[0m \u001b[1;31m# paper tried N = 1, 9, 81\u001b[0m\u001b[1;33m\u001b[0m\u001b[1;33m\u001b[0m\u001b[0m\n\u001b[0m\u001b[0;32m     26\u001b[0m     \u001b[1;31m#if (np.sign(g_t) == -np.sign(previous_g_t)).all() and (np.sign(g_t) == -np.sign(np.ones(2*n_levels))).all():\u001b[0m\u001b[1;33m\u001b[0m\u001b[1;33m\u001b[0m\u001b[1;33m\u001b[0m\u001b[0m\n\u001b[0;32m     27\u001b[0m         \u001b[1;31m#break\u001b[0m\u001b[1;33m\u001b[0m\u001b[1;33m\u001b[0m\u001b[1;33m\u001b[0m\u001b[0m\n",
      "\u001b[1;32m<ipython-input-109-c5f5259b2de3>\u001b[0m in \u001b[0;36mdoubly_stoc_grad_max_cut\u001b[1;34m(params, n_qubits, edges, n_samples)\u001b[0m\n\u001b[0;32m     23\u001b[0m \u001b[1;33m\u001b[0m\u001b[0m\n\u001b[0;32m     24\u001b[0m         \u001b[1;31m#obtain gradient estimator\u001b[0m\u001b[1;33m\u001b[0m\u001b[1;33m\u001b[0m\u001b[1;33m\u001b[0m\u001b[0m\n\u001b[1;32m---> 25\u001b[1;33m         \u001b[0mg_t\u001b[0m\u001b[1;33m[\u001b[0m\u001b[0mi\u001b[0m\u001b[1;33m]\u001b[0m \u001b[1;33m=\u001b[0m \u001b[0mevaluate_F_p_j\u001b[0m\u001b[1;33m(\u001b[0m\u001b[0mforward_params\u001b[0m\u001b[1;33m,\u001b[0m \u001b[0mn_qubits\u001b[0m \u001b[1;33m,\u001b[0m\u001b[0mindex_j\u001b[0m\u001b[1;33m,\u001b[0m \u001b[0medges\u001b[0m\u001b[1;33m,\u001b[0m \u001b[0mn_samples\u001b[0m\u001b[1;33m)\u001b[0m\u001b[1;33m*\u001b[0m\u001b[0mepsilon_i\u001b[0m\u001b[1;33m*\u001b[0m\u001b[1;36m2\u001b[0m\u001b[1;33m*\u001b[0m\u001b[0mm\u001b[0m\u001b[1;33m\u001b[0m\u001b[1;33m\u001b[0m\u001b[0m\n\u001b[0m\u001b[0;32m     26\u001b[0m     \u001b[1;32mreturn\u001b[0m \u001b[0mg_t\u001b[0m\u001b[1;33m\u001b[0m\u001b[1;33m\u001b[0m\u001b[0m\n",
      "\u001b[1;32m<ipython-input-116-bdc3a611a991>\u001b[0m in \u001b[0;36mevaluate_F_p_j\u001b[1;34m(params, n_qubits, index_j, edges, n_samples)\u001b[0m\n\u001b[0;32m      9\u001b[0m     \u001b[1;31m#obtain final state\u001b[0m\u001b[1;33m\u001b[0m\u001b[1;33m\u001b[0m\u001b[1;33m\u001b[0m\u001b[0m\n\u001b[0;32m     10\u001b[0m     \u001b[1;31m#dm_fin_state = evolution_operator(n_qubits, edges, gammas, betas)*dm_init_state*evolution_operator(n_qubits, edges, gammas, betas).dag()\u001b[0m\u001b[1;33m\u001b[0m\u001b[1;33m\u001b[0m\u001b[1;33m\u001b[0m\u001b[0m\n\u001b[1;32m---> 11\u001b[1;33m     \u001b[0mfin_state\u001b[0m \u001b[1;33m=\u001b[0m \u001b[0mevolution_operator\u001b[0m\u001b[1;33m(\u001b[0m\u001b[0mgammas\u001b[0m\u001b[1;33m,\u001b[0m \u001b[0mbetas\u001b[0m\u001b[1;33m)\u001b[0m\u001b[1;33m*\u001b[0m\u001b[0minit_state\u001b[0m\u001b[1;33m\u001b[0m\u001b[1;33m\u001b[0m\u001b[0m\n\u001b[0m\u001b[0;32m     12\u001b[0m \u001b[1;33m\u001b[0m\u001b[0m\n\u001b[0;32m     13\u001b[0m     \u001b[1;31m#perform n_samples measurments on qubits in edge[0] and edge[1]\u001b[0m\u001b[1;33m\u001b[0m\u001b[1;33m\u001b[0m\u001b[1;33m\u001b[0m\u001b[0m\n",
      "\u001b[1;32m<ipython-input-175-d40d5d91db23>\u001b[0m in \u001b[0;36mevolution_operator\u001b[1;34m(gammas, betas)\u001b[0m\n\u001b[0;32m     24\u001b[0m     \u001b[0mevol_oper\u001b[0m \u001b[1;33m=\u001b[0m \u001b[0mI\u001b[0m\u001b[1;33m\u001b[0m\u001b[1;33m\u001b[0m\u001b[0m\n\u001b[0;32m     25\u001b[0m     \u001b[1;32mfor\u001b[0m \u001b[0mi\u001b[0m \u001b[1;32min\u001b[0m \u001b[0mrange\u001b[0m\u001b[1;33m(\u001b[0m\u001b[0mlen\u001b[0m\u001b[1;33m(\u001b[0m\u001b[0mgammas\u001b[0m\u001b[1;33m)\u001b[0m\u001b[1;33m)\u001b[0m\u001b[1;33m:\u001b[0m\u001b[1;33m\u001b[0m\u001b[1;33m\u001b[0m\u001b[0m\n\u001b[1;32m---> 26\u001b[1;33m         \u001b[0mu_mix_hamilt_i\u001b[0m \u001b[1;33m=\u001b[0m \u001b[1;33m(\u001b[0m\u001b[1;33m-\u001b[0m\u001b[0mcomplex\u001b[0m\u001b[1;33m(\u001b[0m\u001b[1;36m0\u001b[0m\u001b[1;33m,\u001b[0m\u001b[0mbetas\u001b[0m\u001b[1;33m[\u001b[0m\u001b[0mi\u001b[0m\u001b[1;33m]\u001b[0m\u001b[1;33m)\u001b[0m\u001b[1;33m*\u001b[0m\u001b[0mH_B\u001b[0m\u001b[1;33m)\u001b[0m\u001b[1;33m.\u001b[0m\u001b[0mexpm\u001b[0m\u001b[1;33m(\u001b[0m\u001b[1;33m)\u001b[0m\u001b[1;33m\u001b[0m\u001b[1;33m\u001b[0m\u001b[0m\n\u001b[0m\u001b[0;32m     27\u001b[0m         \u001b[0mu_prob_hamilt_i\u001b[0m \u001b[1;33m=\u001b[0m \u001b[1;33m(\u001b[0m\u001b[1;33m-\u001b[0m\u001b[0mcomplex\u001b[0m\u001b[1;33m(\u001b[0m\u001b[1;36m0\u001b[0m\u001b[1;33m,\u001b[0m\u001b[0mgammas\u001b[0m\u001b[1;33m[\u001b[0m\u001b[0mi\u001b[0m\u001b[1;33m]\u001b[0m\u001b[1;33m)\u001b[0m\u001b[1;33m*\u001b[0m\u001b[0mH_P\u001b[0m\u001b[1;33m)\u001b[0m\u001b[1;33m.\u001b[0m\u001b[0mexpm\u001b[0m\u001b[1;33m(\u001b[0m\u001b[1;33m)\u001b[0m\u001b[1;33m\u001b[0m\u001b[1;33m\u001b[0m\u001b[0m\n\u001b[0;32m     28\u001b[0m         \u001b[0mevol_oper\u001b[0m \u001b[1;33m=\u001b[0m \u001b[0mu_mix_hamilt_i\u001b[0m\u001b[1;33m*\u001b[0m\u001b[0mu_prob_hamilt_i\u001b[0m\u001b[1;33m*\u001b[0m\u001b[0mevol_oper\u001b[0m\u001b[1;33m\u001b[0m\u001b[1;33m\u001b[0m\u001b[0m\n",
      "\u001b[1;32m~\\anaconda3\\lib\\site-packages\\qutip\\qobj.py\u001b[0m in \u001b[0;36mexpm\u001b[1;34m(self, method)\u001b[0m\n\u001b[0;32m   1139\u001b[0m \u001b[1;33m\u001b[0m\u001b[0m\n\u001b[0;32m   1140\u001b[0m         \u001b[1;32mif\u001b[0m \u001b[0mmethod\u001b[0m \u001b[1;33m==\u001b[0m \u001b[1;34m'dense'\u001b[0m\u001b[1;33m:\u001b[0m\u001b[1;33m\u001b[0m\u001b[1;33m\u001b[0m\u001b[0m\n\u001b[1;32m-> 1141\u001b[1;33m             \u001b[0mF\u001b[0m \u001b[1;33m=\u001b[0m \u001b[0msp_expm\u001b[0m\u001b[1;33m(\u001b[0m\u001b[0mself\u001b[0m\u001b[1;33m.\u001b[0m\u001b[0mdata\u001b[0m\u001b[1;33m,\u001b[0m \u001b[0msparse\u001b[0m\u001b[1;33m=\u001b[0m\u001b[1;32mFalse\u001b[0m\u001b[1;33m)\u001b[0m\u001b[1;33m\u001b[0m\u001b[1;33m\u001b[0m\u001b[0m\n\u001b[0m\u001b[0;32m   1142\u001b[0m \u001b[1;33m\u001b[0m\u001b[0m\n\u001b[0;32m   1143\u001b[0m         \u001b[1;32melif\u001b[0m \u001b[0mmethod\u001b[0m \u001b[1;33m==\u001b[0m \u001b[1;34m'sparse'\u001b[0m\u001b[1;33m:\u001b[0m\u001b[1;33m\u001b[0m\u001b[1;33m\u001b[0m\u001b[0m\n",
      "\u001b[1;32m~\\anaconda3\\lib\\site-packages\\qutip\\sparse.py\u001b[0m in \u001b[0;36msp_expm\u001b[1;34m(A, sparse)\u001b[0m\n\u001b[0;32m    429\u001b[0m         \u001b[0mE\u001b[0m \u001b[1;33m=\u001b[0m \u001b[0mspla\u001b[0m\u001b[1;33m.\u001b[0m\u001b[0mexpm\u001b[0m\u001b[1;33m(\u001b[0m\u001b[0mA\u001b[0m\u001b[1;33m.\u001b[0m\u001b[0mtocsc\u001b[0m\u001b[1;33m(\u001b[0m\u001b[1;33m)\u001b[0m\u001b[1;33m)\u001b[0m\u001b[1;33m\u001b[0m\u001b[1;33m\u001b[0m\u001b[0m\n\u001b[0;32m    430\u001b[0m     \u001b[1;32melse\u001b[0m\u001b[1;33m:\u001b[0m\u001b[1;33m\u001b[0m\u001b[1;33m\u001b[0m\u001b[0m\n\u001b[1;32m--> 431\u001b[1;33m         \u001b[0mE\u001b[0m \u001b[1;33m=\u001b[0m \u001b[0mspla\u001b[0m\u001b[1;33m.\u001b[0m\u001b[0mexpm\u001b[0m\u001b[1;33m(\u001b[0m\u001b[0mA\u001b[0m\u001b[1;33m.\u001b[0m\u001b[0mtoarray\u001b[0m\u001b[1;33m(\u001b[0m\u001b[1;33m)\u001b[0m\u001b[1;33m)\u001b[0m\u001b[1;33m\u001b[0m\u001b[1;33m\u001b[0m\u001b[0m\n\u001b[0m\u001b[0;32m    432\u001b[0m     \u001b[1;32mreturn\u001b[0m \u001b[0msp\u001b[0m\u001b[1;33m.\u001b[0m\u001b[0mcsr_matrix\u001b[0m\u001b[1;33m(\u001b[0m\u001b[0mE\u001b[0m\u001b[1;33m)\u001b[0m\u001b[1;33m\u001b[0m\u001b[1;33m\u001b[0m\u001b[0m\n\u001b[0;32m    433\u001b[0m \u001b[1;33m\u001b[0m\u001b[0m\n",
      "\u001b[1;32m~\\anaconda3\\lib\\site-packages\\scipy\\sparse\\linalg\\matfuncs.py\u001b[0m in \u001b[0;36mexpm\u001b[1;34m(A)\u001b[0m\n\u001b[0;32m    589\u001b[0m             [  0.        ,   0.        ,  20.08553692]])\n\u001b[0;32m    590\u001b[0m     \"\"\"\n\u001b[1;32m--> 591\u001b[1;33m     \u001b[1;32mreturn\u001b[0m \u001b[0m_expm\u001b[0m\u001b[1;33m(\u001b[0m\u001b[0mA\u001b[0m\u001b[1;33m,\u001b[0m \u001b[0muse_exact_onenorm\u001b[0m\u001b[1;33m=\u001b[0m\u001b[1;34m'auto'\u001b[0m\u001b[1;33m)\u001b[0m\u001b[1;33m\u001b[0m\u001b[1;33m\u001b[0m\u001b[0m\n\u001b[0m\u001b[0;32m    592\u001b[0m \u001b[1;33m\u001b[0m\u001b[0m\n\u001b[0;32m    593\u001b[0m \u001b[1;33m\u001b[0m\u001b[0m\n",
      "\u001b[1;32m~\\anaconda3\\lib\\site-packages\\scipy\\sparse\\linalg\\matfuncs.py\u001b[0m in \u001b[0;36m_expm\u001b[1;34m(A, use_exact_onenorm)\u001b[0m\n\u001b[0;32m    650\u001b[0m \u001b[1;33m\u001b[0m\u001b[0m\n\u001b[0;32m    651\u001b[0m     \u001b[1;31m# Try Pade orders 7 and 9.\u001b[0m\u001b[1;33m\u001b[0m\u001b[1;33m\u001b[0m\u001b[1;33m\u001b[0m\u001b[0m\n\u001b[1;32m--> 652\u001b[1;33m     \u001b[0meta_3\u001b[0m \u001b[1;33m=\u001b[0m \u001b[0mmax\u001b[0m\u001b[1;33m(\u001b[0m\u001b[0mh\u001b[0m\u001b[1;33m.\u001b[0m\u001b[0md6_tight\u001b[0m\u001b[1;33m,\u001b[0m \u001b[0mh\u001b[0m\u001b[1;33m.\u001b[0m\u001b[0md8_loose\u001b[0m\u001b[1;33m)\u001b[0m\u001b[1;33m\u001b[0m\u001b[1;33m\u001b[0m\u001b[0m\n\u001b[0m\u001b[0;32m    653\u001b[0m     \u001b[1;32mif\u001b[0m \u001b[0meta_3\u001b[0m \u001b[1;33m<\u001b[0m \u001b[1;36m9.504178996162932e-001\u001b[0m \u001b[1;32mand\u001b[0m \u001b[0m_ell\u001b[0m\u001b[1;33m(\u001b[0m\u001b[0mh\u001b[0m\u001b[1;33m.\u001b[0m\u001b[0mA\u001b[0m\u001b[1;33m,\u001b[0m \u001b[1;36m7\u001b[0m\u001b[1;33m)\u001b[0m \u001b[1;33m==\u001b[0m \u001b[1;36m0\u001b[0m\u001b[1;33m:\u001b[0m\u001b[1;33m\u001b[0m\u001b[1;33m\u001b[0m\u001b[0m\n\u001b[0;32m    654\u001b[0m         \u001b[0mU\u001b[0m\u001b[1;33m,\u001b[0m \u001b[0mV\u001b[0m \u001b[1;33m=\u001b[0m \u001b[0mh\u001b[0m\u001b[1;33m.\u001b[0m\u001b[0mpade7\u001b[0m\u001b[1;33m(\u001b[0m\u001b[1;33m)\u001b[0m\u001b[1;33m\u001b[0m\u001b[1;33m\u001b[0m\u001b[0m\n",
      "\u001b[1;32m~\\anaconda3\\lib\\site-packages\\scipy\\sparse\\linalg\\matfuncs.py\u001b[0m in \u001b[0;36md8_loose\u001b[1;34m(self)\u001b[0m\n\u001b[0;32m    465\u001b[0m     \u001b[1;32mdef\u001b[0m \u001b[0md8_loose\u001b[0m\u001b[1;33m(\u001b[0m\u001b[0mself\u001b[0m\u001b[1;33m)\u001b[0m\u001b[1;33m:\u001b[0m\u001b[1;33m\u001b[0m\u001b[1;33m\u001b[0m\u001b[0m\n\u001b[0;32m    466\u001b[0m         \u001b[1;32mif\u001b[0m \u001b[0mself\u001b[0m\u001b[1;33m.\u001b[0m\u001b[0muse_exact_onenorm\u001b[0m\u001b[1;33m:\u001b[0m\u001b[1;33m\u001b[0m\u001b[1;33m\u001b[0m\u001b[0m\n\u001b[1;32m--> 467\u001b[1;33m             \u001b[1;32mreturn\u001b[0m \u001b[0mself\u001b[0m\u001b[1;33m.\u001b[0m\u001b[0md8_tight\u001b[0m\u001b[1;33m\u001b[0m\u001b[1;33m\u001b[0m\u001b[0m\n\u001b[0m\u001b[0;32m    468\u001b[0m         \u001b[1;32mif\u001b[0m \u001b[0mself\u001b[0m\u001b[1;33m.\u001b[0m\u001b[0m_d8_exact\u001b[0m \u001b[1;32mis\u001b[0m \u001b[1;32mnot\u001b[0m \u001b[1;32mNone\u001b[0m\u001b[1;33m:\u001b[0m\u001b[1;33m\u001b[0m\u001b[1;33m\u001b[0m\u001b[0m\n\u001b[0;32m    469\u001b[0m             \u001b[1;32mreturn\u001b[0m \u001b[0mself\u001b[0m\u001b[1;33m.\u001b[0m\u001b[0m_d8_exact\u001b[0m\u001b[1;33m\u001b[0m\u001b[1;33m\u001b[0m\u001b[0m\n",
      "\u001b[1;32m~\\anaconda3\\lib\\site-packages\\scipy\\sparse\\linalg\\matfuncs.py\u001b[0m in \u001b[0;36md8_tight\u001b[1;34m(self)\u001b[0m\n\u001b[0;32m    429\u001b[0m     \u001b[1;32mdef\u001b[0m \u001b[0md8_tight\u001b[0m\u001b[1;33m(\u001b[0m\u001b[0mself\u001b[0m\u001b[1;33m)\u001b[0m\u001b[1;33m:\u001b[0m\u001b[1;33m\u001b[0m\u001b[1;33m\u001b[0m\u001b[0m\n\u001b[0;32m    430\u001b[0m         \u001b[1;32mif\u001b[0m \u001b[0mself\u001b[0m\u001b[1;33m.\u001b[0m\u001b[0m_d8_exact\u001b[0m \u001b[1;32mis\u001b[0m \u001b[1;32mNone\u001b[0m\u001b[1;33m:\u001b[0m\u001b[1;33m\u001b[0m\u001b[1;33m\u001b[0m\u001b[0m\n\u001b[1;32m--> 431\u001b[1;33m             \u001b[0mself\u001b[0m\u001b[1;33m.\u001b[0m\u001b[0m_d8_exact\u001b[0m \u001b[1;33m=\u001b[0m \u001b[0m_onenorm\u001b[0m\u001b[1;33m(\u001b[0m\u001b[0mself\u001b[0m\u001b[1;33m.\u001b[0m\u001b[0mA8\u001b[0m\u001b[1;33m)\u001b[0m\u001b[1;33m**\u001b[0m\u001b[1;33m(\u001b[0m\u001b[1;36m1\u001b[0m\u001b[1;33m/\u001b[0m\u001b[1;36m8.\u001b[0m\u001b[1;33m)\u001b[0m\u001b[1;33m\u001b[0m\u001b[1;33m\u001b[0m\u001b[0m\n\u001b[0m\u001b[0;32m    432\u001b[0m         \u001b[1;32mreturn\u001b[0m \u001b[0mself\u001b[0m\u001b[1;33m.\u001b[0m\u001b[0m_d8_exact\u001b[0m\u001b[1;33m\u001b[0m\u001b[1;33m\u001b[0m\u001b[0m\n\u001b[0;32m    433\u001b[0m \u001b[1;33m\u001b[0m\u001b[0m\n",
      "\u001b[1;32m~\\anaconda3\\lib\\site-packages\\scipy\\sparse\\linalg\\_expm_multiply.py\u001b[0m in \u001b[0;36m_exact_1_norm\u001b[1;34m(A)\u001b[0m\n\u001b[0;32m     29\u001b[0m         \u001b[1;32mreturn\u001b[0m \u001b[0mmax\u001b[0m\u001b[1;33m(\u001b[0m\u001b[0mabs\u001b[0m\u001b[1;33m(\u001b[0m\u001b[0mA\u001b[0m\u001b[1;33m)\u001b[0m\u001b[1;33m.\u001b[0m\u001b[0msum\u001b[0m\u001b[1;33m(\u001b[0m\u001b[0maxis\u001b[0m\u001b[1;33m=\u001b[0m\u001b[1;36m0\u001b[0m\u001b[1;33m)\u001b[0m\u001b[1;33m)\u001b[0m\u001b[1;33m\u001b[0m\u001b[1;33m\u001b[0m\u001b[0m\n\u001b[0;32m     30\u001b[0m     \u001b[1;32melse\u001b[0m\u001b[1;33m:\u001b[0m\u001b[1;33m\u001b[0m\u001b[1;33m\u001b[0m\u001b[0m\n\u001b[1;32m---> 31\u001b[1;33m         \u001b[1;32mreturn\u001b[0m \u001b[0mnp\u001b[0m\u001b[1;33m.\u001b[0m\u001b[0mlinalg\u001b[0m\u001b[1;33m.\u001b[0m\u001b[0mnorm\u001b[0m\u001b[1;33m(\u001b[0m\u001b[0mA\u001b[0m\u001b[1;33m,\u001b[0m \u001b[1;36m1\u001b[0m\u001b[1;33m)\u001b[0m\u001b[1;33m\u001b[0m\u001b[1;33m\u001b[0m\u001b[0m\n\u001b[0m\u001b[0;32m     32\u001b[0m \u001b[1;33m\u001b[0m\u001b[0m\n\u001b[0;32m     33\u001b[0m \u001b[1;33m\u001b[0m\u001b[0m\n",
      "\u001b[1;32m<__array_function__ internals>\u001b[0m in \u001b[0;36mnorm\u001b[1;34m(*args, **kwargs)\u001b[0m\n",
      "\u001b[1;32m~\\anaconda3\\lib\\site-packages\\numpy\\linalg\\linalg.py\u001b[0m in \u001b[0;36mnorm\u001b[1;34m(x, ord, axis, keepdims)\u001b[0m\n\u001b[0;32m   2583\u001b[0m             \u001b[1;32mif\u001b[0m \u001b[0mcol_axis\u001b[0m \u001b[1;33m>\u001b[0m \u001b[0mrow_axis\u001b[0m\u001b[1;33m:\u001b[0m\u001b[1;33m\u001b[0m\u001b[1;33m\u001b[0m\u001b[0m\n\u001b[0;32m   2584\u001b[0m                 \u001b[0mcol_axis\u001b[0m \u001b[1;33m-=\u001b[0m \u001b[1;36m1\u001b[0m\u001b[1;33m\u001b[0m\u001b[1;33m\u001b[0m\u001b[0m\n\u001b[1;32m-> 2585\u001b[1;33m             \u001b[0mret\u001b[0m \u001b[1;33m=\u001b[0m \u001b[0madd\u001b[0m\u001b[1;33m.\u001b[0m\u001b[0mreduce\u001b[0m\u001b[1;33m(\u001b[0m\u001b[0mabs\u001b[0m\u001b[1;33m(\u001b[0m\u001b[0mx\u001b[0m\u001b[1;33m)\u001b[0m\u001b[1;33m,\u001b[0m \u001b[0maxis\u001b[0m\u001b[1;33m=\u001b[0m\u001b[0mrow_axis\u001b[0m\u001b[1;33m)\u001b[0m\u001b[1;33m.\u001b[0m\u001b[0mmax\u001b[0m\u001b[1;33m(\u001b[0m\u001b[0maxis\u001b[0m\u001b[1;33m=\u001b[0m\u001b[0mcol_axis\u001b[0m\u001b[1;33m)\u001b[0m\u001b[1;33m\u001b[0m\u001b[1;33m\u001b[0m\u001b[0m\n\u001b[0m\u001b[0;32m   2586\u001b[0m         \u001b[1;32melif\u001b[0m \u001b[0mord\u001b[0m \u001b[1;33m==\u001b[0m \u001b[0mInf\u001b[0m\u001b[1;33m:\u001b[0m\u001b[1;33m\u001b[0m\u001b[1;33m\u001b[0m\u001b[0m\n\u001b[0;32m   2587\u001b[0m             \u001b[1;32mif\u001b[0m \u001b[0mrow_axis\u001b[0m \u001b[1;33m>\u001b[0m \u001b[0mcol_axis\u001b[0m\u001b[1;33m:\u001b[0m\u001b[1;33m\u001b[0m\u001b[1;33m\u001b[0m\u001b[0m\n",
      "\u001b[1;31mKeyboardInterrupt\u001b[0m: "
     ]
    }
   ],
   "source": [
    "#Adam for doubly SGD\n",
    "n_levels = 20 # paper found convergence for about 50 levels\n",
    "n_steps = 100 # paper found convergence for about 10^4 steps\n",
    "#parameters = 0.01*np.random.rand(2*n_levels)\n",
    "parameters = np.array(np.pi*np.random.random_sample(2*n_levels)) #np.array(np.pi*np.random.random_sample(2*n_levels))\n",
    "\"\"\"\n",
    "parameters = np.zeros(2*n_levels) # method used in the paper\n",
    "for j in range(2*n_levels):\n",
    "    if j%2 == 0: #for H-p parameters\n",
    "        parameters[j] = j/(2*n_levels) #see SGD paper for reference\n",
    "    else:\n",
    "        parameters[j] = 1 - j/(2*n_levels) #see SDG paper\n",
    "\"\"\"\n",
    "beta_1 = 0.8 # 0.8 in SGD paper\n",
    "beta_2 = 0.999\n",
    "epsilon = 1e-8\n",
    "m_t = np.zeros(2*n_levels)\n",
    "v_t = np.zeros(2*n_levels)\n",
    "t = 0\n",
    "eta = 0.001 # 0.001 in SDG paper\n",
    "steps_vs_F_1 = []\n",
    "init_state = qaoa.initial_state(n_qubits)\n",
    "#previous_g_t = np.zeros(2*n_levels)\n",
    "for i in range(n_steps): \n",
    "    g_t = doubly_stoc_grad_max_cut(parameters, n_qubits, edges, 1) # paper tried N = 1, 9, 81\n",
    "    #if (np.sign(g_t) == -np.sign(previous_g_t)).all() and (np.sign(g_t) == -np.sign(np.ones(2*n_levels))).all():\n",
    "        #break\n",
    "    gammas = parameters[:n_levels]\n",
    "    betas = parameters[n_levels:]\n",
    "    fin_state = evolution_operator(gammas, betas)*init_state\n",
    "    F_p = qu.expect(H_P, fin_state)\n",
    "    #F_1 = qaoa.analitic_F_1(parameters, graph, edges)\n",
    "    #if (i + 1) % 1001 == 0:\n",
    "            #print('in', parameters, 'with grad ', g_t,  \"objective after step {:5d}: {: .7f}\".format(i + 1, F_1))\n",
    "    t = t+1\n",
    "    m_t = beta_1*m_t + (1-beta_1)*g_t\n",
    "    v_t = beta_2*v_t + (1-beta_2)*g_t**2\n",
    "    m_t_hat = m_t/(1-beta_1**t)\n",
    "    v_t_hat = v_t/(1-beta_2**t)\n",
    "    parameters = parameters + eta*m_t_hat/(np.sqrt(v_t_hat) + epsilon)\n",
    "    #previous_g_t = g_t\n",
    "    steps_vs_F_1.append([i+1]+[F_p])\n",
    "optimal_parameters_Adam_doubly_stoc = parameters\n",
    "print('optimal parameters are ', optimal_parameters_Adam_doubly_stoc,'with grad ', g_t, 'and F_1 is', qaoa.analitic_F_1(optimal_parameters_Adam_doubly_stoc, graph, edges))"
   ]
  },
  {
   "cell_type": "code",
   "execution_count": 133,
   "id": "determined-regression",
   "metadata": {},
   "outputs": [],
   "source": [
    "steps = []\n",
    "F_1 = []\n",
    "for x_y in steps_vs_F_1:\n",
    "    steps.append(x_y[0])\n",
    "    F_1.append(x_y[1])"
   ]
  },
  {
   "cell_type": "code",
   "execution_count": 134,
   "id": "pressing-domain",
   "metadata": {},
   "outputs": [
    {
     "data": {
      "text/plain": [
       "Text(0, 0.5, 'F_1')"
      ]
     },
     "execution_count": 134,
     "metadata": {},
     "output_type": "execute_result"
    },
    {
     "data": {
      "image/png": "[encoded data removed]",
      "text/plain": [
       "<Figure size 432x288 with 1 Axes>"
      ]
     },
     "metadata": {
      "needs_background": "light"
     },
     "output_type": "display_data"
    }
   ],
   "source": [
    "plt.plot(steps, F_1)\n",
    "plt.xlabel('steps')\n",
    "plt.ylabel('F_1')"
   ]
  },
  {
   "cell_type": "code",
   "execution_count": 235,
   "id": "canadian-colonial",
   "metadata": {},
   "outputs": [
    {
     "name": "stdout",
     "output_type": "stream",
     "text": [
      "in [-0.47389103 -0.53094944] with grad  [-0.35  1.3 ] objective after step     1:  1.3669363\n",
      "in [-0.52389103 -0.48094944] with grad  [-0.7   0.95] objective after step     2:  1.4379285\n",
      "in [-0.57215013 -0.43194438] with grad  [ 0.   -0.65] objective after step     3:  1.4921982\n",
      "in [-0.60945455 -0.40878699] with grad  [-0.55 -0.75] objective after step     4:  1.5198130\n",
      "in [-0.65116577 -0.40290958] with grad  [-0.45  0.5 ] objective after step     5:  1.5436481\n",
      "in [-0.6946824 -0.3911268] with grad  [ 0.2  -0.35] objective after step     6:  1.5659561\n",
      "in [-0.72667237 -0.38573679] with grad  [-0.65 -0.35] objective after step     7:  1.5802457\n",
      "in [-0.76368306 -0.3855026 ] with grad  [-0.2 -0.1] objective after step     8:  1.5953107\n",
      "in [-0.79980572 -0.38652661] with grad  [-0.75 -0.1 ] objective after step     9:  1.6083211\n",
      "in [-0.83984471 -0.38864651] with grad  [-0.8   0.65] objective after step    10:  1.6207074\n",
      "in [-0.88280499 -0.38301236] with grad  [-0.2  -0.15] objective after step    11:  1.6310585\n",
      "in [-0.92389034 -0.3796799 ] with grad  [-0.85  0.2 ] objective after step    12:  1.6385804\n",
      "in [-0.96771159 -0.37443679] with grad  [ 0.05 -0.3 ] objective after step    13:  1.6436381\n",
      "in [-1.00656482 -0.37311882] with grad  [-0.25 -0.65] objective after step    14:  1.6464509\n",
      "in [-1.04453567 -0.37897902] with grad  [-0.1   0.05] objective after step    15:  1.6485366\n",
      "in [-1.08012594 -0.38373977] with grad  [-0.3  0.3] objective after step    16:  1.6484028\n",
      "in [-1.11579128 -0.38477464] with grad  [0.05 0.15] objective after step    17:  1.6461821\n",
      "in [-1.14750044 -0.38408122] with grad  [0.5  0.25] objective after step    18:  1.6427446\n",
      "in [-1.16913374 -0.38073005] with grad  [ 0.15 -0.35] objective after step    19:  1.6393899\n",
      "in [-1.18685416 -0.38152783] with grad  [-0.4  -0.25] objective after step    20:  1.6366152\n",
      "in [-1.20763557 -0.38498164] with grad  [ 0.2 -0.1] objective after step    21:  1.6331186\n",
      "in [-1.22394744 -0.38922517] with grad  [ 0.05 -0.15] objective after step    22:  1.6300096\n",
      "in [-1.23815717 -0.39475095] with grad  [-0.3 -0.4] objective after step    23:  1.6268903\n",
      "in [-1.25476143 -0.40415246] with grad  [ 0.05 -0.15] objective after step    24:  1.6222880\n",
      "in [-1.26923772 -0.41438008] with grad  [ 1.   -0.15] objective after step    25:  1.6169133\n",
      "in [-1.26942242 -0.42537718] with grad  [-0.85  0.55] objective after step    26:  1.6139097\n",
      "in [-1.2790024  -0.42899075] with grad  [1.1 0. ] objective after step    27:  1.6101343\n",
      "in [-1.27570586 -0.43228302] with grad  [0.4 1.3] objective after step    28:  1.6097913\n",
      "in [-1.26863757 -0.42181302] with grad  [0.4 0.9] objective after step    29:  1.6152029\n",
      "in [-1.25816289 -0.40401339] with grad  [ 0.55 -0.05] objective after step    30:  1.6214549\n",
      "in [-1.24320661 -0.38828948] with grad  [ 0.65 -0.75] objective after step    31:  1.6256384\n",
      "in [-1.22341175 -0.38164195] with grad  [ 0.5  -0.35] objective after step    32:  1.6295689\n",
      "in [-1.20064306 -0.37901381] with grad  [0.2  0.55] objective after step    33:  1.6338137\n",
      "in [-1.17792973 -0.37136052] with grad  [0.7 0.1] objective after step    34:  1.6364183\n",
      "in [-1.15085439 -0.36341874] with grad  [-0.3  0.2] objective after step    35:  1.6382947\n",
      "in [-1.12932242 -0.35423318] with grad  [ 0.4  -0.45] objective after step    36:  1.6375925\n",
      "in [-1.10586853 -0.3503901 ] with grad  [-0.4  -0.15] objective after step    37:  1.6380627\n",
      "in [-1.08872602 -0.34838799] with grad  [-0.3  -0.25] objective after step    38:  1.6382499\n",
      "in [-1.07623621 -0.34908025] with grad  [-0.4  -0.25] objective after step    39:  1.6391216\n",
      "in [-1.06903071 -0.35223795] with grad  [ 0.55 -0.35] objective after step    40:  1.6407267\n",
      "in [-1.05700407 -0.35865287] with grad  [ 0.3 -0.1] objective after step    41:  1.6434435\n",
      "in [-1.04305094 -0.36551542] with grad  [ 0.35 -0.55] objective after step    42:  1.6456720\n",
      "in [-1.02684751 -0.37729304] with grad  [-0.35  0.2 ] objective after step    43:  1.6480167\n",
      "in [-1.01579714 -0.38592218] with grad  [-0.2   0.35] objective after step    44:  1.6486365\n",
      "in [-1.00784124 -0.39009456] with grad  [0.   0.85] objective after step    45:  1.6484706\n",
      "in [-1.00060528 -0.38515299] with grad  [0.3  0.15] objective after step    46:  1.6478020\n",
      "in [-0.99088795 -0.37913047] with grad  [-0.2 -0.1] objective after step    47:  1.6464856\n",
      "in [-0.984198   -0.37468936] with grad  [ 0.2 -0.3] objective after step    48:  1.6452346\n",
      "in [-0.97598233 -0.37378389] with grad  [-0.15  0.15] objective after step    49:  1.6443354\n",
      "in [-0.97014611 -0.37139004] with grad  [-0.35 -0.2 ] objective after step    50:  1.6432677\n",
      "optimal parameters are  [-0.96867592 -0.37133063] and F_1 is 1.6432677007013687\n"
     ]
    }
   ],
   "source": [
    "#Adam\n",
    "#perform it for exp_F_1 (check if this method works properly for p=1 case)\n",
    "n_levels = 1\n",
    "n_steps = 50\n",
    "#parameters = np.array(np.pi/2*np.random.random_sample(2*n_levels)) #check how choose initial params, for pi*rand is too dispersive\n",
    "parameters = np.array(np.random.uniform(-np.pi/4, np.pi/4, 2*n_levels)) #check how choose initial params, for pi*rand is too dispersive\n",
    "#gammas = np.array(np.random.uniform(-np.pi/2, np.pi/2, n_levels))\n",
    "#betas = np.array(np.random.uniform(-np.pi/4, np.pi/4, n_levels))\n",
    "#parameters = np.array(list(gammas)+list(betas))\n",
    "#parameters = 0.01*np.random.rand(2*n_levels)\n",
    "init_state = qaoa.initial_state(n_qubits)\n",
    "beta_1 = 0.9\n",
    "beta_2 = 0.999\n",
    "epsilon = 1e-8\n",
    "m_t = np.zeros(2*n_levels)\n",
    "v_t = np.zeros(2*n_levels)\n",
    "t = 0\n",
    "adam_grad_fin_diff_g = []\n",
    "adam_grad_fin_diff_b = []\n",
    "adam_grad_fin_diff_F = []\n",
    "eta = 0.05 #works also for eta = 0.01, but increases very slowly, and 0.1 oscillates too much around max\n",
    "previous_g_t = np.zeros(2*n_levels)\n",
    "for i in range(n_steps):\n",
    "    g_t = qaoa.fin_diff_grad(evaluate_F_p, parameters, args=(n_qubits, edges, 100), increment=0.1)\n",
    "    gammas = parameters[:n_levels]\n",
    "    betas = parameters[n_levels:]\n",
    "    fin_state = evolution_operator(gammas, betas)*init_state\n",
    "    F_p_adam = qu.expect(H_P, fin_state)\n",
    "    adam_grad_fin_diff_g.append(gammas[0])\n",
    "    adam_grad_fin_diff_b.append(betas[0])\n",
    "    adam_grad_fin_diff_F.append(F_p_adam)\n",
    "    #if (np.sign(g_t) == -np.sign(previous_g_t)).all() and (np.sign(g_t) == -np.sign(np.ones(2*n_levels))).all():\n",
    "        #break\n",
    "    #if (i + 1) % 1 == 0:\n",
    "    print('in', parameters, 'with grad ', g_t,  \"objective after step {:5d}: {: .7f}\".format(i + 1, F_p_adam))\n",
    "    t = t+1\n",
    "    m_t = beta_1*m_t + (1-beta_1)*g_t\n",
    "    v_t = beta_2*v_t + (1-beta_2)*g_t**2\n",
    "    m_t_hat = m_t/(1-beta_1**t)\n",
    "    v_t_hat = v_t/(1-beta_2**t)\n",
    "    parameters = parameters + eta*m_t_hat/(np.sqrt(v_t_hat) + epsilon)\n",
    "    #previous_g_t = g_t\n",
    "optimal_parameters_Adam_fin_diff = parameters\n",
    "optimal_gammas = optimal_parameters_Adam_fin_diff[:n_levels]\n",
    "optimal_betas = optimal_parameters_Adam_fin_diff[n_levels:]\n",
    "print('optimal parameters are ', optimal_parameters_Adam_fin_diff, 'and F_1 is', qu.expect(H_P, evolution_operator(gammas, betas)*init_state))"
   ]
  },
  {
   "cell_type": "code",
   "execution_count": 265,
   "id": "unlimited-writer",
   "metadata": {},
   "outputs": [],
   "source": [
    "step_size = 0.2\n",
    "init_state = qaoa.initial_state(n_qubits)\n",
    "a_gamma_iter         = np.arange(-2*np.pi, 2*np.pi, step_size)\n",
    "a_beta_iter          = np.arange(-np.pi/4, np.pi/4, step_size)\n",
    "grid_gammas_betas_iter = list(itertools.product(a_gamma_iter, a_beta_iter))\n",
    "grid_F_1_iter = []\n",
    "for par_iter in grid_gammas_betas_iter:\n",
    "    fin_state = evolution_operator([par_iter[0]], [par_iter[1]])*init_state\n",
    "    E_p = qu.expect(H_P, fin_state)\n",
    "    grid_F_1_iter.append(E_p)"
   ]
  },
  {
   "cell_type": "code",
   "execution_count": 266,
   "id": "laden-catering",
   "metadata": {},
   "outputs": [],
   "source": [
    "optimal_gamma_iter  = grid_gammas_betas_iter[grid_F_1_iter.index(max(grid_F_1_iter))][0]\n",
    "optimal_beta_iter  = grid_gammas_betas_iter[grid_F_1_iter.index(max(grid_F_1_iter))][1]"
   ]
  },
  {
   "cell_type": "code",
   "execution_count": 267,
   "id": "smart-craft",
   "metadata": {},
   "outputs": [
    {
     "name": "stdout",
     "output_type": "stream",
     "text": [
      "\n",
      " --- OPTIMAL PARAMETERS --- \n",
      "\n",
      "The maximal expectation value is:  F_1 = 8.897\n",
      "This is attained for gamma = 5.917 and beta = -0.385\n"
     ]
    }
   ],
   "source": [
    "%matplotlib qt\n",
    "#%matplotlib inline\n",
    "# Plot the expetation value grid_f_1\n",
    "fig = plt.figure(figsize = (10,10))\n",
    "ax  = fig.gca(projection='3d')\n",
    "\n",
    "\n",
    "y_axis, x_axis = np.meshgrid(a_beta_iter, a_gamma_iter)\n",
    "z_axis = np.reshape(np.array(grid_F_1_iter), y_axis.shape)\n",
    "\n",
    "surf = ax.plot_surface(x_axis, y_axis, z_axis, cmap=cm.coolwarm, linewidth=0, antialiased=True, alpha=1)\n",
    "\n",
    "#a_maximum_cut = find_maximum_cuts(n_qubits, edges)[0]\n",
    "#max_cost_fun = qaoa.evaluate_cost_fun (a_maximum_cut, edges)\n",
    "#max_cost_fun\n",
    "#ax.set_zlim(1,max_cost_fun)\n",
    "ax.zaxis.set_major_locator(LinearLocator(3))\n",
    "ax.zaxis.set_major_formatter(FormatStrFormatter('%.02f'))\n",
    "ax.set_ylabel('beta')\n",
    "ax.set_xlabel('gamma')\n",
    "ax.set_zlabel('F1')\n",
    "#ax.scatter(np.array(adam_grad_fin_diff_g), np.array(adam_grad_fin_diff_b), np.array(adam_grad_fin_diff_F), c=np.array(adam_grad_fin_diff_F), cmap='viridis', zorder=1);\n",
    "plt.show()\n",
    "\n",
    "#The smallest parameters and the expectation can be extracted\n",
    "print('\\n --- OPTIMAL PARAMETERS --- \\n')\n",
    "print('The maximal expectation value is:  F_1 = %.03f' % np.amax(z_axis))\n",
    "#print('where the max_C is ', max_cost_fun)\n",
    "print('This is attained for gamma = %.03f and beta = %.03f' % (optimal_gamma_iter, optimal_beta_iter))"
   ]
  },
  {
   "cell_type": "code",
   "execution_count": null,
   "id": "heavy-wilderness",
   "metadata": {},
   "outputs": [],
   "source": []
  },
  {
   "cell_type": "code",
   "execution_count": null,
   "id": "prime-coordination",
   "metadata": {},
   "outputs": [],
   "source": []
  }
 ],
 "metadata": {
  "kernelspec": {
   "display_name": "Python 3",
   "language": "python",
   "name": "python3"
  },
  "language_info": {
   "codemirror_mode": {
    "name": "ipython",
    "version": 3
   },
   "file_extension": ".py",
   "mimetype": "text/x-python",
   "name": "python",
   "nbconvert_exporter": "python",
   "pygments_lexer": "ipython3",
   "version": "3.8.5"
  }
 },
 "nbformat": 4,
 "nbformat_minor": 5
}

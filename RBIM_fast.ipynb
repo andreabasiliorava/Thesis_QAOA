{
 "cells": [
  {
   "cell_type": "markdown",
   "id": "seasonal-cleaning",
   "metadata": {},
   "source": [
    "# QAOA for random bond Ising model (RBIM)"
   ]
  },
  {
   "cell_type": "code",
   "execution_count": 2,
   "id": "natural-weekend",
   "metadata": {},
   "outputs": [],
   "source": [
    "import qaoa\n",
    "import qucompsys as qucs\n",
    "import graphs as gr\n",
    "import qutip as qu\n",
    "import numpy as np\n",
    "import matplotlib.pyplot as plt\n",
    "from   matplotlib import cm\n",
    "from   matplotlib.ticker import LinearLocator, FormatStrFormatter\n",
    "import networkx as nx\n",
    "from   networkx.generators.random_graphs import erdos_renyi_graph\n",
    "import configparser\n",
    "import scipy\n",
    "import itertools\n",
    "from collections import Counter\n",
    "\n",
    "import importlib\n",
    "importlib.reload(qaoa)\n",
    "importlib.reload(qucs)\n",
    "\n",
    "%matplotlib inline\n",
    "%config InlineBackened.figure_format = 'svg'"
   ]
  },
  {
   "cell_type": "markdown",
   "id": "activated-recipient",
   "metadata": {},
   "source": [
    "##  0 Define the graph"
   ]
  },
  {
   "cell_type": "code",
   "execution_count": 32,
   "id": "million-priest",
   "metadata": {},
   "outputs": [],
   "source": [
    "# grid graph\n",
    "n_nodes = 4\n",
    "nodes = np.arange(0, n_nodes, 1)\n",
    "edges = [(0, 1), (1, 2), (2, 3), (3, 0)]"
   ]
  },
  {
   "cell_type": "code",
   "execution_count": 4,
   "id": "major-country",
   "metadata": {},
   "outputs": [],
   "source": [
    "# grid graph\n",
    "n_nodes = 9\n",
    "nodes = np.arange(0, n_nodes, 1)\n",
    "edges = [(0, 1), (0,3), (1, 2), (1, 4), (2, 5), (3,4), (3,6), (4, 5), (4, 7), (5,8), (6, 7), (7, 8)]"
   ]
  },
  {
   "cell_type": "code",
   "execution_count": 33,
   "id": "declared-resource",
   "metadata": {},
   "outputs": [],
   "source": [
    "n_qubits = n_nodes\n",
    "graph = nx.Graph()\n",
    "graph.add_nodes_from(nodes)\n",
    "graph.add_edges_from(edges)\n",
    "edges = list(graph.edges)"
   ]
  },
  {
   "cell_type": "markdown",
   "id": "satisfactory-basket",
   "metadata": {},
   "source": [
    "### 0.1 plot the graph"
   ]
  },
  {
   "cell_type": "code",
   "execution_count": 6,
   "id": "human-contributor",
   "metadata": {},
   "outputs": [
    {
     "data": {
      "text/plain": [
       "'edges are [(0, 1), (0, 3), (1, 2), (1, 4), (2, 5), (3, 4), (3, 6), (4, 5), (4, 7), (5, 8), (6, 7), (7, 8)]'"
      ]
     },
     "execution_count": 6,
     "metadata": {},
     "output_type": "execute_result"
    }
   ],
   "source": [
    "f\"edges are {edges}\""
   ]
  },
  {
   "cell_type": "code",
   "execution_count": 34,
   "id": "rational-interface",
   "metadata": {},
   "outputs": [
    {
     "data": {
      "image/png": "[encoded data removed]",
      "text/plain": [
       "<Figure size 504x504 with 1 Axes>"
      ]
     },
     "metadata": {},
     "output_type": "display_data"
    }
   ],
   "source": [
    "fig = plt.figure(figsize = (7,7))\n",
    "colors = ['r' for node in graph.nodes()]\n",
    "pos = nx.planar_layout(graph)\n",
    "graph_drawing = nx.draw_networkx(graph, node_color=colors, node_size=200, pos = None, alpha=1, with_labels=True)\n",
    "plt.show()"
   ]
  },
  {
   "cell_type": "markdown",
   "id": "painted-inspector",
   "metadata": {},
   "source": [
    "## 1 choose probability"
   ]
  },
  {
   "cell_type": "markdown",
   "id": "macro-ozone",
   "metadata": {},
   "source": [
    "$$H_{RBIM} = -\\sum_{<i,j>}K_{ij}Z_iZ_j,$$\n",
    "\n",
    "$P(K_{ij}) = p\\delta(K_{ij}-K) + (1-p)\\delta(K_{ij}+K) \\; , K>0$"
   ]
  },
  {
   "cell_type": "code",
   "execution_count": 57,
   "id": "false-bolivia",
   "metadata": {},
   "outputs": [
    {
     "data": {
      "text/plain": [
       "array([1, 1, 1, 1])"
      ]
     },
     "execution_count": 57,
     "metadata": {},
     "output_type": "execute_result"
    }
   ],
   "source": [
    "prob = 1 #prbability 0.5 < prob < 1 that the site is ferromagnetic (all 1 or -1), expect phase-transistion at p = 0.88\n",
    "\n",
    "bin_prob_dist = np.random.binomial(1, prob, size=(len(edges),)) # 1 for ferromagnetic link\n",
    "\n",
    "bin_prob_dist"
   ]
  },
  {
   "cell_type": "code",
   "execution_count": 58,
   "id": "coastal-thumb",
   "metadata": {},
   "outputs": [
    {
     "data": {
      "text/plain": [
       "array([1, 1, 1, 1])"
      ]
     },
     "execution_count": 58,
     "metadata": {},
     "output_type": "execute_result"
    }
   ],
   "source": [
    "for i, link in enumerate (bin_prob_dist):\n",
    "    if link == 0:\n",
    "        bin_prob_dist[i] = -1\n",
    "bin_prob_dist"
   ]
  },
  {
   "cell_type": "code",
   "execution_count": 59,
   "id": "failing-seeking",
   "metadata": {},
   "outputs": [],
   "source": [
    "def binomial_dist (prob, edges):\n",
    "    bin_prob_dist = np.random.binomial(1, prob, size=(len(edges),)) # 1 for ferromagnetic link\n",
    "    for i, link in enumerate (bin_prob_dist):\n",
    "        if link == 0:\n",
    "            bin_prob_dist[i] = -1\n",
    "    return bin_prob_dist"
   ]
  },
  {
   "cell_type": "code",
   "execution_count": 60,
   "id": "harmful-dayton",
   "metadata": {},
   "outputs": [
    {
     "data": {
      "text/plain": [
       "array([1, 1, 1, 1])"
      ]
     },
     "execution_count": 60,
     "metadata": {},
     "output_type": "execute_result"
    }
   ],
   "source": [
    "binomial_dist(0.5, edges)"
   ]
  },
  {
   "cell_type": "markdown",
   "id": "otherwise-franchise",
   "metadata": {},
   "source": [
    "## 2 Define needed functions"
   ]
  },
  {
   "cell_type": "code",
   "execution_count": 15,
   "id": "recent-project",
   "metadata": {},
   "outputs": [],
   "source": [
    "def evaluate_energy_ising(list_z, edges, bin_prob_dist, coupling_const=1):\n",
    "    energy = 0\n",
    "    for i, edge in enumerate(edges):\n",
    "        energy += -bin_prob_dist[i]*list_z[edge[0]]*list_z[edge[1]]\n",
    "    return coupling_const*energy"
   ]
  },
  {
   "cell_type": "code",
   "execution_count": 56,
   "id": "compact-relief",
   "metadata": {},
   "outputs": [
    {
     "name": "stdout",
     "output_type": "stream",
     "text": [
      "(1, 1, 1, 1) -2\n",
      "(1, 1, 1, -1) 2\n",
      "(1, 1, -1, 1) -2\n",
      "(1, 1, -1, -1) -2\n",
      "(1, -1, 1, 1) -2\n",
      "(1, -1, 1, -1) 2\n",
      "(1, -1, -1, 1) 2\n",
      "(1, -1, -1, -1) 2\n",
      "(-1, 1, 1, 1) 2\n",
      "(-1, 1, 1, -1) 2\n",
      "(-1, 1, -1, 1) 2\n",
      "(-1, 1, -1, -1) -2\n",
      "(-1, -1, 1, 1) -2\n",
      "(-1, -1, 1, -1) -2\n",
      "(-1, -1, -1, 1) 2\n",
      "(-1, -1, -1, -1) -2\n"
     ]
    }
   ],
   "source": [
    "all_outcomes = itertools.product([1,-1], repeat=n_qubits)\n",
    "for outcome in all_outcomes:\n",
    "    print(outcome, evaluate_energy_ising(outcome, edges, bin_prob_dist))"
   ]
  },
  {
   "cell_type": "code",
   "execution_count": 17,
   "id": "improving-president",
   "metadata": {},
   "outputs": [],
   "source": [
    "def evaluate_magnetization_ising(list_z):\n",
    "    return abs(sum(list_z))"
   ]
  },
  {
   "cell_type": "raw",
   "id": "bulgarian-linux",
   "metadata": {},
   "source": [
    "all_outcomes = itertools.product([1,-1], repeat=n_qubits)\n",
    "for outcome in all_outcomes:\n",
    "    print(outcome, evaluate_magnetization_ising(outcome))"
   ]
  },
  {
   "cell_type": "code",
   "execution_count": 39,
   "id": "drawn-genealogy",
   "metadata": {},
   "outputs": [],
   "source": [
    "I = qu.tensor([qu.qeye(2)]*n_qubits)\n",
    "X = []\n",
    "for i in range(n_qubits):\n",
    "    X.append(qu.tensor([qu.qeye(2)]*i+[qu.sigmax()]+[qu.qeye(2)]*(n_qubits-i-1)))\n",
    "Y = []\n",
    "for i in range(n_qubits):\n",
    "    Y.append(qu.tensor([qu.qeye(2)]*i+[qu.sigmay()]+[qu.qeye(2)]*(n_qubits-i-1)))\n",
    "Z = []\n",
    "for i in range(n_qubits):\n",
    "    Z.append(qu.tensor([qu.qeye(2)]*i+[qu.sigmaz()]+[qu.qeye(2)]*(n_qubits-i-1)))\n",
    "P_0 = []\n",
    "for i in range(n_qubits):\n",
    "    P_0.append(qu.tensor([qu.qeye(2)]*i+[qu.ket('0').proj()]+[qu.qeye(2)]*(n_qubits-i-1)))\n",
    "P_1 = []\n",
    "for i in range(n_qubits):\n",
    "    P_1.append(qu.tensor([qu.qeye(2)]*i+[qu.ket('1').proj()]+[qu.qeye(2)]*(n_qubits-i-1)))"
   ]
  },
  {
   "cell_type": "code",
   "execution_count": 46,
   "id": "national-attendance",
   "metadata": {},
   "outputs": [],
   "source": [
    "def single_qubit_measurement_ising(qstate, qubit_pos):\n",
    "    n_qubits = len(qstate.dims[0])\n",
    "    M_i = P_0[qubit_pos]*qstate\n",
    "    if qstate.dims[1][0] == 1:\n",
    "        p0_i = float(abs((qstate.dag()*M_i).full()))\n",
    "        if np.random.random_sample() <= p0_i:\n",
    "            outcome = [1]\n",
    "            qstate = M_i/np.sqrt(p0_i)\n",
    "        else:\n",
    "            outcome = [-1]\n",
    "            qstate = (P_1[qubit_pos]*qstate)/np.sqrt((1-p0_i))\n",
    "    else:\n",
    "        p0_i = M_i.tr()\n",
    "        if np.random.random_sample() <= p0_i:\n",
    "            outcome = [1]\n",
    "            qstate = M_i/p0_i\n",
    "        else:\n",
    "            outcome = [-1]\n",
    "            qstate = (P_1[qubit_pos]*qstate)/(1-p0_i)\n",
    "    return outcome, qstate\n",
    "\n",
    "def quantum_measurements_ising(n_samples, qstate):\n",
    "    n_qubits = len(qstate.dims[0])\n",
    "    outcomes = []\n",
    "    for j in range(n_samples):\n",
    "        outcome = []\n",
    "        qstate_dummy = qstate.copy()\n",
    "        for i in range(n_qubits):\n",
    "            outcome_i, qstate_dummy = single_qubit_measurement_ising(qstate_dummy, i)\n",
    "            outcome += outcome_i\n",
    "        outcomes.append(outcome)\n",
    "    return outcomes"
   ]
  },
  {
   "cell_type": "code",
   "execution_count": 47,
   "id": "durable-greensboro",
   "metadata": {},
   "outputs": [],
   "source": [
    "H_B = sum(X)"
   ]
  },
  {
   "cell_type": "code",
   "execution_count": 48,
   "id": "stunning-vacuum",
   "metadata": {},
   "outputs": [],
   "source": [
    "def prob_hamilt_ising(n_qubits, edges, bin_prob_dist, coupling_const=1):\n",
    "    list_double_sigmaz = []\n",
    "    for i, edge in enumerate(edges):\n",
    "        list_double_sigmaz.append(Z[edge[0]]*Z[edge[1]]*bin_prob_dist[i]) \n",
    "    return -sum(list_double_sigmaz)*coupling_const"
   ]
  },
  {
   "cell_type": "code",
   "execution_count": 49,
   "id": "variable-letters",
   "metadata": {},
   "outputs": [],
   "source": [
    "def evolution_operator_ising(n_qubits, edges, gammas, betas, bin_prob_dist):\n",
    "    evol_oper = I\n",
    "    for i in range(len(gammas)):\n",
    "        u_mix_hamilt_i = (-complex(0,betas[i])*H_B).expm()\n",
    "        u_prob_hamilt_i = (-complex(0,gammas[i])*prob_hamilt_ising(n_qubits, edges, bin_prob_dist)).expm()\n",
    "        evol_oper = u_mix_hamilt_i*u_prob_hamilt_i*evol_oper\n",
    "    return evol_oper"
   ]
  },
  {
   "cell_type": "code",
   "execution_count": 50,
   "id": "alert-ethiopia",
   "metadata": {},
   "outputs": [],
   "source": [
    "def evaluate_energy_p(params, n_qubits, edges, bin_prob_dist, n_samples):\n",
    "    gammas = params[:int(len(list(params))/2)]\n",
    "    betas = params[int(len(list(params))/2):]\n",
    "    \n",
    "    # initial state (as density matrix):\n",
    "    #dm_init_state = qu.ket2dm(initial_state(n_qubits))\n",
    "    init_state = qaoa.initial_state(n_qubits)\n",
    "    #obtain final state\n",
    "    #dm_fin_state = evolution_operator(n_qubits, edges, gammas, betas)*dm_init_state*evolution_operator(n_qubits, edges, gammas, betas).dag()\n",
    "    fin_state = evolution_operator_ising(n_qubits, edges, gammas, betas, bin_prob_dist)*init_state\n",
    "    #fin_state = qaoa.evolution_operator(n_qubits, edges, gammas, betas)*init_state\n",
    "\n",
    "    \n",
    "    #Perform N measurements on each single qubit of final state\n",
    "    outcomes = quantum_measurements_ising(n_samples, fin_state)\n",
    "    dict_outcomes = {}\n",
    "    for outcome in outcomes:\n",
    "        dict_outcomes[tuple(outcome)] = outcomes.count(outcome)\n",
    "    \n",
    "    #Evaluate Fp\n",
    "    Ep = 0\n",
    "    for outcome_w in dict_outcomes:\n",
    "        Ep += dict_outcomes[outcome_w]*evaluate_energy_ising(outcome_w, edges, bin_prob_dist)\n",
    "    return Ep/n_samples"
   ]
  },
  {
   "cell_type": "raw",
   "id": "noble-integrity",
   "metadata": {},
   "source": [
    "def evaluate_magnetization_p(params, n_qubits, edges, bin_prob_dist, n_samples):\n",
    "    gammas = params[:int(len(list(params))/2)]\n",
    "    betas = params[int(len(list(params))/2):]\n",
    "    \n",
    "    # initial state (as density matrix):\n",
    "    #dm_init_state = qu.ket2dm(initial_state(n_qubits))\n",
    "    init_state = qaoa.initial_state(n_qubits)\n",
    "    #obtain final state\n",
    "    #dm_fin_state = evolution_operator(n_qubits, edges, gammas, betas)*dm_init_state*evolution_operator(n_qubits, edges, gammas, betas).dag()\n",
    "    fin_state = evolution_operator_ising(n_qubits, edges, gammas, betas, bin_prob_dist)*init_state\n",
    "    \n",
    "    #Perform N measurements on each single qubit of final state\n",
    "    outcomes = quantum_measurements_ising(n_samples, fin_state)\n",
    "    dict_outcomes = {}\n",
    "    for outcome in outcomes:\n",
    "        dict_outcomes[tuple(outcome)] = outcomes.count(outcome)\n",
    "    \n",
    "    #Evaluate Fp\n",
    "    Mp = 0\n",
    "    for outcome_w in dict_outcomes:\n",
    "        Mp += dict_outcomes[outcome_w]*evaluate_magnetization_ising(outcome_w)\n",
    "    return Mp/n_samples"
   ]
  },
  {
   "cell_type": "markdown",
   "id": "random-response",
   "metadata": {},
   "source": [
    "## 1 Parameters optimization"
   ]
  },
  {
   "cell_type": "markdown",
   "id": "forward-tunisia",
   "metadata": {},
   "source": [
    "## 1.1 Choose QAOA level and pick initial parameters"
   ]
  },
  {
   "cell_type": "raw",
   "id": "southeast-beast",
   "metadata": {},
   "source": [
    "n_levels = 1"
   ]
  },
  {
   "cell_type": "raw",
   "id": "interior-employment",
   "metadata": {},
   "source": [
    "init_params = 0.01*np.random.rand(2, n_levels)\n",
    "gammas = init_params[0]\n",
    "betas = init_params[1]"
   ]
  },
  {
   "cell_type": "raw",
   "id": "located-variable",
   "metadata": {},
   "source": [
    "list_init_params = 0.5*np.random.rand(2*n_levels)\n",
    "list_init_gammas = list_init_params[:n_levels]\n",
    "list_init_betas = list_init_params[n_levels:]"
   ]
  },
  {
   "cell_type": "markdown",
   "id": "sacred-portal",
   "metadata": {},
   "source": [
    "## 1.2 Generate initial state"
   ]
  },
  {
   "cell_type": "markdown",
   "id": "atomic-cargo",
   "metadata": {},
   "source": [
    "${\\large |s\\rangle = \\sum_{z \\, \\in \\, \\{0,1\\}^n}^{}{|z\\rangle} = |+\\rangle^{\\otimes n}}$"
   ]
  },
  {
   "cell_type": "raw",
   "id": "compressed-receipt",
   "metadata": {},
   "source": [
    "# initial state:\n",
    "init_state = qaoa.initial_state(n_qubits)\n",
    "#dm_init_state = qu.ket2dm(qaoa.initial_state(n_qubits))"
   ]
  },
  {
   "cell_type": "markdown",
   "id": "molecular-milan",
   "metadata": {},
   "source": [
    "## 1.3 Obtain final state"
   ]
  },
  {
   "cell_type": "markdown",
   "id": "continuous-gravity",
   "metadata": {},
   "source": [
    "${\\large |\\vec{\\gamma},\\vec{\\beta}\\rangle = U(B,\\beta_p)U(C,\\gamma_p)...U(B,\\beta_1)U(C,\\gamma_1)|s\\rangle}$"
   ]
  },
  {
   "cell_type": "raw",
   "id": "entire-drink",
   "metadata": {},
   "source": [
    "# obtain final state:\n",
    "optimal_params = optimal_params_scipy\n",
    "#optimal_params = optimal_parameters_Adam_fin_diff\n",
    "optimal_gammas = optimal_params[:n_levels]\n",
    "optimal_betas = optimal_params[n_levels:]\n",
    "fin_state = qaoa.evolution_operator(n_qubits, edges, optimal_gammas, optimal_betas)*init_state\n",
    "#fin_state = evolution_operator_ising(n_qubits, edges, optimal_gammas, optimal_betas, bin_prob_dist)*init_state\n",
    "#dm_fin_state = qaoa.evolution_operator(n_qubits, edges, optimal_gammas, optimal_betas)*dm_init_state*qaoa.evolution_operator(n_qubits, edges, optimal_gammas, optimal_betas).dag()"
   ]
  },
  {
   "cell_type": "markdown",
   "id": "adjacent-government",
   "metadata": {},
   "source": [
    "##  1.4 Perform N-computational_basis measurements on $|\\vec{\\gamma},\\vec{\\beta}\\rangle$ and evaluate $F_p$"
   ]
  },
  {
   "cell_type": "markdown",
   "id": "valid-hollywood",
   "metadata": {},
   "source": [
    "the idea is that, for each ($\\gamma,\\beta$), after each measurement I will obtain as outcome one of the elements of the computational basis: $\\{z : z \\in \\{ 0,1 \\}^n\\}$\n",
    "\n",
    "so, after N measurements, I will have each that each possible outcome $z_i$ has been obtained with occurency $w_i$, so $F_p$ will be evaluated as:\n",
    "\n",
    "$$F_p = \\frac{\\sum_{i}^{N}{w_iC(z_i)}}{\\sum_{i}^{N}{w_i}}$$"
   ]
  },
  {
   "cell_type": "raw",
   "id": "million-moderator",
   "metadata": {},
   "source": [
    "#Perform N measurements on each single qubit of final state\n",
    "n_samples = 1000\n",
    "outcomes = quantum_measurements_ising(n_samples, fin_state)\n",
    "dict_outcomes = {}\n",
    "for outcome in outcomes:\n",
    "    dict_outcomes[tuple(outcome)] = outcomes.count(outcome)\n",
    "\n",
    "#Evaluate Fp\n",
    "Ep = 0\n",
    "for outcome_w in dict_outcomes:\n",
    "    Ep += dict_outcomes[outcome_w]*evaluate_energy_ising(outcome_w, edges, bin_prob_dist)\n",
    "Ep/n_samples"
   ]
  },
  {
   "cell_type": "raw",
   "id": "minus-insulin",
   "metadata": {},
   "source": [
    "# obtain final state:\n",
    "optimal_params = optimal_params_scipy\n",
    "#optimal_params = optimal_parameters_Adam_fin_diff\n",
    "optimal_gammas = optimal_params[:n_levels]\n",
    "optimal_betas = optimal_params[n_levels:]\n",
    "fin_state = qaoa.evolution_operator(n_qubits, edges, optimal_gammas, optimal_betas)*init_state\n",
    "#fin_state = evolution_operator_ising(n_qubits, edges, optimal_gammas, optimal_betas, bin_prob_dist)*init_state\n",
    "#dm_fin_state = qaoa.evolution_operator(n_qubits, edges, optimal_gammas, optimal_betas)*dm_init_state*qaoa.evolution_operator(n_qubits, edges, optimal_gammas, optimal_betas).dag()"
   ]
  },
  {
   "cell_type": "raw",
   "id": "phantom-penetration",
   "metadata": {},
   "source": [
    "# plot probabilities of each state of the graph corresponding to every possible configuration after a cut\n",
    "plt.figure(figsize = (2**n_qubits,6))\n",
    "plt.xticks(rotation=45)\n",
    "x_axis = []\n",
    "for key in dict_outcomes:\n",
    "    x_axis.append(str(key))\n",
    "plt.bar(x_axis, dict_outcomes.values(), width = 0.5)"
   ]
  },
  {
   "cell_type": "markdown",
   "id": "ethical-evening",
   "metadata": {},
   "source": [
    "### 1.5 Parameters update"
   ]
  },
  {
   "cell_type": "raw",
   "id": "later-engagement",
   "metadata": {},
   "source": [
    "# perform M-steps for expectation value of the cost-function\n",
    "n_steps = 5\n",
    "n_levels = 1\n",
    "#parameters = np.array(0.5*np.random.random_sample(2*n_levels))\n",
    "parameters = 0.01*np.random.rand(2*n_levels)\n",
    "eta = 0.001 #con 0.01 si muove troppo lentamente, però con 0.1 oscilla troppo attorno al massimo\n",
    "H_P = prob_hamilt_ising(n_qubits, edges, bin_prob_dist)\n",
    "for i in range(n_steps):\n",
    "    g_t = qaoa.fin_diff_grad(evaluate_energy_p, parameters, args=(n_qubits, edges, bin_prob_dist, 100), increment=0.01)\n",
    "    gammas = parameters[:n_levels]\n",
    "    betas = parameters[n_levels:]\n",
    "    fin_state = evolution_operator_ising(n_qubits, edges, gammas, betas, bin_prob_dist)*init_state\n",
    "    E_p = qu.expect(H_P, fin_state)\n",
    "    parameters = parameters - eta*g_t\n",
    "    if (i + 1) % 1 == 0:\n",
    "            print('in', parameters, 'with grad ', g_t,  \"objective after step {:5d}: {: .7f}\".format(i + 1, E_p))\n",
    "optimal_parameters = parameters\n",
    "print('optimal parameters are ', optimal_parameters)"
   ]
  },
  {
   "cell_type": "code",
   "execution_count": 62,
   "id": "medium-strip",
   "metadata": {},
   "outputs": [
    {
     "name": "stdout",
     "output_type": "stream",
     "text": [
      "in [1.93514138 2.41167563] with grad  [-2.8 -9.6] objective after step     1: -0.4373865\n",
      "in [1.98514138 2.46167563] with grad  [ 0.2 -4. ] objective after step     2: -0.8159658\n",
      "in [2.01590687 2.50691553] with grad  [ 1.4 -5.8] objective after step     3: -1.1092108\n",
      "in [2.02291791 2.55301914] with grad  [ 4.4 -6.4] objective after step     4: -1.3770618\n",
      "in [2.00257915 2.60004388] with grad  [-0.4 -7.4] objective after step     5: -1.6356560\n",
      "in [1.98745058 2.64800786] with grad  [ 1.8 -4. ] objective after step     6: -1.8309135\n",
      "in [1.96683769 2.694585  ] with grad  [ 1.4 -2. ] objective after step     7: -1.9528200\n",
      "in [1.94331631 2.73810435] with grad  [-1.6  0. ] objective after step     8: -1.9916322\n",
      "in [1.92983446 2.77646927] with grad  [-3.6 -0.2] objective after step     9: -1.9698541\n",
      "in [1.93199236 2.81082998] with grad  [-1.2  3. ] objective after step    10: -1.9235615\n",
      "in [1.93794979 2.83650485] with grad  [1.2 3. ] objective after step    11: -1.8686419\n",
      "in [1.93922932 2.85475972] with grad  [-1.8  1.6] objective after step    12: -1.8147589\n",
      "in [1.94614329 2.86877783] with grad  [-1.8  2.8] objective after step    13: -1.7701448\n",
      "in [1.9578483  2.87723051] with grad  [-1.8  4. ] objective after step    14: -1.7417662\n",
      "in [1.97366122 2.87906726] with grad  [-0.4  5.8] objective after step    15: -1.7335134\n",
      "in [1.98918448 2.87291275] with grad  [1.2 5.6] objective after step    16: -1.7496356\n",
      "in [1.9994153  2.86039715] with grad  [1.6 2.2] objective after step    17: -1.7857549\n",
      "in [2.00367021 2.84629032] with grad  [3.  2.2] objective after step    18: -1.8262943\n",
      "in [1.99869326 2.83072933] with grad  [2.8 4.2] objective after step    19: -1.8750613\n",
      "in [1.98667451 2.81157329] with grad  [-1.   0.6] objective after step    20: -1.9291470\n",
      "in [1.97857735 2.79339058] with grad  [2.  0.8] objective after step    21: -1.9648229\n",
      "in [1.96591356 2.77582318] with grad  [-0.4  1.4] objective after step    22: -1.9883149\n",
      "in [1.95550184 2.75804181] with grad  [1.2 1.2] objective after step    23: -1.9976395\n",
      "in [1.9427731  2.74029645] with grad  [-1.4  1.8] objective after step    24: -1.9919549\n",
      "in [1.93518977 2.72180566] with grad  [-0.6 -0.4] objective after step    25: -1.9755408\n",
      "in [1.92997703 2.70550469] with grad  [-3.2 -2. ] objective after step    26: -1.9522749\n",
      "in [1.93408021 2.69344205] with grad  [-2.2 -1.4] objective after step    27: -1.9375141\n",
      "in [1.94358371 2.68439672] with grad  [ 0.8 -3.2] objective after step    28: -1.9276804\n",
      "in [1.95006895 2.68064076] with grad  [-1.4 -3.6] objective after step    29: -1.9231498\n",
      "in [1.9596945  2.68218495] with grad  [ 0.6 -4.6] objective after step    30: -1.9289978\n",
      "optimal parameters are  [1.96681688 2.68976025] and F_1 is -1.9289978495661466\n"
     ]
    }
   ],
   "source": [
    "#Adam\n",
    "#perform it for exp_F_1 (check if this method works properly for p=1 case)\n",
    "n_levels = 1\n",
    "n_steps = 30\n",
    "parameters = np.array(np.pi*np.random.random_sample(2*n_levels)) #check how choose initial params, for pi*rand is too dispersive\n",
    "#parameters = 0.01*np.random.rand(2*n_levels)\n",
    "init_state = qaoa.initial_state(n_qubits)\n",
    "beta_1 = 0.9\n",
    "beta_2 = 0.999\n",
    "epsilon = 1e-8\n",
    "m_t = np.zeros(2*n_levels)\n",
    "v_t = np.zeros(2*n_levels)\n",
    "t = 0\n",
    "H_P = prob_hamilt_ising(n_qubits, edges, bin_prob_dist)\n",
    "eta = 0.05 #works also for eta = 0.01, but increases very slowly, and 0.1 oscillates too much around max\n",
    "previous_g_t = np.zeros(2*n_levels)\n",
    "for i in range(n_steps):\n",
    "    g_t = qaoa.fin_diff_grad(evaluate_energy_p, parameters, args=(n_qubits, edges, bin_prob_dist, 100), increment=0.1)\n",
    "    gammas = parameters[:n_levels]\n",
    "    betas = parameters[n_levels:]\n",
    "    fin_state = evolution_operator_ising(n_qubits, edges, gammas, betas, bin_prob_dist)*init_state\n",
    "    E_p_adam = qu.expect(H_P, fin_state)\n",
    "    #if (np.sign(g_t) == -np.sign(previous_g_t)).all() and (np.sign(g_t) == -np.sign(np.ones(2*n_levels))).all():\n",
    "        #break\n",
    "    #if (i + 1) % 1 == 0:\n",
    "    print('in', parameters, 'with grad ', g_t,  \"objective after step {:5d}: {: .7f}\".format(i + 1, E_p_adam))\n",
    "    t = t+1\n",
    "    m_t = beta_1*m_t + (1-beta_1)*g_t\n",
    "    v_t = beta_2*v_t + (1-beta_2)*g_t**2\n",
    "    m_t_hat = m_t/(1-beta_1**t)\n",
    "    v_t_hat = v_t/(1-beta_2**t)\n",
    "    parameters = parameters - eta*m_t_hat/(np.sqrt(v_t_hat) + epsilon)\n",
    "    #previous_g_t = g_t\n",
    "optimal_parameters_Adam_fin_diff = parameters\n",
    "optimal_gammas = optimal_parameters_Adam_fin_diff[:n_levels]\n",
    "optimal_betas = optimal_parameters_Adam_fin_diff[n_levels:]\n",
    "print('optimal parameters are ', optimal_parameters_Adam_fin_diff, 'and F_1 is', qu.expect(H_P, evolution_operator_ising(n_qubits, edges, gammas, betas, bin_prob_dist)*init_state))"
   ]
  },
  {
   "cell_type": "raw",
   "id": "usual-ceremony",
   "metadata": {},
   "source": [
    "#prob = 1 (ferromagnetic)\n",
    "in [0.00753918 0.00366024] with grad  [ 1.4 -0.8] objective after step     1:  0.0008829\n",
    "in [-0.04246082  0.05366024] with grad  [ 2.8 -1.2] objective after step     2: -0.0720047\n",
    "in [-0.09164443  0.10377399] with grad  [ 0.6 -1.8] objective after step     3: -0.2890877\n",
    "in [-0.13324843  0.15411154] with grad  [ 1.4 -2.4] objective after step     4: -0.5875212\n",
    "in [-0.17595996  0.20515518] with grad  [ 4.4 -1.8] objective after step     5: -0.9468697\n",
    "in [-0.22283327  0.25623791] with grad  [ 3.2 -3.8] objective after step     6: -1.3297426\n",
    "in [-0.27178518  0.30851854] with grad  [3.2 2.2] objective after step     7: -1.6711696\n",
    "in [-0.32202844  0.33484591] with grad  [ 0.6 -2.8] objective after step     8: -1.8694240\n",
    "in [-0.36552032  0.36887219] with grad  [-1.  0.] objective after step     9: -1.9791696\n",
    "in [-0.39592212  0.39663242] with grad  [2.2 1. ] objective after step    10: -1.9995863\n",
    "in [-0.42995215  0.41363604] with grad  [2.6 3. ] objective after step    11: -1.9709045\n",
    "in [-0.46804954  0.41111655] with grad  [0.2 0.2] objective after step    12: -1.9046623\n",
    "in [-0.50021683  0.40801371] with grad  [-2.2  2.2] objective after step    13: -1.8144625\n",
    "in [-0.51563139  0.39439633] with grad  [-3.4  1.4] objective after step    14: -1.7629948\n",
    "in [-0.51259283  0.37623176] with grad  [-2.  -0.4] objective after step    15: -1.7705343\n",
    "in [-0.50146852  0.36344499] with grad  [-3.6 -0.4] objective after step    16: -1.8012715\n",
    "in [-0.47802933  0.35512014] with grad  [-3.6 -0.2] objective after step    17: -1.8633753\n",
    "in [-0.4455815   0.34939794] with grad  [-2.2 -1.8] objective after step    18: -1.9261639\n",
    "in [-0.41073374  0.35472686] with grad  [-1.6 -2. ] objective after step    19: -1.9718322\n",
    "in [-0.37600731  0.3698605 ] with grad  [1.4 0.4] objective after step    20: -1.9872226\n",
    "optimal parameters are  [-0.353581    0.38000475] and F_1 is -1.9872225826303598\n",
    "\n",
    "E = -1.88\n",
    "M = 2.28"
   ]
  },
  {
   "cell_type": "code",
   "execution_count": 20,
   "id": "hairy-evidence",
   "metadata": {},
   "outputs": [],
   "source": [
    "n_samples = 100\n",
    "outcomes = quantum_measurements_ising(n_samples, fin_state)\n",
    "dict_outcomes = {}\n",
    "for outcome in outcomes:\n",
    "    dict_outcomes[tuple(outcome)] = outcomes.count(outcome)"
   ]
  },
  {
   "cell_type": "code",
   "execution_count": 27,
   "id": "stuck-tutorial",
   "metadata": {},
   "outputs": [],
   "source": [
    "max_occurrency = max(list(dict_outcomes.values()))\n",
    "\n",
    "index_max_occurrency = list(dict_outcomes.values()).index(max_occurrency)\n",
    "\n",
    "most_probable_state = list(dict_outcomes.keys())[index_max_occurrency]"
   ]
  },
  {
   "cell_type": "code",
   "execution_count": 33,
   "id": "solar-father",
   "metadata": {},
   "outputs": [
    {
     "data": {
      "text/plain": [
       "4"
      ]
     },
     "execution_count": 33,
     "metadata": {},
     "output_type": "execute_result"
    }
   ],
   "source": [
    "M = evaluate_magnetization_ising(most_probable_state)\n",
    "M"
   ]
  },
  {
   "cell_type": "code",
   "execution_count": null,
   "id": "medium-sponsorship",
   "metadata": {},
   "outputs": [],
   "source": []
  },
  {
   "cell_type": "code",
   "execution_count": 60,
   "id": "affected-nature",
   "metadata": {},
   "outputs": [
    {
     "data": {
      "text/plain": [
       "<BarContainer object of 16 artists>"
      ]
     },
     "execution_count": 60,
     "metadata": {},
     "output_type": "execute_result"
    },
    {
     "data": {
      "image/png": "[encoded data removed]",
      "text/plain": [
       "<Figure size 1152x432 with 1 Axes>"
      ]
     },
     "metadata": {
      "needs_background": "light"
     },
     "output_type": "display_data"
    }
   ],
   "source": [
    "# plot probabilities of each state of the graph corresponding to every possible configuration after a cut\n",
    "plt.figure(figsize = (2**n_qubits,6))\n",
    "plt.xticks(rotation=45)\n",
    "x_axis = []\n",
    "for key in dict_outcomes:\n",
    "    x_axis.append(str(key))\n",
    "plt.bar(x_axis, dict_outcomes.values(), width = 0.5)"
   ]
  },
  {
   "cell_type": "code",
   "execution_count": 188,
   "id": "worth-fever",
   "metadata": {},
   "outputs": [
    {
     "data": {
      "text/plain": [
       "-2.08"
      ]
     },
     "execution_count": 188,
     "metadata": {},
     "output_type": "execute_result"
    }
   ],
   "source": [
    "evaluate_energy_p(optimal_parameters_Adam_fin_diff, n_qubits, edges, bin_prob_dist, 100)"
   ]
  },
  {
   "cell_type": "code",
   "execution_count": 189,
   "id": "korean-involvement",
   "metadata": {},
   "outputs": [
    {
     "data": {
      "text/plain": [
       "1.9"
      ]
     },
     "execution_count": 189,
     "metadata": {},
     "output_type": "execute_result"
    }
   ],
   "source": [
    "evaluate_magnetization_p(optimal_parameters_Adam_fin_diff, n_qubits, edges, bin_prob_dist, 100)"
   ]
  },
  {
   "cell_type": "code",
   "execution_count": 36,
   "id": "united-description",
   "metadata": {},
   "outputs": [],
   "source": [
    "# obtain final state:\n",
    "#optimal_params = optimal_params_scipy\n",
    "optimal_params = optimal_parameters_Adam_fin_diff\n",
    "optimal_gammas = optimal_params[:n_levels]\n",
    "optimal_betas = optimal_params[n_levels:]\n",
    "#fin_state = qaoa.evolution_operator(n_qubits, edges, optimal_gammas, optimal_betas)*init_state\n",
    "fin_state = evolution_operator_ising(n_qubits, edges, optimal_gammas, optimal_betas, bin_prob_dist)*init_state\n",
    "#dm_fin_state = qaoa.evolution_operator(n_qubits, edges, optimal_gammas, optimal_betas)*dm_init_state*qaoa.evolution_operator(n_qubits, edges, optimal_gammas, optimal_betas).dag()"
   ]
  },
  {
   "cell_type": "code",
   "execution_count": 37,
   "id": "precise-happiness",
   "metadata": {},
   "outputs": [],
   "source": [
    "prob_dist_fin_state = qucs.comp_basis_prob_dist(fin_state)"
   ]
  },
  {
   "cell_type": "code",
   "execution_count": 80,
   "id": "processed-miller",
   "metadata": {},
   "outputs": [
    {
     "name": "stdout",
     "output_type": "stream",
     "text": [
      "[1, 1, 1, 1]\n",
      "[1, 1, 1, -1]\n",
      "[1, 1, -1, 1]\n",
      "[1, 1, -1, -1]\n",
      "[1, -1, 1, 1]\n",
      "[1, -1, 1, -1]\n",
      "[1, -1, -1, 1]\n",
      "[1, -1, -1, -1]\n",
      "[-1, 1, 1, 1]\n",
      "[-1, 1, 1, -1]\n",
      "[-1, 1, -1, 1]\n",
      "[-1, 1, -1, -1]\n",
      "[-1, -1, 1, 1]\n",
      "[-1, -1, 1, -1]\n",
      "[-1, -1, -1, 1]\n",
      "[-1, -1, -1, -1]\n"
     ]
    }
   ],
   "source": [
    "all_outcomes = itertools.product([1,-1], repeat=n_qubits)\n",
    "for i in all_outcomes:\n",
    "    print(str(list(i)))\n"
   ]
  },
  {
   "cell_type": "code",
   "execution_count": 57,
   "id": "instructional-length",
   "metadata": {},
   "outputs": [
    {
     "ename": "TypeError",
     "evalue": "'itertools.product' object is not subscriptable",
     "output_type": "error",
     "traceback": [
      "\u001b[1;31m---------------------------------------------------------------------------\u001b[0m",
      "\u001b[1;31mTypeError\u001b[0m                                 Traceback (most recent call last)",
      "\u001b[1;32m<ipython-input-57-e2bf43b26d9f>\u001b[0m in \u001b[0;36m<module>\u001b[1;34m\u001b[0m\n\u001b[1;32m----> 1\u001b[1;33m \u001b[0mall_outcomes\u001b[0m\u001b[1;33m[\u001b[0m\u001b[1;36m1\u001b[0m\u001b[1;33m]\u001b[0m\u001b[1;33m\u001b[0m\u001b[1;33m\u001b[0m\u001b[0m\n\u001b[0m",
      "\u001b[1;31mTypeError\u001b[0m: 'itertools.product' object is not subscriptable"
     ]
    }
   ],
   "source": [
    "all_outcomes"
   ]
  },
  {
   "cell_type": "code",
   "execution_count": 105,
   "id": "spectacular-tyler",
   "metadata": {},
   "outputs": [
    {
     "data": {
      "text/plain": [
       "['[1, 1, 1, 1]',\n",
       " '[1, 1, 1, -1]',\n",
       " '[1, 1, -1, 1]',\n",
       " '[1, 1, -1, -1]',\n",
       " '[1, -1, 1, 1]',\n",
       " '[1, -1, 1, -1]',\n",
       " '[1, -1, -1, 1]',\n",
       " '[1, -1, -1, -1]',\n",
       " '[-1, 1, 1, 1]',\n",
       " '[-1, 1, 1, -1]',\n",
       " '[-1, 1, -1, 1]',\n",
       " '[-1, 1, -1, -1]',\n",
       " '[-1, -1, 1, 1]',\n",
       " '[-1, -1, 1, -1]',\n",
       " '[-1, -1, -1, 1]',\n",
       " '[-1, -1, -1, -1]']"
      ]
     },
     "execution_count": 105,
     "metadata": {},
     "output_type": "execute_result"
    }
   ],
   "source": [
    "all_outcomes = itertools.product([1,-1], repeat=n_qubits)\n",
    "xtick_labels = []\n",
    "for outcome in all_outcomes:\n",
    "    xtick_labels.append(str(list(outcome)))    \n",
    "xtick_labels"
   ]
  },
  {
   "cell_type": "code",
   "execution_count": 97,
   "id": "informed-jason",
   "metadata": {},
   "outputs": [
    {
     "data": {
      "text/plain": [
       "list"
      ]
     },
     "execution_count": 97,
     "metadata": {},
     "output_type": "execute_result"
    }
   ],
   "source": [
    "type(xtick_labels)"
   ]
  },
  {
   "cell_type": "code",
   "execution_count": 85,
   "id": "colonial-advertising",
   "metadata": {},
   "outputs": [
    {
     "data": {
      "text/plain": [
       "(16,)"
      ]
     },
     "execution_count": 85,
     "metadata": {},
     "output_type": "execute_result"
    }
   ],
   "source": [
    "x_axis = np.array(xtick_labels)\n",
    "x_axis.shape"
   ]
  },
  {
   "cell_type": "code",
   "execution_count": 86,
   "id": "hairy-duplicate",
   "metadata": {},
   "outputs": [
    {
     "data": {
      "text/plain": [
       "array(['-1, -1, -1, -1', '-1, -1, -1, -1', '-1, -1, -1, -1',\n",
       "       '-1, -1, -1, -1', '-1, -1, -1, -1', '-1, -1, -1, -1',\n",
       "       '-1, -1, -1, -1', '-1, -1, -1, -1', '-1, -1, -1, -1',\n",
       "       '-1, -1, -1, -1', '-1, -1, -1, -1', '-1, -1, -1, -1',\n",
       "       '-1, -1, -1, -1', '-1, -1, -1, -1', '-1, -1, -1, -1',\n",
       "       '-1, -1, -1, -1'], dtype='<U14')"
      ]
     },
     "execution_count": 86,
     "metadata": {},
     "output_type": "execute_result"
    }
   ],
   "source": [
    "x_axis"
   ]
  },
  {
   "cell_type": "code",
   "execution_count": 93,
   "id": "charitable-ownership",
   "metadata": {},
   "outputs": [
    {
     "ename": "TypeError",
     "evalue": "format() argument 2 must be str, not list",
     "output_type": "error",
     "traceback": [
      "\u001b[1;31m---------------------------------------------------------------------------\u001b[0m",
      "\u001b[1;31mTypeError\u001b[0m                                 Traceback (most recent call last)",
      "\u001b[1;32m<ipython-input-93-c043fa7652e7>\u001b[0m in \u001b[0;36m<module>\u001b[1;34m\u001b[0m\n\u001b[0;32m      1\u001b[0m \u001b[0mxticks\u001b[0m \u001b[1;33m=\u001b[0m \u001b[0mrange\u001b[0m\u001b[1;33m(\u001b[0m\u001b[1;36m0\u001b[0m\u001b[1;33m,\u001b[0m\u001b[1;36m2\u001b[0m\u001b[1;33m**\u001b[0m\u001b[1;33m(\u001b[0m\u001b[0mn_qubits\u001b[0m\u001b[1;33m)\u001b[0m\u001b[1;33m)\u001b[0m\u001b[1;33m\u001b[0m\u001b[1;33m\u001b[0m\u001b[0m\n\u001b[1;32m----> 2\u001b[1;33m \u001b[0mxtick_labels\u001b[0m \u001b[1;33m=\u001b[0m \u001b[0mlist\u001b[0m\u001b[1;33m(\u001b[0m\u001b[0mmap\u001b[0m\u001b[1;33m(\u001b[0m\u001b[1;32mlambda\u001b[0m \u001b[0mx\u001b[0m\u001b[1;33m:\u001b[0m \u001b[0mformat\u001b[0m\u001b[1;33m(\u001b[0m\u001b[0mx\u001b[0m\u001b[1;33m,\u001b[0m \u001b[0mxtick_labels\u001b[0m\u001b[1;33m)\u001b[0m\u001b[1;33m,\u001b[0m \u001b[0mxticks\u001b[0m\u001b[1;33m)\u001b[0m\u001b[1;33m)\u001b[0m\u001b[1;33m\u001b[0m\u001b[1;33m\u001b[0m\u001b[0m\n\u001b[0m",
      "\u001b[1;32m<ipython-input-93-c043fa7652e7>\u001b[0m in \u001b[0;36m<lambda>\u001b[1;34m(x)\u001b[0m\n\u001b[0;32m      1\u001b[0m \u001b[0mxticks\u001b[0m \u001b[1;33m=\u001b[0m \u001b[0mrange\u001b[0m\u001b[1;33m(\u001b[0m\u001b[1;36m0\u001b[0m\u001b[1;33m,\u001b[0m\u001b[1;36m2\u001b[0m\u001b[1;33m**\u001b[0m\u001b[1;33m(\u001b[0m\u001b[0mn_qubits\u001b[0m\u001b[1;33m)\u001b[0m\u001b[1;33m)\u001b[0m\u001b[1;33m\u001b[0m\u001b[1;33m\u001b[0m\u001b[0m\n\u001b[1;32m----> 2\u001b[1;33m \u001b[0mxtick_labels\u001b[0m \u001b[1;33m=\u001b[0m \u001b[0mlist\u001b[0m\u001b[1;33m(\u001b[0m\u001b[0mmap\u001b[0m\u001b[1;33m(\u001b[0m\u001b[1;32mlambda\u001b[0m \u001b[0mx\u001b[0m\u001b[1;33m:\u001b[0m \u001b[0mformat\u001b[0m\u001b[1;33m(\u001b[0m\u001b[0mx\u001b[0m\u001b[1;33m,\u001b[0m \u001b[0mxtick_labels\u001b[0m\u001b[1;33m)\u001b[0m\u001b[1;33m,\u001b[0m \u001b[0mxticks\u001b[0m\u001b[1;33m)\u001b[0m\u001b[1;33m)\u001b[0m\u001b[1;33m\u001b[0m\u001b[1;33m\u001b[0m\u001b[0m\n\u001b[0m",
      "\u001b[1;31mTypeError\u001b[0m: format() argument 2 must be str, not list"
     ]
    }
   ],
   "source": [
    "xticks = range(0,2**(n_qubits))\n",
    "xtick_labels = list(map(lambda x: format(x, xtick_labels), xticks))"
   ]
  },
  {
   "cell_type": "code",
   "execution_count": 132,
   "id": "robust-hands",
   "metadata": {},
   "outputs": [
    {
     "data": {
      "text/plain": [
       "[0.2569669918945841,\n",
       " 0.01828303438402278,\n",
       " 0.018283034384022793,\n",
       " 0.08000564131073587,\n",
       " 0.01828303438402278,\n",
       " 0.009889587947852477,\n",
       " 0.08000564131073584,\n",
       " 0.018283034384022793,\n",
       " 0.018283034384022786,\n",
       " 0.08000564131073584,\n",
       " 0.009889587947852477,\n",
       " 0.018283034384022772,\n",
       " 0.08000564131073581,\n",
       " 0.018283034384022786,\n",
       " 0.018283034384022786,\n",
       " 0.2569669918945842]"
      ]
     },
     "execution_count": 132,
     "metadata": {},
     "output_type": "execute_result"
    }
   ],
   "source": [
    "prob_dist_fin_state"
   ]
  },
  {
   "cell_type": "code",
   "execution_count": 126,
   "id": "registered-linux",
   "metadata": {},
   "outputs": [],
   "source": [
    "prob_dists = []\n",
    "for i in range(5):\n",
    "    prob_dists.append(np.array(prob_dist_fin_state))"
   ]
  },
  {
   "cell_type": "code",
   "execution_count": 131,
   "id": "incomplete-skirt",
   "metadata": {},
   "outputs": [
    {
     "data": {
      "text/plain": [
       "[0.2569669918945841,\n",
       " 0.01828303438402278,\n",
       " 0.018283034384022793,\n",
       " 0.08000564131073587,\n",
       " 0.01828303438402278,\n",
       " 0.009889587947852477,\n",
       " 0.08000564131073584,\n",
       " 0.018283034384022793,\n",
       " 0.018283034384022786,\n",
       " 0.08000564131073584,\n",
       " 0.009889587947852477,\n",
       " 0.018283034384022772,\n",
       " 0.08000564131073581,\n",
       " 0.018283034384022786,\n",
       " 0.018283034384022786,\n",
       " 0.2569669918945842]"
      ]
     },
     "execution_count": 131,
     "metadata": {},
     "output_type": "execute_result"
    }
   ],
   "source": [
    "list(sum(prob_dists)/5)"
   ]
  },
  {
   "cell_type": "code",
   "execution_count": 128,
   "id": "minus-manitoba",
   "metadata": {},
   "outputs": [
    {
     "data": {
      "text/plain": [
       "array([0.25696699, 0.01828303, 0.01828303, 0.08000564, 0.01828303,\n",
       "       0.00988959, 0.08000564, 0.01828303, 0.01828303, 0.08000564,\n",
       "       0.00988959, 0.01828303, 0.08000564, 0.01828303, 0.01828303,\n",
       "       0.25696699])"
      ]
     },
     "execution_count": 128,
     "metadata": {},
     "output_type": "execute_result"
    }
   ],
   "source": [
    "np.array(prob_dist_fin_state)"
   ]
  },
  {
   "cell_type": "code",
   "execution_count": 106,
   "id": "moved-recipient",
   "metadata": {},
   "outputs": [
    {
     "name": "stdout",
     "output_type": "stream",
     "text": [
      "0 [1, 1, 1, 1]\n",
      "1 [1, 1, 1, -1]\n",
      "2 [1, 1, -1, 1]\n",
      "3 [1, 1, -1, -1]\n",
      "4 [1, -1, 1, 1]\n",
      "5 [1, -1, 1, -1]\n",
      "6 [1, -1, -1, 1]\n",
      "7 [1, -1, -1, -1]\n",
      "8 [-1, 1, 1, 1]\n",
      "9 [-1, 1, 1, -1]\n",
      "10 [-1, 1, -1, 1]\n",
      "11 [-1, 1, -1, -1]\n",
      "12 [-1, -1, 1, 1]\n",
      "13 [-1, -1, 1, -1]\n",
      "14 [-1, -1, -1, 1]\n",
      "15 [-1, -1, -1, -1]\n"
     ]
    }
   ],
   "source": [
    "dict_prob = {}\n",
    "for i, label in enumerate(xtick_labels):\n",
    "    print(i, label)\n",
    "    dict_prob[label] = prob_dist_fin_state[i]"
   ]
  },
  {
   "cell_type": "code",
   "execution_count": 102,
   "id": "focal-roman",
   "metadata": {},
   "outputs": [
    {
     "data": {
      "text/plain": [
       "{'-1, -1, -1, -1': 0.2569669918945842}"
      ]
     },
     "execution_count": 102,
     "metadata": {},
     "output_type": "execute_result"
    }
   ],
   "source": [
    "dict_prob"
   ]
  },
  {
   "cell_type": "code",
   "execution_count": 107,
   "id": "dominant-dividend",
   "metadata": {},
   "outputs": [
    {
     "data": {
      "text/plain": [
       "<BarContainer object of 16 artists>"
      ]
     },
     "execution_count": 107,
     "metadata": {},
     "output_type": "execute_result"
    },
    {
     "data": {
      "image/png": "[encoded data removed]",
      "text/plain": [
       "<Figure size 1152x1440 with 1 Axes>"
      ]
     },
     "metadata": {
      "needs_background": "light"
     },
     "output_type": "display_data"
    }
   ],
   "source": [
    "# plot probabilities of each state of the graph corresponding to every possible configuration after a cut (using the state)\n",
    "plt.figure(figsize = (2**n_qubits,20))\n",
    "plt.xticks(rotation=45)\n",
    "xticks = range(0,2**(n_qubits-1))\n",
    "plt.bar(xtick_labels,prob_dist_fin_state,width = 0.5)"
   ]
  },
  {
   "cell_type": "raw",
   "id": "signed-interface",
   "metadata": {},
   "source": [
    "p=0.5\n",
    "in [0.00211625 0.0033408 ] with grad  [-1.   2.6] objective after step     1:  0.0002262\n",
    "in [ 0.05211625 -0.0466592 ] with grad  [-2.   3.4] objective after step     2: -0.0768044\n",
    "in [ 0.10129985 -0.09695155] with grad  [-1.2  2.8] objective after step     3: -0.2981416\n",
    "in [ 0.14941053 -0.14680317] with grad  [-2.4  3.8] objective after step     4: -0.6235140\n",
    "in [ 0.1993651  -0.19755421] with grad  [-3.6  4.6] objective after step     5: -1.0168539\n",
    "in [ 0.25053791 -0.24933228] with grad  [-3.  5.] objective after step     6: -1.4156630\n",
    "in [ 0.30263732 -0.30202614] with grad  [-3.   0.6] objective after step     7: -1.7498617\n",
    "in [ 0.3553109 -0.3466124] with grad  [-4.  -0.4] objective after step     8: -1.9441663\n",
    "in [ 0.40950628 -0.38134279] with grad  [1.2 0.8] objective after step     9: -1.9934236\n",
    "in [ 0.44785232 -0.4125311 ] with grad  [ 1. -2.] objective after step    10: -1.9453898\n",
    "in [ 0.47445458 -0.43008862] with grad  [ 6.2 -1.6] objective after step    11: -1.8728635\n",
    "in [ 0.46907647 -0.43830388] with grad  [3.  1.6] objective after step    12: -1.8757397\n",
    "in [ 0.45417396 -0.45099973] with grad  [ 3.  -0.4] objective after step    13: -1.8873286\n",
    "in [ 0.4318937 -0.4598618] with grad  [-0.8 -4.2] objective after step    14: -1.9046104\n",
    "in [ 0.41652687 -0.45120137] with grad  [2.2 0.4] objective after step    15: -1.9366592\n",
    "in [ 0.39622329 -0.44559701] with grad  [ 1.8 -3.2] objective after step    16: -1.9552014\n",
    "in [ 0.37320245 -0.42941547] with grad  [-1.  -0.4] objective after step    17: -1.9724559\n",
    "in [ 0.35812974 -0.41464578] with grad  [-1.2  1.2] objective after step    18: -1.9732818\n",
    "in [ 0.35040728 -0.40721851] with grad  [ 0.4 -1.4] objective after step    19: -1.9681267\n",
    "in [ 0.3425296  -0.39571893] with grad  [0.6 1. ] objective after step    20: -1.9597204\n",
    "optimal parameters are  [ 0.33370514 -0.39031928] and F_1 is -1.9597203521485749\n",
    "\n",
    "E = -2\n",
    "M = 1.9"
   ]
  },
  {
   "cell_type": "code",
   "execution_count": 187,
   "id": "graphic-affairs",
   "metadata": {},
   "outputs": [
    {
     "data": {
      "text/plain": [
       "<BarContainer object of 15 artists>"
      ]
     },
     "execution_count": 187,
     "metadata": {},
     "output_type": "execute_result"
    },
    {
     "data": {
      "image/png": "[encoded data removed]",
      "text/plain": [
       "<Figure size 1152x432 with 1 Axes>"
      ]
     },
     "metadata": {
      "needs_background": "light"
     },
     "output_type": "display_data"
    }
   ],
   "source": [
    "# plot probabilities of each state of the graph corresponding to every possible configuration after a cut\n",
    "plt.figure(figsize = (2**n_qubits,6))\n",
    "plt.xticks(rotation=45)\n",
    "x_axis = []\n",
    "for key in dict_outcomes:\n",
    "    x_axis.append(str(key))\n",
    "plt.bar(x_axis, dict_outcomes.values(), width = 0.5)"
   ]
  },
  {
   "cell_type": "markdown",
   "id": "greenhouse-classics",
   "metadata": {},
   "source": [
    "## Evaluate E and M for different prob"
   ]
  }
 ],
 "metadata": {
  "kernelspec": {
   "display_name": "Python 3",
   "language": "python",
   "name": "python3"
  },
  "language_info": {
   "codemirror_mode": {
    "name": "ipython",
    "version": 3
   },
   "file_extension": ".py",
   "mimetype": "text/x-python",
   "name": "python",
   "nbconvert_exporter": "python",
   "pygments_lexer": "ipython3",
   "version": "3.8.5"
  }
 },
 "nbformat": 4,
 "nbformat_minor": 5
}
